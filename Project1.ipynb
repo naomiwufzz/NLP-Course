{
 "cells": [
  {
   "cell_type": "markdown",
   "metadata": {},
   "source": [
    "# Project #1\n",
    "\n",
    ">人物言论提取\n",
    ">输入一篇文章，\n",
    ">output: xxx 说/表示/讲... xxxx"
   ]
  },
  {
   "cell_type": "code",
   "execution_count": 1,
   "metadata": {},
   "outputs": [],
   "source": [
    "test_news_2 = \"\"\"今年是“一带一路”倡议提出五周年。五年来，中国已经同140多个国家和国际组织签署共建“一带一路”合作协议，一大批重大合作项目已经落地生根。在今年的外访和参加国际会议期间，习近平主席几乎每到一个国家都会提到“一带一路”，亲自推动“一带一路”倡议走深走实。\n",
    "\n",
    "在阿联酋，习近平强调中阿是共建“一带一路”的天然合作伙伴，中方视阿联酋为“一带一路”建设重要支点国家。在塞内加尔，习近平见证了中塞共建“一带一路”等多项双边合作文件的签署，塞内加尔也成为西非首个签署“一带一路”合作文件的国家。在卢旺达，习近平表示，中方欢迎卢方积极参与共建“一带一路”国际合作，鼓励中国企业赴卢旺达投资兴业，助力卢旺达工业化和现代化进程。在南非，习近平强调，中南双方要加强在“一带一路”和中非合作论坛框架内合作。在毛里求斯，习近平提议，发挥毛里求斯参与共建“一带一路”的独特区位优势，加强沟通对接，深化广泛领域合作。\n",
    "\n",
    "习近平今年外访收官，向国际社会传达了什么讯息？（来源：CCTV-新闻）\n",
    "△独家V观丨盛装歌舞！习近平出席巴新独立大道移交启用仪式\n",
    "巴布亚新几内亚是太平洋岛国地区首个同中方签署共建“一带一路”合作协议的国家。在巴新，习近平表示，双方要在“一带一路”框架内加强发展战略对接，争取尽早就启动双边自由贸易协定谈判达成一致。在文莱，习近平强调，中方视文莱为建设21世纪海上丝绸之路重要合作伙伴，愿将“一带一路”倡议同文莱经济多元化战略“2035宏愿”相对接。在菲律宾，习近平见证了《中华人民共和国政府与菲律宾共和国政府关于共同推进“一带一路”建设的谅解备忘录》等多项双边合作文件的签署。\n",
    "在西班牙，习近平表示，中西开展“一带一路”合作具有历史、地理等多重优势，要加强“一带一路”倡议同西班牙亚洲战略、地中海走廊建设等对接。在阿根廷，习近平强调，双方要在共建“一带一路”框架内加强沟通和合作，对接两国发展规划。在巴拿马，习近平指出，巴方“2030年国家物流战略”同中方共建“一带一路”倡议高度契合，双方要加强战略对接。在葡萄牙，习近平强调，双方要以签署中葡政府间共建“一带一路”合作谅解备忘录为契机，全面加强“一带一路”框架内合作，促进互联互通。\n",
    "习近平今年外访收官，向国际社会传达了什么讯息？△习近平在APEC工商领导人峰会上发表主旨演讲\n",
    "在今年的APEC工商领导人峰会上，习近平发表主旨演讲时还郑重表示，共建“一带一路”是开放的合作平台，秉持的是共商共建共享的基本原则，没有地缘政治目的，不针对谁也不排除谁，不会关起门来搞小圈子，不是有人说的这样那样的所谓“陷阱”，而是中国同世界共享机遇、共谋发展的阳光大道。中国将于明年4月在北京举办第二届“一带一路”国际合作高峰论坛。\n",
    "四次踏出国门，每到一地，习近平都在积极扩大“一带一路”朋友圈，寻找“一带一路”倡议和各国发展战略之间的契合点，并亲自发声排除外界对“一带一路”倡议的各种杂音。可以说，共建“一带一路”是习近平2018年外访行程的一大中心主题。\"\"\""
   ]
  },
  {
   "cell_type": "code",
   "execution_count": 2,
   "metadata": {},
   "outputs": [],
   "source": [
    "import re\n",
    "def tokens(string):\n",
    "    return ''.join(re.findall('[\\w\\d]+',string))"
   ]
  },
  {
   "cell_type": "code",
   "execution_count": 3,
   "metadata": {},
   "outputs": [],
   "source": [
    "news=tokens(test_news_2)"
   ]
  },
  {
   "cell_type": "code",
   "execution_count": 4,
   "metadata": {},
   "outputs": [
    {
     "data": {
      "text/plain": [
       "'今年是一带一路倡议提出五周年五年来中国已经同140多个国家和国际组织签署共建一带一路合作协议一大批重大合作项目已经落地生根在今年的外访和参加国际会议期间习近平主席几乎每到一个国家都会提到一带一路亲自推动一带一路倡议走深走实在阿联酋习近平强调中阿是共建一带一路的天然合作伙伴中方视阿联酋为一带一路建设重要支点国家在塞内加尔习近平见证了中塞共建一带一路等多项双边合作文件的签署塞内加尔也成为西非首个签署一带一路合作文件的国家在卢旺达习近平表示中方欢迎卢方积极参与共建一带一路国际合作鼓励中国企业赴卢旺达投资兴业助力卢旺达工业化和现代化进程在南非习近平强调中南双方要加强在一带一路和中非合作论坛框架内合作在毛里求斯习近平提议发挥毛里求斯参与共建一带一路的独特区位优势加强沟通对接深化广泛领域合作习近平今年外访收官向国际社会传达了什么讯息来源CCTV新闻独家V观丨盛装歌舞习近平出席巴新独立大道移交启用仪式巴布亚新几内亚是太平洋岛国地区首个同中方签署共建一带一路合作协议的国家在巴新习近平表示双方要在一带一路框架内加强发展战略对接争取尽早就启动双边自由贸易协定谈判达成一致在文莱习近平强调中方视文莱为建设21世纪海上丝绸之路重要合作伙伴愿将一带一路倡议同文莱经济多元化战略2035宏愿相对接在菲律宾习近平见证了中华人民共和国政府与菲律宾共和国政府关于共同推进一带一路建设的谅解备忘录等多项双边合作文件的签署在西班牙习近平表示中西开展一带一路合作具有历史地理等多重优势要加强一带一路倡议同西班牙亚洲战略地中海走廊建设等对接在阿根廷习近平强调双方要在共建一带一路框架内加强沟通和合作对接两国发展规划在巴拿马习近平指出巴方2030年国家物流战略同中方共建一带一路倡议高度契合双方要加强战略对接在葡萄牙习近平强调双方要以签署中葡政府间共建一带一路合作谅解备忘录为契机全面加强一带一路框架内合作促进互联互通习近平今年外访收官向国际社会传达了什么讯息习近平在APEC工商领导人峰会上发表主旨演讲在今年的APEC工商领导人峰会上习近平发表主旨演讲时还郑重表示共建一带一路是开放的合作平台秉持的是共商共建共享的基本原则没有地缘政治目的不针对谁也不排除谁不会关起门来搞小圈子不是有人说的这样那样的所谓陷阱而是中国同世界共享机遇共谋发展的阳光大道中国将于明年4月在北京举办第二届一带一路国际合作高峰论坛四次踏出国门每到一地习近平都在积极扩大一带一路朋友圈寻找一带一路倡议和各国发展战略之间的契合点并亲自发声排除外界对一带一路倡议的各种杂音可以说共建一带一路是习近平2018年外访行程的一大中心主题'"
      ]
     },
     "execution_count": 4,
     "metadata": {},
     "output_type": "execute_result"
    }
   ],
   "source": [
    "news"
   ]
  },
  {
   "cell_type": "markdown",
   "metadata": {},
   "source": [
    "# Get list of words similar as ”说“"
   ]
  },
  {
   "cell_type": "code",
   "execution_count": 5,
   "metadata": {},
   "outputs": [],
   "source": [
    "from collections import defaultdict\n",
    "\n",
    "def get_relate_words(inital, model):\n",
    "    max_size=500\n",
    "    seen=defaultdict(int)\n",
    "    unsee=[inital]\n",
    "    while unsee and len(seen)<max_size:\n",
    "        if len(seen)%100==0:\n",
    "            print('seen length:{}'.format(len(seen)))\n",
    "        node =unsee.pop(0)\n",
    "        expanding=[w for w, s in model.wv.most_similar(node,topn=20)]\n",
    "        unsee+=expanding\n",
    "        seen[node]+=1\n",
    "    return seen"
   ]
  },
  {
   "cell_type": "code",
   "execution_count": 6,
   "metadata": {},
   "outputs": [],
   "source": [
    "from gensim.models import Word2Vec\n",
    "liangModel=Word2Vec.load('../datasource/WikiSimpleChineseModelFromLiang')"
   ]
  },
  {
   "cell_type": "code",
   "execution_count": 7,
   "metadata": {},
   "outputs": [
    {
     "name": "stdout",
     "output_type": "stream",
     "text": [
      "seen length:0\n",
      "seen length:100\n",
      "seen length:200\n",
      "seen length:200\n",
      "seen length:300\n",
      "seen length:400\n"
     ]
    }
   ],
   "source": [
    "relate_shuo=get_relate_words('说',liangModel)"
   ]
  },
  {
   "cell_type": "code",
   "execution_count": 8,
   "metadata": {},
   "outputs": [],
   "source": [
    "Shuo=sorted(relate_shuo.items(),key=lambda x:x[1], reverse=True)"
   ]
  },
  {
   "cell_type": "code",
   "execution_count": 9,
   "metadata": {},
   "outputs": [],
   "source": [
    "shuo=[]\n",
    "for item in Shuo:\n",
    "    shuo.append(item[0])"
   ]
  },
  {
   "cell_type": "code",
   "execution_count": 10,
   "metadata": {},
   "outputs": [],
   "source": [
    "shuo=shuo[:30]"
   ]
  },
  {
   "cell_type": "code",
   "execution_count": 11,
   "metadata": {},
   "outputs": [
    {
     "data": {
      "text/plain": [
       "['说',\n",
       " '指出',\n",
       " '声称',\n",
       " '说道',\n",
       " '告诉',\n",
       " '认为',\n",
       " '问道',\n",
       " '相信',\n",
       " '宣称',\n",
       " '问',\n",
       " '写道',\n",
       " '反问',\n",
       " '所说',\n",
       " '表示',\n",
       " '提到',\n",
       " '觉得',\n",
       " '谈到',\n",
       " '断言',\n",
       " '看来',\n",
       " '确信',\n",
       " '答道',\n",
       " '谈及',\n",
       " '回答',\n",
       " '问起',\n",
       " '坚称',\n",
       " '时说',\n",
       " '要说',\n",
       " '中说',\n",
       " '猜测',\n",
       " '辩称']"
      ]
     },
     "execution_count": 11,
     "metadata": {},
     "output_type": "execute_result"
    }
   ],
   "source": [
    "shuo"
   ]
  },
  {
   "cell_type": "code",
   "execution_count": 12,
   "metadata": {},
   "outputs": [],
   "source": [
    "shuo.remove('中说')\n",
    "shuo.remove('所说')\n",
    "shuo.remove('时说')\n",
    "shuo.remove('回答')\n",
    "shuo.remove('问道')\n",
    "shuo.remove('要说')\n",
    "shuo.remove('问起')\n",
    "shuo.extend([ '并不认为','透露','指称', '称','说出','表明','提及','否认','坦言','坦承','询问','特别强调','自述','怀疑','断定','明确指出','指责','追问',\n",
    "'谈起','推测','坚信','提过','强调','指控','反驳','阐述','论及','引用','详述','记述','述及','解释','讲','回忆起','喊道','透漏',':'])"
   ]
  },
  {
   "cell_type": "code",
   "execution_count": 13,
   "metadata": {},
   "outputs": [
    {
     "data": {
      "text/plain": [
       "['说',\n",
       " '指出',\n",
       " '声称',\n",
       " '说道',\n",
       " '告诉',\n",
       " '认为',\n",
       " '相信',\n",
       " '宣称',\n",
       " '问',\n",
       " '写道',\n",
       " '反问',\n",
       " '表示',\n",
       " '提到',\n",
       " '觉得',\n",
       " '谈到',\n",
       " '断言',\n",
       " '看来',\n",
       " '确信',\n",
       " '答道',\n",
       " '谈及',\n",
       " '坚称',\n",
       " '猜测',\n",
       " '辩称',\n",
       " '并不认为',\n",
       " '透露',\n",
       " '指称',\n",
       " '称',\n",
       " '说出',\n",
       " '表明',\n",
       " '提及',\n",
       " '否认',\n",
       " '坦言',\n",
       " '坦承',\n",
       " '询问',\n",
       " '特别强调',\n",
       " '自述',\n",
       " '怀疑',\n",
       " '断定',\n",
       " '明确指出',\n",
       " '指责',\n",
       " '追问',\n",
       " '谈起',\n",
       " '推测',\n",
       " '坚信',\n",
       " '提过',\n",
       " '强调',\n",
       " '指控',\n",
       " '反驳',\n",
       " '阐述',\n",
       " '论及',\n",
       " '引用',\n",
       " '详述',\n",
       " '记述',\n",
       " '述及',\n",
       " '解释',\n",
       " '讲',\n",
       " '回忆起',\n",
       " '喊道',\n",
       " '透漏',\n",
       " ':']"
      ]
     },
     "execution_count": 13,
     "metadata": {},
     "output_type": "execute_result"
    }
   ],
   "source": [
    "shuo"
   ]
  },
  {
   "cell_type": "code",
   "execution_count": 14,
   "metadata": {},
   "outputs": [],
   "source": [
    "import os\n",
    "LTP_DATA_DIR='/Users/liang/Documents/GitHub/pyltp/ltp_data_v3.4.0/'\n",
    "cws_model_path = os.path.join(LTP_DATA_DIR, 'cws.model')  # 分词模型路径，模型名称为`cws.model`\n",
    "pos_model_path = os.path.join(LTP_DATA_DIR, 'pos.model')  # 词性标注模型路径，模型名称为`pos.model`\n",
    "ner_model_path = os.path.join(LTP_DATA_DIR, 'ner.model')  # 命名实体识别模型路径，模型名称为`pos.model`\n",
    "par_model_path = os.path.join(LTP_DATA_DIR, 'parser.model')  # 依存句法分析模型路径，模型名称为`parser.model`\n",
    "srl_model_path = os.path.join(LTP_DATA_DIR, 'srl')  # 语义角色标注模型目录路径，模型目录为`srl`。注意该模型路径是一个目录，而不是一个文件。"
   ]
  },
  {
   "cell_type": "code",
   "execution_count": 15,
   "metadata": {},
   "outputs": [],
   "source": [
    "from pyltp import Segmentor\n",
    "from pyltp import Postagger\n",
    "from pyltp import NamedEntityRecognizer"
   ]
  },
  {
   "cell_type": "code",
   "execution_count": 16,
   "metadata": {},
   "outputs": [],
   "source": [
    "def cut(string):\n",
    "    segmentor = Segmentor()\n",
    "    segmentor.load_with_lexicon(cws_model_path, '/Users/liang/Documents/GitHub/NLP-Course/lex.txt')\n",
    "    words_list = list(segmentor.segment(string))\n",
    "    segmentor.release()\n",
    "    return words_list"
   ]
  },
  {
   "cell_type": "code",
   "execution_count": 17,
   "metadata": {},
   "outputs": [],
   "source": [
    "def tag(wordslist):\n",
    "    postagger = Postagger()\n",
    "    postagger.load(pos_model_path)\n",
    "    postag_list = list(postagger.postag(wordslist))\n",
    "    return postag_list"
   ]
  },
  {
   "cell_type": "code",
   "execution_count": 18,
   "metadata": {},
   "outputs": [],
   "source": [
    "def ner(wordslist,postag_list):\n",
    "    recognizer = NamedEntityRecognizer()\n",
    "    recognizer.load(ner_model_path)\n",
    "    netags_list = list(recognizer.recognize(wordslist, postag_list))\n",
    "    return netags_list"
   ]
  },
  {
   "cell_type": "code",
   "execution_count": 19,
   "metadata": {},
   "outputs": [],
   "source": [
    "def find_NerIndex_from_shuo_word(nerlist,index):\n",
    "    for i in range(index,-1,-1):\n",
    "        if nerlist[i]!='O':\n",
    "            return i"
   ]
  },
  {
   "cell_type": "code",
   "execution_count": 20,
   "metadata": {},
   "outputs": [],
   "source": [
    "def find_NounIndex_from_tag_list(taglist,index):\n",
    "    for i in range(index,-1,-1):\n",
    "        if taglist[i]=='n':\n",
    "            return i"
   ]
  },
  {
   "cell_type": "code",
   "execution_count": 21,
   "metadata": {},
   "outputs": [],
   "source": [
    "def find_shuo_sents_from_words(wordslist,index):\n",
    "    sent=[]\n",
    "    for i in range(index+1,len(wordslist)):\n",
    "#         if wordslist[i]=='，' or wordslist[i]=='：':\n",
    "#             continue\n",
    "        sent.append(wordslist[i])\n",
    "        if wordslist[i]=='。':\n",
    "            break\n",
    "    if sent[0]=='，' or sent[0]=='：':\n",
    "        sent=sent[1:]\n",
    "    return ''.join(sent)"
   ]
  },
  {
   "cell_type": "markdown",
   "metadata": {},
   "source": [
    "# Combine all functions as a final magic(string)"
   ]
  },
  {
   "cell_type": "code",
   "execution_count": 22,
   "metadata": {},
   "outputs": [],
   "source": [
    "def magic(string):\n",
    "    words_list=cut(string)\n",
    "    tags_list=tag(words_list)\n",
    "    ner_list=ner(words_list,tags_list)\n",
    "    for i in range(len(words_list)):\n",
    "        if words_list[i] in shuo:\n",
    "            if words_list[i]==\":\" or words_list[i]=='：':    # special case\n",
    "                nerI=find_NounIndex_from_tag_list(tags_list,i)\n",
    "            else:\n",
    "                nerI=find_NerIndex_from_shuo_word(ner_list,i)\n",
    "                if not nerI and nerI!=0:\n",
    "                    # NoneType\n",
    "                    nerI=find_NounIndex_from_tag_list(tags_list,i)     \n",
    "            print(words_list[nerI],words_list[i],find_shuo_sents_from_words(words_list,i))"
   ]
  },
  {
   "cell_type": "code",
   "execution_count": 23,
   "metadata": {},
   "outputs": [
    {
     "name": "stdout",
     "output_type": "stream",
     "text": [
      "王良 说 明天会下冰爆。\n"
     ]
    }
   ],
   "source": [
    "magic(\"王良说，明天会下冰爆。\")"
   ]
  },
  {
   "cell_type": "code",
   "execution_count": 24,
   "metadata": {},
   "outputs": [],
   "source": [
    "new2=\"\"\"\n",
    "新华网记者  赵银平\n",
    "\n",
    "　　【学习进行时】1月2日，习近平出席《告台湾同胞书》发表40周年纪念会并发表重要讲话。在讲话中，习近平回顾历史、着力当下、瞩目未来，为推动两岸关系和平发展、推进祖国和平统一进程提出了五点主张。如何理解这五点主张？新华社《学习进行时》原创品牌栏目“讲习所”今天推出文章，为您解读。\n",
    "\n",
    "　　“海峡两岸分隔已届70年。台湾问题的产生和演变同近代以来中华民族命运休戚相关。”习近平开篇两句话，饱含了70年的沧桑。\n",
    "\n",
    "　　70年风雨告诉我们：祖国必须统一，也必然统一。这是70年两岸关系发展历程的历史定论，也是新时代中华民族伟大复兴的必然要求，更是中国共产党、中国政府、中国人民矢志不渝的历史任务。\n",
    "\n",
    "　　回顾历史，是为了启迪今天、昭示明天。着力当下，瞩目未来，我们该如何做，该从何着手？习近平从五方面擘画了推动两岸关系和平发展、推进祖国和平统一进程的路线图，有理有力有节有情。\n",
    "\n",
    "　　顺应大势\n",
    "\n",
    "　　“天下大势，浩浩汤汤，顺之者昌，逆之者亡。”对台湾来说，对中国来说，大势是什么？是和平统一！\n",
    "\n",
    "　　习近平明确指出：“民族复兴、国家统一是大势所趋、大义所在、民心所向。”\n",
    "\n",
    "　　“一水之隔、咫尺天涯，两岸迄今尚未完全统一是历史遗留给中华民族的创伤。”谋求国家统一，抚平历史创伤，每个中国人责无旁贷。\n",
    "\n",
    "　　“台湾前途在于国家统一，台湾同胞福祉系于民族复兴。”中国梦是两岸同胞共同的梦，民族复兴、国家强盛，两岸中国人才能过上富足美好的生活。\n",
    "\n",
    "　　推动民族复兴，实现和平统一，利国利民。台湾同胞作为中华民族一分子，必须“认真思考台湾在民族复兴中的地位和作用，把促进国家完全统一、共谋民族伟大复兴作为无上光荣的事业”。兄弟同心，其利断金。两岸关系和平发展，需要两岸同胞共同推动，需要两岸同胞共同维护，和平发展的成果两岸同胞也能共同分享。\n",
    "\n",
    "　　历史不会也不能重演，台湾问题因民族弱乱而产生，必将随着民族复兴而终结！\n",
    "\n",
    "　　习近平的讲话，语重心长。\n",
    "\n",
    "　　最佳方式\n",
    "\n",
    "　　如何实现国家统一？习近平给出了“最佳方式”：和平统一、一国两制。\n",
    "\n",
    "　　这一方式植根于五千年的中华智慧，海纳百川、有容乃大；这一方式既有现实考量又有高远眼界，既充分考虑台湾现实情况，又有利于统一后台湾的长治久安。\n",
    "\n",
    "　　正如习近平所说，“一国两制”的提出，本来就是为了照顾台湾现实情况，维护台湾同胞利益福祉。\n",
    "\n",
    "　　习近平更进一步指出：“‘一国两制’在台湾的具体实现形式会充分考虑台湾现实情况，会充分吸收两岸各界意见和建议，会充分照顾到台湾同胞利益和感情。在确保国家主权、安全、发展利益的前提下，和平统一后，台湾同胞的社会制度和生活方式等将得到充分尊重，台湾同胞的私人财产、宗教信仰、合法权益将得到充分保障。”\n",
    "\n",
    "　　三个“充分”，保证了“一国两制”不是简单照搬照用，而是会量体裁衣；两个“将得到”，更是思虑周全。郑重承诺，认真筹划，习近平的话语，有泰山之重，也有春风之暖。\n",
    "\n",
    "　　“两岸同胞是一家人，两岸的事是两岸同胞的家里事，当然也应该由家里人商量着办。”贴心的话语，奠定了沟通的总基调。和平统一，是平等协商、以对话取代对抗、以合作取代争斗、以双赢取代零和。唯有如此，两岸关系才能行稳致远；唯有如此，才能实现台海持久和平，达成国家统一，让子孙后代在祥和、安宁、繁荣、尊严的共同家园中生活成长；唯有如此，才是对民族、对后世负责。\n",
    "\n",
    "　　习近平擘画的这条“一国两制”之路，既谋一时更谋万世，既谋一域更谋全局。\n",
    "\n",
    "　　“一中”原则\n",
    "\n",
    "　　一个中国的原则不容动摇，这是两岸关系的政治基础。\n",
    "\n",
    "　　坚持一个中国原则，两岸关系就能改善和发展，台湾同胞就能受益。背离一个中国原则，就会导致两岸关系紧张动荡，损害台湾同胞切身利益。\n",
    "\n",
    "　　习近平从一正一反两方面加以阐释。应该何去何从，何为正道何为绝路，一目了然、不言自明。\n",
    "\n",
    "　　对走正道的广大台湾同胞，如习近平所说，我们将一如既往尊重、关爱、团结、依靠，“全心全意为台湾同胞办实事、做好事、解难事”。\n",
    "\n",
    "　　对逆历史潮流的“台独”，习近平则斩钉截铁：“我们愿意为和平统一创造广阔空间，但绝不为各种形式的‘台独’分裂活动留下任何空间。”“我们不承诺放弃使用武力，保留采取一切必要措施的选项，针对的是外部势力干涉和极少数‘台独’分裂分子及其分裂活动，绝非针对台湾同胞。”\n",
    "\n",
    "　　秉大义，走正道，两岸同胞“共谋和平、共护和平、共享和平”，习近平殷殷言辞、殷殷期待。\n",
    "\n",
    "　　夯实基础\n",
    "\n",
    "　　和平统一是大势是正道，但我们要为其夯实基础，这就要深化两岸融合发展。\n",
    "\n",
    "　　习近平指出，我们要积极推进两岸经济合作制度化，打造两岸共同市场，为发展增动力，为合作添活力，壮大中华民族经济。\n",
    "\n",
    "　　在具体举措上，一方面是两个四“通”。习近平指出，两岸要应通尽通，“提升经贸合作畅通、基础设施联通、能源资源互通、行业标准共通”，并指出“可以率先实现金门、马祖同福建沿海地区通水、通电、通气、通桥”。另一方面是三“化”：“推动两岸文化教育、医疗卫生合作，社会保障和公共资源共享，支持两岸邻近或条件相当地区基本公共服务均等化、普惠化、便捷化。”\n",
    "\n",
    "　　无论是四“通”还是三“化”，归根结底都是同台湾同胞分享大陆发展机遇，为台湾同胞台湾企业提供同等待遇，提升台湾同胞的民生福祉。\n",
    "\n",
    "　　我们是血脉相连的一家人，这一情感，从未更改。亲望亲好，中国人要帮中国人，这一宗旨，始终未变。\n",
    "\n",
    "　　增进认同\n",
    "\n",
    "　　文化是一个国家、一个民族的灵魂。国家之魂，文以化之，文以铸之。中华文化是两岸同胞心灵的根脉和归属。五千年的传承、五千年的沉淀，中华文化已经渗入每个中华儿女的血脉骨髓。同根同源、同文同种，这是最深沉的凝聚力、最深情的牵绊，更是实现同胞心灵契合，增进和平统一认同的最大助力。\n",
    "\n",
    "　　习近平以三个“要”，点明了两岸同胞交流合作的要点：要共同传承中华优秀传统文化，推动其实现创造性转化、创新性发展；要交流互鉴、对话包容，推己及人、将心比心，加深相互理解，增进互信认同；要秉持同胞情、同理心，以正确的历史观、民族观、国家观化育后人，弘扬伟大民族精神。\n",
    "\n",
    "　　青年是国家的希望、民族的未来。习近平对两岸青年寄予重任：勇担重任、团结友爱、携手打拼，更欢迎台湾青年来祖国大陆追梦、筑梦、圆梦。\n",
    "\n",
    "　　总而言之一句话，“两岸同胞交流合作不能停、不能断、不能少”。只要坚持下去，久久为功，必定能达到两岸同胞心灵契合。\n",
    "\n",
    "　　和平统一对国家有多重要？习近平以眼睛为喻：“我们真诚希望所有台湾同胞，像珍视自己的眼睛一样珍视和平，像追求人生的幸福一样追求统一，积极参与到推进祖国和平统一的正义事业中来。”真切呼唤，真诚相邀，真情与真心，一览无遗。\n",
    "\"\"\""
   ]
  },
  {
   "cell_type": "code",
   "execution_count": 25,
   "metadata": {},
   "outputs": [
    {
     "name": "stdout",
     "output_type": "stream",
     "text": [
      "习近平 告诉 我们：祖国必须统一，也必然统一。\n",
      "习近平 指出 “民族复兴、国家统一是大势所趋、大义所在、民心所向。\n",
      "习近平 说 “一国两制”的提出，本来就是为了照顾台湾现实情况，维护台湾同胞利益福祉。\n",
      "习近平 指出 “‘一国两制’在台湾的具体实现形式会充分考虑台湾现实情况，会充分吸收两岸各界意见和建议，会充分照顾到台湾同胞利益和感情。\n",
      "习近平 说 我们将一如既往尊重、关爱、团结、依靠，“全心全意为台湾同胞办实事、做好事、解难事”。\n",
      "习近平 指出 我们要积极推进两岸经济合作制度化，打造两岸共同市场，为发展增动力，为合作添活力，壮大中华民族经济。\n",
      "习近平 指出 两岸要应通尽通，“提升经贸合作畅通、基础设施联通、能源资源互通、行业标准共通”，并指出“可以率先实现金门、马祖同福建沿海地区通水、通电、通气、通桥”。\n",
      "习近平 指出 “可以率先实现金门、马祖同福建沿海地区通水、通电、通气、通桥”。\n"
     ]
    }
   ],
   "source": [
    "magic(new2)"
   ]
  },
  {
   "cell_type": "code",
   "execution_count": 26,
   "metadata": {},
   "outputs": [],
   "source": [
    "new3=\"\"\"\n",
    "新浪娱乐讯 据香港媒体报道，踏入新的一年，很多人都会为自己定下新目标，就像艺人李丽珍（珍妹）就希望可以拥有人鱼线，所以她就就找来健身教练陈国峰帮忙！\n",
    "\n",
    "　　今天，李丽珍在社交网晒出二人合照，见她很有信心地举起V字，并留言：”国峰是我的教练，目标是人鱼线，今日是第一天，哈哈哈哈哈哈。”另一张照片中还见到珍妹很认真拿着小哑铃练习，网友都说有国峰帮忙一定成功，还很期待见到珍妹的腹肌！\n",
    "\"\"\""
   ]
  },
  {
   "cell_type": "code",
   "execution_count": 27,
   "metadata": {},
   "outputs": [
    {
     "name": "stdout",
     "output_type": "stream",
     "text": [
      "李丽珍 说 有国峰帮忙一定成功，还很期待见到珍妹的腹肌！\n"
     ]
    }
   ],
   "source": [
    "magic(new3)"
   ]
  },
  {
   "cell_type": "code",
   "execution_count": 28,
   "metadata": {},
   "outputs": [
    {
     "name": "stdout",
     "output_type": "stream",
     "text": [
      "骆裕德 说 这起案件中，交警部门在处理交通违法的程序上存在问题。\n"
     ]
    }
   ],
   "source": [
    "magic(\"陕西金镝律师事务所律师骆裕德说，这起案件中，交警部门在处理交通违法的程序上存在问题。\")"
   ]
  },
  {
   "cell_type": "code",
   "execution_count": 29,
   "metadata": {},
   "outputs": [],
   "source": [
    "news4='''\n",
    "环球网1月3日消息，美国有线电视新闻网援引不具名五角大楼官员的话称，被特朗普指派接替马蒂斯的美国代理防长沙纳汉在新年第一个工作日就告诫五角大楼的高官们警惕来自中国的威胁。“记住中国，中国，中国”，沙纳汉在一次会议上这样说道。对此，中国外交部发言人陆慷3日回应称，此前中方从美军得到的信息是美方希望发展建设性的两军关系。他同时警告称，如美国寻求对手关系，则中美两国最终会真的成为对手。\n",
    "\n",
    "\n",
    "陆慷在当天举行的外交部记者会上表示，中美两军近期一直保持正常交往，在此期间，中方从美方得到的明确信息是，美方高度重视中美两军关系，并希望两军关系能成为中美关系中的“稳定器”。此外，美方还曾提出，希望发展建设性的两军关系。因此，沙纳汉的这段表态到底是否代表美军正式表态需要美方自己澄清。\n",
    "“中美作为两个大国，如果寻求的是伙伴关系，则会得到伙伴，如果寻求的是对手关系，则会得到对手。”陆慷补充说。​​​​\n",
    "（原题为《美代防长告诫手下警惕中国 外交部：寻求伙伴则得到伙伴，寻求对手则得到对手》）\n",
    "'''"
   ]
  },
  {
   "cell_type": "code",
   "execution_count": 30,
   "metadata": {},
   "outputs": [
    {
     "name": "stdout",
     "output_type": "stream",
     "text": [
      "美国 称 被特朗普指派接替马蒂斯的美国代理防长沙纳汉在新年第一个工作日就告诫五角大楼的高官们警惕来自中国的威胁。\n",
      "中国 说道 。\n",
      "陆慷 称 此前中方从美军得到的信息是美方希望发展建设性的两军关系。\n",
      "陆慷 称 如美国寻求对手关系，则中美两国最终会真的成为对手。\n",
      "美 表示 中美两军近期一直保持正常交往，在此期间，中方从美方得到的明确信息是，美方高度重视中美两军关系，并希望两军关系能成为中美关系中的“稳定器”。\n",
      "陆慷 说 。\n"
     ]
    }
   ],
   "source": [
    "magic(news4)"
   ]
  },
  {
   "cell_type": "code",
   "execution_count": 31,
   "metadata": {},
   "outputs": [
    {
     "data": {
      "text/plain": [
       "['有', '网友', '表示', '，', '明年', '国家', '经济', '增长', '形式', '不容乐观', '。']"
      ]
     },
     "execution_count": 31,
     "metadata": {},
     "output_type": "execute_result"
    }
   ],
   "source": [
    "cut(\"有网友表示，明年国家经济增长形式不容乐观。\")"
   ]
  },
  {
   "cell_type": "code",
   "execution_count": 32,
   "metadata": {},
   "outputs": [],
   "source": [
    "\n",
    "ner_list=ner(cut(\"有网友表示，明年国家经济增长形式不容乐观。\"),tag(cut(\"有网友表示，明年国家经济增长形式不容乐观。\")))"
   ]
  },
  {
   "cell_type": "code",
   "execution_count": 33,
   "metadata": {},
   "outputs": [
    {
     "data": {
      "text/plain": [
       "['O', 'O', 'O', 'O', 'O', 'O', 'O', 'O', 'O', 'O', 'O']"
      ]
     },
     "execution_count": 33,
     "metadata": {},
     "output_type": "execute_result"
    }
   ],
   "source": [
    "ner_list"
   ]
  },
  {
   "cell_type": "code",
   "execution_count": 34,
   "metadata": {},
   "outputs": [
    {
     "data": {
      "text/plain": [
       "['v', 'n', 'v', 'wp', 'nt', 'n', 'n', 'v', 'n', 'i', 'wp']"
      ]
     },
     "execution_count": 34,
     "metadata": {},
     "output_type": "execute_result"
    }
   ],
   "source": [
    "tag(cut(\"有网友表示，明年国家经济增长形式不容乐观。\"))"
   ]
  },
  {
   "cell_type": "code",
   "execution_count": 35,
   "metadata": {},
   "outputs": [
    {
     "name": "stdout",
     "output_type": "stream",
     "text": [
      "网友 表示 明年国家经济增长形式不容乐观。\n"
     ]
    }
   ],
   "source": [
    "magic(\"有网友表示，明年国家经济增长形式不容乐观。\")"
   ]
  },
  {
   "cell_type": "code",
   "execution_count": 36,
   "metadata": {},
   "outputs": [],
   "source": [
    "test=\"\"\"\n",
    "昨日，雷先生说，交警部门罚了他 16 次，他只认了一次，交了一次罚款，拿到法院的判决书后，会前往交警队，要求撤销此前的处罚。\n",
    "律师: 不依法粘贴告知单有谋取罚款之嫌。\n",
    "陕西金镝律师事务所律师骆裕德说，这起案件中，交警部门在处理交通违法的程序上存在问题。司机违停了，交警应将处罚单张贴在车上，并告知不服可以行使申请复议和提起诉讼的权利。这既是交警的告知义务，也是司机的知情权利。交警如果这\n",
    "么做了，本案司机何以被短时间内处罚 16 次后才知晓被罚？程序违法，为罚而罚，没有起到教育的目的。\n",
    "\"\"\""
   ]
  },
  {
   "cell_type": "code",
   "execution_count": 37,
   "metadata": {},
   "outputs": [
    {
     "name": "stdout",
     "output_type": "stream",
     "text": [
      "雷先生 说 交警部门罚了他16次，他只认了一次，交了一次罚款，拿到法院的判决书后，会前往交警队，要求撤销此前的处罚。\n",
      "律师 : 不依法粘贴告知单有谋取罚款之嫌。\n",
      "骆裕德 说 这起案件中，交警部门在处理交通违法的程序上存在问题。\n"
     ]
    }
   ],
   "source": [
    "magic(test)"
   ]
  },
  {
   "cell_type": "code",
   "execution_count": 38,
   "metadata": {},
   "outputs": [],
   "source": [
    "tt=\"\"\"《中央日报》称，当前韩国海军陆战队拥有2个师和2个旅，还打算在 2021 年增设航空团，并从今年开始引进 30 余架运输直升机和 20 架攻击直升机。此外，韩军正在研发新型登陆装甲车，比现有 AAV-7 的速度更快、火力更猛。未来韩国海军陆战队还会配备无人机，“将在东北亚三国中占据优势”。\n",
    "\"\"\""
   ]
  },
  {
   "cell_type": "code",
   "execution_count": 39,
   "metadata": {},
   "outputs": [
    {
     "name": "stdout",
     "output_type": "stream",
     "text": [
      "中央日报 称 当前韩国海军陆战队拥有2个师和2个旅，还打算在2021年增设航空团，并从今年开始引进30余架运输直升机和20架攻击直升机。\n"
     ]
    }
   ],
   "source": [
    "magic(tt)"
   ]
  },
  {
   "cell_type": "code",
   "execution_count": 40,
   "metadata": {},
   "outputs": [
    {
     "name": "stdout",
     "output_type": "stream",
     "text": [
      "韩国 称 “这似乎是韩国海军陆战队争取国防预算的软文”“现在很多韩国海军陆战队员都是戴眼镜、瘦豆芽体型，不知道怎么选拔的”“记者大概是海军陆战队退役的吧”。\n"
     ]
    }
   ],
   "source": [
    "magic(\"\"\"但韩国网友对“韩国海军陆战队世界第二”的说法不以为然。不少网友留言嘲讽称：“这似乎是韩国海军陆战队争取国防预算的软文”“现在很多韩国海军陆战队员都是戴眼镜、瘦豆芽体型，不知道怎么选拔的”“记者大概是海军陆战队退役的吧”。\"\"\")"
   ]
  },
  {
   "cell_type": "code",
   "execution_count": null,
   "metadata": {},
   "outputs": [],
   "source": []
  }
 ],
 "metadata": {
  "kernelspec": {
   "display_name": "Python 3",
   "language": "python",
   "name": "python3"
  },
  "language_info": {
   "codemirror_mode": {
    "name": "ipython",
    "version": 3
   },
   "file_extension": ".py",
   "mimetype": "text/x-python",
   "name": "python",
   "nbconvert_exporter": "python",
   "pygments_lexer": "ipython3",
   "version": "3.7.1"
  }
 },
 "nbformat": 4,
 "nbformat_minor": 2
}
