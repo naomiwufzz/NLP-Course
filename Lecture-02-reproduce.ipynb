{
 "cells": [
  {
   "cell_type": "code",
   "execution_count": 1,
   "metadata": {},
   "outputs": [],
   "source": [
    "import pandas as pd"
   ]
  },
  {
   "cell_type": "code",
   "execution_count": 2,
   "metadata": {},
   "outputs": [
    {
     "data": {
      "text/plain": [
       "25105"
      ]
     },
     "execution_count": 2,
     "metadata": {},
     "output_type": "execute_result"
    }
   ],
   "source": [
    "ord('我')"
   ]
  },
  {
   "cell_type": "code",
   "execution_count": 3,
   "metadata": {},
   "outputs": [
    {
     "data": {
      "text/plain": [
       "65"
      ]
     },
     "execution_count": 3,
     "metadata": {},
     "output_type": "execute_result"
    }
   ],
   "source": [
    "ord('A')"
   ]
  },
  {
   "cell_type": "code",
   "execution_count": 4,
   "metadata": {},
   "outputs": [
    {
     "name": "stdout",
     "output_type": "stream",
     "text": [
      "Help on built-in function ord in module builtins:\n",
      "\n",
      "ord(c, /)\n",
      "    Return the Unicode code point for a one-character string.\n",
      "\n"
     ]
    }
   ],
   "source": [
    "help(ord)"
   ]
  },
  {
   "cell_type": "code",
   "execution_count": 5,
   "metadata": {},
   "outputs": [
    {
     "data": {
      "text/plain": [
       "'我'"
      ]
     },
     "execution_count": 5,
     "metadata": {},
     "output_type": "execute_result"
    }
   ],
   "source": [
    "chr(25105)"
   ]
  },
  {
   "cell_type": "code",
   "execution_count": 6,
   "metadata": {},
   "outputs": [],
   "source": [
    "###for windows\n",
    "#news_content=pd.read_csv('C:\\\\Users\\\\mathm\\\\Documents\\\\GitHub\\\\kaggle-titanic\\\\test.csv',encoding='utf-8')\n",
    "###for Mac\n",
    "news_content=pd.read_csv('/Users/liang/Documents/GitHub/datasource/test.csv',encoding='utf-8')"
   ]
  },
  {
   "cell_type": "code",
   "execution_count": 7,
   "metadata": {},
   "outputs": [
    {
     "data": {
      "text/html": [
       "<div>\n",
       "<style scoped>\n",
       "    .dataframe tbody tr th:only-of-type {\n",
       "        vertical-align: middle;\n",
       "    }\n",
       "\n",
       "    .dataframe tbody tr th {\n",
       "        vertical-align: top;\n",
       "    }\n",
       "\n",
       "    .dataframe thead th {\n",
       "        text-align: right;\n",
       "    }\n",
       "</style>\n",
       "<table border=\"1\" class=\"dataframe\">\n",
       "  <thead>\n",
       "    <tr style=\"text-align: right;\">\n",
       "      <th></th>\n",
       "      <th>PassengerId</th>\n",
       "      <th>Pclass</th>\n",
       "      <th>Name</th>\n",
       "      <th>Sex</th>\n",
       "      <th>Age</th>\n",
       "      <th>SibSp</th>\n",
       "      <th>Parch</th>\n",
       "      <th>Ticket</th>\n",
       "      <th>Fare</th>\n",
       "      <th>Cabin</th>\n",
       "      <th>Embarked</th>\n",
       "    </tr>\n",
       "  </thead>\n",
       "  <tbody>\n",
       "    <tr>\n",
       "      <th>0</th>\n",
       "      <td>892</td>\n",
       "      <td>3</td>\n",
       "      <td>Kelly, Mr. James</td>\n",
       "      <td>male</td>\n",
       "      <td>34.5</td>\n",
       "      <td>0</td>\n",
       "      <td>0</td>\n",
       "      <td>330911</td>\n",
       "      <td>7.8292</td>\n",
       "      <td>NaN</td>\n",
       "      <td>Q</td>\n",
       "    </tr>\n",
       "    <tr>\n",
       "      <th>1</th>\n",
       "      <td>893</td>\n",
       "      <td>3</td>\n",
       "      <td>Wilkes, Mrs. James (Ellen Needs)</td>\n",
       "      <td>female</td>\n",
       "      <td>47.0</td>\n",
       "      <td>1</td>\n",
       "      <td>0</td>\n",
       "      <td>363272</td>\n",
       "      <td>7.0000</td>\n",
       "      <td>NaN</td>\n",
       "      <td>S</td>\n",
       "    </tr>\n",
       "    <tr>\n",
       "      <th>2</th>\n",
       "      <td>894</td>\n",
       "      <td>2</td>\n",
       "      <td>Myles, Mr. Thomas Francis</td>\n",
       "      <td>male</td>\n",
       "      <td>62.0</td>\n",
       "      <td>0</td>\n",
       "      <td>0</td>\n",
       "      <td>240276</td>\n",
       "      <td>9.6875</td>\n",
       "      <td>NaN</td>\n",
       "      <td>Q</td>\n",
       "    </tr>\n",
       "  </tbody>\n",
       "</table>\n",
       "</div>"
      ],
      "text/plain": [
       "   PassengerId  Pclass                              Name     Sex   Age  SibSp  \\\n",
       "0          892       3                  Kelly, Mr. James    male  34.5      0   \n",
       "1          893       3  Wilkes, Mrs. James (Ellen Needs)  female  47.0      1   \n",
       "2          894       2         Myles, Mr. Thomas Francis    male  62.0      0   \n",
       "\n",
       "   Parch  Ticket    Fare Cabin Embarked  \n",
       "0      0  330911  7.8292   NaN        Q  \n",
       "1      0  363272  7.0000   NaN        S  \n",
       "2      0  240276  9.6875   NaN        Q  "
      ]
     },
     "execution_count": 7,
     "metadata": {},
     "output_type": "execute_result"
    }
   ],
   "source": [
    "news_content.head()[:3]"
   ]
  },
  {
   "cell_type": "code",
   "execution_count": 8,
   "metadata": {},
   "outputs": [],
   "source": [
    "import re\n",
    "import requests\n"
   ]
  },
  {
   "cell_type": "code",
   "execution_count": 9,
   "metadata": {},
   "outputs": [],
   "source": [
    "text = requests.get('https://movie.douban.com/').text"
   ]
  },
  {
   "cell_type": "code",
   "execution_count": 10,
   "metadata": {},
   "outputs": [
    {
     "data": {
      "text/plain": [
       "'<!DOCTYPE html>\\n<html lang=\"zh-cmn-Hans\" class=\"\">\\n<head>\\n    <meta http-equiv=\"Content-Type\" content=\"text/html; charset=utf-8\">\\n    <meta name=\"renderer\" content=\"webkit\">\\n    <meta name=\"referrer\" '"
      ]
     },
     "execution_count": 10,
     "metadata": {},
     "output_type": "execute_result"
    }
   ],
   "source": [
    "text[:200]"
   ]
  },
  {
   "cell_type": "code",
   "execution_count": 11,
   "metadata": {},
   "outputs": [
    {
     "name": "stdout",
     "output_type": "stream",
     "text": [
      "/Users/liang/Documents/GitHub/datasource\n"
     ]
    }
   ],
   "source": [
    "cd /Users/liang/Documents/GitHub/datasource/"
   ]
  },
  {
   "cell_type": "code",
   "execution_count": 12,
   "metadata": {},
   "outputs": [],
   "source": [
    "filename=\"10k_articles.txt\""
   ]
  },
  {
   "cell_type": "code",
   "execution_count": 13,
   "metadata": {},
   "outputs": [
    {
     "data": {
      "text/plain": [
       "'utf-8'"
      ]
     },
     "execution_count": 13,
     "metadata": {},
     "output_type": "execute_result"
    }
   ],
   "source": [
    "import sys\n",
    "sys.getdefaultencoding()"
   ]
  },
  {
   "cell_type": "code",
   "execution_count": 14,
   "metadata": {},
   "outputs": [
    {
     "name": "stdout",
     "output_type": "stream",
     "text": [
      "'10k_articles.txt'\n"
     ]
    }
   ],
   "source": [
    "print(repr(filename))"
   ]
  },
  {
   "cell_type": "code",
   "execution_count": 15,
   "metadata": {},
   "outputs": [
    {
     "data": {
      "text/plain": [
       "'10k_articles.txt'"
      ]
     },
     "execution_count": 15,
     "metadata": {},
     "output_type": "execute_result"
    }
   ],
   "source": [
    "eval(repr(filename))"
   ]
  },
  {
   "cell_type": "code",
   "execution_count": 16,
   "metadata": {},
   "outputs": [],
   "source": [
    "all_content=open(filename, 'r', encoding='utf-8')"
   ]
  },
  {
   "cell_type": "code",
   "execution_count": 17,
   "metadata": {},
   "outputs": [],
   "source": [
    "i=0\n",
    "tmp=''\n",
    "with open(filename, encoding='utf-8', mode = 'r') as f:\n",
    "    for line in f:\n",
    "        if i>10:\n",
    "            break\n",
    "        tmp+=line\n",
    "        #print(repr(line))\n",
    "        i=i+1"
   ]
  },
  {
   "cell_type": "code",
   "execution_count": 18,
   "metadata": {},
   "outputs": [
    {
     "data": {
      "text/plain": [
       "'\\u3000\\u3000新华社广州5月5日电（记者毛鑫、王攀）第121届广交会5日闭幕。记者从闭幕新闻发布会上了解到，本届广交会共接受侵权投诉476宗，相当于每小时处理3.5件侵权案。在众多参展企业看来，广交会已经成为中国展会知识产权保护的“金字招牌”。\\\\n广交会有着“中国第一展”的美誉。据统计，本届广交会共有315家企业最终被认定涉嫌侵权。与上届同期相比，受理案件下降16.05%，被认定涉嫌侵权企业总数下降4.83%。\\\\n“从近几年情况看，广交会知识产权侵权案数量以年均10%的速度持续下降，显示大会知识产权保护的形势越来越好。”广东省知识产权局局长马宪民说。\\\\n这一形势取得来之不易。马宪民说，知识产权保护的突出难点之一就在于侵权纠纷处理的时间成本高，而这一点对展会来说尤为明显。\\\\n深圳市倍轻松科技股份有限公司是一家有着十多年参展历史的高科技企业，也是发起侵权投诉较多的企业。该公司常务副总经理贺小潮表示，广交会一届会期15天，单期仅5天，这意味着如果有参展企业发现被侵权，往往也只有不到5天的时间申诉处理，维权时间成本很高。\\\\n“20多年来，广交会不断创新知识产权保护机制，从快处理侵权纠纷，现在通常能做到让侵权方当场下架，充分保护了企业的利益与创新积极性”。贺小潮说。\\\\n广交会从1992年开始探索知识产权保护工作，是中国较早进行知识产权保护并设立知识产权维权机构的展会。1999年起专家驻会、现场办公成为广交会推进知识产权保护工作的惯例。\\\\n广交会投诉接待站工作人员说，相关机制已经“千锤百炼”，“一般来说，一件侵权投诉从受理到专家给出判定结论，再到工作人员对侵权行为处理到位，最快只需半天时间。”\\\\n除了快速反应之外，广交会还将知识产权保护工作前移，在开展前把知识产权登记信息推送给每一家参展商，推动相关参展商自查。\\\\n英国戴森技术有限公司代表路兰德说：“早在展会开幕前，举办方利用微信公众号等社交媒体将戴森公司的产品信息推送到各参展商供其参考，并且在展会中主动观察并寻找侵权产品，这有赖于大会投诉站对投诉作出高效处理，为戴森消除展会上的侵权产品增添了一臂之力。”\\\\n此外，广交会还加大了对侵权行为的处罚力度。从2002年起，根据侵权情况会对相关参展商作出展品暂扣、暂停直至永久取消参展资格等处罚。今年5月2日，中国对外贸易中心和广东省知识产权局在穗签订广交会知识产权保护工作战略合作协议，将广交会知识产权保护工作推向了一个新的阶段。\\\\n“对知识产权实行最严格的保护维护了广交会的正常交易秩序，对鼓励国内参展企业自主创新，助力外贸发展方式转型升级起到了良好的促进作用。”广交会副主任、中国对外贸易中心主任李晋奇说。\\\\n“广交会是中国第一展，被誉为中国经济的晴雨表，同时也是中国加大知识产权保护推动企业自主创新和产业转型升级的重要平台。”马宪民说。（完）\\n新华社照片，杜塞尔多夫（德国），2017年6月3日\\\\n（体育）（2）乒乓球——世乒赛男单：林高远晋级\\\\n6月2日，阿昌塔在比赛中庆祝得分。\\\\n当日，在德国杜塞尔多夫举行的2017年世界乒乓球锦标赛男单第三轮比赛中，中国选手林高远以4比2战胜印度选手阿昌塔，晋级16强。\\\\n新华社记者陶希夷摄\\n（原标题：寻找北大失踪女硕士的志愿者：超700人与FBI并肩作战）\\n截至6月19日，访美女学者章莹颖在美失踪已经10天。\\n一个26岁女孩就这样在异国失踪，留下亲人、朋友、老师、同学，还有无数素不相识的人为她忧心。这10天里，她的每一个信息、案情的每一个进展都牵动了海内外无数华人的心。\\n▲章莹颖 ?图据网络\\n仅仅10天内，美国FBI介入调查，寻找章莹颖的白宫请愿活动也发起了，著名华人神探李昌钰博士参与工作，FBI悬赏1万美金寻找线索。\\n伊利诺伊大学香槟分校的校方和美国当地警方发起筹款活动，并在9个小时内就达到了1.5万美元目标。调整后的3万美金目标也很快超额达成，截至红星新闻发稿，已经筹得56532美元，并在继续增加中。家人希望将这笔钱用以悬赏，找回失踪的章莹颖。\\n▲寻找章莹颖筹款活动的金额已经达到56532美元 ?网络截图\\n同时，微信群内超过700名的志愿者在国内外通过各种方式提供帮忙，这还不包括很多没有加入微信群，以其他方式参与的志愿者。\\n章莹颖不是第一个在海外失踪的中国人，却是第一个以这种力度被关注和寻找的中国人。\\n'"
      ]
     },
     "execution_count": 18,
     "metadata": {},
     "output_type": "execute_result"
    }
   ],
   "source": [
    "tmp"
   ]
  },
  {
   "cell_type": "code",
   "execution_count": 19,
   "metadata": {},
   "outputs": [],
   "source": [
    "def tokeniz(string):\n",
    "   # return ''.join(re.findall('[^\\s\\\\\\\\n]', string))\n",
    "    return ''.join(re.findall('[\\w|\\d]+', string))"
   ]
  },
  {
   "cell_type": "code",
   "execution_count": 20,
   "metadata": {},
   "outputs": [
    {
     "data": {
      "text/plain": [
       "'新华社广州5月5日电记者毛鑫王攀第121届广交会5日闭幕记者从闭幕新闻发布会上了解到本届广交会共接受侵权投诉476宗相当于每小时处理35件侵权案在众多参展企业看来广交会已经成为中国展会知识产权保护的金字招牌n广交会有着中国第一展的美誉据统计本届广交会共有315家企业最终被认定涉嫌侵权与上届同期相比受理案件下降1605被认定涉嫌侵权企业总数下降483n从近几年情况看广交会知识产权侵权案数量以年均10的速度持续下降显示大会知识产权保护的形势越来越好广东省知识产权局局长马宪民说n这一形势取得来之不易马宪民说知识产权保护的突出难点之一就在于侵权纠纷处理的时间成本高而这一点对展会来说尤为明显n深圳市倍轻松科技股份有限公司是一家有着十多年参展历史的高科技企业也是发起侵权投诉较多的企业该公司常务副总经理贺小潮表示广交会一届会期15天单期仅5天这意味着如果有参展企业发现被侵权往往也只有不到5天的时间申诉处理维权时间成本很高n20多年来广交会不断创新知识产权保护机制从快处理侵权纠纷现在通常能做到让侵权方当场下架充分保护了企业的利益与创新积极性贺小潮说n广交会从1992年开始探索知识产权保护工作是中国较早进行知识产权保护并设立知识产权维权机构的展会1999年起专家驻会现场办公成为广交会推进知识产权保护工作的惯例n广交会投诉接待站工作人员说相关机制已经千锤百炼一般来说一件侵权投诉从受理到专家给出判定结论再到工作人员对侵权行为处理到位最快只需半天时间n除了快速反应之外广交会还将知识产权保护工作前移在开展前把知识产权登记信息推送给每一家参展商推动相关参展商自查n英国戴森技术有限公司代表路兰德说早在展会开幕前举办方利用微信公众号等社交媒体将戴森公司的产品信息推送到各参展商供其参考并且在展会中主动观察并寻找侵权产品这有赖于大会投诉站对投诉作出高效处理为戴森消除展会上的侵权产品增添了一臂之力n此外广交会还加大了对侵权行为的处罚力度从2002年起根据侵权情况会对相关参展商作出展品暂扣暂停直至永久取消参展资格等处罚今年5月2日中国对外贸易中心和广东省知识产权局在穗签订广交会知识产权保护工作战略合作协议将广交会知识产权保护工作推向了一个新的阶段n对知识产权实行最严格的保护维护了广交会的正常交易秩序对鼓励国内参展企业自主创新助力外贸发展方式转型升级起到了良好的促进作用广交会副主任中国对外贸易中心主任李晋奇说n广交会是中国第一展被誉为中国经济的晴雨表同时也是中国加大知识产权保护推动企业自主创新和产业转型升级的重要平台马宪民说完新华社照片杜塞尔多夫德国2017年6月3日n体育2乒乓球世乒赛男单林高远晋级n6月2日阿昌塔在比赛中庆祝得分n当日在德国杜塞尔多夫举行的2017年世界乒乓球锦标赛男单第三轮比赛中中国选手林高远以4比2战胜印度选手阿昌塔晋级16强n新华社记者陶希夷摄原标题寻找北大失踪女硕士的志愿者超700人与FBI并肩作战截至6月19日访美女学者章莹颖在美失踪已经10天一个26岁女孩就这样在异国失踪留下亲人朋友老师同学还有无数素不相识的人为她忧心这10天里她的每一个信息案情的每一个进展都牵动了海内外无数华人的心章莹颖图据网络仅仅10天内美国FBI介入调查寻找章莹颖的白宫请愿活动也发起了著名华人神探李昌钰博士参与工作FBI悬赏1万美金寻找线索伊利诺伊大学香槟分校的校方和美国当地警方发起筹款活动并在9个小时内就达到了15万美元目标调整后的3万美金目标也很快超额达成截至红星新闻发稿已经筹得56532美元并在继续增加中家人希望将这笔钱用以悬赏找回失踪的章莹颖寻找章莹颖筹款活动的金额已经达到56532美元网络截图同时微信群内超过700名的志愿者在国内外通过各种方式提供帮忙这还不包括很多没有加入微信群以其他方式参与的志愿者章莹颖不是第一个在海外失踪的中国人却是第一个以这种力度被关注和寻找的中国人'"
      ]
     },
     "execution_count": 20,
     "metadata": {},
     "output_type": "execute_result"
    }
   ],
   "source": [
    "tokeniz(tmp)\n"
   ]
  },
  {
   "cell_type": "code",
   "execution_count": 21,
   "metadata": {},
   "outputs": [
    {
     "data": {
      "text/plain": [
       "1789"
      ]
     },
     "execution_count": 21,
     "metadata": {},
     "output_type": "execute_result"
    }
   ],
   "source": [
    "len(tmp)"
   ]
  },
  {
   "cell_type": "code",
   "execution_count": 22,
   "metadata": {},
   "outputs": [],
   "source": [
    "all_content=''\n",
    "with open(filename,encoding='utf-8',mode='r') as f:\n",
    "    for line in f:\n",
    "        all_content+=line"
   ]
  },
  {
   "cell_type": "code",
   "execution_count": 23,
   "metadata": {},
   "outputs": [
    {
     "data": {
      "text/plain": [
       "4273738"
      ]
     },
     "execution_count": 23,
     "metadata": {},
     "output_type": "execute_result"
    }
   ],
   "source": [
    "len(all_content)"
   ]
  },
  {
   "cell_type": "code",
   "execution_count": 24,
   "metadata": {},
   "outputs": [
    {
     "data": {
      "text/plain": [
       "3681384"
      ]
     },
     "execution_count": 24,
     "metadata": {},
     "output_type": "execute_result"
    }
   ],
   "source": [
    "len(tokeniz(all_content))"
   ]
  },
  {
   "cell_type": "code",
   "execution_count": 25,
   "metadata": {},
   "outputs": [],
   "source": [
    "from collections import Counter"
   ]
  },
  {
   "cell_type": "code",
   "execution_count": 26,
   "metadata": {},
   "outputs": [],
   "source": [
    "L=[1,1,2,3,4,4,3,3,2,2,0,9]"
   ]
  },
  {
   "cell_type": "code",
   "execution_count": 27,
   "metadata": {},
   "outputs": [
    {
     "data": {
      "text/plain": [
       "1"
      ]
     },
     "execution_count": 27,
     "metadata": {},
     "output_type": "execute_result"
    }
   ],
   "source": [
    "S=Counter(L)\n",
    "S[9]"
   ]
  },
  {
   "cell_type": "code",
   "execution_count": 28,
   "metadata": {},
   "outputs": [
    {
     "data": {
      "text/plain": [
       "9"
      ]
     },
     "execution_count": 28,
     "metadata": {},
     "output_type": "execute_result"
    }
   ],
   "source": [
    "X=[(1,9),(3,4),(5,6)]\n",
    "X[0][1]"
   ]
  },
  {
   "cell_type": "code",
   "execution_count": 29,
   "metadata": {},
   "outputs": [],
   "source": [
    "all_character_count=Counter(tokeniz(all_content))"
   ]
  },
  {
   "cell_type": "code",
   "execution_count": 30,
   "metadata": {},
   "outputs": [
    {
     "data": {
      "text/plain": [
       "[('的', 77214),\n",
       " ('n', 75342),\n",
       " ('国', 37896),\n",
       " ('1', 35800),\n",
       " ('在', 33603),\n",
       " ('中', 32082),\n",
       " ('一', 31643),\n",
       " ('日', 31494),\n",
       " ('2', 31092),\n",
       " ('0', 30503),\n",
       " ('新', 30093),\n",
       " ('年', 23859),\n",
       " ('月', 22981),\n",
       " ('人', 22108),\n",
       " ('社', 20252),\n",
       " ('大', 19959),\n",
       " ('华', 19739),\n",
       " ('赛', 16882),\n",
       " ('是', 16857),\n",
       " ('和', 16186)]"
      ]
     },
     "execution_count": 30,
     "metadata": {},
     "output_type": "execute_result"
    }
   ],
   "source": [
    "all_character_count.most_common()[:20]"
   ]
  },
  {
   "cell_type": "code",
   "execution_count": 31,
   "metadata": {},
   "outputs": [],
   "source": [
    "import matplotlib.pyplot as plt"
   ]
  },
  {
   "cell_type": "code",
   "execution_count": 32,
   "metadata": {},
   "outputs": [],
   "source": [
    "M=all_character_count.most_common()[0][1]"
   ]
  },
  {
   "cell_type": "code",
   "execution_count": 33,
   "metadata": {},
   "outputs": [
    {
     "data": {
      "text/plain": [
       "77214"
      ]
     },
     "execution_count": 33,
     "metadata": {},
     "output_type": "execute_result"
    }
   ],
   "source": [
    "M"
   ]
  },
  {
   "cell_type": "code",
   "execution_count": 34,
   "metadata": {},
   "outputs": [
    {
     "data": {
      "text/plain": [
       "4970"
      ]
     },
     "execution_count": 34,
     "metadata": {},
     "output_type": "execute_result"
    }
   ],
   "source": [
    "\n",
    "len(all_character_count)"
   ]
  },
  {
   "cell_type": "code",
   "execution_count": 35,
   "metadata": {},
   "outputs": [
    {
     "data": {
      "image/png": "[encoded data removed]",
      "text/plain": [
       "<Figure size 432x288 with 1 Axes>"
      ]
     },
     "metadata": {
      "needs_background": "light"
     },
     "output_type": "display_data"
    }
   ],
   "source": [
    "from matplotlib.pyplot import yscale, xscale, title,plot\n",
    "yscale('log'); xscale('log'); title('Frequency of n-th most frequent word and 1/n line.')\n",
    "plot([c for (w,c) in all_character_count.most_common()])\n",
    "plot([M/i for i in range(1,len(all_character_count)+1)]);"
   ]
  },
  {
   "cell_type": "code",
   "execution_count": 36,
   "metadata": {},
   "outputs": [
    {
     "data": {
      "text/plain": [
       "[<matplotlib.lines.Line2D at 0x122ee7e10>]"
      ]
     },
     "execution_count": 36,
     "metadata": {},
     "output_type": "execute_result"
    },
    {
     "data": {
      "image/png": "[encoded data removed]",
      "text/plain": [
       "<Figure size 432x288 with 1 Axes>"
      ]
     },
     "metadata": {
      "needs_background": "light"
     },
     "output_type": "display_data"
    }
   ],
   "source": [
    "plot([100/i for i in range(1,100)])"
   ]
  },
  {
   "cell_type": "code",
   "execution_count": 37,
   "metadata": {},
   "outputs": [
    {
     "data": {
      "text/plain": [
       "32082"
      ]
     },
     "execution_count": 37,
     "metadata": {},
     "output_type": "execute_result"
    }
   ],
   "source": [
    "all_character_count.get('中',1)"
   ]
  },
  {
   "cell_type": "code",
   "execution_count": 38,
   "metadata": {},
   "outputs": [],
   "source": [
    "def get_probability_from_counts(count):\n",
    "    all_occurences=sum(count.values())\n",
    "    def get_prob(item):\n",
    "        return count[item]/all_occurences\n",
    "    return get_prob"
   ]
  },
  {
   "cell_type": "code",
   "execution_count": 39,
   "metadata": {},
   "outputs": [],
   "source": [
    "get_char_prob=get_probability_from_counts(all_character_count)"
   ]
  },
  {
   "cell_type": "code",
   "execution_count": 40,
   "metadata": {},
   "outputs": [],
   "source": [
    "def get_char_probability(itemchar):\n",
    "    all_sum=sum(all_character_count.values())\n",
    "    return all_character_count[itemchar]/all_sum"
   ]
  },
  {
   "cell_type": "code",
   "execution_count": null,
   "metadata": {},
   "outputs": [],
   "source": []
  },
  {
   "cell_type": "code",
   "execution_count": 41,
   "metadata": {},
   "outputs": [
    {
     "data": {
      "text/plain": [
       "0.020974177102959103"
      ]
     },
     "execution_count": 41,
     "metadata": {},
     "output_type": "execute_result"
    }
   ],
   "source": [
    "get_char_prob('的')"
   ]
  },
  {
   "cell_type": "code",
   "execution_count": 42,
   "metadata": {},
   "outputs": [
    {
     "data": {
      "text/plain": [
       "0.020974177102959103"
      ]
     },
     "execution_count": 42,
     "metadata": {},
     "output_type": "execute_result"
    }
   ],
   "source": [
    "get_char_probability('的')"
   ]
  },
  {
   "cell_type": "code",
   "execution_count": 43,
   "metadata": {},
   "outputs": [],
   "source": [
    "import time\n",
    "def get_running_time(func,arg,times):\n",
    "    start_time=time.time()\n",
    "    for _ in range(times):\n",
    "        func(arg)\n",
    "    print('\\t\\t {} used time is {}'.format(func.__name__, time.time()-start_time))"
   ]
  },
  {
   "cell_type": "code",
   "execution_count": 44,
   "metadata": {},
   "outputs": [
    {
     "name": "stdout",
     "output_type": "stream",
     "text": [
      "\t\t get_char_probability used time is 0.25710105895996094\n"
     ]
    }
   ],
   "source": [
    "get_running_time(get_char_probability,\"的\",10000)"
   ]
  },
  {
   "cell_type": "code",
   "execution_count": 45,
   "metadata": {},
   "outputs": [
    {
     "name": "stdout",
     "output_type": "stream",
     "text": [
      "\t\t get_prob used time is 0.001664876937866211\n"
     ]
    }
   ],
   "source": [
    "get_running_time(get_char_prob, \"的\",10000)"
   ]
  },
  {
   "cell_type": "code",
   "execution_count": 46,
   "metadata": {},
   "outputs": [],
   "source": [
    "import random\n",
    "random_chars=random.sample(all_content,10)"
   ]
  },
  {
   "cell_type": "code",
   "execution_count": 47,
   "metadata": {},
   "outputs": [
    {
     "data": {
      "text/plain": [
       "['在', '约', '，', '资', '动', '春', '失', '的', '自', '且']"
      ]
     },
     "execution_count": 47,
     "metadata": {},
     "output_type": "execute_result"
    }
   ],
   "source": [
    "random_chars"
   ]
  },
  {
   "cell_type": "code",
   "execution_count": 48,
   "metadata": {},
   "outputs": [
    {
     "name": "stdout",
     "output_type": "stream",
     "text": [
      "\t\t get_char_probability used time is 0.2700526714324951\n"
     ]
    }
   ],
   "source": [
    "get_running_time(get_char_probability,'社',10000)"
   ]
  },
  {
   "cell_type": "code",
   "execution_count": 49,
   "metadata": {},
   "outputs": [
    {
     "name": "stdout",
     "output_type": "stream",
     "text": [
      "\t\t get_prob used time is 0.0014939308166503906\n"
     ]
    }
   ],
   "source": [
    "get_running_time(get_char_prob,'社',10000)"
   ]
  },
  {
   "cell_type": "code",
   "execution_count": 50,
   "metadata": {},
   "outputs": [],
   "source": [
    "from functools import reduce"
   ]
  },
  {
   "cell_type": "code",
   "execution_count": 51,
   "metadata": {},
   "outputs": [],
   "source": [
    "from operator import mul,add"
   ]
  },
  {
   "cell_type": "code",
   "execution_count": 52,
   "metadata": {},
   "outputs": [
    {
     "data": {
      "text/plain": [
       "5050"
      ]
     },
     "execution_count": 52,
     "metadata": {},
     "output_type": "execute_result"
    }
   ],
   "source": [
    "reduce(add,range(1,101))"
   ]
  },
  {
   "cell_type": "code",
   "execution_count": 53,
   "metadata": {},
   "outputs": [],
   "source": [
    "def prob_of_string(string):\n",
    "    return reduce(mul,[get_char_prob(c) for c in string])"
   ]
  },
  {
   "cell_type": "code",
   "execution_count": 54,
   "metadata": {},
   "outputs": [
    {
     "data": {
      "text/plain": [
       "1.0446938200167751e-09"
      ]
     },
     "execution_count": 54,
     "metadata": {},
     "output_type": "execute_result"
    }
   ],
   "source": [
    "prob_of_string(\"早上好\")"
   ]
  },
  {
   "cell_type": "code",
   "execution_count": 55,
   "metadata": {},
   "outputs": [
    {
     "data": {
      "text/plain": [
       "1.714017914813475e-37"
      ]
     },
     "execution_count": 55,
     "metadata": {},
     "output_type": "execute_result"
    }
   ],
   "source": [
    "prob_of_string(\"这是一个比较常见的测试用例\")"
   ]
  },
  {
   "cell_type": "code",
   "execution_count": 56,
   "metadata": {},
   "outputs": [
    {
     "data": {
      "text/plain": [
       "8.445329031555758e-39"
      ]
     },
     "execution_count": 56,
     "metadata": {},
     "output_type": "execute_result"
    }
   ],
   "source": [
    "prob_of_string('这是一个比较罕见的测试用例')"
   ]
  },
  {
   "cell_type": "code",
   "execution_count": 57,
   "metadata": {},
   "outputs": [
    {
     "name": "stdout",
     "output_type": "stream",
     "text": [
      "1.7159153709713505e-25\n"
     ]
    }
   ],
   "source": [
    "print(prob_of_string('北京有个地方叫上地'))"
   ]
  },
  {
   "cell_type": "code",
   "execution_count": 58,
   "metadata": {},
   "outputs": [],
   "source": [
    "pair = \"\"\"前天早上吃晚饭的时候\n",
    "前天早上吃早饭的时候\"\"\".split('\\n')\n",
    "\n",
    "pair2 =\"\"\"正是一个好看的小猫\n",
    "真是一个好看的小猫\"\"\".split('\\n')\n",
    "\n",
    "pair3 =\"\"\"我无言以对，简直\n",
    "我简直无言以对\"\"\".split('\\n')"
   ]
  },
  {
   "cell_type": "code",
   "execution_count": 59,
   "metadata": {},
   "outputs": [],
   "source": [
    "pairs =[pair, pair2,pair3]"
   ]
  },
  {
   "cell_type": "code",
   "execution_count": 60,
   "metadata": {},
   "outputs": [
    {
     "data": {
      "text/plain": [
       "[['前天早上吃晚饭的时候', '前天早上吃早饭的时候'],\n",
       " ['正是一个好看的小猫', '真是一个好看的小猫'],\n",
       " ['我无言以对，简直', '我简直无言以对']]"
      ]
     },
     "execution_count": 60,
     "metadata": {},
     "output_type": "execute_result"
    }
   ],
   "source": [
    "pairs"
   ]
  },
  {
   "cell_type": "code",
   "execution_count": 61,
   "metadata": {},
   "outputs": [],
   "source": [
    "def get_probability_performance(language_model_func,Pairs):\n",
    "    for (p,q) in Pairs:\n",
    "        print('*'*38)\n",
    "        #print(tokeniz(p), tokeniz(q))\n",
    "        #print(p,q)\n",
    "        print('\\t {} with probability {}'.format(p,language_model_func(tokeniz(p))))\n",
    "        print('\\t {} with probability {}'.format(q,language_model_func(tokeniz(q))))\n",
    "        #print('\\t {} with prob {}'.format(p, language_model_func(p)))\n",
    "        #print('\\t {} with prob {}'.format(q, language_model_func(q)))"
   ]
  },
  {
   "cell_type": "code",
   "execution_count": 62,
   "metadata": {},
   "outputs": [
    {
     "name": "stdout",
     "output_type": "stream",
     "text": [
      "**************************************\n",
      "\t 前天早上吃晚饭的时候 with probability 1.0459644456214803e-31\n",
      "\t 前天早上吃早饭的时候 with probability 1.1224003089553578e-31\n",
      "**************************************\n",
      "\t 正是一个好看的小猫 with probability 3.845980106752109e-25\n",
      "\t 真是一个好看的小猫 with probability 1.2404409802330127e-25\n",
      "**************************************\n",
      "\t 我无言以对，简直 with probability 4.484741012976085e-22\n",
      "\t 我简直无言以对 with probability 4.484741012976085e-22\n"
     ]
    }
   ],
   "source": [
    "get_probability_performance(prob_of_string, pairs)"
   ]
  },
  {
   "cell_type": "code",
   "execution_count": 63,
   "metadata": {},
   "outputs": [
    {
     "data": {
      "text/plain": [
       "'\\u3000\\u3000新华社广州5月5日电（记者毛鑫、王攀）第121届广交会5日闭幕。记者从闭幕新闻发布会上了解到，本届广交会共接受侵权投诉476宗，相当于每小时处理3.5件侵权案。在众多参展企业看来，广交会已经成为中'"
      ]
     },
     "execution_count": 63,
     "metadata": {},
     "output_type": "execute_result"
    }
   ],
   "source": [
    "all_content[:100]"
   ]
  },
  {
   "cell_type": "code",
   "execution_count": 64,
   "metadata": {},
   "outputs": [],
   "source": [
    "ALL_CHARACTER=tokeniz(all_content)"
   ]
  },
  {
   "cell_type": "code",
   "execution_count": 65,
   "metadata": {},
   "outputs": [
    {
     "data": {
      "text/plain": [
       "'新华社广州5月5日电记者毛鑫王攀第121届广交会5日闭幕记者从闭幕新闻发布会上了解到本届广交会共接受侵权投诉476宗相当于每小时处理35件侵权案在众多参展企业看来广交会已经成为中国展会知识产权保护的金字招牌n广交会有着中国第一展的美誉据统计本届广交会共有315家企业最终被认定涉嫌侵权与上届同期相比受理案件下降1605被认定涉嫌侵权企业总数下降483n从近几年情况看广交会知识产权侵权案数量以年均10'"
      ]
     },
     "execution_count": 65,
     "metadata": {},
     "output_type": "execute_result"
    }
   ],
   "source": [
    "ALL_CHARACTER[:200]"
   ]
  },
  {
   "cell_type": "code",
   "execution_count": 66,
   "metadata": {},
   "outputs": [],
   "source": [
    "gram_length=2\n",
    "two_gram_counts= Counter(ALL_CHARACTER[i:i+gram_length] for i in range(len(ALL_CHARACTER)-gram_length))"
   ]
  },
  {
   "cell_type": "code",
   "execution_count": 67,
   "metadata": {},
   "outputs": [
    {
     "data": {
      "text/plain": [
       "3681384"
      ]
     },
     "execution_count": 67,
     "metadata": {},
     "output_type": "execute_result"
    }
   ],
   "source": [
    "len(ALL_CHARACTER)"
   ]
  },
  {
   "cell_type": "code",
   "execution_count": 68,
   "metadata": {},
   "outputs": [],
   "source": [
    "all_char_count=Counter(ALL_CHARACTER)"
   ]
  },
  {
   "cell_type": "code",
   "execution_count": 69,
   "metadata": {},
   "outputs": [
    {
     "data": {
      "text/plain": [
       "4970"
      ]
     },
     "execution_count": 69,
     "metadata": {},
     "output_type": "execute_result"
    }
   ],
   "source": [
    "len(all_char_count)"
   ]
  },
  {
   "cell_type": "code",
   "execution_count": 70,
   "metadata": {},
   "outputs": [
    {
     "data": {
      "text/plain": [
       "4970"
      ]
     },
     "execution_count": 70,
     "metadata": {},
     "output_type": "execute_result"
    }
   ],
   "source": [
    "len(all_character_count)"
   ]
  },
  {
   "cell_type": "code",
   "execution_count": 71,
   "metadata": {},
   "outputs": [
    {
     "name": "stdout",
     "output_type": "stream",
     "text": [
      "0\n",
      "1\n",
      "2\n"
     ]
    }
   ],
   "source": [
    "for i in range(3):\n",
    "    print(i)"
   ]
  },
  {
   "cell_type": "code",
   "execution_count": 72,
   "metadata": {},
   "outputs": [
    {
     "data": {
      "text/plain": [
       "'新华社'"
      ]
     },
     "execution_count": 72,
     "metadata": {},
     "output_type": "execute_result"
    }
   ],
   "source": [
    "ALL_CHARACTER[0:3]"
   ]
  },
  {
   "cell_type": "code",
   "execution_count": 73,
   "metadata": {},
   "outputs": [
    {
     "data": {
      "text/plain": [
       "[('新华', 17100),\n",
       " ('华社', 16228),\n",
       " ('20', 15929),\n",
       " ('nn', 14571),\n",
       " ('01', 13403),\n",
       " ('17', 10807),\n",
       " ('中国', 10029),\n",
       " ('n新', 9970),\n",
       " ('外代', 8228),\n",
       " ('7年', 7405),\n",
       " ('记者', 7036),\n",
       " ('5月', 6963),\n",
       " ('4月', 6460),\n",
       " ('日n', 6184),\n",
       " ('月1', 5944),\n",
       " ('照片', 5871),\n",
       " ('二线', 5780),\n",
       " ('代二', 5710),\n",
       " ('社照', 5671),\n",
       " ('月2', 5631)]"
      ]
     },
     "execution_count": 73,
     "metadata": {},
     "output_type": "execute_result"
    }
   ],
   "source": [
    "two_gram_counts.most_common()[:20]"
   ]
  },
  {
   "cell_type": "code",
   "execution_count": 74,
   "metadata": {},
   "outputs": [],
   "source": [
    "get_pair_prob= get_probability_from_counts(two_gram_counts)"
   ]
  },
  {
   "cell_type": "code",
   "execution_count": 75,
   "metadata": {},
   "outputs": [],
   "source": [
    "import inspect"
   ]
  },
  {
   "cell_type": "code",
   "execution_count": 76,
   "metadata": {},
   "outputs": [
    {
     "name": "stdout",
     "output_type": "stream",
     "text": [
      "def prob_of_string(string):\n",
      "    return reduce(mul,[get_char_prob(c) for c in string])\n",
      "\n"
     ]
    }
   ],
   "source": [
    "print(inspect.getsource(prob_of_string))"
   ]
  },
  {
   "cell_type": "code",
   "execution_count": 77,
   "metadata": {},
   "outputs": [],
   "source": [
    "def prob_of_string(str1):\n",
    "    return reduce(mul, [get_char_prob(c) for c in str1])"
   ]
  },
  {
   "cell_type": "code",
   "execution_count": 78,
   "metadata": {},
   "outputs": [],
   "source": [
    "import inspect\n",
    "def GS(func):\n",
    "    return print(inspect.getsource(func))"
   ]
  },
  {
   "cell_type": "code",
   "execution_count": 79,
   "metadata": {},
   "outputs": [
    {
     "name": "stdout",
     "output_type": "stream",
     "text": [
      "def prob_of_string(str1):\n",
      "    return reduce(mul, [get_char_prob(c) for c in str1])\n",
      "\n"
     ]
    }
   ],
   "source": [
    "GS(prob_of_string)"
   ]
  },
  {
   "cell_type": "code",
   "execution_count": 80,
   "metadata": {},
   "outputs": [
    {
     "name": "stdout",
     "output_type": "stream",
     "text": [
      "def get_probability_from_counts(count):\n",
      "    all_occurences=sum(count.values())\n",
      "    def get_prob(item):\n",
      "        return count[item]/all_occurences\n",
      "    return get_prob\n",
      "\n"
     ]
    }
   ],
   "source": [
    "GS(get_probability_from_counts)"
   ]
  },
  {
   "cell_type": "code",
   "execution_count": 81,
   "metadata": {},
   "outputs": [
    {
     "data": {
      "text/plain": [
       "0.004644994732956265"
      ]
     },
     "execution_count": 81,
     "metadata": {},
     "output_type": "execute_result"
    }
   ],
   "source": [
    "type(two_gram_counts)\n",
    "get_pair_prob(\"新华\")"
   ]
  },
  {
   "cell_type": "code",
   "execution_count": 82,
   "metadata": {},
   "outputs": [],
   "source": [
    "get_pair_prob=get_probability_from_counts(two_gram_counts)"
   ]
  },
  {
   "cell_type": "code",
   "execution_count": 83,
   "metadata": {},
   "outputs": [],
   "source": [
    "def get_2_gram_prob(word,prev):\n",
    "    if get_pair_prob(word+prev)>0:\n",
    "        return get_pair_prob(word+prev) /get_char_prob(prev)\n",
    "    else:\n",
    "        return get_char_prob(word)\n",
    "def get_2_gram_string_prob(string):\n",
    "    probablities=[]\n",
    "    for i, c in enumerate(string):\n",
    "        prev='<s>' if i==0 else string[i-1]\n",
    "        probablities.append(get_2_gram_prob(c,prev))\n",
    "    return reduce(mul,probablities)"
   ]
  },
  {
   "cell_type": "code",
   "execution_count": 84,
   "metadata": {},
   "outputs": [
    {
     "name": "stdout",
     "output_type": "stream",
     "text": [
      "0 W\n",
      "1 a\n",
      "2 n\n",
      "3 g\n",
      "4 l\n",
      "5 i\n",
      "6 a\n",
      "7 n\n",
      "8 g\n"
     ]
    }
   ],
   "source": [
    "for i, c in enumerate(\"Wangliang\"):\n",
    "    print(i, c)"
   ]
  },
  {
   "cell_type": "code",
   "execution_count": 85,
   "metadata": {},
   "outputs": [
    {
     "name": "stdout",
     "output_type": "stream",
     "text": [
      "def get_2_gram_prob(word,prev):\n",
      "    if get_pair_prob(word+prev)>0:\n",
      "        return get_pair_prob(word+prev) /get_char_prob(prev)\n",
      "    else:\n",
      "        return get_char_prob(word)\n",
      "\n"
     ]
    }
   ],
   "source": [
    "GS(get_2_gram_prob)"
   ]
  },
  {
   "cell_type": "code",
   "execution_count": 86,
   "metadata": {},
   "outputs": [
    {
     "name": "stdout",
     "output_type": "stream",
     "text": [
      "**************************************\n",
      "\t 前天早上吃晚饭的时候 with probability 1.0459644456214803e-31\n",
      "\t 前天早上吃早饭的时候 with probability 1.1224003089553578e-31\n",
      "**************************************\n",
      "\t 正是一个好看的小猫 with probability 3.845980106752109e-25\n",
      "\t 真是一个好看的小猫 with probability 1.2404409802330127e-25\n",
      "**************************************\n",
      "\t 我无言以对，简直 with probability 4.484741012976085e-22\n",
      "\t 我简直无言以对 with probability 4.484741012976085e-22\n"
     ]
    }
   ],
   "source": [
    "get_probability_performance(prob_of_string,pairs)"
   ]
  },
  {
   "cell_type": "code",
   "execution_count": 87,
   "metadata": {},
   "outputs": [
    {
     "name": "stdout",
     "output_type": "stream",
     "text": [
      "**************************************\n",
      "\t 前天早上吃晚饭的时候 with probability 1.3784290363337236e-30\n",
      "\t 前天早上吃早饭的时候 with probability 1.4791603889888805e-30\n",
      "**************************************\n",
      "\t 正是一个好看的小猫 with probability 4.802331358938877e-24\n",
      "\t 真是一个好看的小猫 with probability 6.753278473507791e-24\n",
      "**************************************\n",
      "\t 我无言以对，简直 with probability 3.325485931783666e-24\n",
      "\t 我简直无言以对 with probability 4.6741169587243645e-23\n"
     ]
    }
   ],
   "source": [
    "get_probability_performance(get_2_gram_string_prob,pairs)"
   ]
  },
  {
   "cell_type": "code",
   "execution_count": 88,
   "metadata": {},
   "outputs": [
    {
     "data": {
      "text/plain": [
       "1.8902874935481855e-27"
      ]
     },
     "execution_count": 88,
     "metadata": {},
     "output_type": "execute_result"
    }
   ],
   "source": [
    "string_pair=['他发表了重要的讲话','他发表了重要的僵化']\n",
    "get_2_gram_string_prob(string_pair[0])"
   ]
  },
  {
   "cell_type": "code",
   "execution_count": 89,
   "metadata": {},
   "outputs": [
    {
     "data": {
      "text/plain": [
       "4.0810206629587666e-25"
      ]
     },
     "execution_count": 89,
     "metadata": {},
     "output_type": "execute_result"
    }
   ],
   "source": [
    "prob_of_string(string_pair[0])"
   ]
  },
  {
   "cell_type": "code",
   "execution_count": 90,
   "metadata": {},
   "outputs": [
    {
     "data": {
      "text/plain": [
       "2.172541928876498e-28"
      ]
     },
     "execution_count": 90,
     "metadata": {},
     "output_type": "execute_result"
    }
   ],
   "source": [
    "get_2_gram_string_prob(string_pair[1])"
   ]
  },
  {
   "cell_type": "code",
   "execution_count": 91,
   "metadata": {},
   "outputs": [
    {
     "data": {
      "text/plain": [
       "1.2362543281534206e-25"
      ]
     },
     "execution_count": 91,
     "metadata": {},
     "output_type": "execute_result"
    }
   ],
   "source": [
    "prob_of_string(string_pair[1])"
   ]
  },
  {
   "cell_type": "code",
   "execution_count": 92,
   "metadata": {},
   "outputs": [
    {
     "data": {
      "text/plain": [
       "15"
      ]
     },
     "execution_count": 92,
     "metadata": {},
     "output_type": "execute_result"
    }
   ],
   "source": [
    "reduce(lambda x, y:x+y, [1,2,3,4,5])"
   ]
  },
  {
   "cell_type": "code",
   "execution_count": 93,
   "metadata": {},
   "outputs": [],
   "source": [
    "import numpy as np\n",
    "L1=np.array([1,2,3])"
   ]
  },
  {
   "cell_type": "code",
   "execution_count": 94,
   "metadata": {},
   "outputs": [
    {
     "data": {
      "text/plain": [
       "array([1, 2, 3])"
      ]
     },
     "execution_count": 94,
     "metadata": {},
     "output_type": "execute_result"
    }
   ],
   "source": [
    "L1"
   ]
  },
  {
   "cell_type": "code",
   "execution_count": 95,
   "metadata": {},
   "outputs": [],
   "source": [
    "L2=np.mean(np.array([1,2,3]))"
   ]
  },
  {
   "cell_type": "code",
   "execution_count": 96,
   "metadata": {},
   "outputs": [
    {
     "data": {
      "text/plain": [
       "2.0"
      ]
     },
     "execution_count": 96,
     "metadata": {},
     "output_type": "execute_result"
    }
   ],
   "source": [
    "L2"
   ]
  },
  {
   "cell_type": "code",
   "execution_count": 97,
   "metadata": {},
   "outputs": [
    {
     "data": {
      "text/plain": [
       "array([1., 0., 1.])"
      ]
     },
     "execution_count": 97,
     "metadata": {},
     "output_type": "execute_result"
    }
   ],
   "source": [
    "np.abs((L2-L1))**2"
   ]
  },
  {
   "cell_type": "code",
   "execution_count": 98,
   "metadata": {},
   "outputs": [],
   "source": [
    "def loss(y_true, yhats):return np.mean(np.abs(y_true)-yhats)"
   ]
  },
  {
   "cell_type": "code",
   "execution_count": 99,
   "metadata": {},
   "outputs": [],
   "source": [
    "#titanic_content=pd.read_csv(open('C:\\\\Users\\\\mathm\\\\Documents\\\\GitHub\\\\kaggle-titanic\\\\train.csv'))\n",
    "titanic_content=pd.read_csv(open('/Users/liang/Documents/GitHub/datasource/train.csv'))"
   ]
  },
  {
   "cell_type": "code",
   "execution_count": 100,
   "metadata": {},
   "outputs": [
    {
     "data": {
      "text/html": [
       "<div>\n",
       "<style scoped>\n",
       "    .dataframe tbody tr th:only-of-type {\n",
       "        vertical-align: middle;\n",
       "    }\n",
       "\n",
       "    .dataframe tbody tr th {\n",
       "        vertical-align: top;\n",
       "    }\n",
       "\n",
       "    .dataframe thead th {\n",
       "        text-align: right;\n",
       "    }\n",
       "</style>\n",
       "<table border=\"1\" class=\"dataframe\">\n",
       "  <thead>\n",
       "    <tr style=\"text-align: right;\">\n",
       "      <th></th>\n",
       "      <th>PassengerId</th>\n",
       "      <th>Survived</th>\n",
       "      <th>Pclass</th>\n",
       "      <th>Name</th>\n",
       "      <th>Sex</th>\n",
       "      <th>Age</th>\n",
       "      <th>SibSp</th>\n",
       "      <th>Parch</th>\n",
       "      <th>Ticket</th>\n",
       "      <th>Fare</th>\n",
       "      <th>Cabin</th>\n",
       "      <th>Embarked</th>\n",
       "    </tr>\n",
       "  </thead>\n",
       "  <tbody>\n",
       "    <tr>\n",
       "      <th>0</th>\n",
       "      <td>1</td>\n",
       "      <td>0</td>\n",
       "      <td>3</td>\n",
       "      <td>Braund, Mr. Owen Harris</td>\n",
       "      <td>male</td>\n",
       "      <td>22.0</td>\n",
       "      <td>1</td>\n",
       "      <td>0</td>\n",
       "      <td>A/5 21171</td>\n",
       "      <td>7.2500</td>\n",
       "      <td>NaN</td>\n",
       "      <td>S</td>\n",
       "    </tr>\n",
       "    <tr>\n",
       "      <th>1</th>\n",
       "      <td>2</td>\n",
       "      <td>1</td>\n",
       "      <td>1</td>\n",
       "      <td>Cumings, Mrs. John Bradley (Florence Briggs Th...</td>\n",
       "      <td>female</td>\n",
       "      <td>38.0</td>\n",
       "      <td>1</td>\n",
       "      <td>0</td>\n",
       "      <td>PC 17599</td>\n",
       "      <td>71.2833</td>\n",
       "      <td>C85</td>\n",
       "      <td>C</td>\n",
       "    </tr>\n",
       "    <tr>\n",
       "      <th>2</th>\n",
       "      <td>3</td>\n",
       "      <td>1</td>\n",
       "      <td>3</td>\n",
       "      <td>Heikkinen, Miss. Laina</td>\n",
       "      <td>female</td>\n",
       "      <td>26.0</td>\n",
       "      <td>0</td>\n",
       "      <td>0</td>\n",
       "      <td>STON/O2. 3101282</td>\n",
       "      <td>7.9250</td>\n",
       "      <td>NaN</td>\n",
       "      <td>S</td>\n",
       "    </tr>\n",
       "    <tr>\n",
       "      <th>3</th>\n",
       "      <td>4</td>\n",
       "      <td>1</td>\n",
       "      <td>1</td>\n",
       "      <td>Futrelle, Mrs. Jacques Heath (Lily May Peel)</td>\n",
       "      <td>female</td>\n",
       "      <td>35.0</td>\n",
       "      <td>1</td>\n",
       "      <td>0</td>\n",
       "      <td>113803</td>\n",
       "      <td>53.1000</td>\n",
       "      <td>C123</td>\n",
       "      <td>S</td>\n",
       "    </tr>\n",
       "    <tr>\n",
       "      <th>4</th>\n",
       "      <td>5</td>\n",
       "      <td>0</td>\n",
       "      <td>3</td>\n",
       "      <td>Allen, Mr. William Henry</td>\n",
       "      <td>male</td>\n",
       "      <td>35.0</td>\n",
       "      <td>0</td>\n",
       "      <td>0</td>\n",
       "      <td>373450</td>\n",
       "      <td>8.0500</td>\n",
       "      <td>NaN</td>\n",
       "      <td>S</td>\n",
       "    </tr>\n",
       "    <tr>\n",
       "      <th>5</th>\n",
       "      <td>6</td>\n",
       "      <td>0</td>\n",
       "      <td>3</td>\n",
       "      <td>Moran, Mr. James</td>\n",
       "      <td>male</td>\n",
       "      <td>NaN</td>\n",
       "      <td>0</td>\n",
       "      <td>0</td>\n",
       "      <td>330877</td>\n",
       "      <td>8.4583</td>\n",
       "      <td>NaN</td>\n",
       "      <td>Q</td>\n",
       "    </tr>\n",
       "    <tr>\n",
       "      <th>6</th>\n",
       "      <td>7</td>\n",
       "      <td>0</td>\n",
       "      <td>1</td>\n",
       "      <td>McCarthy, Mr. Timothy J</td>\n",
       "      <td>male</td>\n",
       "      <td>54.0</td>\n",
       "      <td>0</td>\n",
       "      <td>0</td>\n",
       "      <td>17463</td>\n",
       "      <td>51.8625</td>\n",
       "      <td>E46</td>\n",
       "      <td>S</td>\n",
       "    </tr>\n",
       "    <tr>\n",
       "      <th>7</th>\n",
       "      <td>8</td>\n",
       "      <td>0</td>\n",
       "      <td>3</td>\n",
       "      <td>Palsson, Master. Gosta Leonard</td>\n",
       "      <td>male</td>\n",
       "      <td>2.0</td>\n",
       "      <td>3</td>\n",
       "      <td>1</td>\n",
       "      <td>349909</td>\n",
       "      <td>21.0750</td>\n",
       "      <td>NaN</td>\n",
       "      <td>S</td>\n",
       "    </tr>\n",
       "    <tr>\n",
       "      <th>8</th>\n",
       "      <td>9</td>\n",
       "      <td>1</td>\n",
       "      <td>3</td>\n",
       "      <td>Johnson, Mrs. Oscar W (Elisabeth Vilhelmina Berg)</td>\n",
       "      <td>female</td>\n",
       "      <td>27.0</td>\n",
       "      <td>0</td>\n",
       "      <td>2</td>\n",
       "      <td>347742</td>\n",
       "      <td>11.1333</td>\n",
       "      <td>NaN</td>\n",
       "      <td>S</td>\n",
       "    </tr>\n",
       "    <tr>\n",
       "      <th>9</th>\n",
       "      <td>10</td>\n",
       "      <td>1</td>\n",
       "      <td>2</td>\n",
       "      <td>Nasser, Mrs. Nicholas (Adele Achem)</td>\n",
       "      <td>female</td>\n",
       "      <td>14.0</td>\n",
       "      <td>1</td>\n",
       "      <td>0</td>\n",
       "      <td>237736</td>\n",
       "      <td>30.0708</td>\n",
       "      <td>NaN</td>\n",
       "      <td>C</td>\n",
       "    </tr>\n",
       "  </tbody>\n",
       "</table>\n",
       "</div>"
      ],
      "text/plain": [
       "   PassengerId  Survived  Pclass  \\\n",
       "0            1         0       3   \n",
       "1            2         1       1   \n",
       "2            3         1       3   \n",
       "3            4         1       1   \n",
       "4            5         0       3   \n",
       "5            6         0       3   \n",
       "6            7         0       1   \n",
       "7            8         0       3   \n",
       "8            9         1       3   \n",
       "9           10         1       2   \n",
       "\n",
       "                                                Name     Sex   Age  SibSp  \\\n",
       "0                            Braund, Mr. Owen Harris    male  22.0      1   \n",
       "1  Cumings, Mrs. John Bradley (Florence Briggs Th...  female  38.0      1   \n",
       "2                             Heikkinen, Miss. Laina  female  26.0      0   \n",
       "3       Futrelle, Mrs. Jacques Heath (Lily May Peel)  female  35.0      1   \n",
       "4                           Allen, Mr. William Henry    male  35.0      0   \n",
       "5                                   Moran, Mr. James    male   NaN      0   \n",
       "6                            McCarthy, Mr. Timothy J    male  54.0      0   \n",
       "7                     Palsson, Master. Gosta Leonard    male   2.0      3   \n",
       "8  Johnson, Mrs. Oscar W (Elisabeth Vilhelmina Berg)  female  27.0      0   \n",
       "9                Nasser, Mrs. Nicholas (Adele Achem)  female  14.0      1   \n",
       "\n",
       "   Parch            Ticket     Fare Cabin Embarked  \n",
       "0      0         A/5 21171   7.2500   NaN        S  \n",
       "1      0          PC 17599  71.2833   C85        C  \n",
       "2      0  STON/O2. 3101282   7.9250   NaN        S  \n",
       "3      0            113803  53.1000  C123        S  \n",
       "4      0            373450   8.0500   NaN        S  \n",
       "5      0            330877   8.4583   NaN        Q  \n",
       "6      0             17463  51.8625   E46        S  \n",
       "7      1            349909  21.0750   NaN        S  \n",
       "8      2            347742  11.1333   NaN        S  \n",
       "9      0            237736  30.0708   NaN        C  "
      ]
     },
     "execution_count": 100,
     "metadata": {},
     "output_type": "execute_result"
    }
   ],
   "source": [
    "titanic_content[:10]"
   ]
  },
  {
   "cell_type": "code",
   "execution_count": 101,
   "metadata": {},
   "outputs": [],
   "source": [
    "titanic_content=titanic_content.dropna()"
   ]
  },
  {
   "cell_type": "code",
   "execution_count": 102,
   "metadata": {},
   "outputs": [
    {
     "data": {
      "text/html": [
       "<div>\n",
       "<style scoped>\n",
       "    .dataframe tbody tr th:only-of-type {\n",
       "        vertical-align: middle;\n",
       "    }\n",
       "\n",
       "    .dataframe tbody tr th {\n",
       "        vertical-align: top;\n",
       "    }\n",
       "\n",
       "    .dataframe thead th {\n",
       "        text-align: right;\n",
       "    }\n",
       "</style>\n",
       "<table border=\"1\" class=\"dataframe\">\n",
       "  <thead>\n",
       "    <tr style=\"text-align: right;\">\n",
       "      <th></th>\n",
       "      <th>PassengerId</th>\n",
       "      <th>Survived</th>\n",
       "      <th>Pclass</th>\n",
       "      <th>Name</th>\n",
       "      <th>Sex</th>\n",
       "      <th>Age</th>\n",
       "      <th>SibSp</th>\n",
       "      <th>Parch</th>\n",
       "      <th>Ticket</th>\n",
       "      <th>Fare</th>\n",
       "      <th>Cabin</th>\n",
       "      <th>Embarked</th>\n",
       "    </tr>\n",
       "  </thead>\n",
       "  <tbody>\n",
       "    <tr>\n",
       "      <th>1</th>\n",
       "      <td>2</td>\n",
       "      <td>1</td>\n",
       "      <td>1</td>\n",
       "      <td>Cumings, Mrs. John Bradley (Florence Briggs Th...</td>\n",
       "      <td>female</td>\n",
       "      <td>38.0</td>\n",
       "      <td>1</td>\n",
       "      <td>0</td>\n",
       "      <td>PC 17599</td>\n",
       "      <td>71.2833</td>\n",
       "      <td>C85</td>\n",
       "      <td>C</td>\n",
       "    </tr>\n",
       "    <tr>\n",
       "      <th>3</th>\n",
       "      <td>4</td>\n",
       "      <td>1</td>\n",
       "      <td>1</td>\n",
       "      <td>Futrelle, Mrs. Jacques Heath (Lily May Peel)</td>\n",
       "      <td>female</td>\n",
       "      <td>35.0</td>\n",
       "      <td>1</td>\n",
       "      <td>0</td>\n",
       "      <td>113803</td>\n",
       "      <td>53.1000</td>\n",
       "      <td>C123</td>\n",
       "      <td>S</td>\n",
       "    </tr>\n",
       "    <tr>\n",
       "      <th>6</th>\n",
       "      <td>7</td>\n",
       "      <td>0</td>\n",
       "      <td>1</td>\n",
       "      <td>McCarthy, Mr. Timothy J</td>\n",
       "      <td>male</td>\n",
       "      <td>54.0</td>\n",
       "      <td>0</td>\n",
       "      <td>0</td>\n",
       "      <td>17463</td>\n",
       "      <td>51.8625</td>\n",
       "      <td>E46</td>\n",
       "      <td>S</td>\n",
       "    </tr>\n",
       "    <tr>\n",
       "      <th>10</th>\n",
       "      <td>11</td>\n",
       "      <td>1</td>\n",
       "      <td>3</td>\n",
       "      <td>Sandstrom, Miss. Marguerite Rut</td>\n",
       "      <td>female</td>\n",
       "      <td>4.0</td>\n",
       "      <td>1</td>\n",
       "      <td>1</td>\n",
       "      <td>PP 9549</td>\n",
       "      <td>16.7000</td>\n",
       "      <td>G6</td>\n",
       "      <td>S</td>\n",
       "    </tr>\n",
       "    <tr>\n",
       "      <th>11</th>\n",
       "      <td>12</td>\n",
       "      <td>1</td>\n",
       "      <td>1</td>\n",
       "      <td>Bonnell, Miss. Elizabeth</td>\n",
       "      <td>female</td>\n",
       "      <td>58.0</td>\n",
       "      <td>0</td>\n",
       "      <td>0</td>\n",
       "      <td>113783</td>\n",
       "      <td>26.5500</td>\n",
       "      <td>C103</td>\n",
       "      <td>S</td>\n",
       "    </tr>\n",
       "    <tr>\n",
       "      <th>21</th>\n",
       "      <td>22</td>\n",
       "      <td>1</td>\n",
       "      <td>2</td>\n",
       "      <td>Beesley, Mr. Lawrence</td>\n",
       "      <td>male</td>\n",
       "      <td>34.0</td>\n",
       "      <td>0</td>\n",
       "      <td>0</td>\n",
       "      <td>248698</td>\n",
       "      <td>13.0000</td>\n",
       "      <td>D56</td>\n",
       "      <td>S</td>\n",
       "    </tr>\n",
       "    <tr>\n",
       "      <th>23</th>\n",
       "      <td>24</td>\n",
       "      <td>1</td>\n",
       "      <td>1</td>\n",
       "      <td>Sloper, Mr. William Thompson</td>\n",
       "      <td>male</td>\n",
       "      <td>28.0</td>\n",
       "      <td>0</td>\n",
       "      <td>0</td>\n",
       "      <td>113788</td>\n",
       "      <td>35.5000</td>\n",
       "      <td>A6</td>\n",
       "      <td>S</td>\n",
       "    </tr>\n",
       "    <tr>\n",
       "      <th>27</th>\n",
       "      <td>28</td>\n",
       "      <td>0</td>\n",
       "      <td>1</td>\n",
       "      <td>Fortune, Mr. Charles Alexander</td>\n",
       "      <td>male</td>\n",
       "      <td>19.0</td>\n",
       "      <td>3</td>\n",
       "      <td>2</td>\n",
       "      <td>19950</td>\n",
       "      <td>263.0000</td>\n",
       "      <td>C23 C25 C27</td>\n",
       "      <td>S</td>\n",
       "    </tr>\n",
       "    <tr>\n",
       "      <th>52</th>\n",
       "      <td>53</td>\n",
       "      <td>1</td>\n",
       "      <td>1</td>\n",
       "      <td>Harper, Mrs. Henry Sleeper (Myna Haxtun)</td>\n",
       "      <td>female</td>\n",
       "      <td>49.0</td>\n",
       "      <td>1</td>\n",
       "      <td>0</td>\n",
       "      <td>PC 17572</td>\n",
       "      <td>76.7292</td>\n",
       "      <td>D33</td>\n",
       "      <td>C</td>\n",
       "    </tr>\n",
       "    <tr>\n",
       "      <th>54</th>\n",
       "      <td>55</td>\n",
       "      <td>0</td>\n",
       "      <td>1</td>\n",
       "      <td>Ostby, Mr. Engelhart Cornelius</td>\n",
       "      <td>male</td>\n",
       "      <td>65.0</td>\n",
       "      <td>0</td>\n",
       "      <td>1</td>\n",
       "      <td>113509</td>\n",
       "      <td>61.9792</td>\n",
       "      <td>B30</td>\n",
       "      <td>C</td>\n",
       "    </tr>\n",
       "  </tbody>\n",
       "</table>\n",
       "</div>"
      ],
      "text/plain": [
       "    PassengerId  Survived  Pclass  \\\n",
       "1             2         1       1   \n",
       "3             4         1       1   \n",
       "6             7         0       1   \n",
       "10           11         1       3   \n",
       "11           12         1       1   \n",
       "21           22         1       2   \n",
       "23           24         1       1   \n",
       "27           28         0       1   \n",
       "52           53         1       1   \n",
       "54           55         0       1   \n",
       "\n",
       "                                                 Name     Sex   Age  SibSp  \\\n",
       "1   Cumings, Mrs. John Bradley (Florence Briggs Th...  female  38.0      1   \n",
       "3        Futrelle, Mrs. Jacques Heath (Lily May Peel)  female  35.0      1   \n",
       "6                             McCarthy, Mr. Timothy J    male  54.0      0   \n",
       "10                    Sandstrom, Miss. Marguerite Rut  female   4.0      1   \n",
       "11                           Bonnell, Miss. Elizabeth  female  58.0      0   \n",
       "21                              Beesley, Mr. Lawrence    male  34.0      0   \n",
       "23                       Sloper, Mr. William Thompson    male  28.0      0   \n",
       "27                     Fortune, Mr. Charles Alexander    male  19.0      3   \n",
       "52           Harper, Mrs. Henry Sleeper (Myna Haxtun)  female  49.0      1   \n",
       "54                     Ostby, Mr. Engelhart Cornelius    male  65.0      0   \n",
       "\n",
       "    Parch    Ticket      Fare        Cabin Embarked  \n",
       "1       0  PC 17599   71.2833          C85        C  \n",
       "3       0    113803   53.1000         C123        S  \n",
       "6       0     17463   51.8625          E46        S  \n",
       "10      1   PP 9549   16.7000           G6        S  \n",
       "11      0    113783   26.5500         C103        S  \n",
       "21      0    248698   13.0000          D56        S  \n",
       "23      0    113788   35.5000           A6        S  \n",
       "27      2     19950  263.0000  C23 C25 C27        S  \n",
       "52      0  PC 17572   76.7292          D33        C  \n",
       "54      1    113509   61.9792          B30        C  "
      ]
     },
     "execution_count": 102,
     "metadata": {},
     "output_type": "execute_result"
    }
   ],
   "source": [
    "titanic_content[:10]"
   ]
  },
  {
   "cell_type": "code",
   "execution_count": 103,
   "metadata": {},
   "outputs": [],
   "source": [
    "age_with_fare=titanic_content[['Age','Fare']]"
   ]
  },
  {
   "cell_type": "code",
   "execution_count": 104,
   "metadata": {},
   "outputs": [
    {
     "data": {
      "text/plain": [
       "183"
      ]
     },
     "execution_count": 104,
     "metadata": {},
     "output_type": "execute_result"
    }
   ],
   "source": [
    "len(age_with_fare)"
   ]
  },
  {
   "cell_type": "code",
   "execution_count": 105,
   "metadata": {},
   "outputs": [],
   "source": [
    "age_with_fare=age_with_fare[(age_with_fare['Age']>22)&(age_with_fare['Fare']<400)&(age_with_fare['Fare']>130)]"
   ]
  },
  {
   "cell_type": "code",
   "execution_count": 106,
   "metadata": {},
   "outputs": [
    {
     "data": {
      "text/plain": [
       "19"
      ]
     },
     "execution_count": 106,
     "metadata": {},
     "output_type": "execute_result"
    }
   ],
   "source": [
    "len(age_with_fare)"
   ]
  },
  {
   "cell_type": "code",
   "execution_count": 107,
   "metadata": {},
   "outputs": [],
   "source": [
    "age=age_with_fare['Age']"
   ]
  },
  {
   "cell_type": "code",
   "execution_count": 108,
   "metadata": {},
   "outputs": [],
   "source": [
    "fare=age_with_fare['Fare']"
   ]
  },
  {
   "cell_type": "code",
   "execution_count": 109,
   "metadata": {},
   "outputs": [
    {
     "name": "stdout",
     "output_type": "stream",
     "text": [
      "88     23.0\n",
      "118    24.0\n",
      "195    58.0\n",
      "268    58.0\n",
      "269    35.0\n",
      "299    50.0\n",
      "318    31.0\n",
      "319    40.0\n",
      "325    36.0\n",
      "332    38.0\n",
      "337    41.0\n",
      "341    24.0\n",
      "377    27.0\n",
      "438    64.0\n",
      "498    25.0\n",
      "609    40.0\n",
      "716    38.0\n",
      "730    29.0\n",
      "779    43.0\n",
      "Name: Age, dtype: float64 88     263.0000\n",
      "118    247.5208\n",
      "195    146.5208\n",
      "268    153.4625\n",
      "269    135.6333\n",
      "299    247.5208\n",
      "318    164.8667\n",
      "319    134.5000\n",
      "325    135.6333\n",
      "332    153.4625\n",
      "337    134.5000\n",
      "341    263.0000\n",
      "377    211.5000\n",
      "438    263.0000\n",
      "498    151.5500\n",
      "609    153.4625\n",
      "716    227.5250\n",
      "730    211.3375\n",
      "779    211.3375\n",
      "Name: Fare, dtype: float64\n"
     ]
    }
   ],
   "source": [
    "print(age,fare)"
   ]
  },
  {
   "cell_type": "code",
   "execution_count": 110,
   "metadata": {},
   "outputs": [
    {
     "data": {
      "text/plain": [
       "[('新华', 17100),\n",
       " ('华社', 16228),\n",
       " ('20', 15929),\n",
       " ('nn', 14571),\n",
       " ('01', 13403),\n",
       " ('17', 10807),\n",
       " ('中国', 10029),\n",
       " ('n新', 9970),\n",
       " ('外代', 8228),\n",
       " ('7年', 7405)]"
      ]
     },
     "execution_count": 110,
     "metadata": {},
     "output_type": "execute_result"
    }
   ],
   "source": [
    "two_gram_counts.most_common()[:10]"
   ]
  },
  {
   "cell_type": "code",
   "execution_count": 111,
   "metadata": {},
   "outputs": [],
   "source": [
    "get_pair_prob=get_probability_from_counts(two_gram_counts)"
   ]
  },
  {
   "cell_type": "code",
   "execution_count": 112,
   "metadata": {},
   "outputs": [
    {
     "data": {
      "text/plain": [
       "0.002724248665311016"
      ]
     },
     "execution_count": 112,
     "metadata": {},
     "output_type": "execute_result"
    }
   ],
   "source": [
    "get_pair_prob('中国')"
   ]
  },
  {
   "cell_type": "code",
   "execution_count": 113,
   "metadata": {},
   "outputs": [
    {
     "data": {
      "text/plain": [
       "1.30385817065439e-05"
      ]
     },
     "execution_count": 113,
     "metadata": {},
     "output_type": "execute_result"
    }
   ],
   "source": [
    "get_pair_prob('会共')"
   ]
  },
  {
   "cell_type": "code",
   "execution_count": 114,
   "metadata": {},
   "outputs": [],
   "source": [
    "import requests"
   ]
  },
  {
   "cell_type": "code",
   "execution_count": 115,
   "metadata": {},
   "outputs": [],
   "source": [
    "text=requests.get(\"https://movie.douban.com/subject/27605698/\").text"
   ]
  },
  {
   "cell_type": "code",
   "execution_count": 116,
   "metadata": {},
   "outputs": [],
   "source": [
    "hanzhi='-->'.join(re.findall('alt=\"([\\u4E00-\\u9FFF]+)\"', text))"
   ]
  },
  {
   "cell_type": "code",
   "execution_count": 117,
   "metadata": {},
   "outputs": [
    {
     "data": {
      "text/plain": [
       "'西虹市首富-->图片-->图片-->羞羞的铁拳-->夏洛特烦恼-->一出好戏-->超时空同居-->唐伯虎点秋香-->人再囧途之泰囧-->人在囧途-->缝纫机乐队-->心花路放-->早春不过一棵树'"
      ]
     },
     "execution_count": 117,
     "metadata": {},
     "output_type": "execute_result"
    }
   ],
   "source": [
    "hanzhi"
   ]
  },
  {
   "cell_type": "code",
   "execution_count": null,
   "metadata": {},
   "outputs": [],
   "source": []
  },
  {
   "cell_type": "code",
   "execution_count": null,
   "metadata": {},
   "outputs": [],
   "source": []
  }
 ],
 "metadata": {
  "kernelspec": {
   "display_name": "Python 3",
   "language": "python",
   "name": "python3"
  },
  "language_info": {
   "codemirror_mode": {
    "name": "ipython",
    "version": 3
   },
   "file_extension": ".py",
   "mimetype": "text/x-python",
   "name": "python",
   "nbconvert_exporter": "python",
   "pygments_lexer": "ipython3",
   "version": "3.7.0"
  }
 },
 "nbformat": 4,
 "nbformat_minor": 2
}
