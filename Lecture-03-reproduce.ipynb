{
 "cells": [
  {
   "cell_type": "markdown",
   "metadata": {},
   "source": [
    "## Driving Map Navigator"
   ]
  },
  {
   "cell_type": "markdown",
   "metadata": {},
   "source": [
    "在中国大陆 一个人 从任意一个地方出发 我们规划一条比较合理的线路 到另外一个地方"
   ]
  },
  {
   "cell_type": "code",
   "execution_count": 7,
   "metadata": {},
   "outputs": [],
   "source": [
    "# coding = utf-8"
   ]
  },
  {
   "cell_type": "code",
   "execution_count": 312,
   "metadata": {},
   "outputs": [
    {
     "name": "stdout",
     "output_type": "stream",
     "text": [
      "['C:\\\\ML\\\\Anaconda\\\\lib\\\\site-packages\\\\matplotlib']\n"
     ]
    }
   ],
   "source": [
    "import random\n",
    "import networkx\n",
    "import matplotlib.pyplot as plt\n",
    "%matplotlib inline\n",
    "print(plt.matplotlib.__path__)"
   ]
  },
  {
   "cell_type": "code",
   "execution_count": 313,
   "metadata": {},
   "outputs": [],
   "source": [
    "coordination_source = \"\"\"\n",
    "{name:'兰州', geoCoord:[103.73, 36.03]},\n",
    "{name:'嘉峪关', geoCoord:[98.17, 39.47]},\n",
    "{name:'西宁', geoCoord:[101.74, 36.56]},\n",
    "{name:'成都', geoCoord:[104.06, 30.67]},\n",
    "{name:'石家庄', geoCoord:[114.48, 38.03]},\n",
    "{name:'拉萨', geoCoord:[102.73, 25.04]},\n",
    "{name:'贵阳', geoCoord:[106.71, 26.57]},\n",
    "{name:'武汉', geoCoord:[114.31, 30.52]},\n",
    "{name:'郑州', geoCoord:[113.65, 34.76]},\n",
    "{name:'济南', geoCoord:[117, 36.65]},\n",
    "{name:'南京', geoCoord:[118.78, 32.04]},\n",
    "{name:'合肥', geoCoord:[117.27, 31.86]},\n",
    "{name:'杭州', geoCoord:[120.19, 30.26]},\n",
    "{name:'南昌', geoCoord:[115.89, 28.68]},\n",
    "{name:'福州', geoCoord:[119.3, 26.08]},\n",
    "{name:'广州', geoCoord:[113.23, 23.16]},\n",
    "{name:'长沙', geoCoord:[113, 28.21]},\n",
    "//{name:'海口', geoCoord:[110.35, 20.02]},\n",
    "{name:'沈阳', geoCoord:[123.38, 41.8]},\n",
    "{name:'长春', geoCoord:[125.35, 43.88]},\n",
    "{name:'哈尔滨', geoCoord:[126.63, 45.75]},\n",
    "{name:'太原', geoCoord:[112.53, 37.87]},\n",
    "{name:'西安', geoCoord:[108.95, 34.27]},\n",
    "//{name:'台湾', geoCoord:[121.30, 25.03]},\n",
    "{name:'北京', geoCoord:[116.46, 39.92]},\n",
    "{name:'上海', geoCoord:[121.48, 31.22]},\n",
    "{name:'重庆', geoCoord:[106.54, 29.59]},\n",
    "{name:'天津', geoCoord:[117.2, 39.13]},\n",
    "{name:'呼和浩特', geoCoord:[111.65, 40.82]},\n",
    "{name:'南宁', geoCoord:[108.33, 22.84]},\n",
    "//{name:'西藏', geoCoord:[91.11, 29.97]},\n",
    "{name:'银川', geoCoord:[106.27, 38.47]},\n",
    "{name:'乌鲁木齐', geoCoord:[87.68, 43.77]},\n",
    "{name:'香港', geoCoord:[114.17, 22.28]},\n",
    "{name:'澳门', geoCoord:[113.54, 22.19]}\n",
    "\"\"\""
   ]
  },
  {
   "cell_type": "code",
   "execution_count": 314,
   "metadata": {},
   "outputs": [],
   "source": [
    "import re"
   ]
  },
  {
   "cell_type": "code",
   "execution_count": 315,
   "metadata": {},
   "outputs": [
    {
     "name": "stdout",
     "output_type": "stream",
     "text": [
      "{'兰州': (103.73, 36.03), '嘉峪关': (98.17, 39.47), '西宁': (101.74, 36.56), '成都': (104.06, 30.67), '石家庄': (114.48, 38.03), '拉萨': (102.73, 25.04), '贵阳': (106.71, 26.57), '武汉': (114.31, 30.52), '郑州': (113.65, 34.76), '济南': (117.0, 36.65), '南京': (118.78, 32.04), '合肥': (117.27, 31.86), '杭州': (120.19, 30.26), '南昌': (115.89, 28.68), '福州': (119.3, 26.08), '广州': (113.23, 23.16), '长沙': (113.0, 28.21), '沈阳': (123.38, 41.8), '长春': (125.35, 43.88), '哈尔滨': (126.63, 45.75), '太原': (112.53, 37.87), '西安': (108.95, 34.27), '北京': (116.46, 39.92), '上海': (121.48, 31.22), '重庆': (106.54, 29.59), '天津': (117.2, 39.13), '呼和浩特': (111.65, 40.82), '南宁': (108.33, 22.84), '银川': (106.27, 38.47), '乌鲁木齐': (87.68, 43.77), '香港': (114.17, 22.28), '澳门': (113.54, 22.19)}\n"
     ]
    }
   ],
   "source": [
    "city_info={}\n",
    "for line in coordination_source.split('\\n'):\n",
    "    if not line.strip() or line.startswith(\"//\"): continue\n",
    "        \n",
    "    city=re.findall(\"name:'(\\w+)'\",line)\n",
    "    x_y=re.findall(\"Coord:\\[(\\d+.\\d+),\\s(\\d+.\\d+)\",line)[0]\n",
    "    x_y=tuple(map(float,x_y))\n",
    "    city_info[city[0]]=x_y\n",
    "    #print('\\t',city)\n",
    "    #print('\\t',x_y)\n",
    "\n",
    "print(city_info)"
   ]
  },
  {
   "cell_type": "code",
   "execution_count": 316,
   "metadata": {},
   "outputs": [
    {
     "data": {
      "text/plain": [
       "{'兰州': (103.73, 36.03),\n",
       " '嘉峪关': (98.17, 39.47),\n",
       " '西宁': (101.74, 36.56),\n",
       " '成都': (104.06, 30.67),\n",
       " '石家庄': (114.48, 38.03),\n",
       " '拉萨': (102.73, 25.04),\n",
       " '贵阳': (106.71, 26.57),\n",
       " '武汉': (114.31, 30.52),\n",
       " '郑州': (113.65, 34.76),\n",
       " '济南': (117.0, 36.65),\n",
       " '南京': (118.78, 32.04),\n",
       " '合肥': (117.27, 31.86),\n",
       " '杭州': (120.19, 30.26),\n",
       " '南昌': (115.89, 28.68),\n",
       " '福州': (119.3, 26.08),\n",
       " '广州': (113.23, 23.16),\n",
       " '长沙': (113.0, 28.21),\n",
       " '沈阳': (123.38, 41.8),\n",
       " '长春': (125.35, 43.88),\n",
       " '哈尔滨': (126.63, 45.75),\n",
       " '太原': (112.53, 37.87),\n",
       " '西安': (108.95, 34.27),\n",
       " '北京': (116.46, 39.92),\n",
       " '上海': (121.48, 31.22),\n",
       " '重庆': (106.54, 29.59),\n",
       " '天津': (117.2, 39.13),\n",
       " '呼和浩特': (111.65, 40.82),\n",
       " '南宁': (108.33, 22.84),\n",
       " '银川': (106.27, 38.47),\n",
       " '乌鲁木齐': (87.68, 43.77),\n",
       " '香港': (114.17, 22.28),\n",
       " '澳门': (113.54, 22.19)}"
      ]
     },
     "execution_count": 316,
     "metadata": {},
     "output_type": "execute_result"
    }
   ],
   "source": [
    "city_info"
   ]
  },
  {
   "cell_type": "code",
   "execution_count": 317,
   "metadata": {},
   "outputs": [],
   "source": [
    "import math\n",
    "def geo_distance(origin, dest):\n",
    "    \"\"\"\n",
    "    Calculate the Haversine distance.\n",
    "    \"\"\"\n",
    "    lat1,lon1=origin\n",
    "    lat2,lon2=dest\n",
    "    radius=6371 # radius of earth km\n",
    "    dlat=math.radians(lat2-lat1)\n",
    "    dlon=math.radians(lon2-lon1)\n",
    "    \n",
    "    a=(math.sin(dlat/2)*math.sin(dlat/2)+\n",
    "      math.cos(math.radians(lat1))*math.cos(math.radians(lat2))*\n",
    "      math.sin(dlon/2)*math.sin(dlon/2))\n",
    "    c=2*math.atan2(math.sqrt(a),math.sqrt(1-a))\n",
    "    d=radius*c\n",
    "    return d"
   ]
  },
  {
   "cell_type": "code",
   "execution_count": 318,
   "metadata": {},
   "outputs": [],
   "source": [
    "def get_city_dist(city1,city2):\n",
    "    return geo_distance(city_info[city1],city_info[city2])"
   ]
  },
  {
   "cell_type": "code",
   "execution_count": 319,
   "metadata": {},
   "outputs": [
    {
     "data": {
      "text/plain": [
       "507.1822625862953"
      ]
     },
     "execution_count": 319,
     "metadata": {},
     "output_type": "execute_result"
    }
   ],
   "source": [
    "get_city_dist(\"北京\",\"武汉\")"
   ]
  },
  {
   "cell_type": "code",
   "execution_count": 320,
   "metadata": {},
   "outputs": [
    {
     "data": {
      "text/plain": [
       "153.5185697155768"
      ]
     },
     "execution_count": 320,
     "metadata": {},
     "output_type": "execute_result"
    }
   ],
   "source": [
    "get_city_dist(\"杭州\",\"上海\")"
   ]
  },
  {
   "cell_type": "code",
   "execution_count": 321,
   "metadata": {},
   "outputs": [],
   "source": [
    "# coding = utf-8\n",
    "from matplotlib.font_manager import FontProperties  \n",
    "font_song = FontProperties(fname=r\"C:\\\\Windows\\\\Fonts\\\\simkai.ttf\", size=10)\n",
    "import networkx as nx"
   ]
  },
  {
   "cell_type": "code",
   "execution_count": 322,
   "metadata": {},
   "outputs": [
    {
     "data": {
      "text/plain": [
       "['兰州',\n",
       " '嘉峪关',\n",
       " '西宁',\n",
       " '成都',\n",
       " '石家庄',\n",
       " '拉萨',\n",
       " '贵阳',\n",
       " '武汉',\n",
       " '郑州',\n",
       " '济南',\n",
       " '南京',\n",
       " '合肥',\n",
       " '杭州',\n",
       " '南昌',\n",
       " '福州',\n",
       " '广州',\n",
       " '长沙',\n",
       " '沈阳',\n",
       " '长春',\n",
       " '哈尔滨',\n",
       " '太原',\n",
       " '西安',\n",
       " '北京',\n",
       " '上海',\n",
       " '重庆',\n",
       " '天津',\n",
       " '呼和浩特',\n",
       " '南宁',\n",
       " '银川',\n",
       " '乌鲁木齐',\n",
       " '香港',\n",
       " '澳门']"
      ]
     },
     "execution_count": 322,
     "metadata": {},
     "output_type": "execute_result"
    }
   ],
   "source": [
    "cities=[]\n",
    "for i in city_info:\n",
    "    cities.append(i)\n",
    "\n",
    "cities"
   ]
  },
  {
   "cell_type": "markdown",
   "metadata": {},
   "source": [
    "## 解决画图中文显示问题\n",
    "### (具体原因还不明，总之可行)\n",
    "plt.rcParams['font.sans-serif'] = ['SimHei']\n",
    "plt.rcParams['axes.unicode_minus'] = False"
   ]
  },
  {
   "cell_type": "code",
   "execution_count": 323,
   "metadata": {},
   "outputs": [],
   "source": [
    "city_graph=nx.Graph()\n",
    "city_graph.add_nodes_from(cities)\n",
    "plt.rcParams['font.sans-serif'] = ['SimHei']\n",
    "plt.rcParams['axes.unicode_minus'] = False"
   ]
  },
  {
   "cell_type": "code",
   "execution_count": 324,
   "metadata": {},
   "outputs": [
    {
     "data": {
      "image/png": "[encoded data removed]",
      "text/plain": [
       "<Figure size 432x288 with 1 Axes>"
      ]
     },
     "metadata": {},
     "output_type": "display_data"
    }
   ],
   "source": [
    "nx.draw(city_graph,node_size=20,with_labels=True,font_color='b')"
   ]
  },
  {
   "cell_type": "code",
   "execution_count": 325,
   "metadata": {},
   "outputs": [
    {
     "data": {
      "text/plain": [
       "32"
      ]
     },
     "execution_count": 325,
     "metadata": {},
     "output_type": "execute_result"
    }
   ],
   "source": [
    "len(cities)"
   ]
  },
  {
   "cell_type": "code",
   "execution_count": 326,
   "metadata": {},
   "outputs": [
    {
     "data": {
      "image/png": "[encoded data removed]",
      "text/plain": [
       "<Figure size 432x288 with 1 Axes>"
      ]
     },
     "metadata": {},
     "output_type": "display_data"
    }
   ],
   "source": [
    "nx.draw(city_graph,city_info,with_labels=True,node_size=10,font_color='g',font_size=15)"
   ]
  },
  {
   "cell_type": "code",
   "execution_count": 327,
   "metadata": {},
   "outputs": [
    {
     "data": {
      "text/plain": [
       "1165.8679943488457"
      ]
     },
     "execution_count": 327,
     "metadata": {},
     "output_type": "execute_result"
    }
   ],
   "source": [
    "get_city_dist(\"乌鲁木齐\",\"嘉峪关\")"
   ]
  },
  {
   "cell_type": "code",
   "execution_count": 328,
   "metadata": {},
   "outputs": [
    {
     "data": {
      "text/plain": [
       "776.4154006857316"
      ]
     },
     "execution_count": 328,
     "metadata": {},
     "output_type": "execute_result"
    }
   ],
   "source": [
    "get_city_dist('沈阳','北京')"
   ]
  },
  {
   "cell_type": "code",
   "execution_count": 329,
   "metadata": {},
   "outputs": [],
   "source": [
    "from collections import defaultdict\n",
    "\n",
    "#threhold=300\n",
    "threhold=700\n",
    "\n",
    "cities_connect=defaultdict(list)\n",
    "for c1 in cities:\n",
    "    for c2 in cities:\n",
    "        if c1==c2: continue\n",
    "        if get_city_dist(c1,c2)<threhold:\n",
    "            cities_connect[c1].append(c2)"
   ]
  },
  {
   "cell_type": "code",
   "execution_count": 330,
   "metadata": {},
   "outputs": [
    {
     "data": {
      "text/plain": [
       "defaultdict(list,\n",
       "            {'兰州': ['嘉峪关', '西宁', '成都', '拉萨', '贵阳', '西安', '重庆', '南宁', '银川'],\n",
       "             '嘉峪关': ['兰州', '西宁', '成都', '拉萨'],\n",
       "             '西宁': ['兰州', '嘉峪关', '成都', '拉萨', '贵阳', '重庆', '银川'],\n",
       "             '成都': ['兰州', '嘉峪关', '西宁', '拉萨', '贵阳', '西安', '重庆', '南宁', '银川'],\n",
       "             '石家庄': ['武汉',\n",
       "              '郑州',\n",
       "              '济南',\n",
       "              '南京',\n",
       "              '合肥',\n",
       "              '南昌',\n",
       "              '广州',\n",
       "              '长沙',\n",
       "              '太原',\n",
       "              '西安',\n",
       "              '北京',\n",
       "              '天津',\n",
       "              '呼和浩特'],\n",
       "             '拉萨': ['兰州', '嘉峪关', '西宁', '成都', '贵阳', '重庆', '南宁', '银川'],\n",
       "             '贵阳': ['兰州', '西宁', '成都', '拉萨', '西安', '重庆', '南宁', '银川'],\n",
       "             '武汉': ['石家庄',\n",
       "              '郑州',\n",
       "              '济南',\n",
       "              '南京',\n",
       "              '合肥',\n",
       "              '杭州',\n",
       "              '南昌',\n",
       "              '福州',\n",
       "              '广州',\n",
       "              '长沙',\n",
       "              '太原',\n",
       "              '西安',\n",
       "              '北京',\n",
       "              '天津',\n",
       "              '呼和浩特',\n",
       "              '香港',\n",
       "              '澳门'],\n",
       "             '郑州': ['石家庄',\n",
       "              '武汉',\n",
       "              '济南',\n",
       "              '南京',\n",
       "              '合肥',\n",
       "              '南昌',\n",
       "              '广州',\n",
       "              '长沙',\n",
       "              '太原',\n",
       "              '西安',\n",
       "              '北京',\n",
       "              '天津',\n",
       "              '呼和浩特',\n",
       "              '香港',\n",
       "              '澳门'],\n",
       "             '济南': ['石家庄',\n",
       "              '武汉',\n",
       "              '郑州',\n",
       "              '南京',\n",
       "              '合肥',\n",
       "              '杭州',\n",
       "              '南昌',\n",
       "              '福州',\n",
       "              '长沙',\n",
       "              '太原',\n",
       "              '北京',\n",
       "              '上海',\n",
       "              '天津',\n",
       "              '呼和浩特'],\n",
       "             '南京': ['石家庄',\n",
       "              '武汉',\n",
       "              '郑州',\n",
       "              '济南',\n",
       "              '合肥',\n",
       "              '杭州',\n",
       "              '南昌',\n",
       "              '福州',\n",
       "              '长沙',\n",
       "              '北京',\n",
       "              '上海',\n",
       "              '天津'],\n",
       "             '合肥': ['石家庄',\n",
       "              '武汉',\n",
       "              '郑州',\n",
       "              '济南',\n",
       "              '南京',\n",
       "              '杭州',\n",
       "              '南昌',\n",
       "              '福州',\n",
       "              '广州',\n",
       "              '长沙',\n",
       "              '太原',\n",
       "              '北京',\n",
       "              '上海',\n",
       "              '天津',\n",
       "              '香港',\n",
       "              '澳门'],\n",
       "             '杭州': ['武汉', '济南', '南京', '合肥', '南昌', '福州', '北京', '上海', '天津'],\n",
       "             '南昌': ['石家庄',\n",
       "              '武汉',\n",
       "              '郑州',\n",
       "              '济南',\n",
       "              '南京',\n",
       "              '合肥',\n",
       "              '杭州',\n",
       "              '福州',\n",
       "              '广州',\n",
       "              '长沙',\n",
       "              '太原',\n",
       "              '北京',\n",
       "              '上海',\n",
       "              '天津',\n",
       "              '香港',\n",
       "              '澳门'],\n",
       "             '福州': ['武汉',\n",
       "              '济南',\n",
       "              '南京',\n",
       "              '合肥',\n",
       "              '杭州',\n",
       "              '南昌',\n",
       "              '广州',\n",
       "              '上海',\n",
       "              '香港',\n",
       "              '澳门'],\n",
       "             '广州': ['石家庄',\n",
       "              '武汉',\n",
       "              '郑州',\n",
       "              '合肥',\n",
       "              '南昌',\n",
       "              '福州',\n",
       "              '长沙',\n",
       "              '太原',\n",
       "              '西安',\n",
       "              '南宁',\n",
       "              '香港',\n",
       "              '澳门'],\n",
       "             '长沙': ['石家庄',\n",
       "              '武汉',\n",
       "              '郑州',\n",
       "              '济南',\n",
       "              '南京',\n",
       "              '合肥',\n",
       "              '南昌',\n",
       "              '广州',\n",
       "              '太原',\n",
       "              '西安',\n",
       "              '北京',\n",
       "              '天津',\n",
       "              '呼和浩特',\n",
       "              '南宁',\n",
       "              '香港',\n",
       "              '澳门'],\n",
       "             '沈阳': ['长春', '哈尔滨', '上海'],\n",
       "             '长春': ['沈阳', '哈尔滨'],\n",
       "             '哈尔滨': ['沈阳', '长春'],\n",
       "             '太原': ['石家庄',\n",
       "              '武汉',\n",
       "              '郑州',\n",
       "              '济南',\n",
       "              '合肥',\n",
       "              '南昌',\n",
       "              '广州',\n",
       "              '长沙',\n",
       "              '西安',\n",
       "              '北京',\n",
       "              '天津',\n",
       "              '呼和浩特',\n",
       "              '银川',\n",
       "              '澳门'],\n",
       "             '西安': ['兰州',\n",
       "              '成都',\n",
       "              '石家庄',\n",
       "              '贵阳',\n",
       "              '武汉',\n",
       "              '郑州',\n",
       "              '广州',\n",
       "              '长沙',\n",
       "              '太原',\n",
       "              '重庆',\n",
       "              '呼和浩特',\n",
       "              '南宁',\n",
       "              '银川'],\n",
       "             '北京': ['石家庄',\n",
       "              '武汉',\n",
       "              '郑州',\n",
       "              '济南',\n",
       "              '南京',\n",
       "              '合肥',\n",
       "              '杭州',\n",
       "              '南昌',\n",
       "              '长沙',\n",
       "              '太原',\n",
       "              '天津',\n",
       "              '呼和浩特'],\n",
       "             '上海': ['济南', '南京', '合肥', '杭州', '南昌', '福州', '沈阳', '天津'],\n",
       "             '重庆': ['兰州', '西宁', '成都', '拉萨', '贵阳', '西安', '呼和浩特', '南宁', '银川'],\n",
       "             '天津': ['石家庄',\n",
       "              '武汉',\n",
       "              '郑州',\n",
       "              '济南',\n",
       "              '南京',\n",
       "              '合肥',\n",
       "              '杭州',\n",
       "              '南昌',\n",
       "              '长沙',\n",
       "              '太原',\n",
       "              '北京',\n",
       "              '上海',\n",
       "              '呼和浩特'],\n",
       "             '呼和浩特': ['石家庄',\n",
       "              '武汉',\n",
       "              '郑州',\n",
       "              '济南',\n",
       "              '长沙',\n",
       "              '太原',\n",
       "              '西安',\n",
       "              '北京',\n",
       "              '重庆',\n",
       "              '天津',\n",
       "              '银川'],\n",
       "             '南宁': ['兰州',\n",
       "              '成都',\n",
       "              '拉萨',\n",
       "              '贵阳',\n",
       "              '广州',\n",
       "              '长沙',\n",
       "              '西安',\n",
       "              '重庆',\n",
       "              '银川',\n",
       "              '香港',\n",
       "              '澳门'],\n",
       "             '银川': ['兰州',\n",
       "              '西宁',\n",
       "              '成都',\n",
       "              '拉萨',\n",
       "              '贵阳',\n",
       "              '太原',\n",
       "              '西安',\n",
       "              '重庆',\n",
       "              '呼和浩特',\n",
       "              '南宁'],\n",
       "             '香港': ['武汉', '郑州', '合肥', '南昌', '福州', '广州', '长沙', '南宁', '澳门'],\n",
       "             '澳门': ['武汉',\n",
       "              '郑州',\n",
       "              '合肥',\n",
       "              '南昌',\n",
       "              '福州',\n",
       "              '广州',\n",
       "              '长沙',\n",
       "              '太原',\n",
       "              '南宁',\n",
       "              '香港']})"
      ]
     },
     "execution_count": 330,
     "metadata": {},
     "output_type": "execute_result"
    }
   ],
   "source": [
    "cities_connect"
   ]
  },
  {
   "cell_type": "code",
   "execution_count": 331,
   "metadata": {},
   "outputs": [
    {
     "data": {
      "image/png": "[encoded data removed]",
      "text/plain": [
       "<Figure size 432x288 with 1 Axes>"
      ]
     },
     "metadata": {},
     "output_type": "display_data"
    }
   ],
   "source": [
    "cities_connect_graph=nx.Graph(cities_connect)\n",
    "nx.draw(cities_connect_graph,city_info,with_labels=True,node_size=2,font_color='b')"
   ]
  },
  {
   "cell_type": "code",
   "execution_count": 332,
   "metadata": {},
   "outputs": [
    {
     "data": {
      "text/plain": [
       "776.4154006857316"
      ]
     },
     "execution_count": 332,
     "metadata": {},
     "output_type": "execute_result"
    }
   ],
   "source": [
    "get_city_dist(\"北京\",\"沈阳\")"
   ]
  },
  {
   "cell_type": "code",
   "execution_count": 333,
   "metadata": {},
   "outputs": [],
   "source": [
    "def get_successors(front,graph):\n",
    "    ###you can cut of some elements for customize, means puring leaf\n",
    "    return graph[front]"
   ]
  },
  {
   "cell_type": "code",
   "execution_count": 334,
   "metadata": {},
   "outputs": [
    {
     "data": {
      "text/plain": [
       "AtlasView({'石家庄': {}, '武汉': {}, '郑州': {}, '济南': {}, '南京': {}, '合肥': {}, '杭州': {}, '南昌': {}, '长沙': {}, '太原': {}, '天津': {}, '呼和浩特': {}})"
      ]
     },
     "execution_count": 334,
     "metadata": {},
     "output_type": "execute_result"
    }
   ],
   "source": [
    "get_successors(\"北京\",cities_connect_graph)"
   ]
  },
  {
   "cell_type": "code",
   "execution_count": 335,
   "metadata": {},
   "outputs": [],
   "source": [
    "def is_goal(predict):\n",
    "    def _predict(cond1,cond2):\n",
    "        return predict(cond1,cond2)\n",
    "    return _predict"
   ]
  },
  {
   "cell_type": "code",
   "execution_count": 336,
   "metadata": {},
   "outputs": [],
   "source": [
    "def predicted(node, dest):\n",
    "    return node == dest"
   ]
  },
  {
   "cell_type": "code",
   "execution_count": 337,
   "metadata": {},
   "outputs": [
    {
     "data": {
      "text/plain": [
       "True"
      ]
     },
     "execution_count": 337,
     "metadata": {},
     "output_type": "execute_result"
    }
   ],
   "source": [
    "test=is_goal(predicted)\n",
    "test('A','A')"
   ]
  },
  {
   "cell_type": "code",
   "execution_count": 338,
   "metadata": {},
   "outputs": [
    {
     "data": {
      "text/plain": [
       "False"
      ]
     },
     "execution_count": 338,
     "metadata": {},
     "output_type": "execute_result"
    }
   ],
   "source": [
    "test('A','B')"
   ]
  },
  {
   "cell_type": "code",
   "execution_count": 339,
   "metadata": {},
   "outputs": [
    {
     "data": {
      "text/plain": [
       "False"
      ]
     },
     "execution_count": 339,
     "metadata": {},
     "output_type": "execute_result"
    }
   ],
   "source": [
    "is_goal(predicted)('A','B')"
   ]
  },
  {
   "cell_type": "code",
   "execution_count": 340,
   "metadata": {},
   "outputs": [
    {
     "data": {
      "text/plain": [
       "True"
      ]
     },
     "execution_count": 340,
     "metadata": {},
     "output_type": "execute_result"
    }
   ],
   "source": [
    "is_goal(predicted)('A','A')"
   ]
  },
  {
   "cell_type": "code",
   "execution_count": 341,
   "metadata": {},
   "outputs": [],
   "source": [
    "def search_dest(graph, start, dest, get_successors, is_goal_predict, stratety_func):\n",
    "    pathes=[[start]]\n",
    "    seen=set()\n",
    "    found_pathes=[]\n",
    "    \n",
    "    steps_cost=0\n",
    "    while pathes:\n",
    "        path=pathes.pop(0)\n",
    "        front=path[-1]\n",
    "        if front in seen:continue\n",
    "        ### recorde steps for stragety evaluate \n",
    "        steps_cost+=1\n",
    "        \n",
    "        for city in get_successors(front, graph):\n",
    "            if city in path: continue\n",
    "            new_path=path+[city]\n",
    "            \n",
    "            ###for specific, some nodes may could be ignored base on stratgey\n",
    "            pathes.append(new_path)\n",
    "            \n",
    "            steps_cost+=1\n",
    "            if is_goal_predict(city,dest):\n",
    "                #found_pathes.append(new_path)\n",
    "                print(\"{} steps cost for finding dest\".format(steps_cost))\n",
    "                return new_path\n",
    "        pathes=stratety_func(pathes)\n",
    "        seen.add(front)\n",
    "    return found_pathes"
   ]
  },
  {
   "cell_type": "code",
   "execution_count": 342,
   "metadata": {},
   "outputs": [],
   "source": [
    "pathes = [['杭州', '济南'], ['杭州', '南京'], ['杭州', '合肥'], ['杭州', '南昌'], ['杭州', '福州'], ['杭州', '北京'], ['杭州', '上海'], ['杭州', '天津']]"
   ]
  },
  {
   "cell_type": "code",
   "execution_count": 343,
   "metadata": {},
   "outputs": [
    {
     "name": "stdout",
     "output_type": "stream",
     "text": [
      "490.9647966194679\n",
      "184.57074268172903\n",
      "335.7362651542952\n",
      "485.17998762113706\n",
      "250.88470484756093\n",
      "655.9367799584198\n",
      "153.5185697155768\n",
      "577.8413626643784\n"
     ]
    }
   ],
   "source": [
    "for i in pathes:\n",
    "    print(get_city_dist(i[0],i[1]))"
   ]
  },
  {
   "cell_type": "code",
   "execution_count": 344,
   "metadata": {},
   "outputs": [],
   "source": [
    "def sort_pathes(pathes, func, beam):\n",
    "    return sorted(pathes,key=func)[:beam]"
   ]
  },
  {
   "cell_type": "code",
   "execution_count": 345,
   "metadata": {},
   "outputs": [],
   "source": [
    "def get_path_dist(path):\n",
    "    distance=0\n",
    "    if len(path)>1:\n",
    "        for i in range(len(path)-1):\n",
    "            distance+=get_city_dist(path[i],path[i+1])\n",
    "    return distance\n",
    "    "
   ]
  },
  {
   "cell_type": "code",
   "execution_count": 346,
   "metadata": {},
   "outputs": [],
   "source": [
    "def comprehensive_sort(pathes):\n",
    "    return sort_pathes(pathes,lambda p:(len(p)+get_path_dist(p)),beam=30)"
   ]
  },
  {
   "cell_type": "code",
   "execution_count": 347,
   "metadata": {},
   "outputs": [
    {
     "data": {
      "text/plain": [
       "[['杭州', '上海'],\n",
       " ['杭州', '南京'],\n",
       " ['杭州', '福州'],\n",
       " ['杭州', '合肥'],\n",
       " ['杭州', '南昌'],\n",
       " ['杭州', '济南'],\n",
       " ['杭州', '天津'],\n",
       " ['杭州', '北京']]"
      ]
     },
     "execution_count": 347,
     "metadata": {},
     "output_type": "execute_result"
    }
   ],
   "source": [
    "comprehensive_sort(pathes)"
   ]
  },
  {
   "cell_type": "code",
   "execution_count": 348,
   "metadata": {},
   "outputs": [
    {
     "data": {
      "text/plain": [
       "[['杭州', '北京']]"
      ]
     },
     "execution_count": 348,
     "metadata": {},
     "output_type": "execute_result"
    }
   ],
   "source": [
    "\n",
    "sorted(pathes, key=lambda p:get_path_dist(p),reverse=1)[:1]"
   ]
  },
  {
   "cell_type": "code",
   "execution_count": 349,
   "metadata": {},
   "outputs": [
    {
     "data": {
      "text/plain": [
       "1069.43116321627"
      ]
     },
     "execution_count": 349,
     "metadata": {},
     "output_type": "execute_result"
    }
   ],
   "source": [
    "get_path_dist(['杭州', '济南', \"上海\"])"
   ]
  },
  {
   "cell_type": "code",
   "execution_count": 350,
   "metadata": {},
   "outputs": [
    {
     "data": {
      "text/plain": [
       "490.9647966194679"
      ]
     },
     "execution_count": 350,
     "metadata": {},
     "output_type": "execute_result"
    }
   ],
   "source": [
    "get_city_dist(\"杭州\",\"济南\")"
   ]
  },
  {
   "cell_type": "code",
   "execution_count": 351,
   "metadata": {},
   "outputs": [
    {
     "data": {
      "text/plain": [
       "578.4663665968022"
      ]
     },
     "execution_count": 351,
     "metadata": {},
     "output_type": "execute_result"
    }
   ],
   "source": [
    "\n",
    "get_city_dist(\"济南\", \"上海\")"
   ]
  },
  {
   "cell_type": "code",
   "execution_count": 352,
   "metadata": {},
   "outputs": [
    {
     "data": {
      "text/plain": [
       "1069.43116321627"
      ]
     },
     "execution_count": 352,
     "metadata": {},
     "output_type": "execute_result"
    }
   ],
   "source": [
    "490.9647966194679+578.4663665968022"
   ]
  },
  {
   "cell_type": "code",
   "execution_count": 353,
   "metadata": {},
   "outputs": [],
   "source": [
    "def mini_change_station(pathes):\n",
    "    return sort_pathes(pathes,lambda p:len(p),beam=-1)"
   ]
  },
  {
   "cell_type": "code",
   "execution_count": 354,
   "metadata": {},
   "outputs": [
    {
     "data": {
      "text/plain": [
       "[['杭州', '济南'],\n",
       " ['杭州', '南京'],\n",
       " ['杭州', '合肥'],\n",
       " ['杭州', '南昌'],\n",
       " ['杭州', '福州'],\n",
       " ['杭州', '北京'],\n",
       " ['杭州', '上海']]"
      ]
     },
     "execution_count": 354,
     "metadata": {},
     "output_type": "execute_result"
    }
   ],
   "source": [
    "mini_change_station(pathes)"
   ]
  },
  {
   "cell_type": "code",
   "execution_count": 355,
   "metadata": {},
   "outputs": [],
   "source": [
    "\n",
    "def min_dist(pathes):\n",
    "    return sort_pathes(pathes,lambda p:get_path_dist(p),beam=-1)"
   ]
  },
  {
   "cell_type": "code",
   "execution_count": 356,
   "metadata": {},
   "outputs": [
    {
     "data": {
      "text/plain": [
       "[['杭州', '上海'],\n",
       " ['杭州', '南京'],\n",
       " ['杭州', '福州'],\n",
       " ['杭州', '合肥'],\n",
       " ['杭州', '南昌'],\n",
       " ['杭州', '济南'],\n",
       " ['杭州', '天津'],\n",
       " ['杭州', '北京']]"
      ]
     },
     "execution_count": 356,
     "metadata": {},
     "output_type": "execute_result"
    }
   ],
   "source": [
    "sort_pathes(pathes, lambda p: get_path_dist(p), 10)"
   ]
  },
  {
   "cell_type": "code",
   "execution_count": 357,
   "metadata": {},
   "outputs": [],
   "source": [
    "def most_view(pathes):\n",
    "    return sort_pathes(pathes,lambda p:-len(p),2)"
   ]
  },
  {
   "cell_type": "code",
   "execution_count": 358,
   "metadata": {},
   "outputs": [
    {
     "name": "stdout",
     "output_type": "stream",
     "text": [
      "43 steps cost for finding dest\n"
     ]
    },
    {
     "data": {
      "text/plain": [
       "['广州', '长沙', '北京']"
      ]
     },
     "execution_count": 358,
     "metadata": {},
     "output_type": "execute_result"
    }
   ],
   "source": [
    "search_dest(cities_connect_graph,\"广州\",\"北京\",get_successors,is_goal(predicted),comprehensive_sort)"
   ]
  },
  {
   "cell_type": "code",
   "execution_count": 359,
   "metadata": {},
   "outputs": [
    {
     "name": "stdout",
     "output_type": "stream",
     "text": [
      "24 steps cost for finding dest\n"
     ]
    },
    {
     "data": {
      "text/plain": [
       "['广州', '石家庄', '北京']"
      ]
     },
     "execution_count": 359,
     "metadata": {},
     "output_type": "execute_result"
    }
   ],
   "source": [
    "search_dest(cities_connect_graph,\"广州\",\"北京\",get_successors,is_goal(predicted),most_view)"
   ]
  },
  {
   "cell_type": "code",
   "execution_count": 360,
   "metadata": {},
   "outputs": [
    {
     "name": "stdout",
     "output_type": "stream",
     "text": [
      "254 steps cost for finding dest\n"
     ]
    },
    {
     "data": {
      "text/plain": [
       "['广州', '西安', '兰州', '嘉峪关']"
      ]
     },
     "execution_count": 360,
     "metadata": {},
     "output_type": "execute_result"
    }
   ],
   "source": [
    "search_dest(cities_connect_graph,\"广州\",\"嘉峪关\",get_successors,is_goal(predicted),mini_change_station)"
   ]
  },
  {
   "cell_type": "code",
   "execution_count": 361,
   "metadata": {},
   "outputs": [
    {
     "name": "stdout",
     "output_type": "stream",
     "text": [
      "24 steps cost for finding dest\n"
     ]
    },
    {
     "data": {
      "text/plain": [
       "['广州', '石家庄', '北京']"
      ]
     },
     "execution_count": 361,
     "metadata": {},
     "output_type": "execute_result"
    }
   ],
   "source": [
    "search_dest(cities_connect_graph,\"广州\",\"北京\",get_successors,is_goal(predicted),most_view)"
   ]
  },
  {
   "cell_type": "code",
   "execution_count": 362,
   "metadata": {},
   "outputs": [
    {
     "name": "stdout",
     "output_type": "stream",
     "text": [
      "10\n"
     ]
    },
    {
     "data": {
      "text/plain": [
       "[['北京', '长沙', '南宁'],\n",
       " ['北京', '石家庄', '西安', '南宁'],\n",
       " ['北京', '石家庄', '西安', '贵阳', '南宁'],\n",
       " ['北京', '石家庄', '广州', '南宁'],\n",
       " ['北京', '武汉', '澳门', '南宁'],\n",
       " ['北京', '武汉', '香港', '南宁'],\n",
       " ['北京', '呼和浩特', '重庆', '南宁'],\n",
       " ['北京', '太原', '银川', '南宁'],\n",
       " ['北京', '石家庄', '西安', '成都', '南宁'],\n",
       " ['北京', '石家庄', '西安', '兰州', '南宁']]"
      ]
     },
     "execution_count": 362,
     "metadata": {},
     "output_type": "execute_result"
    }
   ],
   "source": [
    "sort_pathes(search_all_routes(cities_connect_graph,'北京','南宁'), lambda p: get_path_dist(p), 100)"
   ]
  },
  {
   "cell_type": "code",
   "execution_count": 363,
   "metadata": {},
   "outputs": [
    {
     "data": {
      "text/plain": [
       "AtlasView({'兰州': {}, '西宁': {}, '成都': {}, '拉萨': {}})"
      ]
     },
     "execution_count": 363,
     "metadata": {},
     "output_type": "execute_result"
    }
   ],
   "source": [
    "get_successors('嘉峪关',cities_connect_graph)"
   ]
  },
  {
   "cell_type": "code",
   "execution_count": 364,
   "metadata": {},
   "outputs": [
    {
     "name": "stdout",
     "output_type": "stream",
     "text": [
      "9\n"
     ]
    },
    {
     "data": {
      "text/plain": [
       "[['西宁', '兰州', '南宁'],\n",
       " ['西宁', '成都', '南宁'],\n",
       " ['西宁', '拉萨', '南宁'],\n",
       " ['西宁', '贵阳', '南宁'],\n",
       " ['西宁', '重庆', '南宁'],\n",
       " ['西宁', '银川', '南宁'],\n",
       " ['西宁', '兰州', '西安', '南宁'],\n",
       " ['西宁', '兰州', '西安', '广州', '南宁'],\n",
       " ['西宁', '兰州', '西安', '长沙', '南宁']]"
      ]
     },
     "execution_count": 364,
     "metadata": {},
     "output_type": "execute_result"
    }
   ],
   "source": [
    "search_all_routes(cities_connect_graph,'西宁','南宁')"
   ]
  },
  {
   "cell_type": "code",
   "execution_count": 365,
   "metadata": {},
   "outputs": [
    {
     "name": "stdout",
     "output_type": "stream",
     "text": [
      "12\n"
     ]
    },
    {
     "data": {
      "text/plain": [
       "[['北京', '石家庄', '广州'],\n",
       " ['北京', '武汉', '广州'],\n",
       " ['北京', '郑州', '广州'],\n",
       " ['北京', '合肥', '广州'],\n",
       " ['北京', '南昌', '广州'],\n",
       " ['北京', '长沙', '广州'],\n",
       " ['北京', '太原', '广州'],\n",
       " ['北京', '石家庄', '西安', '广州'],\n",
       " ['北京', '武汉', '福州', '广州'],\n",
       " ['北京', '武汉', '香港', '广州'],\n",
       " ['北京', '武汉', '澳门', '广州'],\n",
       " ['北京', '长沙', '南宁', '广州']]"
      ]
     },
     "execution_count": 365,
     "metadata": {},
     "output_type": "execute_result"
    }
   ],
   "source": [
    "search_all_routes(cities_connect_graph,'北京','广州')"
   ]
  },
  {
   "cell_type": "markdown",
   "metadata": {},
   "source": [
    "## TODO summary\n",
    "### 1 shortest path first\n",
    "### 2 A*\n",
    "### 3 farest path first\n",
    "### 4 puring/beam just search part of points\n",
    "### 5 all routes search with BFS/DFS"
   ]
  },
  {
   "cell_type": "code",
   "execution_count": 366,
   "metadata": {},
   "outputs": [],
   "source": [
    "graphA={\n",
    "    'A': ['B','C'],\n",
    "    'B': ['A','C'],\n",
    "    'C': ['B','A']\n",
    "}"
   ]
  },
  {
   "cell_type": "markdown",
   "metadata": {},
   "source": [
    "## N个结点的完全图，任意两点间的所有路径数\n",
    "- 1+(n-2)+(n-2)(n-3)+(n-2)(n-3)(n-4)+...(n-2)(n-3)(n-4)(n-5)..1\n",
    "- 两点间只有1条边的路径只有1种，两点间只有2条边的路径有(n-2)种走法，以此类推，两点间有n-1条边的情况有(n-2)!种走法"
   ]
  },
  {
   "cell_type": "markdown",
   "metadata": {},
   "source": [
    "### $\\sum_{i=0}^{n-2}\\frac{(n-2)!}{i!}$"
   ]
  },
  {
   "cell_type": "code",
   "execution_count": 367,
   "metadata": {},
   "outputs": [],
   "source": [
    "from functools import reduce\n",
    "\n",
    "### N!#####\n",
    "def Fj(n):\n",
    "    if n<=1:return 1\n",
    "    return n*Fj(n-1)\n",
    "\n",
    "### the Numbers of all routes between any two points in a N nodes complete Graph########\n",
    "def F_all(n):\n",
    "    if n<=2:return 1\n",
    "    n_2_f=Fj(n-2)\n",
    "    #print(n_2_f)\n",
    "    Sum=0\n",
    "    for i in range(0,n-1):\n",
    "        item=n_2_f//Fj(i)\n",
    "        #print(item,n_2_f,Fj(i))\n",
    "        Sum+=item\n",
    "    return Sum\n"
   ]
  },
  {
   "cell_type": "code",
   "execution_count": 368,
   "metadata": {},
   "outputs": [
    {
     "data": {
      "text/plain": [
       "13700"
      ]
     },
     "execution_count": 368,
     "metadata": {},
     "output_type": "execute_result"
    }
   ],
   "source": [
    "F_all(9)"
   ]
  },
  {
   "cell_type": "code",
   "execution_count": 369,
   "metadata": {},
   "outputs": [],
   "source": [
    "def createNodeList(n):\n",
    "    lis=[]\n",
    "    for k in range(n):\n",
    "        li=[]\n",
    "        for i in range(n):\n",
    "    #print(chr(i+ord('A')))\n",
    "            if i==k:continue\n",
    "            li.append(chr(i+ord('A')))\n",
    "        lis.append(li)\n",
    "    return lis"
   ]
  },
  {
   "cell_type": "code",
   "execution_count": 370,
   "metadata": {},
   "outputs": [
    {
     "data": {
      "text/plain": [
       "[['B', 'C', 'D'], ['A', 'C', 'D'], ['A', 'B', 'D'], ['A', 'B', 'C']]"
      ]
     },
     "execution_count": 370,
     "metadata": {},
     "output_type": "execute_result"
    }
   ],
   "source": [
    "createNodeList(4)"
   ]
  },
  {
   "cell_type": "code",
   "execution_count": 371,
   "metadata": {},
   "outputs": [],
   "source": [
    "def produceCompleteGrahp(n):\n",
    "    List=createNodeList(n)\n",
    "    graph={}\n",
    "    i=0\n",
    "    for item in List:\n",
    "        graph[chr(i+ord('A'))]=item\n",
    "        i=i+1\n",
    "    return graph"
   ]
  },
  {
   "cell_type": "code",
   "execution_count": 372,
   "metadata": {},
   "outputs": [
    {
     "data": {
      "text/plain": [
       "{'A': ['B', 'C', 'D'],\n",
       " 'B': ['A', 'C', 'D'],\n",
       " 'C': ['A', 'B', 'D'],\n",
       " 'D': ['A', 'B', 'C']}"
      ]
     },
     "execution_count": 372,
     "metadata": {},
     "output_type": "execute_result"
    }
   ],
   "source": [
    "produceCompleteGrahp(4)"
   ]
  },
  {
   "cell_type": "code",
   "execution_count": 373,
   "metadata": {},
   "outputs": [
    {
     "data": {
      "image/png": "[encoded data removed]",
      "text/plain": [
       "<Figure size 432x288 with 1 Axes>"
      ]
     },
     "metadata": {},
     "output_type": "display_data"
    }
   ],
   "source": [
    "nx.draw(nx.Graph(produceCompleteGrahp(5)),with_labels=True,node_size=15, font_size=25)"
   ]
  },
  {
   "cell_type": "code",
   "execution_count": 374,
   "metadata": {},
   "outputs": [
    {
     "data": {
      "image/png": "[encoded data removed]",
      "text/plain": [
       "<Figure size 432x288 with 1 Axes>"
      ]
     },
     "metadata": {},
     "output_type": "display_data"
    }
   ],
   "source": [
    "nx.draw(nx.Graph(produceCompleteGrahp(8)),with_labels=True,node_size=15, font_size=25)"
   ]
  },
  {
   "cell_type": "code",
   "execution_count": 375,
   "metadata": {},
   "outputs": [],
   "source": [
    "def search_all_routes(graph, start, dest, seenExclude=False):\n",
    "    pathes=[[start]]\n",
    "    if not seenExclude:\n",
    "        seen=set()\n",
    "    AllRoutes=[]\n",
    "    \n",
    "    while pathes:\n",
    "        path=pathes.pop(0)\n",
    "        front=path[-1]\n",
    "        if not seenExclude:\n",
    "            if front in seen: continue \n",
    "        new_path=[]\n",
    "        \n",
    "        ###孤立结点异常handle\n",
    "        try:\n",
    "            graph[front]\n",
    "        except:\n",
    "            return AllRoutes\n",
    "        \n",
    "        for nexts in graph[front]:\n",
    "            if nexts in path:continue\n",
    "            new_path=path+[nexts]\n",
    "            pathes.append(new_path)\n",
    "            if nexts==dest: AllRoutes.append(new_path) \n",
    "    \n",
    "        if not seenExclude:\n",
    "            seen.add(front)\n",
    "    print(len(AllRoutes))\n",
    "    return AllRoutes"
   ]
  },
  {
   "cell_type": "code",
   "execution_count": 376,
   "metadata": {},
   "outputs": [
    {
     "name": "stdout",
     "output_type": "stream",
     "text": [
      "5\n"
     ]
    },
    {
     "data": {
      "text/plain": [
       "[['A', 'B'],\n",
       " ['A', 'C', 'B'],\n",
       " ['A', 'D', 'B'],\n",
       " ['A', 'E', 'B'],\n",
       " ['A', 'F', 'B']]"
      ]
     },
     "execution_count": 376,
     "metadata": {},
     "output_type": "execute_result"
    }
   ],
   "source": [
    "search_all_routes(produceCompleteGrahp(6),'A','B')"
   ]
  },
  {
   "cell_type": "code",
   "execution_count": 377,
   "metadata": {},
   "outputs": [
    {
     "name": "stdout",
     "output_type": "stream",
     "text": [
      "65\n"
     ]
    },
    {
     "data": {
      "text/plain": [
       "[['A', 'B'],\n",
       " ['A', 'C', 'B'],\n",
       " ['A', 'D', 'B'],\n",
       " ['A', 'E', 'B'],\n",
       " ['A', 'F', 'B'],\n",
       " ['A', 'C', 'D', 'B'],\n",
       " ['A', 'C', 'E', 'B'],\n",
       " ['A', 'C', 'F', 'B'],\n",
       " ['A', 'D', 'C', 'B'],\n",
       " ['A', 'D', 'E', 'B'],\n",
       " ['A', 'D', 'F', 'B'],\n",
       " ['A', 'E', 'C', 'B'],\n",
       " ['A', 'E', 'D', 'B'],\n",
       " ['A', 'E', 'F', 'B'],\n",
       " ['A', 'F', 'C', 'B'],\n",
       " ['A', 'F', 'D', 'B'],\n",
       " ['A', 'F', 'E', 'B'],\n",
       " ['A', 'C', 'D', 'E', 'B'],\n",
       " ['A', 'C', 'D', 'F', 'B'],\n",
       " ['A', 'C', 'E', 'D', 'B'],\n",
       " ['A', 'C', 'E', 'F', 'B'],\n",
       " ['A', 'C', 'F', 'D', 'B'],\n",
       " ['A', 'C', 'F', 'E', 'B'],\n",
       " ['A', 'D', 'C', 'E', 'B'],\n",
       " ['A', 'D', 'C', 'F', 'B'],\n",
       " ['A', 'D', 'E', 'C', 'B'],\n",
       " ['A', 'D', 'E', 'F', 'B'],\n",
       " ['A', 'D', 'F', 'C', 'B'],\n",
       " ['A', 'D', 'F', 'E', 'B'],\n",
       " ['A', 'E', 'C', 'D', 'B'],\n",
       " ['A', 'E', 'C', 'F', 'B'],\n",
       " ['A', 'E', 'D', 'C', 'B'],\n",
       " ['A', 'E', 'D', 'F', 'B'],\n",
       " ['A', 'E', 'F', 'C', 'B'],\n",
       " ['A', 'E', 'F', 'D', 'B'],\n",
       " ['A', 'F', 'C', 'D', 'B'],\n",
       " ['A', 'F', 'C', 'E', 'B'],\n",
       " ['A', 'F', 'D', 'C', 'B'],\n",
       " ['A', 'F', 'D', 'E', 'B'],\n",
       " ['A', 'F', 'E', 'C', 'B'],\n",
       " ['A', 'F', 'E', 'D', 'B'],\n",
       " ['A', 'C', 'D', 'E', 'F', 'B'],\n",
       " ['A', 'C', 'D', 'F', 'E', 'B'],\n",
       " ['A', 'C', 'E', 'D', 'F', 'B'],\n",
       " ['A', 'C', 'E', 'F', 'D', 'B'],\n",
       " ['A', 'C', 'F', 'D', 'E', 'B'],\n",
       " ['A', 'C', 'F', 'E', 'D', 'B'],\n",
       " ['A', 'D', 'C', 'E', 'F', 'B'],\n",
       " ['A', 'D', 'C', 'F', 'E', 'B'],\n",
       " ['A', 'D', 'E', 'C', 'F', 'B'],\n",
       " ['A', 'D', 'E', 'F', 'C', 'B'],\n",
       " ['A', 'D', 'F', 'C', 'E', 'B'],\n",
       " ['A', 'D', 'F', 'E', 'C', 'B'],\n",
       " ['A', 'E', 'C', 'D', 'F', 'B'],\n",
       " ['A', 'E', 'C', 'F', 'D', 'B'],\n",
       " ['A', 'E', 'D', 'C', 'F', 'B'],\n",
       " ['A', 'E', 'D', 'F', 'C', 'B'],\n",
       " ['A', 'E', 'F', 'C', 'D', 'B'],\n",
       " ['A', 'E', 'F', 'D', 'C', 'B'],\n",
       " ['A', 'F', 'C', 'D', 'E', 'B'],\n",
       " ['A', 'F', 'C', 'E', 'D', 'B'],\n",
       " ['A', 'F', 'D', 'C', 'E', 'B'],\n",
       " ['A', 'F', 'D', 'E', 'C', 'B'],\n",
       " ['A', 'F', 'E', 'C', 'D', 'B'],\n",
       " ['A', 'F', 'E', 'D', 'C', 'B']]"
      ]
     },
     "execution_count": 377,
     "metadata": {},
     "output_type": "execute_result"
    }
   ],
   "source": [
    "search_all_routes(produceCompleteGrahp(6),'A','B',seenExclude=True)"
   ]
  },
  {
   "cell_type": "code",
   "execution_count": 381,
   "metadata": {},
   "outputs": [
    {
     "data": {
      "text/plain": [
       "13700"
      ]
     },
     "execution_count": 381,
     "metadata": {},
     "output_type": "execute_result"
    }
   ],
   "source": [
    "F_all(9)"
   ]
  },
  {
   "cell_type": "code",
   "execution_count": 379,
   "metadata": {},
   "outputs": [
    {
     "data": {
      "text/plain": [
       "109601"
      ]
     },
     "execution_count": 379,
     "metadata": {},
     "output_type": "execute_result"
    }
   ],
   "source": [
    "F_all(10)"
   ]
  },
  {
   "cell_type": "code",
   "execution_count": 382,
   "metadata": {},
   "outputs": [
    {
     "data": {
      "text/plain": [
       "17403456103284421"
      ]
     },
     "execution_count": 382,
     "metadata": {},
     "output_type": "execute_result"
    }
   ],
   "source": [
    "F_all(20)"
   ]
  },
  {
   "cell_type": "code",
   "execution_count": 383,
   "metadata": {},
   "outputs": [
    {
     "data": {
      "text/plain": [
       "721032028774273509017636384693701"
      ]
     },
     "execution_count": 383,
     "metadata": {},
     "output_type": "execute_result"
    }
   ],
   "source": [
    "F_all(32)"
   ]
  },
  {
   "cell_type": "code",
   "execution_count": null,
   "metadata": {},
   "outputs": [],
   "source": []
  }
 ],
 "metadata": {
  "kernelspec": {
   "display_name": "Python 3",
   "language": "python",
   "name": "python3"
  },
  "language_info": {
   "codemirror_mode": {
    "name": "ipython",
    "version": 3
   },
   "file_extension": ".py",
   "mimetype": "text/x-python",
   "name": "python",
   "nbconvert_exporter": "python",
   "pygments_lexer": "ipython3",
   "version": "3.7.0"
  }
 },
 "nbformat": 4,
 "nbformat_minor": 2
}
