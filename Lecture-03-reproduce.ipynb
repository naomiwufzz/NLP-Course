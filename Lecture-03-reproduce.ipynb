{
 "cells": [
  {
   "cell_type": "markdown",
   "metadata": {},
   "source": [
    "## Driving Map Navigator"
   ]
  },
  {
   "cell_type": "markdown",
   "metadata": {},
   "source": [
    "在中国大陆 一个人 从任意一个地方出发 我们规划一条比较合理的线路 到另外一个地方"
   ]
  },
  {
   "cell_type": "code",
   "execution_count": 7,
   "metadata": {},
   "outputs": [],
   "source": [
    "# coding = utf-8"
   ]
  },
  {
   "cell_type": "code",
   "execution_count": 8,
   "metadata": {},
   "outputs": [
    {
     "name": "stdout",
     "output_type": "stream",
     "text": [
      "['C:\\\\ML\\\\Anaconda\\\\lib\\\\site-packages\\\\matplotlib']\n"
     ]
    }
   ],
   "source": [
    "import random\n",
    "import networkx\n",
    "import matplotlib.pyplot as plt\n",
    "%matplotlib inline\n",
    "print(plt.matplotlib.__path__)"
   ]
  },
  {
   "cell_type": "code",
   "execution_count": 9,
   "metadata": {},
   "outputs": [],
   "source": [
    "coordination_source = \"\"\"\n",
    "{name:'兰州', geoCoord:[103.73, 36.03]},\n",
    "{name:'嘉峪关', geoCoord:[98.17, 39.47]},\n",
    "{name:'西宁', geoCoord:[101.74, 36.56]},\n",
    "{name:'成都', geoCoord:[104.06, 30.67]},\n",
    "{name:'石家庄', geoCoord:[114.48, 38.03]},\n",
    "{name:'拉萨', geoCoord:[102.73, 25.04]},\n",
    "{name:'贵阳', geoCoord:[106.71, 26.57]},\n",
    "{name:'武汉', geoCoord:[114.31, 30.52]},\n",
    "{name:'郑州', geoCoord:[113.65, 34.76]},\n",
    "{name:'济南', geoCoord:[117, 36.65]},\n",
    "{name:'南京', geoCoord:[118.78, 32.04]},\n",
    "{name:'合肥', geoCoord:[117.27, 31.86]},\n",
    "{name:'杭州', geoCoord:[120.19, 30.26]},\n",
    "{name:'南昌', geoCoord:[115.89, 28.68]},\n",
    "{name:'福州', geoCoord:[119.3, 26.08]},\n",
    "{name:'广州', geoCoord:[113.23, 23.16]},\n",
    "{name:'长沙', geoCoord:[113, 28.21]},\n",
    "//{name:'海口', geoCoord:[110.35, 20.02]},\n",
    "{name:'沈阳', geoCoord:[123.38, 41.8]},\n",
    "{name:'长春', geoCoord:[125.35, 43.88]},\n",
    "{name:'哈尔滨', geoCoord:[126.63, 45.75]},\n",
    "{name:'太原', geoCoord:[112.53, 37.87]},\n",
    "{name:'西安', geoCoord:[108.95, 34.27]},\n",
    "//{name:'台湾', geoCoord:[121.30, 25.03]},\n",
    "{name:'北京', geoCoord:[116.46, 39.92]},\n",
    "{name:'上海', geoCoord:[121.48, 31.22]},\n",
    "{name:'重庆', geoCoord:[106.54, 29.59]},\n",
    "{name:'天津', geoCoord:[117.2, 39.13]},\n",
    "{name:'呼和浩特', geoCoord:[111.65, 40.82]},\n",
    "{name:'南宁', geoCoord:[108.33, 22.84]},\n",
    "//{name:'西藏', geoCoord:[91.11, 29.97]},\n",
    "{name:'银川', geoCoord:[106.27, 38.47]},\n",
    "{name:'乌鲁木齐', geoCoord:[87.68, 43.77]},\n",
    "{name:'香港', geoCoord:[114.17, 22.28]},\n",
    "{name:'澳门', geoCoord:[113.54, 22.19]}\n",
    "\"\"\""
   ]
  },
  {
   "cell_type": "code",
   "execution_count": 10,
   "metadata": {},
   "outputs": [],
   "source": [
    "import re"
   ]
  },
  {
   "cell_type": "code",
   "execution_count": 11,
   "metadata": {},
   "outputs": [
    {
     "name": "stdout",
     "output_type": "stream",
     "text": [
      "{'兰州': (103.73, 36.03), '嘉峪关': (98.17, 39.47), '西宁': (101.74, 36.56), '成都': (104.06, 30.67), '石家庄': (114.48, 38.03), '拉萨': (102.73, 25.04), '贵阳': (106.71, 26.57), '武汉': (114.31, 30.52), '郑州': (113.65, 34.76), '济南': (117.0, 36.65), '南京': (118.78, 32.04), '合肥': (117.27, 31.86), '杭州': (120.19, 30.26), '南昌': (115.89, 28.68), '福州': (119.3, 26.08), '广州': (113.23, 23.16), '长沙': (113.0, 28.21), '沈阳': (123.38, 41.8), '长春': (125.35, 43.88), '哈尔滨': (126.63, 45.75), '太原': (112.53, 37.87), '西安': (108.95, 34.27), '北京': (116.46, 39.92), '上海': (121.48, 31.22), '重庆': (106.54, 29.59), '天津': (117.2, 39.13), '呼和浩特': (111.65, 40.82), '南宁': (108.33, 22.84), '银川': (106.27, 38.47), '乌鲁木齐': (87.68, 43.77), '香港': (114.17, 22.28), '澳门': (113.54, 22.19)}\n"
     ]
    }
   ],
   "source": [
    "city_info={}\n",
    "for line in coordination_source.split('\\n'):\n",
    "    if not line.strip() or line.startswith(\"//\"): continue\n",
    "        \n",
    "    city=re.findall(\"name:'(\\w+)'\",line)\n",
    "    x_y=re.findall(\"Coord:\\[(\\d+.\\d+),\\s(\\d+.\\d+)\",line)[0]\n",
    "    x_y=tuple(map(float,x_y))\n",
    "    city_info[city[0]]=x_y\n",
    "    #print('\\t',city)\n",
    "    #print('\\t',x_y)\n",
    "\n",
    "print(city_info)"
   ]
  },
  {
   "cell_type": "code",
   "execution_count": 12,
   "metadata": {},
   "outputs": [
    {
     "data": {
      "text/plain": [
       "{'兰州': (103.73, 36.03),\n",
       " '嘉峪关': (98.17, 39.47),\n",
       " '西宁': (101.74, 36.56),\n",
       " '成都': (104.06, 30.67),\n",
       " '石家庄': (114.48, 38.03),\n",
       " '拉萨': (102.73, 25.04),\n",
       " '贵阳': (106.71, 26.57),\n",
       " '武汉': (114.31, 30.52),\n",
       " '郑州': (113.65, 34.76),\n",
       " '济南': (117.0, 36.65),\n",
       " '南京': (118.78, 32.04),\n",
       " '合肥': (117.27, 31.86),\n",
       " '杭州': (120.19, 30.26),\n",
       " '南昌': (115.89, 28.68),\n",
       " '福州': (119.3, 26.08),\n",
       " '广州': (113.23, 23.16),\n",
       " '长沙': (113.0, 28.21),\n",
       " '沈阳': (123.38, 41.8),\n",
       " '长春': (125.35, 43.88),\n",
       " '哈尔滨': (126.63, 45.75),\n",
       " '太原': (112.53, 37.87),\n",
       " '西安': (108.95, 34.27),\n",
       " '北京': (116.46, 39.92),\n",
       " '上海': (121.48, 31.22),\n",
       " '重庆': (106.54, 29.59),\n",
       " '天津': (117.2, 39.13),\n",
       " '呼和浩特': (111.65, 40.82),\n",
       " '南宁': (108.33, 22.84),\n",
       " '银川': (106.27, 38.47),\n",
       " '乌鲁木齐': (87.68, 43.77),\n",
       " '香港': (114.17, 22.28),\n",
       " '澳门': (113.54, 22.19)}"
      ]
     },
     "execution_count": 12,
     "metadata": {},
     "output_type": "execute_result"
    }
   ],
   "source": [
    "city_info"
   ]
  },
  {
   "cell_type": "code",
   "execution_count": 13,
   "metadata": {},
   "outputs": [],
   "source": [
    "import math\n",
    "def geo_distance(origin, dest):\n",
    "    \"\"\"\n",
    "    Calculate the Haversine distance.\n",
    "    \"\"\"\n",
    "    lat1,lon1=origin\n",
    "    lat2,lon2=dest\n",
    "    radius=6371 # radius of earth km\n",
    "    dlat=math.radians(lat2-lat1)\n",
    "    dlon=math.radians(lon2-lon1)\n",
    "    \n",
    "    a=(math.sin(dlat/2)*math.sin(dlat/2)+\n",
    "      math.cos(math.radians(lat1))*math.cos(math.radians(lat2))*\n",
    "      math.sin(dlon/2)*math.sin(dlon/2))\n",
    "    c=2*math.atan2(math.sqrt(a),math.sqrt(1-a))\n",
    "    d=radius*c\n",
    "    return d"
   ]
  },
  {
   "cell_type": "code",
   "execution_count": 14,
   "metadata": {},
   "outputs": [],
   "source": [
    "def get_city_dist(city1,city2):\n",
    "    return geo_distance(city_info[city1],city_info[city2])"
   ]
  },
  {
   "cell_type": "code",
   "execution_count": 15,
   "metadata": {},
   "outputs": [
    {
     "data": {
      "text/plain": [
       "507.1822625862953"
      ]
     },
     "execution_count": 15,
     "metadata": {},
     "output_type": "execute_result"
    }
   ],
   "source": [
    "get_city_dist(\"北京\",\"武汉\")"
   ]
  },
  {
   "cell_type": "code",
   "execution_count": 16,
   "metadata": {},
   "outputs": [
    {
     "data": {
      "text/plain": [
       "153.5185697155768"
      ]
     },
     "execution_count": 16,
     "metadata": {},
     "output_type": "execute_result"
    }
   ],
   "source": [
    "get_city_dist(\"杭州\",\"上海\")"
   ]
  },
  {
   "cell_type": "code",
   "execution_count": 17,
   "metadata": {},
   "outputs": [],
   "source": [
    "# coding = utf-8\n",
    "from matplotlib.font_manager import FontProperties  \n",
    "font_song = FontProperties(fname=r\"C:\\\\Windows\\\\Fonts\\\\simkai.ttf\", size=10)\n",
    "import networkx as nx"
   ]
  },
  {
   "cell_type": "code",
   "execution_count": 18,
   "metadata": {},
   "outputs": [
    {
     "data": {
      "text/plain": [
       "['兰州',\n",
       " '嘉峪关',\n",
       " '西宁',\n",
       " '成都',\n",
       " '石家庄',\n",
       " '拉萨',\n",
       " '贵阳',\n",
       " '武汉',\n",
       " '郑州',\n",
       " '济南',\n",
       " '南京',\n",
       " '合肥',\n",
       " '杭州',\n",
       " '南昌',\n",
       " '福州',\n",
       " '广州',\n",
       " '长沙',\n",
       " '沈阳',\n",
       " '长春',\n",
       " '哈尔滨',\n",
       " '太原',\n",
       " '西安',\n",
       " '北京',\n",
       " '上海',\n",
       " '重庆',\n",
       " '天津',\n",
       " '呼和浩特',\n",
       " '南宁',\n",
       " '银川',\n",
       " '乌鲁木齐',\n",
       " '香港',\n",
       " '澳门']"
      ]
     },
     "execution_count": 18,
     "metadata": {},
     "output_type": "execute_result"
    }
   ],
   "source": [
    "cities=[]\n",
    "for i in city_info:\n",
    "    cities.append(i)\n",
    "\n",
    "cities"
   ]
  },
  {
   "cell_type": "markdown",
   "metadata": {},
   "source": [
    "## 解决画图中文显示问题\n",
    "### (具体原因还不明，总之可行)\n",
    "plt.rcParams['font.sans-serif'] = ['SimHei']\n",
    "plt.rcParams['axes.unicode_minus'] = False"
   ]
  },
  {
   "cell_type": "code",
   "execution_count": 19,
   "metadata": {},
   "outputs": [],
   "source": [
    "city_graph=nx.Graph()\n",
    "city_graph.add_nodes_from(cities)\n",
    "plt.rcParams['font.sans-serif'] = ['SimHei']\n",
    "plt.rcParams['axes.unicode_minus'] = False"
   ]
  },
  {
   "cell_type": "code",
   "execution_count": 20,
   "metadata": {},
   "outputs": [
    {
     "data": {
      "image/png": "[encoded data removed]",
      "text/plain": [
       "<Figure size 432x288 with 1 Axes>"
      ]
     },
     "metadata": {},
     "output_type": "display_data"
    }
   ],
   "source": [
    "nx.draw(city_graph,node_size=20,with_labels=True,font_color='b')"
   ]
  },
  {
   "cell_type": "code",
   "execution_count": 21,
   "metadata": {},
   "outputs": [
    {
     "data": {
      "image/png": "[encoded data removed]",
      "text/plain": [
       "<Figure size 432x288 with 1 Axes>"
      ]
     },
     "metadata": {},
     "output_type": "display_data"
    }
   ],
   "source": [
    "nx.draw(city_graph,city_info,with_labels=True,node_size=10,font_color='g',font_size=15)"
   ]
  },
  {
   "cell_type": "code",
   "execution_count": 22,
   "metadata": {},
   "outputs": [
    {
     "data": {
      "text/plain": [
       "1165.8679943488457"
      ]
     },
     "execution_count": 22,
     "metadata": {},
     "output_type": "execute_result"
    }
   ],
   "source": [
    "get_city_dist(\"乌鲁木齐\",\"嘉峪关\")"
   ]
  },
  {
   "cell_type": "code",
   "execution_count": 23,
   "metadata": {},
   "outputs": [
    {
     "data": {
      "text/plain": [
       "776.4154006857316"
      ]
     },
     "execution_count": 23,
     "metadata": {},
     "output_type": "execute_result"
    }
   ],
   "source": [
    "get_city_dist('沈阳','北京')"
   ]
  },
  {
   "cell_type": "code",
   "execution_count": 24,
   "metadata": {},
   "outputs": [],
   "source": [
    "from collections import defaultdict\n",
    "\n",
    "#threhold=300\n",
    "threhold=700\n",
    "\n",
    "cities_connect=defaultdict(list)\n",
    "for c1 in cities:\n",
    "    for c2 in cities:\n",
    "        if c1==c2: continue\n",
    "        if get_city_dist(c1,c2)<threhold:\n",
    "            cities_connect[c1].append(c2)"
   ]
  },
  {
   "cell_type": "code",
   "execution_count": 25,
   "metadata": {},
   "outputs": [
    {
     "data": {
      "text/plain": [
       "defaultdict(list,\n",
       "            {'兰州': ['嘉峪关', '西宁', '成都', '拉萨', '贵阳', '西安', '重庆', '南宁', '银川'],\n",
       "             '嘉峪关': ['兰州', '西宁', '成都', '拉萨'],\n",
       "             '西宁': ['兰州', '嘉峪关', '成都', '拉萨', '贵阳', '重庆', '银川'],\n",
       "             '成都': ['兰州', '嘉峪关', '西宁', '拉萨', '贵阳', '西安', '重庆', '南宁', '银川'],\n",
       "             '石家庄': ['武汉',\n",
       "              '郑州',\n",
       "              '济南',\n",
       "              '南京',\n",
       "              '合肥',\n",
       "              '南昌',\n",
       "              '广州',\n",
       "              '长沙',\n",
       "              '太原',\n",
       "              '西安',\n",
       "              '北京',\n",
       "              '天津',\n",
       "              '呼和浩特'],\n",
       "             '拉萨': ['兰州', '嘉峪关', '西宁', '成都', '贵阳', '重庆', '南宁', '银川'],\n",
       "             '贵阳': ['兰州', '西宁', '成都', '拉萨', '西安', '重庆', '南宁', '银川'],\n",
       "             '武汉': ['石家庄',\n",
       "              '郑州',\n",
       "              '济南',\n",
       "              '南京',\n",
       "              '合肥',\n",
       "              '杭州',\n",
       "              '南昌',\n",
       "              '福州',\n",
       "              '广州',\n",
       "              '长沙',\n",
       "              '太原',\n",
       "              '西安',\n",
       "              '北京',\n",
       "              '天津',\n",
       "              '呼和浩特',\n",
       "              '香港',\n",
       "              '澳门'],\n",
       "             '郑州': ['石家庄',\n",
       "              '武汉',\n",
       "              '济南',\n",
       "              '南京',\n",
       "              '合肥',\n",
       "              '南昌',\n",
       "              '广州',\n",
       "              '长沙',\n",
       "              '太原',\n",
       "              '西安',\n",
       "              '北京',\n",
       "              '天津',\n",
       "              '呼和浩特',\n",
       "              '香港',\n",
       "              '澳门'],\n",
       "             '济南': ['石家庄',\n",
       "              '武汉',\n",
       "              '郑州',\n",
       "              '南京',\n",
       "              '合肥',\n",
       "              '杭州',\n",
       "              '南昌',\n",
       "              '福州',\n",
       "              '长沙',\n",
       "              '太原',\n",
       "              '北京',\n",
       "              '上海',\n",
       "              '天津',\n",
       "              '呼和浩特'],\n",
       "             '南京': ['石家庄',\n",
       "              '武汉',\n",
       "              '郑州',\n",
       "              '济南',\n",
       "              '合肥',\n",
       "              '杭州',\n",
       "              '南昌',\n",
       "              '福州',\n",
       "              '长沙',\n",
       "              '北京',\n",
       "              '上海',\n",
       "              '天津'],\n",
       "             '合肥': ['石家庄',\n",
       "              '武汉',\n",
       "              '郑州',\n",
       "              '济南',\n",
       "              '南京',\n",
       "              '杭州',\n",
       "              '南昌',\n",
       "              '福州',\n",
       "              '广州',\n",
       "              '长沙',\n",
       "              '太原',\n",
       "              '北京',\n",
       "              '上海',\n",
       "              '天津',\n",
       "              '香港',\n",
       "              '澳门'],\n",
       "             '杭州': ['武汉', '济南', '南京', '合肥', '南昌', '福州', '北京', '上海', '天津'],\n",
       "             '南昌': ['石家庄',\n",
       "              '武汉',\n",
       "              '郑州',\n",
       "              '济南',\n",
       "              '南京',\n",
       "              '合肥',\n",
       "              '杭州',\n",
       "              '福州',\n",
       "              '广州',\n",
       "              '长沙',\n",
       "              '太原',\n",
       "              '北京',\n",
       "              '上海',\n",
       "              '天津',\n",
       "              '香港',\n",
       "              '澳门'],\n",
       "             '福州': ['武汉',\n",
       "              '济南',\n",
       "              '南京',\n",
       "              '合肥',\n",
       "              '杭州',\n",
       "              '南昌',\n",
       "              '广州',\n",
       "              '上海',\n",
       "              '香港',\n",
       "              '澳门'],\n",
       "             '广州': ['石家庄',\n",
       "              '武汉',\n",
       "              '郑州',\n",
       "              '合肥',\n",
       "              '南昌',\n",
       "              '福州',\n",
       "              '长沙',\n",
       "              '太原',\n",
       "              '西安',\n",
       "              '南宁',\n",
       "              '香港',\n",
       "              '澳门'],\n",
       "             '长沙': ['石家庄',\n",
       "              '武汉',\n",
       "              '郑州',\n",
       "              '济南',\n",
       "              '南京',\n",
       "              '合肥',\n",
       "              '南昌',\n",
       "              '广州',\n",
       "              '太原',\n",
       "              '西安',\n",
       "              '北京',\n",
       "              '天津',\n",
       "              '呼和浩特',\n",
       "              '南宁',\n",
       "              '香港',\n",
       "              '澳门'],\n",
       "             '沈阳': ['长春', '哈尔滨', '上海'],\n",
       "             '长春': ['沈阳', '哈尔滨'],\n",
       "             '哈尔滨': ['沈阳', '长春'],\n",
       "             '太原': ['石家庄',\n",
       "              '武汉',\n",
       "              '郑州',\n",
       "              '济南',\n",
       "              '合肥',\n",
       "              '南昌',\n",
       "              '广州',\n",
       "              '长沙',\n",
       "              '西安',\n",
       "              '北京',\n",
       "              '天津',\n",
       "              '呼和浩特',\n",
       "              '银川',\n",
       "              '澳门'],\n",
       "             '西安': ['兰州',\n",
       "              '成都',\n",
       "              '石家庄',\n",
       "              '贵阳',\n",
       "              '武汉',\n",
       "              '郑州',\n",
       "              '广州',\n",
       "              '长沙',\n",
       "              '太原',\n",
       "              '重庆',\n",
       "              '呼和浩特',\n",
       "              '南宁',\n",
       "              '银川'],\n",
       "             '北京': ['石家庄',\n",
       "              '武汉',\n",
       "              '郑州',\n",
       "              '济南',\n",
       "              '南京',\n",
       "              '合肥',\n",
       "              '杭州',\n",
       "              '南昌',\n",
       "              '长沙',\n",
       "              '太原',\n",
       "              '天津',\n",
       "              '呼和浩特'],\n",
       "             '上海': ['济南', '南京', '合肥', '杭州', '南昌', '福州', '沈阳', '天津'],\n",
       "             '重庆': ['兰州', '西宁', '成都', '拉萨', '贵阳', '西安', '呼和浩特', '南宁', '银川'],\n",
       "             '天津': ['石家庄',\n",
       "              '武汉',\n",
       "              '郑州',\n",
       "              '济南',\n",
       "              '南京',\n",
       "              '合肥',\n",
       "              '杭州',\n",
       "              '南昌',\n",
       "              '长沙',\n",
       "              '太原',\n",
       "              '北京',\n",
       "              '上海',\n",
       "              '呼和浩特'],\n",
       "             '呼和浩特': ['石家庄',\n",
       "              '武汉',\n",
       "              '郑州',\n",
       "              '济南',\n",
       "              '长沙',\n",
       "              '太原',\n",
       "              '西安',\n",
       "              '北京',\n",
       "              '重庆',\n",
       "              '天津',\n",
       "              '银川'],\n",
       "             '南宁': ['兰州',\n",
       "              '成都',\n",
       "              '拉萨',\n",
       "              '贵阳',\n",
       "              '广州',\n",
       "              '长沙',\n",
       "              '西安',\n",
       "              '重庆',\n",
       "              '银川',\n",
       "              '香港',\n",
       "              '澳门'],\n",
       "             '银川': ['兰州',\n",
       "              '西宁',\n",
       "              '成都',\n",
       "              '拉萨',\n",
       "              '贵阳',\n",
       "              '太原',\n",
       "              '西安',\n",
       "              '重庆',\n",
       "              '呼和浩特',\n",
       "              '南宁'],\n",
       "             '香港': ['武汉', '郑州', '合肥', '南昌', '福州', '广州', '长沙', '南宁', '澳门'],\n",
       "             '澳门': ['武汉',\n",
       "              '郑州',\n",
       "              '合肥',\n",
       "              '南昌',\n",
       "              '福州',\n",
       "              '广州',\n",
       "              '长沙',\n",
       "              '太原',\n",
       "              '南宁',\n",
       "              '香港']})"
      ]
     },
     "execution_count": 25,
     "metadata": {},
     "output_type": "execute_result"
    }
   ],
   "source": [
    "cities_connect"
   ]
  },
  {
   "cell_type": "code",
   "execution_count": 26,
   "metadata": {},
   "outputs": [
    {
     "data": {
      "image/png": "[encoded data removed]",
      "text/plain": [
       "<Figure size 432x288 with 1 Axes>"
      ]
     },
     "metadata": {},
     "output_type": "display_data"
    }
   ],
   "source": [
    "cities_connect_graph=nx.Graph(cities_connect)\n",
    "nx.draw(cities_connect_graph,city_info,with_labels=True,node_size=2,font_color='b')"
   ]
  },
  {
   "cell_type": "code",
   "execution_count": 27,
   "metadata": {},
   "outputs": [
    {
     "data": {
      "text/plain": [
       "776.4154006857316"
      ]
     },
     "execution_count": 27,
     "metadata": {},
     "output_type": "execute_result"
    }
   ],
   "source": [
    "get_city_dist(\"北京\",\"沈阳\")"
   ]
  },
  {
   "cell_type": "code",
   "execution_count": 28,
   "metadata": {},
   "outputs": [],
   "source": [
    "def get_successors(front,graph):\n",
    "    ###you can cut of some elements for customize, means puring leaf\n",
    "    return graph[front]"
   ]
  },
  {
   "cell_type": "code",
   "execution_count": 29,
   "metadata": {},
   "outputs": [
    {
     "data": {
      "text/plain": [
       "AtlasView({'石家庄': {}, '武汉': {}, '郑州': {}, '济南': {}, '南京': {}, '合肥': {}, '杭州': {}, '南昌': {}, '长沙': {}, '太原': {}, '天津': {}, '呼和浩特': {}})"
      ]
     },
     "execution_count": 29,
     "metadata": {},
     "output_type": "execute_result"
    }
   ],
   "source": [
    "get_successors(\"北京\",cities_connect_graph)"
   ]
  },
  {
   "cell_type": "code",
   "execution_count": 30,
   "metadata": {},
   "outputs": [],
   "source": [
    "def is_goal(predict):\n",
    "    def _predict(cond1,cond2):\n",
    "        return predict(cond1,cond2)\n",
    "    return _predict"
   ]
  },
  {
   "cell_type": "code",
   "execution_count": 31,
   "metadata": {},
   "outputs": [],
   "source": [
    "def predicted(node, dest):\n",
    "    return node == dest"
   ]
  },
  {
   "cell_type": "code",
   "execution_count": 32,
   "metadata": {},
   "outputs": [
    {
     "data": {
      "text/plain": [
       "True"
      ]
     },
     "execution_count": 32,
     "metadata": {},
     "output_type": "execute_result"
    }
   ],
   "source": [
    "test=is_goal(predicted)\n",
    "test('A','A')"
   ]
  },
  {
   "cell_type": "code",
   "execution_count": 33,
   "metadata": {},
   "outputs": [
    {
     "data": {
      "text/plain": [
       "False"
      ]
     },
     "execution_count": 33,
     "metadata": {},
     "output_type": "execute_result"
    }
   ],
   "source": [
    "test('A','B')"
   ]
  },
  {
   "cell_type": "code",
   "execution_count": 34,
   "metadata": {},
   "outputs": [
    {
     "data": {
      "text/plain": [
       "False"
      ]
     },
     "execution_count": 34,
     "metadata": {},
     "output_type": "execute_result"
    }
   ],
   "source": [
    "is_goal(predicted)('A','B')"
   ]
  },
  {
   "cell_type": "code",
   "execution_count": 35,
   "metadata": {},
   "outputs": [
    {
     "data": {
      "text/plain": [
       "True"
      ]
     },
     "execution_count": 35,
     "metadata": {},
     "output_type": "execute_result"
    }
   ],
   "source": [
    "is_goal(predicted)('A','A')"
   ]
  },
  {
   "cell_type": "code",
   "execution_count": 36,
   "metadata": {},
   "outputs": [],
   "source": [
    "def search_dest(graph, start, dest, get_successors, is_goal_predict, stratety_func):\n",
    "    pathes=[[start]]\n",
    "    seen=set()\n",
    "    found_pathes=[]\n",
    "    \n",
    "    steps_cost=0\n",
    "    while pathes:\n",
    "        path=pathes.pop(0)\n",
    "        front=path[-1]\n",
    "        if front in seen:continue\n",
    "        ### recorde steps for stragety evaluate \n",
    "        steps_cost+=1\n",
    "        \n",
    "        for city in get_successors(front, graph):\n",
    "            if city in path: continue\n",
    "            new_path=path+[city]\n",
    "            \n",
    "            ###for specific, some nodes may could be ignored base on stratgey\n",
    "            pathes.append(new_path)\n",
    "            \n",
    "            steps_cost+=1\n",
    "            if is_goal_predict(city,dest):\n",
    "                #found_pathes.append(new_path)\n",
    "                print(\"{} steps cost for finding dest\".format(steps_cost))\n",
    "                return new_path\n",
    "        pathes=stratety_func(pathes)\n",
    "        seen.add(front)\n",
    "    return found_pathes"
   ]
  },
  {
   "cell_type": "code",
   "execution_count": 37,
   "metadata": {},
   "outputs": [],
   "source": [
    "pathes = [['杭州', '济南'], ['杭州', '南京'], ['杭州', '合肥'], ['杭州', '南昌'], ['杭州', '福州'], ['杭州', '北京'], ['杭州', '上海'], ['杭州', '天津']]"
   ]
  },
  {
   "cell_type": "code",
   "execution_count": 38,
   "metadata": {},
   "outputs": [
    {
     "name": "stdout",
     "output_type": "stream",
     "text": [
      "490.9647966194679\n",
      "184.57074268172903\n",
      "335.7362651542952\n",
      "485.17998762113706\n",
      "250.88470484756093\n",
      "655.9367799584198\n",
      "153.5185697155768\n",
      "577.8413626643784\n"
     ]
    }
   ],
   "source": [
    "for i in pathes:\n",
    "    print(get_city_dist(i[0],i[1]))"
   ]
  },
  {
   "cell_type": "code",
   "execution_count": 39,
   "metadata": {},
   "outputs": [],
   "source": [
    "def sort_pathes(pathes, func, beam):\n",
    "    return sorted(pathes,key=func)[:beam]"
   ]
  },
  {
   "cell_type": "code",
   "execution_count": 40,
   "metadata": {},
   "outputs": [],
   "source": [
    "def get_path_dist(path):\n",
    "    distance=0\n",
    "    if len(path)>1:\n",
    "        for i in range(len(path)-1):\n",
    "            distance+=get_city_dist(path[i],path[i+1])\n",
    "    return distance\n",
    "    "
   ]
  },
  {
   "cell_type": "code",
   "execution_count": 41,
   "metadata": {},
   "outputs": [],
   "source": [
    "def comprehensive_sort(pathes):\n",
    "    return sort_pathes(pathes,lambda p:(len(p)+get_path_dist(p)),beam=30)"
   ]
  },
  {
   "cell_type": "code",
   "execution_count": 42,
   "metadata": {},
   "outputs": [
    {
     "data": {
      "text/plain": [
       "[['杭州', '上海'],\n",
       " ['杭州', '南京'],\n",
       " ['杭州', '福州'],\n",
       " ['杭州', '合肥'],\n",
       " ['杭州', '南昌'],\n",
       " ['杭州', '济南'],\n",
       " ['杭州', '天津'],\n",
       " ['杭州', '北京']]"
      ]
     },
     "execution_count": 42,
     "metadata": {},
     "output_type": "execute_result"
    }
   ],
   "source": [
    "comprehensive_sort(pathes)"
   ]
  },
  {
   "cell_type": "code",
   "execution_count": 43,
   "metadata": {},
   "outputs": [
    {
     "data": {
      "text/plain": [
       "[['杭州', '北京']]"
      ]
     },
     "execution_count": 43,
     "metadata": {},
     "output_type": "execute_result"
    }
   ],
   "source": [
    "sorted(pathes, key=lambda p:get_path_dist(p),reverse=1)[:1]"
   ]
  },
  {
   "cell_type": "code",
   "execution_count": 44,
   "metadata": {},
   "outputs": [
    {
     "data": {
      "text/plain": [
       "1069.43116321627"
      ]
     },
     "execution_count": 44,
     "metadata": {},
     "output_type": "execute_result"
    }
   ],
   "source": [
    "get_path_dist(['杭州', '济南', \"上海\"])"
   ]
  },
  {
   "cell_type": "code",
   "execution_count": 45,
   "metadata": {},
   "outputs": [
    {
     "data": {
      "text/plain": [
       "490.9647966194679"
      ]
     },
     "execution_count": 45,
     "metadata": {},
     "output_type": "execute_result"
    }
   ],
   "source": [
    "get_city_dist(\"杭州\",\"济南\")"
   ]
  },
  {
   "cell_type": "code",
   "execution_count": 46,
   "metadata": {},
   "outputs": [
    {
     "data": {
      "text/plain": [
       "578.4663665968022"
      ]
     },
     "execution_count": 46,
     "metadata": {},
     "output_type": "execute_result"
    }
   ],
   "source": [
    "get_city_dist(\"济南\", \"上海\")"
   ]
  },
  {
   "cell_type": "code",
   "execution_count": 47,
   "metadata": {},
   "outputs": [
    {
     "data": {
      "text/plain": [
       "1069.43116321627"
      ]
     },
     "execution_count": 47,
     "metadata": {},
     "output_type": "execute_result"
    }
   ],
   "source": [
    "490.9647966194679+578.4663665968022"
   ]
  },
  {
   "cell_type": "code",
   "execution_count": 48,
   "metadata": {},
   "outputs": [],
   "source": [
    "def mini_change_station(pathes):\n",
    "    return sort_pathes(pathes,lambda p:len(p),beam=-1)"
   ]
  },
  {
   "cell_type": "code",
   "execution_count": 49,
   "metadata": {},
   "outputs": [
    {
     "data": {
      "text/plain": [
       "[['杭州', '济南'],\n",
       " ['杭州', '南京'],\n",
       " ['杭州', '合肥'],\n",
       " ['杭州', '南昌'],\n",
       " ['杭州', '福州'],\n",
       " ['杭州', '北京'],\n",
       " ['杭州', '上海']]"
      ]
     },
     "execution_count": 49,
     "metadata": {},
     "output_type": "execute_result"
    }
   ],
   "source": [
    "mini_change_station(pathes)"
   ]
  },
  {
   "cell_type": "code",
   "execution_count": 50,
   "metadata": {},
   "outputs": [],
   "source": [
    "def min_dist(pathes):\n",
    "    return sort_pathes(pathes,lambda p:get_path_dist(p),beam=-1)"
   ]
  },
  {
   "cell_type": "code",
   "execution_count": 51,
   "metadata": {},
   "outputs": [
    {
     "data": {
      "text/plain": [
       "[['杭州', '上海'],\n",
       " ['杭州', '南京'],\n",
       " ['杭州', '福州'],\n",
       " ['杭州', '合肥'],\n",
       " ['杭州', '南昌'],\n",
       " ['杭州', '济南'],\n",
       " ['杭州', '天津'],\n",
       " ['杭州', '北京']]"
      ]
     },
     "execution_count": 51,
     "metadata": {},
     "output_type": "execute_result"
    }
   ],
   "source": [
    "sort_pathes(pathes, lambda p: get_path_dist(p), 10)"
   ]
  },
  {
   "cell_type": "code",
   "execution_count": 52,
   "metadata": {},
   "outputs": [],
   "source": [
    "def most_view(pathes):\n",
    "    return sort_pathes(pathes,lambda p:-len(p),2)"
   ]
  },
  {
   "cell_type": "code",
   "execution_count": 53,
   "metadata": {},
   "outputs": [
    {
     "name": "stdout",
     "output_type": "stream",
     "text": [
      "43 steps cost for finding dest\n"
     ]
    },
    {
     "data": {
      "text/plain": [
       "['广州', '长沙', '北京']"
      ]
     },
     "execution_count": 53,
     "metadata": {},
     "output_type": "execute_result"
    }
   ],
   "source": [
    "search_dest(cities_connect_graph,\"广州\",\"北京\",get_successors,is_goal(predicted),comprehensive_sort)"
   ]
  },
  {
   "cell_type": "code",
   "execution_count": 54,
   "metadata": {},
   "outputs": [
    {
     "name": "stdout",
     "output_type": "stream",
     "text": [
      "24 steps cost for finding dest\n"
     ]
    },
    {
     "data": {
      "text/plain": [
       "['广州', '石家庄', '北京']"
      ]
     },
     "execution_count": 54,
     "metadata": {},
     "output_type": "execute_result"
    }
   ],
   "source": [
    "search_dest(cities_connect_graph,\"广州\",\"北京\",get_successors,is_goal(predicted),most_view)"
   ]
  },
  {
   "cell_type": "code",
   "execution_count": 55,
   "metadata": {},
   "outputs": [
    {
     "name": "stdout",
     "output_type": "stream",
     "text": [
      "254 steps cost for finding dest\n"
     ]
    },
    {
     "data": {
      "text/plain": [
       "['广州', '西安', '兰州', '嘉峪关']"
      ]
     },
     "execution_count": 55,
     "metadata": {},
     "output_type": "execute_result"
    }
   ],
   "source": [
    "search_dest(cities_connect_graph,\"广州\",\"嘉峪关\",get_successors,is_goal(predicted),mini_change_station)"
   ]
  },
  {
   "cell_type": "code",
   "execution_count": 56,
   "metadata": {},
   "outputs": [],
   "source": [
    "def search_all_routes(graph, start, dest):\n",
    "    pathes=[[start]]\n",
    "    seen=set()\n",
    "    routes=[]\n",
    "    total=0\n",
    "    while pathes:\n",
    "        path=pathes.pop(0)\n",
    "        total+=1\n",
    "        ###全路径搜索，若不加控制，都可能进入死循环，或者说NP\n",
    "        if total>1000:break\n",
    "        front=path[-1]\n",
    "        #if front in seen: continue \n",
    "        new_path=[]\n",
    "        ###无路节点异常控制\n",
    "        try:\n",
    "            graph[front]\n",
    "        except:\n",
    "            return routes\n",
    "        for nexts in graph[front]:\n",
    "            if nexts in path:continue\n",
    "            new_path=path+[nexts]\n",
    "            pathes.append(new_path)\n",
    "            if new_path in routes:continue\n",
    "            if nexts==dest: routes.append(new_path) \n",
    "        #seen.add(front)\n",
    "    return routes"
   ]
  },
  {
   "cell_type": "code",
   "execution_count": 57,
   "metadata": {},
   "outputs": [
    {
     "name": "stdout",
     "output_type": "stream",
     "text": [
      "24 steps cost for finding dest\n"
     ]
    },
    {
     "data": {
      "text/plain": [
       "['广州', '石家庄', '北京']"
      ]
     },
     "execution_count": 57,
     "metadata": {},
     "output_type": "execute_result"
    }
   ],
   "source": [
    "search_dest(cities_connect_graph,\"广州\",\"北京\",get_successors,is_goal(predicted),most_view)"
   ]
  },
  {
   "cell_type": "code",
   "execution_count": 58,
   "metadata": {},
   "outputs": [
    {
     "data": {
      "text/plain": [
       "[['北京', '长沙', '南宁'],\n",
       " ['北京', '武汉', '长沙', '南宁'],\n",
       " ['北京', '郑州', '长沙', '南宁'],\n",
       " ['北京', '石家庄', '长沙', '南宁'],\n",
       " ['北京', '石家庄', '郑州', '长沙', '南宁'],\n",
       " ['北京', '太原', '西安', '南宁'],\n",
       " ['北京', '石家庄', '西安', '南宁'],\n",
       " ['北京', '石家庄', '太原', '西安', '南宁'],\n",
       " ['北京', '石家庄', '武汉', '长沙', '南宁'],\n",
       " ['北京', '济南', '长沙', '南宁'],\n",
       " ['北京', '郑州', '西安', '南宁'],\n",
       " ['北京', '济南', '武汉', '长沙', '南宁'],\n",
       " ['北京', '郑州', '武汉', '长沙', '南宁'],\n",
       " ['北京', '呼和浩特', '西安', '南宁'],\n",
       " ['北京', '天津', '长沙', '南宁'],\n",
       " ['北京', '石家庄', '郑州', '西安', '南宁'],\n",
       " ['北京', '石家庄', '呼和浩特', '西安', '南宁'],\n",
       " ['北京', '武汉', '广州', '南宁'],\n",
       " ['北京', '郑州', '太原', '西安', '南宁'],\n",
       " ['北京', '济南', '郑州', '长沙', '南宁'],\n",
       " ['北京', '太原', '长沙', '南宁'],\n",
       " ['北京', '长沙', '广州', '南宁'],\n",
       " ['北京', '石家庄', '太原', '长沙', '南宁'],\n",
       " ['北京', '南昌', '长沙', '南宁'],\n",
       " ['北京', '石家庄', '西安', '贵阳', '南宁'],\n",
       " ['北京', '武汉', '长沙', '广州', '南宁'],\n",
       " ['北京', '郑州', '广州', '南宁'],\n",
       " ['北京', '郑州', '长沙', '广州', '南宁'],\n",
       " ['北京', '石家庄', '广州', '南宁'],\n",
       " ['北京', '济南', '南昌', '长沙', '南宁'],\n",
       " ['北京', '武汉', '澳门', '南宁'],\n",
       " ['北京', '石家庄', '郑州', '广州', '南宁'],\n",
       " ['北京', '石家庄', '长沙', '广州', '南宁'],\n",
       " ['北京', '石家庄', '武汉', '广州', '南宁'],\n",
       " ['北京', '合肥', '长沙', '南宁'],\n",
       " ['北京', '石家庄', '西安', '重庆', '南宁'],\n",
       " ['北京', '济南', '合肥', '长沙', '南宁'],\n",
       " ['北京', '合肥', '武汉', '长沙', '南宁'],\n",
       " ['北京', '南昌', '广州', '南宁'],\n",
       " ['北京', '济南', '武汉', '广州', '南宁'],\n",
       " ['北京', '济南', '石家庄', '长沙', '南宁'],\n",
       " ['北京', '济南', '郑州', '西安', '南宁'],\n",
       " ['北京', '武汉', '澳门', '广州', '南宁'],\n",
       " ['北京', '武汉', '广州', '澳门', '南宁'],\n",
       " ['北京', '郑州', '武汉', '广州', '南宁'],\n",
       " ['北京', '郑州', '西安', '贵阳', '南宁'],\n",
       " ['北京', '济南', '石家庄', '西安', '南宁'],\n",
       " ['北京', '济南', '太原', '西安', '南宁'],\n",
       " ['北京', '长沙', '澳门', '南宁'],\n",
       " ['北京', '济南', '南昌', '广州', '南宁'],\n",
       " ['北京', '郑州', '西安', '重庆', '南宁'],\n",
       " ['北京', '南昌', '澳门', '南宁'],\n",
       " ['北京', '武汉', '香港', '南宁'],\n",
       " ['北京', '武汉', '香港', '澳门', '南宁'],\n",
       " ['北京', '武汉', '西安', '南宁'],\n",
       " ['北京', '呼和浩特', '重庆', '南宁'],\n",
       " ['北京', '郑州', '澳门', '南宁'],\n",
       " ['北京', '济南', '长沙', '广州', '南宁'],\n",
       " ['北京', '武汉', '长沙', '澳门', '南宁'],\n",
       " ['北京', '武汉', '香港', '广州', '南宁'],\n",
       " ['北京', '郑州', '呼和浩特', '西安', '南宁'],\n",
       " ['北京', '郑州', '长沙', '澳门', '南宁'],\n",
       " ['北京', '郑州', '广州', '澳门', '南宁'],\n",
       " ['北京', '石家庄', '武汉', '澳门', '南宁'],\n",
       " ['北京', '石家庄', '郑州', '澳门', '南宁'],\n",
       " ['北京', '石家庄', '广州', '澳门', '南宁'],\n",
       " ['北京', '郑州', '澳门', '广州', '南宁'],\n",
       " ['北京', '济南', '天津', '长沙', '南宁'],\n",
       " ['北京', '石家庄', '长沙', '澳门', '南宁'],\n",
       " ['北京', '郑州', '太原', '长沙', '南宁'],\n",
       " ['北京', '济南', '武汉', '澳门', '南宁'],\n",
       " ['北京', '南昌', '香港', '南宁'],\n",
       " ['北京', '郑州', '武汉', '澳门', '南宁'],\n",
       " ['北京', '济南', '南昌', '澳门', '南宁'],\n",
       " ['北京', '合肥', '广州', '南宁'],\n",
       " ['北京', '武汉', '郑州', '长沙', '南宁'],\n",
       " ['北京', '石家庄', '呼和浩特', '重庆', '南宁'],\n",
       " ['北京', '济南', '合肥', '广州', '南宁'],\n",
       " ['北京', '武汉', '南昌', '长沙', '南宁'],\n",
       " ['北京', '长沙', '西安', '南宁'],\n",
       " ['北京', '石家庄', '南昌', '长沙', '南宁'],\n",
       " ['北京', '济南', '南昌', '香港', '南宁'],\n",
       " ['北京', '郑州', '石家庄', '长沙', '南宁'],\n",
       " ['北京', '济南', '呼和浩特', '西安', '南宁'],\n",
       " ['北京', '武汉', '长沙', '西安', '南宁'],\n",
       " ['北京', '长沙', '香港', '南宁'],\n",
       " ['北京', '石家庄', '武汉', '香港', '南宁'],\n",
       " ['北京', '郑州', '香港', '南宁'],\n",
       " ['北京', '石家庄', '武汉', '西安', '南宁'],\n",
       " ['北京', '郑州', '香港', '澳门', '南宁'],\n",
       " ['北京', '武汉', '澳门', '香港', '南宁'],\n",
       " ['北京', '合肥', '澳门', '南宁'],\n",
       " ['北京', '郑州', '长沙', '西安', '南宁'],\n",
       " ['北京', '郑州', '石家庄', '西安', '南宁'],\n",
       " ['北京', '郑州', '香港', '广州', '南宁'],\n",
       " ['北京', '济南', '郑州', '广州', '南宁'],\n",
       " ['北京', '济南', '合肥', '澳门', '南宁'],\n",
       " ['北京', '武汉', '广州', '香港', '南宁'],\n",
       " ['北京', '济南', '武汉', '香港', '南宁'],\n",
       " ['北京', '济南', '长沙', '澳门', '南宁']]"
      ]
     },
     "execution_count": 58,
     "metadata": {},
     "output_type": "execute_result"
    }
   ],
   "source": [
    "sort_pathes(search_all_routes(cities_connect_graph,'北京','南宁'), lambda p: get_path_dist(p), 100)"
   ]
  },
  {
   "cell_type": "code",
   "execution_count": 59,
   "metadata": {},
   "outputs": [
    {
     "data": {
      "text/plain": [
       "AtlasView({'兰州': {}, '西宁': {}, '成都': {}, '拉萨': {}})"
      ]
     },
     "execution_count": 59,
     "metadata": {},
     "output_type": "execute_result"
    }
   ],
   "source": [
    "get_successors('嘉峪关',cities_connect_graph)"
   ]
  },
  {
   "cell_type": "code",
   "execution_count": 60,
   "metadata": {},
   "outputs": [
    {
     "data": {
      "text/plain": [
       "[['西宁', '兰州', '南宁'],\n",
       " ['西宁', '成都', '南宁'],\n",
       " ['西宁', '拉萨', '南宁'],\n",
       " ['西宁', '贵阳', '南宁'],\n",
       " ['西宁', '重庆', '南宁'],\n",
       " ['西宁', '银川', '南宁'],\n",
       " ['西宁', '兰州', '成都', '南宁'],\n",
       " ['西宁', '兰州', '拉萨', '南宁'],\n",
       " ['西宁', '兰州', '贵阳', '南宁'],\n",
       " ['西宁', '兰州', '西安', '南宁'],\n",
       " ['西宁', '兰州', '重庆', '南宁'],\n",
       " ['西宁', '兰州', '银川', '南宁'],\n",
       " ['西宁', '嘉峪关', '兰州', '南宁'],\n",
       " ['西宁', '嘉峪关', '成都', '南宁'],\n",
       " ['西宁', '嘉峪关', '拉萨', '南宁'],\n",
       " ['西宁', '成都', '兰州', '南宁'],\n",
       " ['西宁', '成都', '拉萨', '南宁'],\n",
       " ['西宁', '成都', '贵阳', '南宁'],\n",
       " ['西宁', '成都', '西安', '南宁'],\n",
       " ['西宁', '成都', '重庆', '南宁'],\n",
       " ['西宁', '成都', '银川', '南宁'],\n",
       " ['西宁', '拉萨', '兰州', '南宁'],\n",
       " ['西宁', '拉萨', '成都', '南宁'],\n",
       " ['西宁', '拉萨', '贵阳', '南宁'],\n",
       " ['西宁', '拉萨', '重庆', '南宁'],\n",
       " ['西宁', '拉萨', '银川', '南宁'],\n",
       " ['西宁', '贵阳', '兰州', '南宁'],\n",
       " ['西宁', '贵阳', '成都', '南宁'],\n",
       " ['西宁', '贵阳', '拉萨', '南宁'],\n",
       " ['西宁', '贵阳', '西安', '南宁'],\n",
       " ['西宁', '贵阳', '重庆', '南宁'],\n",
       " ['西宁', '贵阳', '银川', '南宁'],\n",
       " ['西宁', '重庆', '兰州', '南宁'],\n",
       " ['西宁', '重庆', '成都', '南宁'],\n",
       " ['西宁', '重庆', '拉萨', '南宁'],\n",
       " ['西宁', '重庆', '贵阳', '南宁'],\n",
       " ['西宁', '重庆', '西安', '南宁'],\n",
       " ['西宁', '重庆', '银川', '南宁'],\n",
       " ['西宁', '银川', '兰州', '南宁'],\n",
       " ['西宁', '银川', '成都', '南宁'],\n",
       " ['西宁', '银川', '拉萨', '南宁'],\n",
       " ['西宁', '银川', '贵阳', '南宁'],\n",
       " ['西宁', '银川', '西安', '南宁'],\n",
       " ['西宁', '银川', '重庆', '南宁'],\n",
       " ['西宁', '兰州', '嘉峪关', '成都', '南宁'],\n",
       " ['西宁', '兰州', '嘉峪关', '拉萨', '南宁'],\n",
       " ['西宁', '兰州', '成都', '拉萨', '南宁'],\n",
       " ['西宁', '兰州', '成都', '贵阳', '南宁'],\n",
       " ['西宁', '兰州', '成都', '西安', '南宁'],\n",
       " ['西宁', '兰州', '成都', '重庆', '南宁'],\n",
       " ['西宁', '兰州', '成都', '银川', '南宁'],\n",
       " ['西宁', '兰州', '拉萨', '成都', '南宁'],\n",
       " ['西宁', '兰州', '拉萨', '贵阳', '南宁'],\n",
       " ['西宁', '兰州', '拉萨', '重庆', '南宁'],\n",
       " ['西宁', '兰州', '拉萨', '银川', '南宁'],\n",
       " ['西宁', '兰州', '贵阳', '成都', '南宁'],\n",
       " ['西宁', '兰州', '贵阳', '拉萨', '南宁'],\n",
       " ['西宁', '兰州', '贵阳', '西安', '南宁'],\n",
       " ['西宁', '兰州', '贵阳', '重庆', '南宁'],\n",
       " ['西宁', '兰州', '贵阳', '银川', '南宁'],\n",
       " ['西宁', '兰州', '西安', '成都', '南宁'],\n",
       " ['西宁', '兰州', '西安', '贵阳', '南宁'],\n",
       " ['西宁', '兰州', '西安', '广州', '南宁'],\n",
       " ['西宁', '兰州', '西安', '长沙', '南宁'],\n",
       " ['西宁', '兰州', '西安', '重庆', '南宁'],\n",
       " ['西宁', '兰州', '西安', '银川', '南宁'],\n",
       " ['西宁', '兰州', '重庆', '成都', '南宁'],\n",
       " ['西宁', '兰州', '重庆', '拉萨', '南宁'],\n",
       " ['西宁', '兰州', '重庆', '贵阳', '南宁'],\n",
       " ['西宁', '兰州', '重庆', '西安', '南宁'],\n",
       " ['西宁', '兰州', '重庆', '银川', '南宁'],\n",
       " ['西宁', '兰州', '银川', '成都', '南宁'],\n",
       " ['西宁', '兰州', '银川', '拉萨', '南宁'],\n",
       " ['西宁', '兰州', '银川', '贵阳', '南宁'],\n",
       " ['西宁', '兰州', '银川', '西安', '南宁'],\n",
       " ['西宁', '兰州', '银川', '重庆', '南宁'],\n",
       " ['西宁', '嘉峪关', '兰州', '成都', '南宁'],\n",
       " ['西宁', '嘉峪关', '兰州', '拉萨', '南宁'],\n",
       " ['西宁', '嘉峪关', '兰州', '贵阳', '南宁'],\n",
       " ['西宁', '嘉峪关', '兰州', '西安', '南宁'],\n",
       " ['西宁', '嘉峪关', '兰州', '重庆', '南宁'],\n",
       " ['西宁', '嘉峪关', '兰州', '银川', '南宁'],\n",
       " ['西宁', '嘉峪关', '成都', '兰州', '南宁'],\n",
       " ['西宁', '嘉峪关', '成都', '拉萨', '南宁'],\n",
       " ['西宁', '嘉峪关', '成都', '贵阳', '南宁'],\n",
       " ['西宁', '嘉峪关', '成都', '西安', '南宁'],\n",
       " ['西宁', '嘉峪关', '成都', '重庆', '南宁'],\n",
       " ['西宁', '嘉峪关', '成都', '银川', '南宁'],\n",
       " ['西宁', '嘉峪关', '拉萨', '兰州', '南宁'],\n",
       " ['西宁', '嘉峪关', '拉萨', '成都', '南宁'],\n",
       " ['西宁', '嘉峪关', '拉萨', '贵阳', '南宁'],\n",
       " ['西宁', '嘉峪关', '拉萨', '重庆', '南宁'],\n",
       " ['西宁', '嘉峪关', '拉萨', '银川', '南宁'],\n",
       " ['西宁', '成都', '兰州', '拉萨', '南宁'],\n",
       " ['西宁', '成都', '兰州', '贵阳', '南宁'],\n",
       " ['西宁', '成都', '兰州', '西安', '南宁'],\n",
       " ['西宁', '成都', '兰州', '重庆', '南宁'],\n",
       " ['西宁', '成都', '兰州', '银川', '南宁'],\n",
       " ['西宁', '成都', '嘉峪关', '兰州', '南宁'],\n",
       " ['西宁', '成都', '嘉峪关', '拉萨', '南宁'],\n",
       " ['西宁', '成都', '拉萨', '兰州', '南宁'],\n",
       " ['西宁', '成都', '拉萨', '贵阳', '南宁'],\n",
       " ['西宁', '成都', '拉萨', '重庆', '南宁'],\n",
       " ['西宁', '成都', '拉萨', '银川', '南宁'],\n",
       " ['西宁', '成都', '贵阳', '兰州', '南宁'],\n",
       " ['西宁', '成都', '贵阳', '拉萨', '南宁'],\n",
       " ['西宁', '成都', '贵阳', '西安', '南宁'],\n",
       " ['西宁', '成都', '贵阳', '重庆', '南宁'],\n",
       " ['西宁', '成都', '贵阳', '银川', '南宁'],\n",
       " ['西宁', '成都', '西安', '兰州', '南宁'],\n",
       " ['西宁', '成都', '西安', '贵阳', '南宁'],\n",
       " ['西宁', '成都', '西安', '广州', '南宁'],\n",
       " ['西宁', '成都', '西安', '长沙', '南宁'],\n",
       " ['西宁', '成都', '西安', '重庆', '南宁'],\n",
       " ['西宁', '成都', '西安', '银川', '南宁'],\n",
       " ['西宁', '成都', '重庆', '兰州', '南宁'],\n",
       " ['西宁', '成都', '重庆', '拉萨', '南宁'],\n",
       " ['西宁', '成都', '重庆', '贵阳', '南宁'],\n",
       " ['西宁', '成都', '重庆', '西安', '南宁'],\n",
       " ['西宁', '成都', '重庆', '银川', '南宁'],\n",
       " ['西宁', '成都', '银川', '兰州', '南宁'],\n",
       " ['西宁', '成都', '银川', '拉萨', '南宁'],\n",
       " ['西宁', '成都', '银川', '贵阳', '南宁'],\n",
       " ['西宁', '成都', '银川', '西安', '南宁'],\n",
       " ['西宁', '成都', '银川', '重庆', '南宁'],\n",
       " ['西宁', '拉萨', '兰州', '成都', '南宁'],\n",
       " ['西宁', '拉萨', '兰州', '贵阳', '南宁'],\n",
       " ['西宁', '拉萨', '兰州', '西安', '南宁'],\n",
       " ['西宁', '拉萨', '兰州', '重庆', '南宁'],\n",
       " ['西宁', '拉萨', '兰州', '银川', '南宁'],\n",
       " ['西宁', '拉萨', '嘉峪关', '兰州', '南宁'],\n",
       " ['西宁', '拉萨', '嘉峪关', '成都', '南宁'],\n",
       " ['西宁', '拉萨', '成都', '兰州', '南宁'],\n",
       " ['西宁', '拉萨', '成都', '贵阳', '南宁'],\n",
       " ['西宁', '拉萨', '成都', '西安', '南宁'],\n",
       " ['西宁', '拉萨', '成都', '重庆', '南宁'],\n",
       " ['西宁', '拉萨', '成都', '银川', '南宁'],\n",
       " ['西宁', '拉萨', '贵阳', '兰州', '南宁'],\n",
       " ['西宁', '拉萨', '贵阳', '成都', '南宁'],\n",
       " ['西宁', '拉萨', '贵阳', '西安', '南宁'],\n",
       " ['西宁', '拉萨', '贵阳', '重庆', '南宁'],\n",
       " ['西宁', '拉萨', '贵阳', '银川', '南宁'],\n",
       " ['西宁', '拉萨', '重庆', '兰州', '南宁'],\n",
       " ['西宁', '拉萨', '重庆', '成都', '南宁'],\n",
       " ['西宁', '拉萨', '重庆', '贵阳', '南宁'],\n",
       " ['西宁', '拉萨', '重庆', '西安', '南宁'],\n",
       " ['西宁', '拉萨', '重庆', '银川', '南宁'],\n",
       " ['西宁', '拉萨', '银川', '兰州', '南宁'],\n",
       " ['西宁', '拉萨', '银川', '成都', '南宁'],\n",
       " ['西宁', '拉萨', '银川', '贵阳', '南宁'],\n",
       " ['西宁', '拉萨', '银川', '西安', '南宁'],\n",
       " ['西宁', '拉萨', '银川', '重庆', '南宁'],\n",
       " ['西宁', '贵阳', '兰州', '成都', '南宁'],\n",
       " ['西宁', '贵阳', '兰州', '拉萨', '南宁'],\n",
       " ['西宁', '贵阳', '兰州', '西安', '南宁'],\n",
       " ['西宁', '贵阳', '兰州', '重庆', '南宁'],\n",
       " ['西宁', '贵阳', '兰州', '银川', '南宁'],\n",
       " ['西宁', '贵阳', '成都', '兰州', '南宁'],\n",
       " ['西宁', '贵阳', '成都', '拉萨', '南宁'],\n",
       " ['西宁', '贵阳', '成都', '西安', '南宁'],\n",
       " ['西宁', '贵阳', '成都', '重庆', '南宁'],\n",
       " ['西宁', '贵阳', '成都', '银川', '南宁'],\n",
       " ['西宁', '贵阳', '拉萨', '兰州', '南宁'],\n",
       " ['西宁', '贵阳', '拉萨', '成都', '南宁'],\n",
       " ['西宁', '贵阳', '拉萨', '重庆', '南宁'],\n",
       " ['西宁', '贵阳', '拉萨', '银川', '南宁'],\n",
       " ['西宁', '贵阳', '西安', '兰州', '南宁'],\n",
       " ['西宁', '贵阳', '西安', '成都', '南宁'],\n",
       " ['西宁', '贵阳', '西安', '广州', '南宁'],\n",
       " ['西宁', '贵阳', '西安', '长沙', '南宁'],\n",
       " ['西宁', '贵阳', '西安', '重庆', '南宁'],\n",
       " ['西宁', '贵阳', '西安', '银川', '南宁'],\n",
       " ['西宁', '贵阳', '重庆', '兰州', '南宁'],\n",
       " ['西宁', '贵阳', '重庆', '成都', '南宁'],\n",
       " ['西宁', '贵阳', '重庆', '拉萨', '南宁'],\n",
       " ['西宁', '贵阳', '重庆', '西安', '南宁'],\n",
       " ['西宁', '贵阳', '重庆', '银川', '南宁'],\n",
       " ['西宁', '贵阳', '银川', '兰州', '南宁'],\n",
       " ['西宁', '贵阳', '银川', '成都', '南宁'],\n",
       " ['西宁', '贵阳', '银川', '拉萨', '南宁'],\n",
       " ['西宁', '贵阳', '银川', '西安', '南宁'],\n",
       " ['西宁', '贵阳', '银川', '重庆', '南宁'],\n",
       " ['西宁', '重庆', '兰州', '成都', '南宁'],\n",
       " ['西宁', '重庆', '兰州', '拉萨', '南宁'],\n",
       " ['西宁', '重庆', '兰州', '贵阳', '南宁'],\n",
       " ['西宁', '重庆', '兰州', '西安', '南宁'],\n",
       " ['西宁', '重庆', '兰州', '银川', '南宁'],\n",
       " ['西宁', '重庆', '成都', '兰州', '南宁'],\n",
       " ['西宁', '重庆', '成都', '拉萨', '南宁'],\n",
       " ['西宁', '重庆', '成都', '贵阳', '南宁'],\n",
       " ['西宁', '重庆', '成都', '西安', '南宁'],\n",
       " ['西宁', '重庆', '成都', '银川', '南宁'],\n",
       " ['西宁', '重庆', '拉萨', '兰州', '南宁'],\n",
       " ['西宁', '重庆', '拉萨', '成都', '南宁'],\n",
       " ['西宁', '重庆', '拉萨', '贵阳', '南宁'],\n",
       " ['西宁', '重庆', '拉萨', '银川', '南宁'],\n",
       " ['西宁', '重庆', '贵阳', '兰州', '南宁'],\n",
       " ['西宁', '重庆', '贵阳', '成都', '南宁'],\n",
       " ['西宁', '重庆', '贵阳', '拉萨', '南宁'],\n",
       " ['西宁', '重庆', '贵阳', '西安', '南宁'],\n",
       " ['西宁', '重庆', '贵阳', '银川', '南宁'],\n",
       " ['西宁', '重庆', '西安', '兰州', '南宁'],\n",
       " ['西宁', '重庆', '西安', '成都', '南宁'],\n",
       " ['西宁', '重庆', '西安', '贵阳', '南宁'],\n",
       " ['西宁', '重庆', '西安', '广州', '南宁'],\n",
       " ['西宁', '重庆', '西安', '长沙', '南宁'],\n",
       " ['西宁', '重庆', '西安', '银川', '南宁'],\n",
       " ['西宁', '重庆', '呼和浩特', '长沙', '南宁'],\n",
       " ['西宁', '重庆', '呼和浩特', '西安', '南宁'],\n",
       " ['西宁', '重庆', '呼和浩特', '银川', '南宁'],\n",
       " ['西宁', '重庆', '银川', '兰州', '南宁'],\n",
       " ['西宁', '重庆', '银川', '成都', '南宁'],\n",
       " ['西宁', '重庆', '银川', '拉萨', '南宁'],\n",
       " ['西宁', '重庆', '银川', '贵阳', '南宁'],\n",
       " ['西宁', '重庆', '银川', '西安', '南宁'],\n",
       " ['西宁', '银川', '兰州', '成都', '南宁'],\n",
       " ['西宁', '银川', '兰州', '拉萨', '南宁'],\n",
       " ['西宁', '银川', '兰州', '贵阳', '南宁'],\n",
       " ['西宁', '银川', '兰州', '西安', '南宁'],\n",
       " ['西宁', '银川', '兰州', '重庆', '南宁'],\n",
       " ['西宁', '银川', '成都', '兰州', '南宁'],\n",
       " ['西宁', '银川', '成都', '拉萨', '南宁'],\n",
       " ['西宁', '银川', '成都', '贵阳', '南宁'],\n",
       " ['西宁', '银川', '成都', '西安', '南宁'],\n",
       " ['西宁', '银川', '成都', '重庆', '南宁'],\n",
       " ['西宁', '银川', '拉萨', '兰州', '南宁'],\n",
       " ['西宁', '银川', '拉萨', '成都', '南宁'],\n",
       " ['西宁', '银川', '拉萨', '贵阳', '南宁'],\n",
       " ['西宁', '银川', '拉萨', '重庆', '南宁'],\n",
       " ['西宁', '银川', '贵阳', '兰州', '南宁'],\n",
       " ['西宁', '银川', '贵阳', '成都', '南宁'],\n",
       " ['西宁', '银川', '贵阳', '拉萨', '南宁'],\n",
       " ['西宁', '银川', '贵阳', '西安', '南宁'],\n",
       " ['西宁', '银川', '贵阳', '重庆', '南宁'],\n",
       " ['西宁', '银川', '太原', '广州', '南宁'],\n",
       " ['西宁', '银川', '太原', '长沙', '南宁'],\n",
       " ['西宁', '银川', '太原', '西安', '南宁'],\n",
       " ['西宁', '银川', '太原', '澳门', '南宁'],\n",
       " ['西宁', '银川', '西安', '兰州', '南宁'],\n",
       " ['西宁', '银川', '西安', '成都', '南宁'],\n",
       " ['西宁', '银川', '西安', '贵阳', '南宁'],\n",
       " ['西宁', '银川', '西安', '广州', '南宁'],\n",
       " ['西宁', '银川', '西安', '长沙', '南宁'],\n",
       " ['西宁', '银川', '西安', '重庆', '南宁'],\n",
       " ['西宁', '银川', '重庆', '兰州', '南宁'],\n",
       " ['西宁', '银川', '重庆', '成都', '南宁'],\n",
       " ['西宁', '银川', '重庆', '拉萨', '南宁'],\n",
       " ['西宁', '银川', '重庆', '贵阳', '南宁'],\n",
       " ['西宁', '银川', '重庆', '西安', '南宁'],\n",
       " ['西宁', '银川', '呼和浩特', '长沙', '南宁'],\n",
       " ['西宁', '银川', '呼和浩特', '西安', '南宁'],\n",
       " ['西宁', '银川', '呼和浩特', '重庆', '南宁'],\n",
       " ['西宁', '兰州', '嘉峪关', '成都', '拉萨', '南宁'],\n",
       " ['西宁', '兰州', '嘉峪关', '成都', '贵阳', '南宁'],\n",
       " ['西宁', '兰州', '嘉峪关', '成都', '西安', '南宁'],\n",
       " ['西宁', '兰州', '嘉峪关', '成都', '重庆', '南宁'],\n",
       " ['西宁', '兰州', '嘉峪关', '成都', '银川', '南宁'],\n",
       " ['西宁', '兰州', '嘉峪关', '拉萨', '成都', '南宁'],\n",
       " ['西宁', '兰州', '嘉峪关', '拉萨', '贵阳', '南宁'],\n",
       " ['西宁', '兰州', '嘉峪关', '拉萨', '重庆', '南宁'],\n",
       " ['西宁', '兰州', '嘉峪关', '拉萨', '银川', '南宁'],\n",
       " ['西宁', '兰州', '成都', '嘉峪关', '拉萨', '南宁'],\n",
       " ['西宁', '兰州', '成都', '拉萨', '贵阳', '南宁'],\n",
       " ['西宁', '兰州', '成都', '拉萨', '重庆', '南宁'],\n",
       " ['西宁', '兰州', '成都', '拉萨', '银川', '南宁'],\n",
       " ['西宁', '兰州', '成都', '贵阳', '拉萨', '南宁'],\n",
       " ['西宁', '兰州', '成都', '贵阳', '西安', '南宁'],\n",
       " ['西宁', '兰州', '成都', '贵阳', '重庆', '南宁'],\n",
       " ['西宁', '兰州', '成都', '贵阳', '银川', '南宁'],\n",
       " ['西宁', '兰州', '成都', '西安', '贵阳', '南宁'],\n",
       " ['西宁', '兰州', '成都', '西安', '广州', '南宁'],\n",
       " ['西宁', '兰州', '成都', '西安', '长沙', '南宁'],\n",
       " ['西宁', '兰州', '成都', '西安', '重庆', '南宁'],\n",
       " ['西宁', '兰州', '成都', '西安', '银川', '南宁'],\n",
       " ['西宁', '兰州', '成都', '重庆', '拉萨', '南宁'],\n",
       " ['西宁', '兰州', '成都', '重庆', '贵阳', '南宁'],\n",
       " ['西宁', '兰州', '成都', '重庆', '西安', '南宁'],\n",
       " ['西宁', '兰州', '成都', '重庆', '银川', '南宁'],\n",
       " ['西宁', '兰州', '成都', '银川', '拉萨', '南宁'],\n",
       " ['西宁', '兰州', '成都', '银川', '贵阳', '南宁'],\n",
       " ['西宁', '兰州', '成都', '银川', '西安', '南宁'],\n",
       " ['西宁', '兰州', '成都', '银川', '重庆', '南宁'],\n",
       " ['西宁', '兰州', '拉萨', '嘉峪关', '成都', '南宁'],\n",
       " ['西宁', '兰州', '拉萨', '成都', '贵阳', '南宁'],\n",
       " ['西宁', '兰州', '拉萨', '成都', '西安', '南宁'],\n",
       " ['西宁', '兰州', '拉萨', '成都', '重庆', '南宁'],\n",
       " ['西宁', '兰州', '拉萨', '成都', '银川', '南宁'],\n",
       " ['西宁', '兰州', '拉萨', '贵阳', '成都', '南宁'],\n",
       " ['西宁', '兰州', '拉萨', '贵阳', '西安', '南宁'],\n",
       " ['西宁', '兰州', '拉萨', '贵阳', '重庆', '南宁'],\n",
       " ['西宁', '兰州', '拉萨', '贵阳', '银川', '南宁'],\n",
       " ['西宁', '兰州', '拉萨', '重庆', '成都', '南宁'],\n",
       " ['西宁', '兰州', '拉萨', '重庆', '贵阳', '南宁'],\n",
       " ['西宁', '兰州', '拉萨', '重庆', '西安', '南宁'],\n",
       " ['西宁', '兰州', '拉萨', '重庆', '银川', '南宁'],\n",
       " ['西宁', '兰州', '拉萨', '银川', '成都', '南宁'],\n",
       " ['西宁', '兰州', '拉萨', '银川', '贵阳', '南宁'],\n",
       " ['西宁', '兰州', '拉萨', '银川', '西安', '南宁'],\n",
       " ['西宁', '兰州', '拉萨', '银川', '重庆', '南宁'],\n",
       " ['西宁', '兰州', '贵阳', '成都', '拉萨', '南宁'],\n",
       " ['西宁', '兰州', '贵阳', '成都', '西安', '南宁'],\n",
       " ['西宁', '兰州', '贵阳', '成都', '重庆', '南宁'],\n",
       " ['西宁', '兰州', '贵阳', '成都', '银川', '南宁'],\n",
       " ['西宁', '兰州', '贵阳', '拉萨', '成都', '南宁'],\n",
       " ['西宁', '兰州', '贵阳', '拉萨', '重庆', '南宁'],\n",
       " ['西宁', '兰州', '贵阳', '拉萨', '银川', '南宁'],\n",
       " ['西宁', '兰州', '贵阳', '西安', '成都', '南宁'],\n",
       " ['西宁', '兰州', '贵阳', '西安', '广州', '南宁'],\n",
       " ['西宁', '兰州', '贵阳', '西安', '长沙', '南宁'],\n",
       " ['西宁', '兰州', '贵阳', '西安', '重庆', '南宁'],\n",
       " ['西宁', '兰州', '贵阳', '西安', '银川', '南宁'],\n",
       " ['西宁', '兰州', '贵阳', '重庆', '成都', '南宁'],\n",
       " ['西宁', '兰州', '贵阳', '重庆', '拉萨', '南宁'],\n",
       " ['西宁', '兰州', '贵阳', '重庆', '西安', '南宁'],\n",
       " ['西宁', '兰州', '贵阳', '重庆', '银川', '南宁'],\n",
       " ['西宁', '兰州', '贵阳', '银川', '成都', '南宁'],\n",
       " ['西宁', '兰州', '贵阳', '银川', '拉萨', '南宁'],\n",
       " ['西宁', '兰州', '贵阳', '银川', '西安', '南宁'],\n",
       " ['西宁', '兰州', '贵阳', '银川', '重庆', '南宁'],\n",
       " ['西宁', '兰州', '西安', '成都', '拉萨', '南宁'],\n",
       " ['西宁', '兰州', '西安', '成都', '贵阳', '南宁'],\n",
       " ['西宁', '兰州', '西安', '成都', '重庆', '南宁'],\n",
       " ['西宁', '兰州', '西安', '成都', '银川', '南宁'],\n",
       " ['西宁', '兰州', '西安', '石家庄', '广州', '南宁'],\n",
       " ['西宁', '兰州', '西安', '石家庄', '长沙', '南宁'],\n",
       " ['西宁', '兰州', '西安', '贵阳', '成都', '南宁'],\n",
       " ['西宁', '兰州', '西安', '贵阳', '拉萨', '南宁'],\n",
       " ['西宁', '兰州', '西安', '贵阳', '重庆', '南宁'],\n",
       " ['西宁', '兰州', '西安', '贵阳', '银川', '南宁'],\n",
       " ['西宁', '兰州', '西安', '武汉', '广州', '南宁'],\n",
       " ['西宁', '兰州', '西安', '武汉', '长沙', '南宁'],\n",
       " ['西宁', '兰州', '西安', '武汉', '香港', '南宁'],\n",
       " ['西宁', '兰州', '西安', '武汉', '澳门', '南宁'],\n",
       " ['西宁', '兰州', '西安', '郑州', '广州', '南宁'],\n",
       " ['西宁', '兰州', '西安', '郑州', '长沙', '南宁'],\n",
       " ['西宁', '兰州', '西安', '郑州', '香港', '南宁'],\n",
       " ['西宁', '兰州', '西安', '郑州', '澳门', '南宁'],\n",
       " ['西宁', '兰州', '西安', '广州', '长沙', '南宁'],\n",
       " ['西宁', '兰州', '西安', '广州', '香港', '南宁'],\n",
       " ['西宁', '兰州', '西安', '广州', '澳门', '南宁'],\n",
       " ['西宁', '兰州', '西安', '长沙', '广州', '南宁'],\n",
       " ['西宁', '兰州', '西安', '长沙', '香港', '南宁'],\n",
       " ['西宁', '兰州', '西安', '长沙', '澳门', '南宁'],\n",
       " ['西宁', '兰州', '西安', '太原', '广州', '南宁'],\n",
       " ['西宁', '兰州', '西安', '太原', '长沙', '南宁'],\n",
       " ['西宁', '兰州', '西安', '太原', '银川', '南宁'],\n",
       " ['西宁', '兰州', '西安', '太原', '澳门', '南宁'],\n",
       " ['西宁', '兰州', '西安', '重庆', '成都', '南宁'],\n",
       " ['西宁', '兰州', '西安', '重庆', '拉萨', '南宁'],\n",
       " ['西宁', '兰州', '西安', '重庆', '贵阳', '南宁'],\n",
       " ['西宁', '兰州', '西安', '重庆', '银川', '南宁'],\n",
       " ['西宁', '兰州', '西安', '呼和浩特', '长沙', '南宁'],\n",
       " ['西宁', '兰州', '西安', '呼和浩特', '重庆', '南宁'],\n",
       " ['西宁', '兰州', '西安', '呼和浩特', '银川', '南宁'],\n",
       " ['西宁', '兰州', '西安', '银川', '成都', '南宁'],\n",
       " ['西宁', '兰州', '西安', '银川', '拉萨', '南宁'],\n",
       " ['西宁', '兰州', '西安', '银川', '贵阳', '南宁'],\n",
       " ['西宁', '兰州', '西安', '银川', '重庆', '南宁'],\n",
       " ['西宁', '兰州', '重庆', '成都', '拉萨', '南宁'],\n",
       " ['西宁', '兰州', '重庆', '成都', '贵阳', '南宁'],\n",
       " ['西宁', '兰州', '重庆', '成都', '西安', '南宁'],\n",
       " ['西宁', '兰州', '重庆', '成都', '银川', '南宁'],\n",
       " ['西宁', '兰州', '重庆', '拉萨', '成都', '南宁'],\n",
       " ['西宁', '兰州', '重庆', '拉萨', '贵阳', '南宁'],\n",
       " ['西宁', '兰州', '重庆', '拉萨', '银川', '南宁'],\n",
       " ['西宁', '兰州', '重庆', '贵阳', '成都', '南宁'],\n",
       " ['西宁', '兰州', '重庆', '贵阳', '拉萨', '南宁'],\n",
       " ['西宁', '兰州', '重庆', '贵阳', '西安', '南宁'],\n",
       " ['西宁', '兰州', '重庆', '贵阳', '银川', '南宁'],\n",
       " ['西宁', '兰州', '重庆', '西安', '成都', '南宁'],\n",
       " ['西宁', '兰州', '重庆', '西安', '贵阳', '南宁'],\n",
       " ['西宁', '兰州', '重庆', '西安', '广州', '南宁'],\n",
       " ['西宁', '兰州', '重庆', '西安', '长沙', '南宁'],\n",
       " ['西宁', '兰州', '重庆', '西安', '银川', '南宁'],\n",
       " ['西宁', '兰州', '重庆', '呼和浩特', '长沙', '南宁'],\n",
       " ['西宁', '兰州', '重庆', '呼和浩特', '西安', '南宁'],\n",
       " ['西宁', '兰州', '重庆', '呼和浩特', '银川', '南宁'],\n",
       " ['西宁', '兰州', '重庆', '银川', '成都', '南宁'],\n",
       " ['西宁', '兰州', '重庆', '银川', '拉萨', '南宁'],\n",
       " ['西宁', '兰州', '重庆', '银川', '贵阳', '南宁'],\n",
       " ['西宁', '兰州', '重庆', '银川', '西安', '南宁'],\n",
       " ['西宁', '兰州', '银川', '成都', '拉萨', '南宁'],\n",
       " ['西宁', '兰州', '银川', '成都', '贵阳', '南宁'],\n",
       " ['西宁', '兰州', '银川', '成都', '西安', '南宁'],\n",
       " ['西宁', '兰州', '银川', '成都', '重庆', '南宁'],\n",
       " ['西宁', '兰州', '银川', '拉萨', '成都', '南宁'],\n",
       " ['西宁', '兰州', '银川', '拉萨', '贵阳', '南宁'],\n",
       " ['西宁', '兰州', '银川', '拉萨', '重庆', '南宁'],\n",
       " ['西宁', '兰州', '银川', '贵阳', '成都', '南宁'],\n",
       " ['西宁', '兰州', '银川', '贵阳', '拉萨', '南宁'],\n",
       " ['西宁', '兰州', '银川', '贵阳', '西安', '南宁'],\n",
       " ['西宁', '兰州', '银川', '贵阳', '重庆', '南宁'],\n",
       " ['西宁', '兰州', '银川', '太原', '广州', '南宁'],\n",
       " ['西宁', '兰州', '银川', '太原', '长沙', '南宁'],\n",
       " ['西宁', '兰州', '银川', '太原', '西安', '南宁'],\n",
       " ['西宁', '兰州', '银川', '太原', '澳门', '南宁'],\n",
       " ['西宁', '兰州', '银川', '西安', '成都', '南宁'],\n",
       " ['西宁', '兰州', '银川', '西安', '贵阳', '南宁'],\n",
       " ['西宁', '兰州', '银川', '西安', '广州', '南宁'],\n",
       " ['西宁', '兰州', '银川', '西安', '长沙', '南宁'],\n",
       " ['西宁', '兰州', '银川', '西安', '重庆', '南宁'],\n",
       " ['西宁', '兰州', '银川', '重庆', '成都', '南宁'],\n",
       " ['西宁', '兰州', '银川', '重庆', '拉萨', '南宁'],\n",
       " ['西宁', '兰州', '银川', '重庆', '贵阳', '南宁'],\n",
       " ['西宁', '兰州', '银川', '重庆', '西安', '南宁'],\n",
       " ['西宁', '兰州', '银川', '呼和浩特', '长沙', '南宁'],\n",
       " ['西宁', '兰州', '银川', '呼和浩特', '西安', '南宁'],\n",
       " ['西宁', '兰州', '银川', '呼和浩特', '重庆', '南宁'],\n",
       " ['西宁', '嘉峪关', '兰州', '成都', '拉萨', '南宁'],\n",
       " ['西宁', '嘉峪关', '兰州', '成都', '贵阳', '南宁'],\n",
       " ['西宁', '嘉峪关', '兰州', '成都', '西安', '南宁'],\n",
       " ['西宁', '嘉峪关', '兰州', '成都', '重庆', '南宁'],\n",
       " ['西宁', '嘉峪关', '兰州', '成都', '银川', '南宁'],\n",
       " ['西宁', '嘉峪关', '兰州', '拉萨', '成都', '南宁'],\n",
       " ['西宁', '嘉峪关', '兰州', '拉萨', '贵阳', '南宁'],\n",
       " ['西宁', '嘉峪关', '兰州', '拉萨', '重庆', '南宁'],\n",
       " ['西宁', '嘉峪关', '兰州', '拉萨', '银川', '南宁'],\n",
       " ['西宁', '嘉峪关', '兰州', '贵阳', '成都', '南宁'],\n",
       " ['西宁', '嘉峪关', '兰州', '贵阳', '拉萨', '南宁'],\n",
       " ['西宁', '嘉峪关', '兰州', '贵阳', '西安', '南宁'],\n",
       " ['西宁', '嘉峪关', '兰州', '贵阳', '重庆', '南宁'],\n",
       " ['西宁', '嘉峪关', '兰州', '贵阳', '银川', '南宁'],\n",
       " ['西宁', '嘉峪关', '兰州', '西安', '成都', '南宁'],\n",
       " ['西宁', '嘉峪关', '兰州', '西安', '贵阳', '南宁'],\n",
       " ['西宁', '嘉峪关', '兰州', '西安', '广州', '南宁'],\n",
       " ['西宁', '嘉峪关', '兰州', '西安', '长沙', '南宁'],\n",
       " ['西宁', '嘉峪关', '兰州', '西安', '重庆', '南宁'],\n",
       " ['西宁', '嘉峪关', '兰州', '西安', '银川', '南宁'],\n",
       " ['西宁', '嘉峪关', '兰州', '重庆', '成都', '南宁'],\n",
       " ['西宁', '嘉峪关', '兰州', '重庆', '拉萨', '南宁'],\n",
       " ['西宁', '嘉峪关', '兰州', '重庆', '贵阳', '南宁'],\n",
       " ['西宁', '嘉峪关', '兰州', '重庆', '西安', '南宁'],\n",
       " ['西宁', '嘉峪关', '兰州', '重庆', '银川', '南宁'],\n",
       " ['西宁', '嘉峪关', '兰州', '银川', '成都', '南宁'],\n",
       " ['西宁', '嘉峪关', '兰州', '银川', '拉萨', '南宁'],\n",
       " ['西宁', '嘉峪关', '兰州', '银川', '贵阳', '南宁'],\n",
       " ['西宁', '嘉峪关', '兰州', '银川', '西安', '南宁'],\n",
       " ['西宁', '嘉峪关', '兰州', '银川', '重庆', '南宁'],\n",
       " ['西宁', '嘉峪关', '成都', '兰州', '拉萨', '南宁'],\n",
       " ['西宁', '嘉峪关', '成都', '兰州', '贵阳', '南宁'],\n",
       " ['西宁', '嘉峪关', '成都', '兰州', '西安', '南宁'],\n",
       " ['西宁', '嘉峪关', '成都', '兰州', '重庆', '南宁'],\n",
       " ['西宁', '嘉峪关', '成都', '兰州', '银川', '南宁'],\n",
       " ['西宁', '嘉峪关', '成都', '拉萨', '兰州', '南宁'],\n",
       " ['西宁', '嘉峪关', '成都', '拉萨', '贵阳', '南宁'],\n",
       " ['西宁', '嘉峪关', '成都', '拉萨', '重庆', '南宁'],\n",
       " ['西宁', '嘉峪关', '成都', '拉萨', '银川', '南宁'],\n",
       " ['西宁', '嘉峪关', '成都', '贵阳', '兰州', '南宁'],\n",
       " ['西宁', '嘉峪关', '成都', '贵阳', '拉萨', '南宁'],\n",
       " ['西宁', '嘉峪关', '成都', '贵阳', '西安', '南宁'],\n",
       " ['西宁', '嘉峪关', '成都', '贵阳', '重庆', '南宁'],\n",
       " ['西宁', '嘉峪关', '成都', '贵阳', '银川', '南宁'],\n",
       " ['西宁', '嘉峪关', '成都', '西安', '兰州', '南宁'],\n",
       " ['西宁', '嘉峪关', '成都', '西安', '贵阳', '南宁'],\n",
       " ['西宁', '嘉峪关', '成都', '西安', '广州', '南宁'],\n",
       " ['西宁', '嘉峪关', '成都', '西安', '长沙', '南宁'],\n",
       " ['西宁', '嘉峪关', '成都', '西安', '重庆', '南宁'],\n",
       " ['西宁', '嘉峪关', '成都', '西安', '银川', '南宁'],\n",
       " ['西宁', '嘉峪关', '成都', '重庆', '兰州', '南宁'],\n",
       " ['西宁', '嘉峪关', '成都', '重庆', '拉萨', '南宁'],\n",
       " ['西宁', '嘉峪关', '成都', '重庆', '贵阳', '南宁'],\n",
       " ['西宁', '嘉峪关', '成都', '重庆', '西安', '南宁'],\n",
       " ['西宁', '嘉峪关', '成都', '重庆', '银川', '南宁']]"
      ]
     },
     "execution_count": 60,
     "metadata": {},
     "output_type": "execute_result"
    }
   ],
   "source": [
    "search_all_routes(cities_connect_graph,'西宁','南宁')"
   ]
  },
  {
   "cell_type": "code",
   "execution_count": 61,
   "metadata": {},
   "outputs": [
    {
     "data": {
      "text/plain": [
       "[['北京', '石家庄', '广州'],\n",
       " ['北京', '武汉', '广州'],\n",
       " ['北京', '郑州', '广州'],\n",
       " ['北京', '合肥', '广州'],\n",
       " ['北京', '南昌', '广州'],\n",
       " ['北京', '长沙', '广州'],\n",
       " ['北京', '太原', '广州'],\n",
       " ['北京', '石家庄', '武汉', '广州'],\n",
       " ['北京', '石家庄', '郑州', '广州'],\n",
       " ['北京', '石家庄', '合肥', '广州'],\n",
       " ['北京', '石家庄', '南昌', '广州'],\n",
       " ['北京', '石家庄', '长沙', '广州'],\n",
       " ['北京', '石家庄', '太原', '广州'],\n",
       " ['北京', '石家庄', '西安', '广州'],\n",
       " ['北京', '武汉', '石家庄', '广州'],\n",
       " ['北京', '武汉', '郑州', '广州'],\n",
       " ['北京', '武汉', '合肥', '广州'],\n",
       " ['北京', '武汉', '南昌', '广州'],\n",
       " ['北京', '武汉', '福州', '广州'],\n",
       " ['北京', '武汉', '长沙', '广州'],\n",
       " ['北京', '武汉', '太原', '广州'],\n",
       " ['北京', '武汉', '西安', '广州'],\n",
       " ['北京', '武汉', '香港', '广州'],\n",
       " ['北京', '武汉', '澳门', '广州'],\n",
       " ['北京', '郑州', '石家庄', '广州'],\n",
       " ['北京', '郑州', '武汉', '广州'],\n",
       " ['北京', '郑州', '合肥', '广州'],\n",
       " ['北京', '郑州', '南昌', '广州'],\n",
       " ['北京', '郑州', '长沙', '广州'],\n",
       " ['北京', '郑州', '太原', '广州'],\n",
       " ['北京', '郑州', '西安', '广州'],\n",
       " ['北京', '郑州', '香港', '广州'],\n",
       " ['北京', '郑州', '澳门', '广州'],\n",
       " ['北京', '济南', '石家庄', '广州'],\n",
       " ['北京', '济南', '武汉', '广州'],\n",
       " ['北京', '济南', '郑州', '广州'],\n",
       " ['北京', '济南', '合肥', '广州'],\n",
       " ['北京', '济南', '南昌', '广州'],\n",
       " ['北京', '济南', '福州', '广州'],\n",
       " ['北京', '济南', '长沙', '广州'],\n",
       " ['北京', '济南', '太原', '广州'],\n",
       " ['北京', '南京', '石家庄', '广州'],\n",
       " ['北京', '南京', '武汉', '广州'],\n",
       " ['北京', '南京', '郑州', '广州'],\n",
       " ['北京', '南京', '合肥', '广州'],\n",
       " ['北京', '南京', '南昌', '广州'],\n",
       " ['北京', '南京', '福州', '广州'],\n",
       " ['北京', '南京', '长沙', '广州'],\n",
       " ['北京', '合肥', '石家庄', '广州'],\n",
       " ['北京', '合肥', '武汉', '广州'],\n",
       " ['北京', '合肥', '郑州', '广州'],\n",
       " ['北京', '合肥', '南昌', '广州'],\n",
       " ['北京', '合肥', '福州', '广州'],\n",
       " ['北京', '合肥', '长沙', '广州'],\n",
       " ['北京', '合肥', '太原', '广州'],\n",
       " ['北京', '合肥', '香港', '广州'],\n",
       " ['北京', '合肥', '澳门', '广州'],\n",
       " ['北京', '杭州', '武汉', '广州'],\n",
       " ['北京', '杭州', '合肥', '广州'],\n",
       " ['北京', '杭州', '南昌', '广州'],\n",
       " ['北京', '杭州', '福州', '广州'],\n",
       " ['北京', '南昌', '石家庄', '广州'],\n",
       " ['北京', '南昌', '武汉', '广州'],\n",
       " ['北京', '南昌', '郑州', '广州'],\n",
       " ['北京', '南昌', '合肥', '广州'],\n",
       " ['北京', '南昌', '福州', '广州'],\n",
       " ['北京', '南昌', '长沙', '广州'],\n",
       " ['北京', '南昌', '太原', '广州'],\n",
       " ['北京', '南昌', '香港', '广州'],\n",
       " ['北京', '南昌', '澳门', '广州'],\n",
       " ['北京', '长沙', '石家庄', '广州'],\n",
       " ['北京', '长沙', '武汉', '广州'],\n",
       " ['北京', '长沙', '郑州', '广州'],\n",
       " ['北京', '长沙', '合肥', '广州'],\n",
       " ['北京', '长沙', '南昌', '广州'],\n",
       " ['北京', '长沙', '太原', '广州'],\n",
       " ['北京', '长沙', '西安', '广州'],\n",
       " ['北京', '长沙', '南宁', '广州'],\n",
       " ['北京', '长沙', '香港', '广州'],\n",
       " ['北京', '长沙', '澳门', '广州'],\n",
       " ['北京', '太原', '石家庄', '广州'],\n",
       " ['北京', '太原', '武汉', '广州'],\n",
       " ['北京', '太原', '郑州', '广州'],\n",
       " ['北京', '太原', '合肥', '广州'],\n",
       " ['北京', '太原', '南昌', '广州'],\n",
       " ['北京', '太原', '长沙', '广州'],\n",
       " ['北京', '太原', '西安', '广州'],\n",
       " ['北京', '太原', '澳门', '广州'],\n",
       " ['北京', '天津', '石家庄', '广州'],\n",
       " ['北京', '天津', '武汉', '广州'],\n",
       " ['北京', '天津', '郑州', '广州'],\n",
       " ['北京', '天津', '合肥', '广州'],\n",
       " ['北京', '天津', '南昌', '广州'],\n",
       " ['北京', '天津', '长沙', '广州'],\n",
       " ['北京', '天津', '太原', '广州'],\n",
       " ['北京', '呼和浩特', '石家庄', '广州'],\n",
       " ['北京', '呼和浩特', '武汉', '广州'],\n",
       " ['北京', '呼和浩特', '郑州', '广州'],\n",
       " ['北京', '呼和浩特', '长沙', '广州'],\n",
       " ['北京', '呼和浩特', '太原', '广州'],\n",
       " ['北京', '呼和浩特', '西安', '广州'],\n",
       " ['北京', '石家庄', '武汉', '郑州', '广州'],\n",
       " ['北京', '石家庄', '武汉', '合肥', '广州'],\n",
       " ['北京', '石家庄', '武汉', '南昌', '广州'],\n",
       " ['北京', '石家庄', '武汉', '福州', '广州'],\n",
       " ['北京', '石家庄', '武汉', '长沙', '广州'],\n",
       " ['北京', '石家庄', '武汉', '太原', '广州'],\n",
       " ['北京', '石家庄', '武汉', '西安', '广州'],\n",
       " ['北京', '石家庄', '武汉', '香港', '广州'],\n",
       " ['北京', '石家庄', '武汉', '澳门', '广州'],\n",
       " ['北京', '石家庄', '郑州', '武汉', '广州'],\n",
       " ['北京', '石家庄', '郑州', '合肥', '广州'],\n",
       " ['北京', '石家庄', '郑州', '南昌', '广州'],\n",
       " ['北京', '石家庄', '郑州', '长沙', '广州'],\n",
       " ['北京', '石家庄', '郑州', '太原', '广州'],\n",
       " ['北京', '石家庄', '郑州', '西安', '广州'],\n",
       " ['北京', '石家庄', '郑州', '香港', '广州'],\n",
       " ['北京', '石家庄', '郑州', '澳门', '广州'],\n",
       " ['北京', '石家庄', '济南', '武汉', '广州'],\n",
       " ['北京', '石家庄', '济南', '郑州', '广州'],\n",
       " ['北京', '石家庄', '济南', '合肥', '广州'],\n",
       " ['北京', '石家庄', '济南', '南昌', '广州'],\n",
       " ['北京', '石家庄', '济南', '福州', '广州'],\n",
       " ['北京', '石家庄', '济南', '长沙', '广州'],\n",
       " ['北京', '石家庄', '济南', '太原', '广州'],\n",
       " ['北京', '石家庄', '南京', '武汉', '广州'],\n",
       " ['北京', '石家庄', '南京', '郑州', '广州'],\n",
       " ['北京', '石家庄', '南京', '合肥', '广州'],\n",
       " ['北京', '石家庄', '南京', '南昌', '广州'],\n",
       " ['北京', '石家庄', '南京', '福州', '广州'],\n",
       " ['北京', '石家庄', '南京', '长沙', '广州'],\n",
       " ['北京', '石家庄', '合肥', '武汉', '广州'],\n",
       " ['北京', '石家庄', '合肥', '郑州', '广州'],\n",
       " ['北京', '石家庄', '合肥', '南昌', '广州'],\n",
       " ['北京', '石家庄', '合肥', '福州', '广州'],\n",
       " ['北京', '石家庄', '合肥', '长沙', '广州'],\n",
       " ['北京', '石家庄', '合肥', '太原', '广州'],\n",
       " ['北京', '石家庄', '合肥', '香港', '广州'],\n",
       " ['北京', '石家庄', '合肥', '澳门', '广州'],\n",
       " ['北京', '石家庄', '南昌', '武汉', '广州'],\n",
       " ['北京', '石家庄', '南昌', '郑州', '广州'],\n",
       " ['北京', '石家庄', '南昌', '合肥', '广州'],\n",
       " ['北京', '石家庄', '南昌', '福州', '广州'],\n",
       " ['北京', '石家庄', '南昌', '长沙', '广州'],\n",
       " ['北京', '石家庄', '南昌', '太原', '广州'],\n",
       " ['北京', '石家庄', '南昌', '香港', '广州'],\n",
       " ['北京', '石家庄', '南昌', '澳门', '广州'],\n",
       " ['北京', '石家庄', '长沙', '武汉', '广州'],\n",
       " ['北京', '石家庄', '长沙', '郑州', '广州'],\n",
       " ['北京', '石家庄', '长沙', '合肥', '广州'],\n",
       " ['北京', '石家庄', '长沙', '南昌', '广州'],\n",
       " ['北京', '石家庄', '长沙', '太原', '广州'],\n",
       " ['北京', '石家庄', '长沙', '西安', '广州'],\n",
       " ['北京', '石家庄', '长沙', '南宁', '广州'],\n",
       " ['北京', '石家庄', '长沙', '香港', '广州'],\n",
       " ['北京', '石家庄', '长沙', '澳门', '广州'],\n",
       " ['北京', '石家庄', '太原', '武汉', '广州'],\n",
       " ['北京', '石家庄', '太原', '郑州', '广州'],\n",
       " ['北京', '石家庄', '太原', '合肥', '广州'],\n",
       " ['北京', '石家庄', '太原', '南昌', '广州'],\n",
       " ['北京', '石家庄', '太原', '长沙', '广州'],\n",
       " ['北京', '石家庄', '太原', '西安', '广州'],\n",
       " ['北京', '石家庄', '太原', '澳门', '广州'],\n",
       " ['北京', '石家庄', '西安', '武汉', '广州'],\n",
       " ['北京', '石家庄', '西安', '郑州', '广州'],\n",
       " ['北京', '石家庄', '西安', '长沙', '广州'],\n",
       " ['北京', '石家庄', '西安', '太原', '广州'],\n",
       " ['北京', '石家庄', '西安', '南宁', '广州'],\n",
       " ['北京', '石家庄', '天津', '武汉', '广州'],\n",
       " ['北京', '石家庄', '天津', '郑州', '广州'],\n",
       " ['北京', '石家庄', '天津', '合肥', '广州'],\n",
       " ['北京', '石家庄', '天津', '南昌', '广州'],\n",
       " ['北京', '石家庄', '天津', '长沙', '广州'],\n",
       " ['北京', '石家庄', '天津', '太原', '广州'],\n",
       " ['北京', '石家庄', '呼和浩特', '武汉', '广州'],\n",
       " ['北京', '石家庄', '呼和浩特', '郑州', '广州'],\n",
       " ['北京', '石家庄', '呼和浩特', '长沙', '广州'],\n",
       " ['北京', '石家庄', '呼和浩特', '太原', '广州'],\n",
       " ['北京', '石家庄', '呼和浩特', '西安', '广州'],\n",
       " ['北京', '武汉', '石家庄', '郑州', '广州'],\n",
       " ['北京', '武汉', '石家庄', '合肥', '广州'],\n",
       " ['北京', '武汉', '石家庄', '南昌', '广州'],\n",
       " ['北京', '武汉', '石家庄', '长沙', '广州'],\n",
       " ['北京', '武汉', '石家庄', '太原', '广州'],\n",
       " ['北京', '武汉', '石家庄', '西安', '广州'],\n",
       " ['北京', '武汉', '郑州', '石家庄', '广州'],\n",
       " ['北京', '武汉', '郑州', '合肥', '广州'],\n",
       " ['北京', '武汉', '郑州', '南昌', '广州'],\n",
       " ['北京', '武汉', '郑州', '长沙', '广州'],\n",
       " ['北京', '武汉', '郑州', '太原', '广州'],\n",
       " ['北京', '武汉', '郑州', '西安', '广州'],\n",
       " ['北京', '武汉', '郑州', '香港', '广州'],\n",
       " ['北京', '武汉', '郑州', '澳门', '广州'],\n",
       " ['北京', '武汉', '济南', '石家庄', '广州'],\n",
       " ['北京', '武汉', '济南', '郑州', '广州'],\n",
       " ['北京', '武汉', '济南', '合肥', '广州'],\n",
       " ['北京', '武汉', '济南', '南昌', '广州'],\n",
       " ['北京', '武汉', '济南', '福州', '广州'],\n",
       " ['北京', '武汉', '济南', '长沙', '广州'],\n",
       " ['北京', '武汉', '济南', '太原', '广州'],\n",
       " ['北京', '武汉', '南京', '石家庄', '广州'],\n",
       " ['北京', '武汉', '南京', '郑州', '广州'],\n",
       " ['北京', '武汉', '南京', '合肥', '广州'],\n",
       " ['北京', '武汉', '南京', '南昌', '广州'],\n",
       " ['北京', '武汉', '南京', '福州', '广州'],\n",
       " ['北京', '武汉', '南京', '长沙', '广州'],\n",
       " ['北京', '武汉', '合肥', '石家庄', '广州'],\n",
       " ['北京', '武汉', '合肥', '郑州', '广州'],\n",
       " ['北京', '武汉', '合肥', '南昌', '广州'],\n",
       " ['北京', '武汉', '合肥', '福州', '广州'],\n",
       " ['北京', '武汉', '合肥', '长沙', '广州'],\n",
       " ['北京', '武汉', '合肥', '太原', '广州'],\n",
       " ['北京', '武汉', '合肥', '香港', '广州'],\n",
       " ['北京', '武汉', '合肥', '澳门', '广州'],\n",
       " ['北京', '武汉', '杭州', '合肥', '广州'],\n",
       " ['北京', '武汉', '杭州', '南昌', '广州'],\n",
       " ['北京', '武汉', '杭州', '福州', '广州'],\n",
       " ['北京', '武汉', '南昌', '石家庄', '广州'],\n",
       " ['北京', '武汉', '南昌', '郑州', '广州'],\n",
       " ['北京', '武汉', '南昌', '合肥', '广州'],\n",
       " ['北京', '武汉', '南昌', '福州', '广州'],\n",
       " ['北京', '武汉', '南昌', '长沙', '广州'],\n",
       " ['北京', '武汉', '南昌', '太原', '广州'],\n",
       " ['北京', '武汉', '南昌', '香港', '广州'],\n",
       " ['北京', '武汉', '南昌', '澳门', '广州'],\n",
       " ['北京', '武汉', '福州', '合肥', '广州'],\n",
       " ['北京', '武汉', '福州', '南昌', '广州'],\n",
       " ['北京', '武汉', '福州', '香港', '广州'],\n",
       " ['北京', '武汉', '福州', '澳门', '广州'],\n",
       " ['北京', '武汉', '长沙', '石家庄', '广州'],\n",
       " ['北京', '武汉', '长沙', '郑州', '广州'],\n",
       " ['北京', '武汉', '长沙', '合肥', '广州'],\n",
       " ['北京', '武汉', '长沙', '南昌', '广州'],\n",
       " ['北京', '武汉', '长沙', '太原', '广州'],\n",
       " ['北京', '武汉', '长沙', '西安', '广州'],\n",
       " ['北京', '武汉', '长沙', '南宁', '广州'],\n",
       " ['北京', '武汉', '长沙', '香港', '广州'],\n",
       " ['北京', '武汉', '长沙', '澳门', '广州'],\n",
       " ['北京', '武汉', '太原', '石家庄', '广州'],\n",
       " ['北京', '武汉', '太原', '郑州', '广州'],\n",
       " ['北京', '武汉', '太原', '合肥', '广州'],\n",
       " ['北京', '武汉', '太原', '南昌', '广州'],\n",
       " ['北京', '武汉', '太原', '长沙', '广州'],\n",
       " ['北京', '武汉', '太原', '西安', '广州'],\n",
       " ['北京', '武汉', '太原', '澳门', '广州'],\n",
       " ['北京', '武汉', '西安', '石家庄', '广州'],\n",
       " ['北京', '武汉', '西安', '郑州', '广州'],\n",
       " ['北京', '武汉', '西安', '长沙', '广州'],\n",
       " ['北京', '武汉', '西安', '太原', '广州'],\n",
       " ['北京', '武汉', '西安', '南宁', '广州'],\n",
       " ['北京', '武汉', '天津', '石家庄', '广州'],\n",
       " ['北京', '武汉', '天津', '郑州', '广州'],\n",
       " ['北京', '武汉', '天津', '合肥', '广州'],\n",
       " ['北京', '武汉', '天津', '南昌', '广州'],\n",
       " ['北京', '武汉', '天津', '长沙', '广州'],\n",
       " ['北京', '武汉', '天津', '太原', '广州'],\n",
       " ['北京', '武汉', '呼和浩特', '石家庄', '广州'],\n",
       " ['北京', '武汉', '呼和浩特', '郑州', '广州'],\n",
       " ['北京', '武汉', '呼和浩特', '长沙', '广州'],\n",
       " ['北京', '武汉', '呼和浩特', '太原', '广州'],\n",
       " ['北京', '武汉', '呼和浩特', '西安', '广州'],\n",
       " ['北京', '武汉', '香港', '郑州', '广州'],\n",
       " ['北京', '武汉', '香港', '合肥', '广州'],\n",
       " ['北京', '武汉', '香港', '南昌', '广州'],\n",
       " ['北京', '武汉', '香港', '福州', '广州'],\n",
       " ['北京', '武汉', '香港', '长沙', '广州'],\n",
       " ['北京', '武汉', '香港', '南宁', '广州'],\n",
       " ['北京', '武汉', '香港', '澳门', '广州'],\n",
       " ['北京', '武汉', '澳门', '郑州', '广州'],\n",
       " ['北京', '武汉', '澳门', '合肥', '广州'],\n",
       " ['北京', '武汉', '澳门', '南昌', '广州'],\n",
       " ['北京', '武汉', '澳门', '福州', '广州'],\n",
       " ['北京', '武汉', '澳门', '长沙', '广州'],\n",
       " ['北京', '武汉', '澳门', '太原', '广州'],\n",
       " ['北京', '武汉', '澳门', '南宁', '广州'],\n",
       " ['北京', '武汉', '澳门', '香港', '广州'],\n",
       " ['北京', '郑州', '石家庄', '武汉', '广州'],\n",
       " ['北京', '郑州', '石家庄', '合肥', '广州'],\n",
       " ['北京', '郑州', '石家庄', '南昌', '广州'],\n",
       " ['北京', '郑州', '石家庄', '长沙', '广州'],\n",
       " ['北京', '郑州', '石家庄', '太原', '广州'],\n",
       " ['北京', '郑州', '石家庄', '西安', '广州'],\n",
       " ['北京', '郑州', '武汉', '石家庄', '广州'],\n",
       " ['北京', '郑州', '武汉', '合肥', '广州'],\n",
       " ['北京', '郑州', '武汉', '南昌', '广州'],\n",
       " ['北京', '郑州', '武汉', '福州', '广州'],\n",
       " ['北京', '郑州', '武汉', '长沙', '广州'],\n",
       " ['北京', '郑州', '武汉', '太原', '广州'],\n",
       " ['北京', '郑州', '武汉', '西安', '广州'],\n",
       " ['北京', '郑州', '武汉', '香港', '广州'],\n",
       " ['北京', '郑州', '武汉', '澳门', '广州'],\n",
       " ['北京', '郑州', '济南', '石家庄', '广州'],\n",
       " ['北京', '郑州', '济南', '武汉', '广州'],\n",
       " ['北京', '郑州', '济南', '合肥', '广州'],\n",
       " ['北京', '郑州', '济南', '南昌', '广州'],\n",
       " ['北京', '郑州', '济南', '福州', '广州'],\n",
       " ['北京', '郑州', '济南', '长沙', '广州'],\n",
       " ['北京', '郑州', '济南', '太原', '广州'],\n",
       " ['北京', '郑州', '南京', '石家庄', '广州'],\n",
       " ['北京', '郑州', '南京', '武汉', '广州'],\n",
       " ['北京', '郑州', '南京', '合肥', '广州'],\n",
       " ['北京', '郑州', '南京', '南昌', '广州'],\n",
       " ['北京', '郑州', '南京', '福州', '广州'],\n",
       " ['北京', '郑州', '南京', '长沙', '广州'],\n",
       " ['北京', '郑州', '合肥', '石家庄', '广州'],\n",
       " ['北京', '郑州', '合肥', '武汉', '广州'],\n",
       " ['北京', '郑州', '合肥', '南昌', '广州'],\n",
       " ['北京', '郑州', '合肥', '福州', '广州'],\n",
       " ['北京', '郑州', '合肥', '长沙', '广州'],\n",
       " ['北京', '郑州', '合肥', '太原', '广州'],\n",
       " ['北京', '郑州', '合肥', '香港', '广州'],\n",
       " ['北京', '郑州', '合肥', '澳门', '广州'],\n",
       " ['北京', '郑州', '南昌', '石家庄', '广州'],\n",
       " ['北京', '郑州', '南昌', '武汉', '广州'],\n",
       " ['北京', '郑州', '南昌', '合肥', '广州'],\n",
       " ['北京', '郑州', '南昌', '福州', '广州'],\n",
       " ['北京', '郑州', '南昌', '长沙', '广州'],\n",
       " ['北京', '郑州', '南昌', '太原', '广州'],\n",
       " ['北京', '郑州', '南昌', '香港', '广州'],\n",
       " ['北京', '郑州', '南昌', '澳门', '广州'],\n",
       " ['北京', '郑州', '长沙', '石家庄', '广州'],\n",
       " ['北京', '郑州', '长沙', '武汉', '广州'],\n",
       " ['北京', '郑州', '长沙', '合肥', '广州'],\n",
       " ['北京', '郑州', '长沙', '南昌', '广州'],\n",
       " ['北京', '郑州', '长沙', '太原', '广州'],\n",
       " ['北京', '郑州', '长沙', '西安', '广州'],\n",
       " ['北京', '郑州', '长沙', '南宁', '广州'],\n",
       " ['北京', '郑州', '长沙', '香港', '广州'],\n",
       " ['北京', '郑州', '长沙', '澳门', '广州'],\n",
       " ['北京', '郑州', '太原', '石家庄', '广州'],\n",
       " ['北京', '郑州', '太原', '武汉', '广州'],\n",
       " ['北京', '郑州', '太原', '合肥', '广州'],\n",
       " ['北京', '郑州', '太原', '南昌', '广州'],\n",
       " ['北京', '郑州', '太原', '长沙', '广州'],\n",
       " ['北京', '郑州', '太原', '西安', '广州'],\n",
       " ['北京', '郑州', '太原', '澳门', '广州'],\n",
       " ['北京', '郑州', '西安', '石家庄', '广州'],\n",
       " ['北京', '郑州', '西安', '武汉', '广州'],\n",
       " ['北京', '郑州', '西安', '长沙', '广州'],\n",
       " ['北京', '郑州', '西安', '太原', '广州'],\n",
       " ['北京', '郑州', '西安', '南宁', '广州'],\n",
       " ['北京', '郑州', '天津', '石家庄', '广州'],\n",
       " ['北京', '郑州', '天津', '武汉', '广州'],\n",
       " ['北京', '郑州', '天津', '合肥', '广州'],\n",
       " ['北京', '郑州', '天津', '南昌', '广州'],\n",
       " ['北京', '郑州', '天津', '长沙', '广州'],\n",
       " ['北京', '郑州', '天津', '太原', '广州'],\n",
       " ['北京', '郑州', '呼和浩特', '石家庄', '广州'],\n",
       " ['北京', '郑州', '呼和浩特', '武汉', '广州'],\n",
       " ['北京', '郑州', '呼和浩特', '长沙', '广州'],\n",
       " ['北京', '郑州', '呼和浩特', '太原', '广州'],\n",
       " ['北京', '郑州', '呼和浩特', '西安', '广州'],\n",
       " ['北京', '郑州', '香港', '武汉', '广州'],\n",
       " ['北京', '郑州', '香港', '合肥', '广州'],\n",
       " ['北京', '郑州', '香港', '南昌', '广州'],\n",
       " ['北京', '郑州', '香港', '福州', '广州'],\n",
       " ['北京', '郑州', '香港', '长沙', '广州'],\n",
       " ['北京', '郑州', '香港', '南宁', '广州'],\n",
       " ['北京', '郑州', '香港', '澳门', '广州'],\n",
       " ['北京', '郑州', '澳门', '武汉', '广州'],\n",
       " ['北京', '郑州', '澳门', '合肥', '广州'],\n",
       " ['北京', '郑州', '澳门', '南昌', '广州'],\n",
       " ['北京', '郑州', '澳门', '福州', '广州'],\n",
       " ['北京', '郑州', '澳门', '长沙', '广州'],\n",
       " ['北京', '郑州', '澳门', '太原', '广州'],\n",
       " ['北京', '郑州', '澳门', '南宁', '广州'],\n",
       " ['北京', '郑州', '澳门', '香港', '广州'],\n",
       " ['北京', '济南', '石家庄', '武汉', '广州'],\n",
       " ['北京', '济南', '石家庄', '郑州', '广州'],\n",
       " ['北京', '济南', '石家庄', '合肥', '广州'],\n",
       " ['北京', '济南', '石家庄', '南昌', '广州'],\n",
       " ['北京', '济南', '石家庄', '长沙', '广州'],\n",
       " ['北京', '济南', '石家庄', '太原', '广州'],\n",
       " ['北京', '济南', '石家庄', '西安', '广州'],\n",
       " ['北京', '济南', '武汉', '石家庄', '广州'],\n",
       " ['北京', '济南', '武汉', '郑州', '广州'],\n",
       " ['北京', '济南', '武汉', '合肥', '广州'],\n",
       " ['北京', '济南', '武汉', '南昌', '广州'],\n",
       " ['北京', '济南', '武汉', '福州', '广州'],\n",
       " ['北京', '济南', '武汉', '长沙', '广州'],\n",
       " ['北京', '济南', '武汉', '太原', '广州'],\n",
       " ['北京', '济南', '武汉', '西安', '广州'],\n",
       " ['北京', '济南', '武汉', '香港', '广州'],\n",
       " ['北京', '济南', '武汉', '澳门', '广州'],\n",
       " ['北京', '济南', '郑州', '石家庄', '广州'],\n",
       " ['北京', '济南', '郑州', '武汉', '广州'],\n",
       " ['北京', '济南', '郑州', '合肥', '广州'],\n",
       " ['北京', '济南', '郑州', '南昌', '广州'],\n",
       " ['北京', '济南', '郑州', '长沙', '广州'],\n",
       " ['北京', '济南', '郑州', '太原', '广州'],\n",
       " ['北京', '济南', '郑州', '西安', '广州'],\n",
       " ['北京', '济南', '郑州', '香港', '广州'],\n",
       " ['北京', '济南', '郑州', '澳门', '广州'],\n",
       " ['北京', '济南', '南京', '石家庄', '广州'],\n",
       " ['北京', '济南', '南京', '武汉', '广州'],\n",
       " ['北京', '济南', '南京', '郑州', '广州'],\n",
       " ['北京', '济南', '南京', '合肥', '广州'],\n",
       " ['北京', '济南', '南京', '南昌', '广州'],\n",
       " ['北京', '济南', '南京', '福州', '广州'],\n",
       " ['北京', '济南', '南京', '长沙', '广州'],\n",
       " ['北京', '济南', '合肥', '石家庄', '广州'],\n",
       " ['北京', '济南', '合肥', '武汉', '广州'],\n",
       " ['北京', '济南', '合肥', '郑州', '广州'],\n",
       " ['北京', '济南', '合肥', '南昌', '广州'],\n",
       " ['北京', '济南', '合肥', '福州', '广州'],\n",
       " ['北京', '济南', '合肥', '长沙', '广州'],\n",
       " ['北京', '济南', '合肥', '太原', '广州'],\n",
       " ['北京', '济南', '合肥', '香港', '广州'],\n",
       " ['北京', '济南', '合肥', '澳门', '广州'],\n",
       " ['北京', '济南', '杭州', '武汉', '广州'],\n",
       " ['北京', '济南', '杭州', '合肥', '广州'],\n",
       " ['北京', '济南', '杭州', '南昌', '广州'],\n",
       " ['北京', '济南', '杭州', '福州', '广州'],\n",
       " ['北京', '济南', '南昌', '石家庄', '广州'],\n",
       " ['北京', '济南', '南昌', '武汉', '广州'],\n",
       " ['北京', '济南', '南昌', '郑州', '广州'],\n",
       " ['北京', '济南', '南昌', '合肥', '广州'],\n",
       " ['北京', '济南', '南昌', '福州', '广州'],\n",
       " ['北京', '济南', '南昌', '长沙', '广州'],\n",
       " ['北京', '济南', '南昌', '太原', '广州'],\n",
       " ['北京', '济南', '南昌', '香港', '广州'],\n",
       " ['北京', '济南', '南昌', '澳门', '广州'],\n",
       " ['北京', '济南', '福州', '武汉', '广州'],\n",
       " ['北京', '济南', '福州', '合肥', '广州'],\n",
       " ['北京', '济南', '福州', '南昌', '广州'],\n",
       " ['北京', '济南', '福州', '香港', '广州'],\n",
       " ['北京', '济南', '福州', '澳门', '广州'],\n",
       " ['北京', '济南', '长沙', '石家庄', '广州'],\n",
       " ['北京', '济南', '长沙', '武汉', '广州'],\n",
       " ['北京', '济南', '长沙', '郑州', '广州'],\n",
       " ['北京', '济南', '长沙', '合肥', '广州'],\n",
       " ['北京', '济南', '长沙', '南昌', '广州'],\n",
       " ['北京', '济南', '长沙', '太原', '广州'],\n",
       " ['北京', '济南', '长沙', '西安', '广州'],\n",
       " ['北京', '济南', '长沙', '南宁', '广州'],\n",
       " ['北京', '济南', '长沙', '香港', '广州'],\n",
       " ['北京', '济南', '长沙', '澳门', '广州'],\n",
       " ['北京', '济南', '太原', '石家庄', '广州'],\n",
       " ['北京', '济南', '太原', '武汉', '广州'],\n",
       " ['北京', '济南', '太原', '郑州', '广州'],\n",
       " ['北京', '济南', '太原', '合肥', '广州'],\n",
       " ['北京', '济南', '太原', '南昌', '广州'],\n",
       " ['北京', '济南', '太原', '长沙', '广州'],\n",
       " ['北京', '济南', '太原', '西安', '广州'],\n",
       " ['北京', '济南', '太原', '澳门', '广州'],\n",
       " ['北京', '济南', '上海', '合肥', '广州'],\n",
       " ['北京', '济南', '上海', '南昌', '广州'],\n",
       " ['北京', '济南', '上海', '福州', '广州'],\n",
       " ['北京', '济南', '天津', '石家庄', '广州'],\n",
       " ['北京', '济南', '天津', '武汉', '广州'],\n",
       " ['北京', '济南', '天津', '郑州', '广州'],\n",
       " ['北京', '济南', '天津', '合肥', '广州'],\n",
       " ['北京', '济南', '天津', '南昌', '广州'],\n",
       " ['北京', '济南', '天津', '长沙', '广州'],\n",
       " ['北京', '济南', '天津', '太原', '广州'],\n",
       " ['北京', '济南', '呼和浩特', '石家庄', '广州'],\n",
       " ['北京', '济南', '呼和浩特', '武汉', '广州'],\n",
       " ['北京', '济南', '呼和浩特', '郑州', '广州'],\n",
       " ['北京', '济南', '呼和浩特', '长沙', '广州'],\n",
       " ['北京', '济南', '呼和浩特', '太原', '广州'],\n",
       " ['北京', '济南', '呼和浩特', '西安', '广州'],\n",
       " ['北京', '南京', '石家庄', '武汉', '广州'],\n",
       " ['北京', '南京', '石家庄', '郑州', '广州'],\n",
       " ['北京', '南京', '石家庄', '合肥', '广州'],\n",
       " ['北京', '南京', '石家庄', '南昌', '广州'],\n",
       " ['北京', '南京', '石家庄', '长沙', '广州'],\n",
       " ['北京', '南京', '石家庄', '太原', '广州'],\n",
       " ['北京', '南京', '石家庄', '西安', '广州'],\n",
       " ['北京', '南京', '武汉', '石家庄', '广州'],\n",
       " ['北京', '南京', '武汉', '郑州', '广州'],\n",
       " ['北京', '南京', '武汉', '合肥', '广州'],\n",
       " ['北京', '南京', '武汉', '南昌', '广州'],\n",
       " ['北京', '南京', '武汉', '福州', '广州'],\n",
       " ['北京', '南京', '武汉', '长沙', '广州'],\n",
       " ['北京', '南京', '武汉', '太原', '广州'],\n",
       " ['北京', '南京', '武汉', '西安', '广州'],\n",
       " ['北京', '南京', '武汉', '香港', '广州'],\n",
       " ['北京', '南京', '武汉', '澳门', '广州'],\n",
       " ['北京', '南京', '郑州', '石家庄', '广州'],\n",
       " ['北京', '南京', '郑州', '武汉', '广州'],\n",
       " ['北京', '南京', '郑州', '合肥', '广州'],\n",
       " ['北京', '南京', '郑州', '南昌', '广州'],\n",
       " ['北京', '南京', '郑州', '长沙', '广州'],\n",
       " ['北京', '南京', '郑州', '太原', '广州'],\n",
       " ['北京', '南京', '郑州', '西安', '广州'],\n",
       " ['北京', '南京', '郑州', '香港', '广州'],\n",
       " ['北京', '南京', '郑州', '澳门', '广州'],\n",
       " ['北京', '南京', '济南', '石家庄', '广州'],\n",
       " ['北京', '南京', '济南', '武汉', '广州'],\n",
       " ['北京', '南京', '济南', '郑州', '广州'],\n",
       " ['北京', '南京', '济南', '合肥', '广州'],\n",
       " ['北京', '南京', '济南', '南昌', '广州'],\n",
       " ['北京', '南京', '济南', '福州', '广州'],\n",
       " ['北京', '南京', '济南', '长沙', '广州'],\n",
       " ['北京', '南京', '济南', '太原', '广州'],\n",
       " ['北京', '南京', '合肥', '石家庄', '广州'],\n",
       " ['北京', '南京', '合肥', '武汉', '广州'],\n",
       " ['北京', '南京', '合肥', '郑州', '广州'],\n",
       " ['北京', '南京', '合肥', '南昌', '广州'],\n",
       " ['北京', '南京', '合肥', '福州', '广州'],\n",
       " ['北京', '南京', '合肥', '长沙', '广州'],\n",
       " ['北京', '南京', '合肥', '太原', '广州'],\n",
       " ['北京', '南京', '合肥', '香港', '广州'],\n",
       " ['北京', '南京', '合肥', '澳门', '广州'],\n",
       " ['北京', '南京', '杭州', '武汉', '广州'],\n",
       " ['北京', '南京', '杭州', '合肥', '广州'],\n",
       " ['北京', '南京', '杭州', '南昌', '广州'],\n",
       " ['北京', '南京', '杭州', '福州', '广州'],\n",
       " ['北京', '南京', '南昌', '石家庄', '广州'],\n",
       " ['北京', '南京', '南昌', '武汉', '广州'],\n",
       " ['北京', '南京', '南昌', '郑州', '广州'],\n",
       " ['北京', '南京', '南昌', '合肥', '广州'],\n",
       " ['北京', '南京', '南昌', '福州', '广州'],\n",
       " ['北京', '南京', '南昌', '长沙', '广州'],\n",
       " ['北京', '南京', '南昌', '太原', '广州'],\n",
       " ['北京', '南京', '南昌', '香港', '广州'],\n",
       " ['北京', '南京', '南昌', '澳门', '广州'],\n",
       " ['北京', '南京', '福州', '武汉', '广州'],\n",
       " ['北京', '南京', '福州', '合肥', '广州'],\n",
       " ['北京', '南京', '福州', '南昌', '广州'],\n",
       " ['北京', '南京', '福州', '香港', '广州'],\n",
       " ['北京', '南京', '福州', '澳门', '广州'],\n",
       " ['北京', '南京', '长沙', '石家庄', '广州'],\n",
       " ['北京', '南京', '长沙', '武汉', '广州'],\n",
       " ['北京', '南京', '长沙', '郑州', '广州'],\n",
       " ['北京', '南京', '长沙', '合肥', '广州'],\n",
       " ['北京', '南京', '长沙', '南昌', '广州'],\n",
       " ['北京', '南京', '长沙', '太原', '广州'],\n",
       " ['北京', '南京', '长沙', '西安', '广州'],\n",
       " ['北京', '南京', '长沙', '南宁', '广州'],\n",
       " ['北京', '南京', '长沙', '香港', '广州'],\n",
       " ['北京', '南京', '长沙', '澳门', '广州'],\n",
       " ['北京', '南京', '上海', '合肥', '广州'],\n",
       " ['北京', '南京', '上海', '南昌', '广州'],\n",
       " ['北京', '南京', '上海', '福州', '广州'],\n",
       " ['北京', '南京', '天津', '石家庄', '广州'],\n",
       " ['北京', '南京', '天津', '武汉', '广州'],\n",
       " ['北京', '南京', '天津', '郑州', '广州'],\n",
       " ['北京', '南京', '天津', '合肥', '广州'],\n",
       " ['北京', '南京', '天津', '南昌', '广州'],\n",
       " ['北京', '南京', '天津', '长沙', '广州'],\n",
       " ['北京', '南京', '天津', '太原', '广州'],\n",
       " ['北京', '合肥', '石家庄', '武汉', '广州'],\n",
       " ['北京', '合肥', '石家庄', '郑州', '广州'],\n",
       " ['北京', '合肥', '石家庄', '南昌', '广州'],\n",
       " ['北京', '合肥', '石家庄', '长沙', '广州'],\n",
       " ['北京', '合肥', '石家庄', '太原', '广州'],\n",
       " ['北京', '合肥', '石家庄', '西安', '广州'],\n",
       " ['北京', '合肥', '武汉', '石家庄', '广州'],\n",
       " ['北京', '合肥', '武汉', '郑州', '广州'],\n",
       " ['北京', '合肥', '武汉', '南昌', '广州'],\n",
       " ['北京', '合肥', '武汉', '福州', '广州'],\n",
       " ['北京', '合肥', '武汉', '长沙', '广州'],\n",
       " ['北京', '合肥', '武汉', '太原', '广州'],\n",
       " ['北京', '合肥', '武汉', '西安', '广州'],\n",
       " ['北京', '合肥', '武汉', '香港', '广州'],\n",
       " ['北京', '合肥', '武汉', '澳门', '广州'],\n",
       " ['北京', '合肥', '郑州', '石家庄', '广州'],\n",
       " ['北京', '合肥', '郑州', '武汉', '广州'],\n",
       " ['北京', '合肥', '郑州', '南昌', '广州'],\n",
       " ['北京', '合肥', '郑州', '长沙', '广州'],\n",
       " ['北京', '合肥', '郑州', '太原', '广州'],\n",
       " ['北京', '合肥', '郑州', '西安', '广州'],\n",
       " ['北京', '合肥', '郑州', '香港', '广州'],\n",
       " ['北京', '合肥', '郑州', '澳门', '广州'],\n",
       " ['北京', '合肥', '济南', '石家庄', '广州'],\n",
       " ['北京', '合肥', '济南', '武汉', '广州'],\n",
       " ['北京', '合肥', '济南', '郑州', '广州'],\n",
       " ['北京', '合肥', '济南', '南昌', '广州'],\n",
       " ['北京', '合肥', '济南', '福州', '广州'],\n",
       " ['北京', '合肥', '济南', '长沙', '广州'],\n",
       " ['北京', '合肥', '济南', '太原', '广州'],\n",
       " ['北京', '合肥', '南京', '石家庄', '广州'],\n",
       " ['北京', '合肥', '南京', '武汉', '广州'],\n",
       " ['北京', '合肥', '南京', '郑州', '广州'],\n",
       " ['北京', '合肥', '南京', '南昌', '广州'],\n",
       " ['北京', '合肥', '南京', '福州', '广州'],\n",
       " ['北京', '合肥', '南京', '长沙', '广州'],\n",
       " ['北京', '合肥', '杭州', '武汉', '广州'],\n",
       " ['北京', '合肥', '杭州', '南昌', '广州'],\n",
       " ['北京', '合肥', '杭州', '福州', '广州'],\n",
       " ['北京', '合肥', '南昌', '石家庄', '广州'],\n",
       " ['北京', '合肥', '南昌', '武汉', '广州'],\n",
       " ['北京', '合肥', '南昌', '郑州', '广州'],\n",
       " ['北京', '合肥', '南昌', '福州', '广州']]"
      ]
     },
     "execution_count": 61,
     "metadata": {},
     "output_type": "execute_result"
    }
   ],
   "source": [
    "search_all_routes(cities_connect_graph,'北京','广州')"
   ]
  },
  {
   "cell_type": "markdown",
   "metadata": {},
   "source": [
    "## TODO summary\n",
    "### 1 shortest path first\n",
    "### 2 A*\n",
    "### 3 farest path first\n",
    "### 4 puring/beam just search part of points\n",
    "### 5 all routes search with BFS/DFS"
   ]
  },
  {
   "cell_type": "code",
   "execution_count": null,
   "metadata": {},
   "outputs": [],
   "source": []
  }
 ],
 "metadata": {
  "kernelspec": {
   "display_name": "Python 3",
   "language": "python",
   "name": "python3"
  },
  "language_info": {
   "codemirror_mode": {
    "name": "ipython",
    "version": 3
   },
   "file_extension": ".py",
   "mimetype": "text/x-python",
   "name": "python",
   "nbconvert_exporter": "python",
   "pygments_lexer": "ipython3",
   "version": "3.7.0"
  }
 },
 "nbformat": 4,
 "nbformat_minor": 2
}
