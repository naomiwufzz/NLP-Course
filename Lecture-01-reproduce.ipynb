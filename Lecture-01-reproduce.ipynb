{
 "cells": [
  {
   "cell_type": "code",
   "execution_count": 780,
   "metadata": {},
   "outputs": [],
   "source": [
    "import random\n",
    "import networkx\n",
    "import matplotlib.pyplot as plt\n",
    "%matplotlib inline"
   ]
  },
  {
   "cell_type": "code",
   "execution_count": 781,
   "metadata": {},
   "outputs": [],
   "source": [
    "grammar=\"\"\"\n",
    "sentence = adj noun verb adj noun2 | adj* noun\n",
    "adj*=null|adj adj*\n",
    "adj =adj_single 和 |adj_single 的 | null\n",
    "adj_single = 漂亮 | 蓝色 | 好看\n",
    "adv =安静地 |静静地\n",
    "noun =猫 |女人 |男人\n",
    "verb = adv 看着 | adv 坐着\n",
    "noun2 = 桌子 | 皮球\n",
    "\"\"\""
   ]
  },
  {
   "cell_type": "code",
   "execution_count": 782,
   "metadata": {},
   "outputs": [],
   "source": [
    "def build_grammar(grammar_str, split='='):\n",
    "    grammar_pattern = {}\n",
    "    for line in grammar_str.split('\\n'):\n",
    "        if not line: continue\n",
    "        stm, expr = line.split(split)\n",
    "        grammar_pattern[stm.strip()]=[e.split() for e in expr.split('|')]\n",
    "    return grammar_pattern"
   ]
  },
  {
   "cell_type": "code",
   "execution_count": 783,
   "metadata": {},
   "outputs": [],
   "source": [
    "gram_pattern = build_grammar(grammar)"
   ]
  },
  {
   "cell_type": "code",
   "execution_count": 784,
   "metadata": {},
   "outputs": [
    {
     "data": {
      "text/plain": [
       "{'sentence': [['adj', 'noun', 'verb', 'adj', 'noun2'], ['adj*', 'noun']],\n",
       " 'adj*': [['null'], ['adj', 'adj*']],\n",
       " 'adj': [['adj_single', '和'], ['adj_single', '的'], ['null']],\n",
       " 'adj_single': [['漂亮'], ['蓝色'], ['好看']],\n",
       " 'adv': [['安静地'], ['静静地']],\n",
       " 'noun': [['猫'], ['女人'], ['男人']],\n",
       " 'verb': [['adv', '看着'], ['adv', '坐着']],\n",
       " 'noun2': [['桌子'], ['皮球']]}"
      ]
     },
     "execution_count": 784,
     "metadata": {},
     "output_type": "execute_result"
    }
   ],
   "source": [
    "gram_pattern"
   ]
  },
  {
   "cell_type": "code",
   "execution_count": 785,
   "metadata": {},
   "outputs": [],
   "source": [
    "def generate(gram_p, target):\n",
    "    if target not in gram_p: return target\n",
    "    expr= random.choice(gram_p[target])\n",
    "    tokens= [generate(gram_p, e) for e in expr]\n",
    "    #return tokens\n",
    "    #tokens=[e for e in expr]\n",
    "    #print(tokens)\n",
    "    return ''.join(t for t in tokens if t!='null')"
   ]
  },
  {
   "cell_type": "code",
   "execution_count": 786,
   "metadata": {},
   "outputs": [
    {
     "data": {
      "text/plain": [
       "[['adj_single', '和'], ['adj_single', '的'], ['null']]"
      ]
     },
     "execution_count": 786,
     "metadata": {},
     "output_type": "execute_result"
    }
   ],
   "source": [
    "gram_pattern['adj']"
   ]
  },
  {
   "cell_type": "code",
   "execution_count": 787,
   "metadata": {},
   "outputs": [
    {
     "data": {
      "text/plain": [
       "'漂亮的'"
      ]
     },
     "execution_count": 787,
     "metadata": {},
     "output_type": "execute_result"
    }
   ],
   "source": [
    "generate(gram_pattern,'adj')"
   ]
  },
  {
   "cell_type": "code",
   "execution_count": 788,
   "metadata": {},
   "outputs": [
    {
     "data": {
      "text/plain": [
       "'蓝色的好看的男人'"
      ]
     },
     "execution_count": 788,
     "metadata": {},
     "output_type": "execute_result"
    }
   ],
   "source": [
    "generate(gram_pattern,'sentence')"
   ]
  },
  {
   "cell_type": "code",
   "execution_count": 789,
   "metadata": {},
   "outputs": [
    {
     "data": {
      "text/plain": [
       "''"
      ]
     },
     "execution_count": 789,
     "metadata": {},
     "output_type": "execute_result"
    }
   ],
   "source": [
    "generate(gram_pattern, 'adj*')"
   ]
  },
  {
   "cell_type": "code",
   "execution_count": 790,
   "metadata": {},
   "outputs": [],
   "source": [
    "def Generate(Sentence):\n",
    "    return generate(gram_pattern,Sentence)"
   ]
  },
  {
   "cell_type": "code",
   "execution_count": 791,
   "metadata": {},
   "outputs": [
    {
     "data": {
      "text/plain": [
       "'猫'"
      ]
     },
     "execution_count": 791,
     "metadata": {},
     "output_type": "execute_result"
    }
   ],
   "source": [
    "Generate('sentence')"
   ]
  },
  {
   "cell_type": "markdown",
   "metadata": {},
   "source": [
    "A simpler Solution "
   ]
  },
  {
   "cell_type": "code",
   "execution_count": 792,
   "metadata": {},
   "outputs": [],
   "source": [
    "def adj(): return random.choice('漂亮 |蓝色  |好看 '.split('|'))\n",
    "\n",
    "def noun():return random.choice('猫| 女人 | 男人'.split('|'))\n",
    "\n",
    "def verb():return random.choice('看着 | 坐着'.split('|'))\n",
    "\n",
    "def nounend():return random.choice('桌子 | 皮球'.split('|'))\n",
    "\n",
    "def sentence():return ''.join(''.join([adj(),noun(),verb(),nounend()]).split())\n"
   ]
  },
  {
   "cell_type": "code",
   "execution_count": 793,
   "metadata": {},
   "outputs": [
    {
     "data": {
      "text/plain": [
       "'好看猫看着皮球'"
      ]
     },
     "execution_count": 793,
     "metadata": {},
     "output_type": "execute_result"
    }
   ],
   "source": [
    "sentence()"
   ]
  },
  {
   "cell_type": "markdown",
   "metadata": {},
   "source": [
    "###DFS"
   ]
  },
  {
   "cell_type": "code",
   "execution_count": 794,
   "metadata": {},
   "outputs": [],
   "source": [
    "graph={\n",
    "    'A':'B B B C',\n",
    "    'B':'A C',\n",
    "    'C':'A B D E',\n",
    "    'D':'C',\n",
    "    'E':'C F',\n",
    "    'F':'E G',\n",
    "    'G':'F'\n",
    "}\n"
   ]
  },
  {
   "cell_type": "code",
   "execution_count": 795,
   "metadata": {},
   "outputs": [],
   "source": [
    "#remove repeat\n",
    "for k in graph:\n",
    "    graph[k]=set(graph[k].split())"
   ]
  },
  {
   "cell_type": "code",
   "execution_count": 796,
   "metadata": {},
   "outputs": [
    {
     "data": {
      "text/plain": [
       "{'A': {'B', 'C'},\n",
       " 'B': {'A', 'C'},\n",
       " 'C': {'A', 'B', 'D', 'E'},\n",
       " 'D': {'C'},\n",
       " 'E': {'C', 'F'},\n",
       " 'F': {'E', 'G'},\n",
       " 'G': {'F'}}"
      ]
     },
     "execution_count": 796,
     "metadata": {},
     "output_type": "execute_result"
    }
   ],
   "source": [
    "graph"
   ]
  },
  {
   "cell_type": "code",
   "execution_count": 797,
   "metadata": {},
   "outputs": [
    {
     "name": "stdout",
     "output_type": "stream",
     "text": [
      "无形\n",
      "5\n",
      "50\n",
      "7\n",
      "6\n",
      "1000\n",
      "4\n",
      "2\n",
      "3\n"
     ]
    }
   ],
   "source": [
    "for elem in set('2, 3, 4, 5, 6, 7, 1000, 50, 无形'.replace(',','').split()):\n",
    "    print(elem)"
   ]
  },
  {
   "cell_type": "code",
   "execution_count": 798,
   "metadata": {},
   "outputs": [
    {
     "data": {
      "text/plain": [
       "{'A': {'B', 'C'},\n",
       " 'B': {'A', 'C'},\n",
       " 'C': {'A', 'B', 'D', 'E'},\n",
       " 'D': {'C'},\n",
       " 'E': {'C', 'F'},\n",
       " 'F': {'E', 'G'},\n",
       " 'G': {'F'}}"
      ]
     },
     "execution_count": 798,
     "metadata": {},
     "output_type": "execute_result"
    }
   ],
   "source": [
    "graph"
   ]
  },
  {
   "cell_type": "code",
   "execution_count": 799,
   "metadata": {},
   "outputs": [
    {
     "data": {
      "image/png": "[encoded data removed]",
      "text/plain": [
       "<Figure size 432x288 with 1 Axes>"
      ]
     },
     "metadata": {},
     "output_type": "display_data"
    }
   ],
   "source": [
    "Graph =networkx.Graph(graph)\n",
    "networkx.draw(Graph,with_labels=True)"
   ]
  },
  {
   "cell_type": "markdown",
   "metadata": {},
   "source": [
    "##Breadth First Search"
   ]
  },
  {
   "cell_type": "code",
   "execution_count": 800,
   "metadata": {},
   "outputs": [
    {
     "data": {
      "text/plain": [
       "{'A', 'C'}"
      ]
     },
     "execution_count": 800,
     "metadata": {},
     "output_type": "execute_result"
    }
   ],
   "source": [
    "graph['B']"
   ]
  },
  {
   "cell_type": "code",
   "execution_count": 801,
   "metadata": {},
   "outputs": [
    {
     "name": "stdout",
     "output_type": "stream",
     "text": [
      "C\n",
      "A\n"
     ]
    }
   ],
   "source": [
    "for e in graph['B']:\n",
    "    print(e)"
   ]
  },
  {
   "cell_type": "code",
   "execution_count": 802,
   "metadata": {},
   "outputs": [
    {
     "data": {
      "text/plain": [
       "['B', 'D', 'D', 'C', 'A']"
      ]
     },
     "execution_count": 802,
     "metadata": {},
     "output_type": "execute_result"
    }
   ],
   "source": [
    "A=['C','B','D','D']\n",
    "A.pop(0)\n",
    "A+=graph['B']\n",
    "A"
   ]
  },
  {
   "cell_type": "code",
   "execution_count": 803,
   "metadata": {},
   "outputs": [
    {
     "data": {
      "text/plain": [
       "'C'"
      ]
     },
     "execution_count": 803,
     "metadata": {},
     "output_type": "execute_result"
    }
   ],
   "source": [
    "['C','B','D','E'].pop(0)"
   ]
  },
  {
   "cell_type": "code",
   "execution_count": 804,
   "metadata": {},
   "outputs": [
    {
     "name": "stdout",
     "output_type": "stream",
     "text": [
      "  I am looking at: A\n",
      "  I am looking at: B\n",
      "  I am looking at: C\n",
      "C has been seen\n",
      "A has been seen\n",
      "  I am looking at: E\n",
      "  I am looking at: D\n",
      "B has been seen\n",
      "A has been seen\n",
      "  I am looking at: F\n",
      "C has been seen\n",
      "C has been seen\n",
      "E has been seen\n",
      "  I am looking at: G\n",
      "F has been seen\n"
     ]
    }
   ],
   "source": [
    "seen=set()\n",
    "need_visited =['A']\n",
    "while need_visited:\n",
    "    #print('Before pop:',need_visited)\n",
    "    node = need_visited.pop(0)\n",
    "    if node in seen:\n",
    "        print('{} has been seen'.format(node))\n",
    "        continue\n",
    "    print('  I am looking at: {}'.format(node))\n",
    "    need_visited += graph[node]\n",
    "    #print('After pop:',need_visited)\n",
    "    seen.add(node)\n"
   ]
  },
  {
   "cell_type": "markdown",
   "metadata": {},
   "source": [
    "##Depth First Search"
   ]
  },
  {
   "cell_type": "code",
   "execution_count": 805,
   "metadata": {},
   "outputs": [],
   "source": [
    "graph_long={\n",
    "    '1':'2 7',\n",
    "    '2':'3',\n",
    "    '3':'4',\n",
    "    '4':'5',\n",
    "    '5':'6 10',\n",
    "    '7':'8',\n",
    "    '6':'5',\n",
    "    '8':'9',\n",
    "    '9':'10',\n",
    "    '10':'5 11',\n",
    "    '11':'12',\n",
    "    '12':'11',\n",
    "}"
   ]
  },
  {
   "cell_type": "code",
   "execution_count": 806,
   "metadata": {},
   "outputs": [],
   "source": [
    "for k in graph_long:\n",
    "    graph_long[k]=graph_long[k].split()"
   ]
  },
  {
   "cell_type": "code",
   "execution_count": 807,
   "metadata": {},
   "outputs": [
    {
     "data": {
      "text/plain": [
       "{'1': ['2', '7'],\n",
       " '2': ['3'],\n",
       " '3': ['4'],\n",
       " '4': ['5'],\n",
       " '5': ['6', '10'],\n",
       " '7': ['8'],\n",
       " '6': ['5'],\n",
       " '8': ['9'],\n",
       " '9': ['10'],\n",
       " '10': ['5', '11'],\n",
       " '11': ['12'],\n",
       " '12': ['11']}"
      ]
     },
     "execution_count": 807,
     "metadata": {},
     "output_type": "execute_result"
    }
   ],
   "source": [
    "graph_long"
   ]
  },
  {
   "cell_type": "code",
   "execution_count": 808,
   "metadata": {},
   "outputs": [
    {
     "data": {
      "image/png": "[encoded data removed]",
      "text/plain": [
       "<Figure size 432x288 with 1 Axes>"
      ]
     },
     "metadata": {},
     "output_type": "display_data"
    }
   ],
   "source": [
    "Graph_long=networkx.Graph(graph_long)\n",
    "networkx.draw(Graph_long,with_labels=True)"
   ]
  },
  {
   "cell_type": "code",
   "execution_count": 809,
   "metadata": {},
   "outputs": [],
   "source": [
    "def search(graph, contact_func):\n",
    "    seen=set()\n",
    "    need_visited=['1']\n",
    "    \n",
    "    while need_visited:\n",
    "        node = need_visited.pop(0)\n",
    "        if node in seen:\n",
    "            print('{} has been seen'.format(node))\n",
    "            continue\n",
    "        print('I am looking {}'.format(node))\n",
    "        seen.add(node)\n",
    "        new_discovered=graph[node]\n",
    "        need_visited=contact_func(new_discovered,need_visited)\n",
    "    \n",
    "        "
   ]
  },
  {
   "cell_type": "code",
   "execution_count": 810,
   "metadata": {},
   "outputs": [],
   "source": [
    "def treat_new_discover_more_important(new,old):\n",
    "    return new+old\n",
    "\n",
    "def treat_old_discovered_more_important(new,old):\n",
    "    return old+new"
   ]
  },
  {
   "cell_type": "code",
   "execution_count": 811,
   "metadata": {},
   "outputs": [
    {
     "name": "stdout",
     "output_type": "stream",
     "text": [
      "I am looking 1\n",
      "I am looking 2\n",
      "I am looking 3\n",
      "I am looking 4\n",
      "I am looking 5\n",
      "I am looking 6\n",
      "5 has been seen\n",
      "I am looking 10\n",
      "5 has been seen\n",
      "I am looking 11\n",
      "I am looking 12\n",
      "11 has been seen\n",
      "I am looking 7\n",
      "I am looking 8\n",
      "I am looking 9\n",
      "10 has been seen\n"
     ]
    }
   ],
   "source": [
    "search(graph_long,treat_new_discover_more_important)"
   ]
  },
  {
   "cell_type": "code",
   "execution_count": 812,
   "metadata": {},
   "outputs": [
    {
     "name": "stdout",
     "output_type": "stream",
     "text": [
      "I am looking 1\n",
      "I am looking 2\n",
      "I am looking 7\n",
      "I am looking 3\n",
      "I am looking 8\n",
      "I am looking 4\n",
      "I am looking 9\n",
      "I am looking 5\n",
      "I am looking 10\n",
      "I am looking 6\n",
      "10 has been seen\n",
      "5 has been seen\n",
      "I am looking 11\n",
      "5 has been seen\n",
      "I am looking 12\n",
      "11 has been seen\n"
     ]
    }
   ],
   "source": [
    "search(graph_long, treat_old_discovered_more_important)"
   ]
  },
  {
   "cell_type": "code",
   "execution_count": 813,
   "metadata": {},
   "outputs": [],
   "source": [
    "from functools import partial"
   ]
  },
  {
   "cell_type": "code",
   "execution_count": 814,
   "metadata": {},
   "outputs": [],
   "source": [
    "dfs=partial(search, contact_func=treat_new_discover_more_important)\n",
    "bfs=partial(search, contact_func=treat_old_discovered_more_important)"
   ]
  },
  {
   "cell_type": "code",
   "execution_count": 815,
   "metadata": {},
   "outputs": [
    {
     "name": "stdout",
     "output_type": "stream",
     "text": [
      "I am looking 1\n",
      "I am looking 2\n",
      "I am looking 3\n",
      "I am looking 4\n",
      "I am looking 5\n",
      "I am looking 6\n",
      "5 has been seen\n",
      "I am looking 10\n",
      "5 has been seen\n",
      "I am looking 11\n",
      "I am looking 12\n",
      "11 has been seen\n",
      "I am looking 7\n",
      "I am looking 8\n",
      "I am looking 9\n",
      "10 has been seen\n"
     ]
    }
   ],
   "source": [
    "dfs(graph_long)"
   ]
  },
  {
   "cell_type": "code",
   "execution_count": 816,
   "metadata": {},
   "outputs": [
    {
     "name": "stdout",
     "output_type": "stream",
     "text": [
      "I am looking 1\n",
      "I am looking 2\n",
      "I am looking 7\n",
      "I am looking 3\n",
      "I am looking 8\n",
      "I am looking 4\n",
      "I am looking 9\n",
      "I am looking 5\n",
      "I am looking 10\n",
      "I am looking 6\n",
      "10 has been seen\n",
      "5 has been seen\n",
      "I am looking 11\n",
      "5 has been seen\n",
      "I am looking 12\n",
      "11 has been seen\n"
     ]
    }
   ],
   "source": [
    "bfs(graph_long)"
   ]
  },
  {
   "cell_type": "code",
   "execution_count": 817,
   "metadata": {},
   "outputs": [],
   "source": [
    "BJ='BeiJing'\n",
    "SZ='ShenZhen'\n",
    "GZ='GuangZhou'\n",
    "WH='WuHan'\n",
    "HLJ='HeiLongJiang'\n",
    "NY='New York City'\n",
    "CM='ChiangMai'\n",
    "SG='Singapore'\n",
    "RC='RuiChang'"
   ]
  },
  {
   "cell_type": "code",
   "execution_count": 818,
   "metadata": {},
   "outputs": [],
   "source": [
    "air_route={\n",
    "    BJ: {SZ,GZ,WH,HLJ,NY},\n",
    "    GZ: {WH,BJ,CM,SG},\n",
    "    SZ: {BJ,SG},\n",
    "    WH: {BJ,GZ},\n",
    "    HLJ: {BJ},\n",
    "    CM: {GZ},\n",
    "    NY: {BJ},\n",
    "    RC: {},\n",
    "}"
   ]
  },
  {
   "cell_type": "code",
   "execution_count": 819,
   "metadata": {},
   "outputs": [
    {
     "data": {
      "image/png": "[encoded data removed]",
      "text/plain": [
       "<Figure size 432x288 with 1 Axes>"
      ]
     },
     "metadata": {},
     "output_type": "display_data"
    }
   ],
   "source": [
    "air_route=networkx.Graph(air_route)\n",
    "networkx.draw(air_route,with_labels=True)"
   ]
  },
  {
   "cell_type": "code",
   "execution_count": 820,
   "metadata": {},
   "outputs": [],
   "source": [
    "def search_destination(graph, start, dest):\n",
    "    pathes=[[start]]\n",
    "    seen=set()\n",
    "    chosen_pathes=[]\n",
    "    while pathes:\n",
    "        path=pathes.pop(0)\n",
    "        front=path[-1]\n",
    "        if front in seen: continue\n",
    "        \n",
    "        for city in graph[front]:\n",
    "            new_path=path+[city]\n",
    "            pathes.append(new_path)\n",
    "            if city==dest:return new_path\n",
    "        seen.add(front)\n",
    "    return chosen_pathes\n",
    "    "
   ]
  },
  {
   "cell_type": "code",
   "execution_count": 821,
   "metadata": {},
   "outputs": [
    {
     "data": {
      "text/plain": [
       "['ChiangMai', 'GuangZhou', 'BeiJing', 'New York City']"
      ]
     },
     "execution_count": 821,
     "metadata": {},
     "output_type": "execute_result"
    }
   ],
   "source": [
    "search_destination(air_route, CM,NY)"
   ]
  },
  {
   "cell_type": "code",
   "execution_count": 822,
   "metadata": {},
   "outputs": [
    {
     "data": {
      "text/plain": [
       "['Shanghai']"
      ]
     },
     "execution_count": 822,
     "metadata": {},
     "output_type": "execute_result"
    }
   ],
   "source": [
    "A=[['Shanghai']]\n",
    "C=A.pop(0)\n",
    "C\n"
   ]
  },
  {
   "cell_type": "code",
   "execution_count": null,
   "metadata": {},
   "outputs": [],
   "source": []
  },
  {
   "cell_type": "code",
   "execution_count": 823,
   "metadata": {},
   "outputs": [],
   "source": [
    "def draw_route(cities):return '✈️ --->'.join(cities)"
   ]
  },
  {
   "cell_type": "code",
   "execution_count": 824,
   "metadata": {},
   "outputs": [
    {
     "data": {
      "text/plain": [
       "'ShenZhen✈️ --->BeiJing✈️ --->GuangZhou✈️ --->ChiangMai'"
      ]
     },
     "execution_count": 824,
     "metadata": {},
     "output_type": "execute_result"
    }
   ],
   "source": [
    "draw_route(search_destination(air_route,SZ,CM))"
   ]
  },
  {
   "cell_type": "code",
   "execution_count": null,
   "metadata": {},
   "outputs": [],
   "source": []
  },
  {
   "cell_type": "code",
   "execution_count": 825,
   "metadata": {},
   "outputs": [
    {
     "data": {
      "text/plain": [
       "'BeiJing✈️ --->New York City'"
      ]
     },
     "execution_count": 825,
     "metadata": {},
     "output_type": "execute_result"
    }
   ],
   "source": [
    "draw_route(search_destination(air_route,BJ,NY))"
   ]
  }
 ],
 "metadata": {
  "kernelspec": {
   "display_name": "Python 3",
   "language": "python",
   "name": "python3"
  },
  "language_info": {
   "codemirror_mode": {
    "name": "ipython",
    "version": 3
   },
   "file_extension": ".py",
   "mimetype": "text/x-python",
   "name": "python",
   "nbconvert_exporter": "python",
   "pygments_lexer": "ipython3",
   "version": "3.7.0"
  }
 },
 "nbformat": 4,
 "nbformat_minor": 2
}
