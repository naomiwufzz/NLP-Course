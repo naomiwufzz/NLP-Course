{
 "cells": [
  {
   "cell_type": "code",
   "execution_count": 1,
   "metadata": {},
   "outputs": [],
   "source": [
    "import random\n",
    "import networkx\n",
    "import matplotlib.pyplot as plt\n",
    "%matplotlib inline"
   ]
  },
  {
   "cell_type": "code",
   "execution_count": 2,
   "metadata": {},
   "outputs": [],
   "source": [
    "grammar=\"\"\"\n",
    "sentence = adj noun verb adj noun2 | adj* noun\n",
    "adj*=null|adj adj*\n",
    "adj =adj_single 和 |adj_single 的 | null\n",
    "adj_single = 漂亮 | 蓝色 | 好看\n",
    "adv =安静地 |静静地\n",
    "noun =猫 |女人 |男人\n",
    "verb = adv 看着 | adv 坐着\n",
    "noun2 = 桌子 | 皮球\n",
    "\"\"\""
   ]
  },
  {
   "cell_type": "code",
   "execution_count": 3,
   "metadata": {},
   "outputs": [],
   "source": [
    "def build_grammar(grammar_str, split='='):\n",
    "    grammar_pattern = {}\n",
    "    for line in grammar_str.split('\\n'):\n",
    "        if not line: continue\n",
    "        stm, expr = line.split(split)\n",
    "        grammar_pattern[stm.strip()]=[e.split() for e in expr.split('|')]\n",
    "    return grammar_pattern"
   ]
  },
  {
   "cell_type": "code",
   "execution_count": 4,
   "metadata": {},
   "outputs": [],
   "source": [
    "gram_pattern = build_grammar(grammar)"
   ]
  },
  {
   "cell_type": "code",
   "execution_count": 5,
   "metadata": {},
   "outputs": [
    {
     "data": {
      "text/plain": [
       "{'sentence': [['adj', 'noun', 'verb', 'adj', 'noun2'], ['adj*', 'noun']],\n",
       " 'adj*': [['null'], ['adj', 'adj*']],\n",
       " 'adj': [['adj_single', '和'], ['adj_single', '的'], ['null']],\n",
       " 'adj_single': [['漂亮'], ['蓝色'], ['好看']],\n",
       " 'adv': [['安静地'], ['静静地']],\n",
       " 'noun': [['猫'], ['女人'], ['男人']],\n",
       " 'verb': [['adv', '看着'], ['adv', '坐着']],\n",
       " 'noun2': [['桌子'], ['皮球']]}"
      ]
     },
     "execution_count": 5,
     "metadata": {},
     "output_type": "execute_result"
    }
   ],
   "source": [
    "gram_pattern"
   ]
  },
  {
   "cell_type": "code",
   "execution_count": 6,
   "metadata": {},
   "outputs": [],
   "source": [
    "def generate(gram_p, target):\n",
    "    if target not in gram_p: return target\n",
    "    expr= random.choice(gram_p[target])\n",
    "    tokens= [generate(gram_p, e) for e in expr]\n",
    "    #return tokens\n",
    "    #tokens=[e for e in expr]\n",
    "    #print(tokens)\n",
    "    return ''.join(t for t in tokens if t!='null')"
   ]
  },
  {
   "cell_type": "code",
   "execution_count": 7,
   "metadata": {},
   "outputs": [
    {
     "data": {
      "text/plain": [
       "[['adj_single', '和'], ['adj_single', '的'], ['null']]"
      ]
     },
     "execution_count": 7,
     "metadata": {},
     "output_type": "execute_result"
    }
   ],
   "source": [
    "gram_pattern['adj']"
   ]
  },
  {
   "cell_type": "code",
   "execution_count": 8,
   "metadata": {},
   "outputs": [
    {
     "data": {
      "text/plain": [
       "'蓝色的'"
      ]
     },
     "execution_count": 8,
     "metadata": {},
     "output_type": "execute_result"
    }
   ],
   "source": [
    "generate(gram_pattern,'adj')"
   ]
  },
  {
   "cell_type": "code",
   "execution_count": 9,
   "metadata": {},
   "outputs": [
    {
     "data": {
      "text/plain": [
       "'女人静静地看着蓝色和桌子'"
      ]
     },
     "execution_count": 9,
     "metadata": {},
     "output_type": "execute_result"
    }
   ],
   "source": [
    "generate(gram_pattern,'sentence')"
   ]
  },
  {
   "cell_type": "code",
   "execution_count": 10,
   "metadata": {},
   "outputs": [
    {
     "data": {
      "text/plain": [
       "''"
      ]
     },
     "execution_count": 10,
     "metadata": {},
     "output_type": "execute_result"
    }
   ],
   "source": [
    "generate(gram_pattern, 'adj*')"
   ]
  },
  {
   "cell_type": "code",
   "execution_count": 11,
   "metadata": {},
   "outputs": [],
   "source": [
    "def Generate(Sentence):\n",
    "    return generate(gram_pattern,Sentence)"
   ]
  },
  {
   "cell_type": "code",
   "execution_count": 12,
   "metadata": {},
   "outputs": [
    {
     "data": {
      "text/plain": [
       "'好看和女人'"
      ]
     },
     "execution_count": 12,
     "metadata": {},
     "output_type": "execute_result"
    }
   ],
   "source": [
    "Generate('sentence')"
   ]
  },
  {
   "cell_type": "markdown",
   "metadata": {},
   "source": [
    "A simpler Solution "
   ]
  },
  {
   "cell_type": "code",
   "execution_count": 13,
   "metadata": {},
   "outputs": [],
   "source": [
    "def adj(): return random.choice('漂亮 |蓝色  |好看 '.split('|'))\n",
    "\n",
    "def noun():return random.choice('猫| 女人 | 男人'.split('|'))\n",
    "\n",
    "def verb():return random.choice('看着 | 坐着'.split('|'))\n",
    "\n",
    "def nounend():return random.choice('桌子 | 皮球'.split('|'))\n",
    "\n",
    "#two layers of join is for vanish blank contact\n",
    "def sentence():return ''.join(''.join([adj(),noun(),verb(),nounend()]).split())\n"
   ]
  },
  {
   "cell_type": "code",
   "execution_count": 14,
   "metadata": {},
   "outputs": [
    {
     "data": {
      "text/plain": [
       "'漂亮猫看着桌子'"
      ]
     },
     "execution_count": 14,
     "metadata": {},
     "output_type": "execute_result"
    }
   ],
   "source": [
    "sentence()"
   ]
  },
  {
   "cell_type": "markdown",
   "metadata": {},
   "source": [
    "###DFS"
   ]
  },
  {
   "cell_type": "code",
   "execution_count": 15,
   "metadata": {},
   "outputs": [],
   "source": [
    "graph={\n",
    "    'A':'B B B C',\n",
    "    'B':'A C',\n",
    "    'C':'A B D E H',\n",
    "    'D':'C',\n",
    "    'E':'C F',\n",
    "    'F':'E G',\n",
    "    'G':'F',\n",
    "    'H':'C'\n",
    "}\n"
   ]
  },
  {
   "cell_type": "code",
   "execution_count": 16,
   "metadata": {},
   "outputs": [],
   "source": [
    "#remove repeat\n",
    "for k in graph:\n",
    "    a=set(graph[k].split())\n",
    "    li=[]\n",
    "    for i in a:\n",
    "        li.append(i)\n",
    "    li.sort()\n",
    "    graph[k]=li"
   ]
  },
  {
   "cell_type": "code",
   "execution_count": 17,
   "metadata": {},
   "outputs": [
    {
     "data": {
      "text/plain": [
       "{'A': ['B', 'C'],\n",
       " 'B': ['A', 'C'],\n",
       " 'C': ['A', 'B', 'D', 'E', 'H'],\n",
       " 'D': ['C'],\n",
       " 'E': ['C', 'F'],\n",
       " 'F': ['E', 'G'],\n",
       " 'G': ['F'],\n",
       " 'H': ['C']}"
      ]
     },
     "execution_count": 17,
     "metadata": {},
     "output_type": "execute_result"
    }
   ],
   "source": [
    "graph"
   ]
  },
  {
   "cell_type": "code",
   "execution_count": 18,
   "metadata": {},
   "outputs": [
    {
     "name": "stdout",
     "output_type": "stream",
     "text": [
      "无形\n",
      "4\n",
      "5\n",
      "2\n",
      "3\n",
      "7\n",
      "6\n",
      "1000\n",
      "50\n"
     ]
    }
   ],
   "source": [
    "for elem in set('2, 3, 4, 5, 6, 7, 1000, 50, 无形'.replace(',','').split()):\n",
    "    print(elem)"
   ]
  },
  {
   "cell_type": "code",
   "execution_count": 19,
   "metadata": {},
   "outputs": [
    {
     "data": {
      "text/plain": [
       "{'A': ['B', 'C'],\n",
       " 'B': ['A', 'C'],\n",
       " 'C': ['A', 'B', 'D', 'E', 'H'],\n",
       " 'D': ['C'],\n",
       " 'E': ['C', 'F'],\n",
       " 'F': ['E', 'G'],\n",
       " 'G': ['F'],\n",
       " 'H': ['C']}"
      ]
     },
     "execution_count": 19,
     "metadata": {},
     "output_type": "execute_result"
    }
   ],
   "source": [
    "graph"
   ]
  },
  {
   "cell_type": "code",
   "execution_count": 20,
   "metadata": {},
   "outputs": [
    {
     "data": {
      "image/png": "[encoded data removed]",
      "text/plain": [
       "<Figure size 432x288 with 1 Axes>"
      ]
     },
     "metadata": {},
     "output_type": "display_data"
    }
   ],
   "source": [
    "Graph =networkx.Graph(graph)\n",
    "networkx.draw(Graph,with_labels=True)"
   ]
  },
  {
   "cell_type": "markdown",
   "metadata": {},
   "source": [
    "##Breadth First Search"
   ]
  },
  {
   "cell_type": "code",
   "execution_count": 21,
   "metadata": {},
   "outputs": [
    {
     "data": {
      "text/plain": [
       "['A', 'C']"
      ]
     },
     "execution_count": 21,
     "metadata": {},
     "output_type": "execute_result"
    }
   ],
   "source": [
    "graph['B']"
   ]
  },
  {
   "cell_type": "code",
   "execution_count": 22,
   "metadata": {},
   "outputs": [
    {
     "name": "stdout",
     "output_type": "stream",
     "text": [
      "A\n",
      "B\n",
      "D\n",
      "E\n",
      "H\n"
     ]
    }
   ],
   "source": [
    "for e in graph['C']:\n",
    "    print(e)"
   ]
  },
  {
   "cell_type": "code",
   "execution_count": 23,
   "metadata": {},
   "outputs": [
    {
     "data": {
      "text/plain": [
       "list"
      ]
     },
     "execution_count": 23,
     "metadata": {},
     "output_type": "execute_result"
    }
   ],
   "source": [
    "type(graph['A'])"
   ]
  },
  {
   "cell_type": "code",
   "execution_count": 24,
   "metadata": {},
   "outputs": [
    {
     "data": {
      "text/plain": [
       "['B', 'D', 'D', 'A', 'C']"
      ]
     },
     "execution_count": 24,
     "metadata": {},
     "output_type": "execute_result"
    }
   ],
   "source": [
    "A=['C','B','D','D']\n",
    "A.pop(0)\n",
    "#here list+=set is ok, A=A+graph['B'] will report wrong\n",
    "A+=graph['B']\n",
    "A"
   ]
  },
  {
   "cell_type": "code",
   "execution_count": 25,
   "metadata": {},
   "outputs": [
    {
     "data": {
      "text/plain": [
       "'C'"
      ]
     },
     "execution_count": 25,
     "metadata": {},
     "output_type": "execute_result"
    }
   ],
   "source": [
    "['C','B','D','E'].pop(0)"
   ]
  },
  {
   "cell_type": "code",
   "execution_count": 26,
   "metadata": {},
   "outputs": [
    {
     "name": "stdout",
     "output_type": "stream",
     "text": [
      "  I am looking at: A\n",
      "  I am looking at: B\n",
      "  I am looking at: C\n",
      "A has been seen\n",
      "C has been seen\n",
      "A has been seen\n",
      "B has been seen\n",
      "  I am looking at: D\n",
      "  I am looking at: E\n",
      "  I am looking at: H\n",
      "C has been seen\n",
      "C has been seen\n",
      "  I am looking at: F\n",
      "C has been seen\n",
      "E has been seen\n",
      "  I am looking at: G\n",
      "F has been seen\n"
     ]
    }
   ],
   "source": [
    "seen=set()\n",
    "need_visited =['A']\n",
    "while need_visited:\n",
    "    #print('Before pop:',need_visited)\n",
    "    node = need_visited.pop(0)\n",
    "    if node in seen:\n",
    "        print('{} has been seen'.format(node))\n",
    "        continue\n",
    "    print('  I am looking at: {}'.format(node))\n",
    "    #need_visited = graph[node] + need_visited\n",
    "    need_visited += graph[node]\n",
    "    #print('After pop:',need_visited)\n",
    "    seen.add(node)\n"
   ]
  },
  {
   "cell_type": "code",
   "execution_count": 27,
   "metadata": {},
   "outputs": [],
   "source": [
    "def printAllPath():\n",
    "    seen=set()\n",
    "    need_visited=['A']\n",
    "    pathes=[]\n",
    "    \n",
    "    while need_visited:\n",
    "        viewpoint=need_visited.pop(0)\n",
    "        if viewpoint in seen: continue\n",
    "        if not pathes:\n",
    "            pathes.append([viewpoint])\n",
    "        else:\n",
    "            for i in pathes:\n",
    "                for m in graph[viewpoint]:\n",
    "                    i.append(m)\n",
    "        need_visited+=graph[viewpoint]\n",
    "        seen.add(viewpoint)\n",
    "    return pathes\n",
    "        "
   ]
  },
  {
   "cell_type": "markdown",
   "metadata": {},
   "source": [
    "##Depth First Search"
   ]
  },
  {
   "cell_type": "code",
   "execution_count": 28,
   "metadata": {},
   "outputs": [
    {
     "data": {
      "text/plain": [
       "[['A', 'A', 'C', 'A', 'B', 'D', 'E', 'H', 'C', 'C', 'F', 'C', 'E', 'G', 'F']]"
      ]
     },
     "execution_count": 28,
     "metadata": {},
     "output_type": "execute_result"
    }
   ],
   "source": [
    "printAllPath()"
   ]
  },
  {
   "cell_type": "code",
   "execution_count": 29,
   "metadata": {},
   "outputs": [],
   "source": [
    "graph_long={\n",
    "    '1':'2 7',\n",
    "    '2':'3',\n",
    "    '3':'4',\n",
    "    '4':'5',\n",
    "    '5':'6 10',\n",
    "    '7':'8',\n",
    "    '6':'5',\n",
    "    '8':'9',\n",
    "    '9':'10',\n",
    "    '10':'5 11',\n",
    "    '11':'12',\n",
    "    '12':'11',\n",
    "}"
   ]
  },
  {
   "cell_type": "code",
   "execution_count": 30,
   "metadata": {},
   "outputs": [],
   "source": [
    "for k in graph_long:\n",
    "    graph_long[k]=graph_long[k].split()"
   ]
  },
  {
   "cell_type": "code",
   "execution_count": 31,
   "metadata": {},
   "outputs": [
    {
     "data": {
      "text/plain": [
       "{'1': ['2', '7'],\n",
       " '2': ['3'],\n",
       " '3': ['4'],\n",
       " '4': ['5'],\n",
       " '5': ['6', '10'],\n",
       " '7': ['8'],\n",
       " '6': ['5'],\n",
       " '8': ['9'],\n",
       " '9': ['10'],\n",
       " '10': ['5', '11'],\n",
       " '11': ['12'],\n",
       " '12': ['11']}"
      ]
     },
     "execution_count": 31,
     "metadata": {},
     "output_type": "execute_result"
    }
   ],
   "source": [
    "graph_long"
   ]
  },
  {
   "cell_type": "code",
   "execution_count": 32,
   "metadata": {},
   "outputs": [
    {
     "data": {
      "image/png": "[encoded data removed]",
      "text/plain": [
       "<Figure size 432x288 with 1 Axes>"
      ]
     },
     "metadata": {},
     "output_type": "display_data"
    }
   ],
   "source": [
    "Graph_long=networkx.Graph(graph_long)\n",
    "networkx.draw(Graph_long,with_labels=True)"
   ]
  },
  {
   "cell_type": "code",
   "execution_count": 33,
   "metadata": {},
   "outputs": [],
   "source": [
    "def search(graph, contact_func):\n",
    "    seen=set()\n",
    "    need_visited=['1']\n",
    "    \n",
    "    while need_visited:\n",
    "        node = need_visited.pop(0)\n",
    "        if node in seen:\n",
    "            print('{} has been seen'.format(node))\n",
    "            continue\n",
    "        print('I am looking {}'.format(node))\n",
    "        seen.add(node)\n",
    "        new_discovered=graph[node]\n",
    "        need_visited=contact_func(new_discovered,need_visited)\n",
    "    \n",
    "        "
   ]
  },
  {
   "cell_type": "code",
   "execution_count": 34,
   "metadata": {},
   "outputs": [],
   "source": [
    "def treat_new_discover_more_important(new,old):\n",
    "    return new+old\n",
    "\n",
    "def treat_old_discovered_more_important(new,old):\n",
    "    return old+new"
   ]
  },
  {
   "cell_type": "code",
   "execution_count": 35,
   "metadata": {},
   "outputs": [
    {
     "name": "stdout",
     "output_type": "stream",
     "text": [
      "I am looking 1\n",
      "I am looking 2\n",
      "I am looking 3\n",
      "I am looking 4\n",
      "I am looking 5\n",
      "I am looking 6\n",
      "5 has been seen\n",
      "I am looking 10\n",
      "5 has been seen\n",
      "I am looking 11\n",
      "I am looking 12\n",
      "11 has been seen\n",
      "I am looking 7\n",
      "I am looking 8\n",
      "I am looking 9\n",
      "10 has been seen\n"
     ]
    }
   ],
   "source": [
    "search(graph_long,treat_new_discover_more_important)"
   ]
  },
  {
   "cell_type": "code",
   "execution_count": 36,
   "metadata": {},
   "outputs": [
    {
     "name": "stdout",
     "output_type": "stream",
     "text": [
      "I am looking 1\n",
      "I am looking 2\n",
      "I am looking 7\n",
      "I am looking 3\n",
      "I am looking 8\n",
      "I am looking 4\n",
      "I am looking 9\n",
      "I am looking 5\n",
      "I am looking 10\n",
      "I am looking 6\n",
      "10 has been seen\n",
      "5 has been seen\n",
      "I am looking 11\n",
      "5 has been seen\n",
      "I am looking 12\n",
      "11 has been seen\n"
     ]
    }
   ],
   "source": [
    "search(graph_long, treat_old_discovered_more_important)"
   ]
  },
  {
   "cell_type": "code",
   "execution_count": 37,
   "metadata": {},
   "outputs": [],
   "source": [
    "from functools import partial"
   ]
  },
  {
   "cell_type": "code",
   "execution_count": 38,
   "metadata": {},
   "outputs": [],
   "source": [
    "dfs=partial(search, contact_func=treat_new_discover_more_important)\n",
    "bfs=partial(search, contact_func=treat_old_discovered_more_important)"
   ]
  },
  {
   "cell_type": "code",
   "execution_count": 39,
   "metadata": {},
   "outputs": [
    {
     "name": "stdout",
     "output_type": "stream",
     "text": [
      "I am looking 1\n",
      "I am looking 2\n",
      "I am looking 3\n",
      "I am looking 4\n",
      "I am looking 5\n",
      "I am looking 6\n",
      "5 has been seen\n",
      "I am looking 10\n",
      "5 has been seen\n",
      "I am looking 11\n",
      "I am looking 12\n",
      "11 has been seen\n",
      "I am looking 7\n",
      "I am looking 8\n",
      "I am looking 9\n",
      "10 has been seen\n"
     ]
    }
   ],
   "source": [
    "dfs(graph_long)"
   ]
  },
  {
   "cell_type": "code",
   "execution_count": 40,
   "metadata": {},
   "outputs": [
    {
     "name": "stdout",
     "output_type": "stream",
     "text": [
      "I am looking 1\n",
      "I am looking 2\n",
      "I am looking 7\n",
      "I am looking 3\n",
      "I am looking 8\n",
      "I am looking 4\n",
      "I am looking 9\n",
      "I am looking 5\n",
      "I am looking 10\n",
      "I am looking 6\n",
      "10 has been seen\n",
      "5 has been seen\n",
      "I am looking 11\n",
      "5 has been seen\n",
      "I am looking 12\n",
      "11 has been seen\n"
     ]
    }
   ],
   "source": [
    "bfs(graph_long)"
   ]
  },
  {
   "cell_type": "code",
   "execution_count": 41,
   "metadata": {},
   "outputs": [],
   "source": [
    "BJ='BeiJing'\n",
    "SZ='ShenZhen'\n",
    "GZ='GuangZhou'\n",
    "WH='WuHan'\n",
    "HLJ='HeiLongJiang'\n",
    "NY='New York City'\n",
    "CM='ChiangMai'\n",
    "SG='Singapore'\n",
    "RC='RuiChang'"
   ]
  },
  {
   "cell_type": "code",
   "execution_count": 42,
   "metadata": {},
   "outputs": [],
   "source": [
    "air_route={\n",
    "    BJ: {SZ,GZ,WH,HLJ,NY},\n",
    "    GZ: {WH,BJ,CM,SG},\n",
    "    SZ: {BJ,SG,WH},\n",
    "    WH: {BJ,GZ,SZ},\n",
    "    HLJ: {BJ},\n",
    "    CM: {GZ},\n",
    "    NY: {BJ},\n",
    "    RC: {},\n",
    "}"
   ]
  },
  {
   "cell_type": "code",
   "execution_count": 43,
   "metadata": {},
   "outputs": [
    {
     "data": {
      "image/png": "[encoded data removed]",
      "text/plain": [
       "<Figure size 432x288 with 1 Axes>"
      ]
     },
     "metadata": {},
     "output_type": "display_data"
    }
   ],
   "source": [
    "air_route=networkx.Graph(air_route)\n",
    "networkx.draw(air_route,with_labels=True)"
   ]
  },
  {
   "cell_type": "code",
   "execution_count": 44,
   "metadata": {},
   "outputs": [],
   "source": [
    "def search_all_route(graph, start, dest):\n",
    "    pathes=[[start]]\n",
    "    routes=[] \n",
    "    while pathes:\n",
    "        path=pathes.pop(0)\n",
    "        front=path[-1]\n",
    "        \n",
    "        for city in graph[front]:\n",
    "            if city in path: continue\n",
    "            new_path=path+[city]\n",
    "            pathes.append(new_path)\n",
    "            # if find the first path, return immediately\n",
    "            #if city==dest:return new_path\n",
    "            if city==dest:routes.append(new_path)\n",
    "    return routes"
   ]
  },
  {
   "cell_type": "code",
   "execution_count": 45,
   "metadata": {},
   "outputs": [
    {
     "data": {
      "text/plain": [
       "[['BeiJing', 'ShenZhen'],\n",
       " ['BeiJing', 'WuHan', 'ShenZhen'],\n",
       " ['BeiJing', 'GuangZhou', 'WuHan', 'ShenZhen'],\n",
       " ['BeiJing', 'GuangZhou', 'Singapore', 'ShenZhen'],\n",
       " ['BeiJing', 'WuHan', 'GuangZhou', 'Singapore', 'ShenZhen']]"
      ]
     },
     "execution_count": 45,
     "metadata": {},
     "output_type": "execute_result"
    }
   ],
   "source": [
    "search_all_route(air_route,BJ,SZ)"
   ]
  },
  {
   "cell_type": "code",
   "execution_count": 46,
   "metadata": {},
   "outputs": [],
   "source": [
    "def search_destination(graph, start, dest):\n",
    "    pathes=[[start]]\n",
    "    seen=set()\n",
    "    chosen_pathes=[]\n",
    "    while pathes:\n",
    "        path=pathes.pop(0)\n",
    "        front=path[-1]\n",
    "        #print(start, front)\n",
    "        #if front in seen: continue\n",
    "        #if front in dest: continue\n",
    "        #print(type(graph[front]))\n",
    "        \n",
    "        for city in graph[front]:\n",
    "            #if city in seen: continue\n",
    "            if front in seen: continue\n",
    "            #print(city, front, path)\n",
    "            new_path=path+[city]\n",
    "            #print(new_path)\n",
    "            #if city==dest: continue\n",
    "            #else:\n",
    "            #   print(new_path)\n",
    "            pathes.append(new_path)\n",
    "            #pathes=new_path+pathes\n",
    "            if city==dest:chosen_pathes.append(new_path)\n",
    "        seen.add(front)\n",
    "        #if front in start: continue\n",
    "    return chosen_pathes\n",
    "    "
   ]
  },
  {
   "cell_type": "code",
   "execution_count": 47,
   "metadata": {},
   "outputs": [
    {
     "data": {
      "text/plain": [
       "[['BeiJing', 'GuangZhou', 'Singapore'], ['BeiJing', 'ShenZhen', 'Singapore']]"
      ]
     },
     "execution_count": 47,
     "metadata": {},
     "output_type": "execute_result"
    }
   ],
   "source": [
    "search_destination(air_route,BJ,SG)"
   ]
  },
  {
   "cell_type": "code",
   "execution_count": 48,
   "metadata": {},
   "outputs": [
    {
     "data": {
      "text/plain": [
       "[['HeiLongJiang', 'BeiJing', 'New York City']]"
      ]
     },
     "execution_count": 48,
     "metadata": {},
     "output_type": "execute_result"
    }
   ],
   "source": [
    "search_destination(air_route, HLJ,NY)"
   ]
  },
  {
   "cell_type": "code",
   "execution_count": 49,
   "metadata": {},
   "outputs": [
    {
     "data": {
      "text/plain": [
       "['Shanghai']"
      ]
     },
     "execution_count": 49,
     "metadata": {},
     "output_type": "execute_result"
    }
   ],
   "source": [
    "A=[['Shanghai']]\n",
    "C=A.pop(0)\n",
    "C\n"
   ]
  },
  {
   "cell_type": "code",
   "execution_count": 50,
   "metadata": {},
   "outputs": [],
   "source": [
    "def search_all_route(graph, start, dest):\n",
    "    pathes=[[start]]\n",
    "    routes=[] \n",
    "    while pathes:\n",
    "        path=pathes.pop(0)\n",
    "        front=path[-1]\n",
    "        \n",
    "        for city in graph[front]:\n",
    "            if city in path: continue\n",
    "            new_path=path+[city]\n",
    "            pathes.append(new_path)\n",
    "            # if find the first path, return immediately\n",
    "            #if city==dest:return new_path\n",
    "            if city==dest:routes.append(new_path)\n",
    "    return routes"
   ]
  },
  {
   "cell_type": "code",
   "execution_count": 51,
   "metadata": {},
   "outputs": [],
   "source": [
    "def draw_route(cities):\n",
    "    for i in cities:\n",
    "        print('✈️ --->'.join(i))"
   ]
  },
  {
   "cell_type": "code",
   "execution_count": 52,
   "metadata": {},
   "outputs": [
    {
     "name": "stdout",
     "output_type": "stream",
     "text": [
      "BeiJing✈️ --->GuangZhou✈️ --->Singapore\n",
      "BeiJing✈️ --->ShenZhen✈️ --->Singapore\n"
     ]
    }
   ],
   "source": [
    "draw_route(search_destination(air_route,BJ,SG))"
   ]
  },
  {
   "cell_type": "code",
   "execution_count": null,
   "metadata": {},
   "outputs": [],
   "source": []
  },
  {
   "cell_type": "code",
   "execution_count": 53,
   "metadata": {},
   "outputs": [
    {
     "name": "stdout",
     "output_type": "stream",
     "text": [
      "BeiJing✈️ --->New York City\n"
     ]
    }
   ],
   "source": [
    "draw_route(search_destination(air_route,BJ,NY))"
   ]
  },
  {
   "cell_type": "code",
   "execution_count": null,
   "metadata": {},
   "outputs": [],
   "source": []
  }
 ],
 "metadata": {
  "kernelspec": {
   "display_name": "Python 3",
   "language": "python",
   "name": "python3"
  },
  "language_info": {
   "codemirror_mode": {
    "name": "ipython",
    "version": 3
   },
   "file_extension": ".py",
   "mimetype": "text/x-python",
   "name": "python",
   "nbconvert_exporter": "python",
   "pygments_lexer": "ipython3",
   "version": "3.7.0"
  }
 },
 "nbformat": 4,
 "nbformat_minor": 2
}
