{
 "cells": [
  {
   "cell_type": "markdown",
   "metadata": {},
   "source": [
    "# Keywords"
   ]
  },
  {
   "cell_type": "code",
   "execution_count": 1,
   "metadata": {},
   "outputs": [],
   "source": [
    "import pandas as pd"
   ]
  },
  {
   "cell_type": "code",
   "execution_count": 2,
   "metadata": {},
   "outputs": [
    {
     "data": {
      "text/plain": [
       "'/Users/liang/Documents/GitHub/NLP-Course'"
      ]
     },
     "execution_count": 2,
     "metadata": {},
     "output_type": "execute_result"
    }
   ],
   "source": [
    "pwd"
   ]
  },
  {
   "cell_type": "code",
   "execution_count": 3,
   "metadata": {},
   "outputs": [
    {
     "name": "stdout",
     "output_type": "stream",
     "text": [
      "\u001b[31m../datasource/sqlResult_1558435.csv\u001b[m\u001b[m*\n"
     ]
    }
   ],
   "source": [
    "ls ../datasource/sql*"
   ]
  },
  {
   "cell_type": "code",
   "execution_count": 4,
   "metadata": {},
   "outputs": [
    {
     "name": "stdout",
     "output_type": "stream",
     "text": [
      "\u001b[31m../datasource/sqlResult_1558435.csv\u001b[m\u001b[m\n"
     ]
    }
   ],
   "source": [
    "!ls ../datasource/sql*"
   ]
  },
  {
   "cell_type": "code",
   "execution_count": 5,
   "metadata": {},
   "outputs": [],
   "source": [
    "filename='../datasource/sqlResult_1558435.csv'"
   ]
  },
  {
   "cell_type": "code",
   "execution_count": 6,
   "metadata": {},
   "outputs": [],
   "source": [
    "content=pd.read_csv(filename,encoding='gb18030')"
   ]
  },
  {
   "cell_type": "code",
   "execution_count": 7,
   "metadata": {},
   "outputs": [
    {
     "data": {
      "text/plain": [
       "89611"
      ]
     },
     "execution_count": 7,
     "metadata": {},
     "output_type": "execute_result"
    }
   ],
   "source": [
    "len(content)"
   ]
  },
  {
   "cell_type": "code",
   "execution_count": 8,
   "metadata": {},
   "outputs": [
    {
     "data": {
      "text/plain": [
       "pandas.core.frame.DataFrame"
      ]
     },
     "execution_count": 8,
     "metadata": {},
     "output_type": "execute_result"
    }
   ],
   "source": [
    "type(content.head())"
   ]
  },
  {
   "cell_type": "code",
   "execution_count": 9,
   "metadata": {},
   "outputs": [
    {
     "name": "stdout",
     "output_type": "stream",
     "text": [
      "Help on method head in module pandas.core.generic:\n",
      "\n",
      "head(n=5) method of pandas.core.frame.DataFrame instance\n",
      "    Return the first `n` rows.\n",
      "    \n",
      "    This function returns the first `n` rows for the object based\n",
      "    on position. It is useful for quickly testing if your object\n",
      "    has the right type of data in it.\n",
      "    \n",
      "    Parameters\n",
      "    ----------\n",
      "    n : int, default 5\n",
      "        Number of rows to select.\n",
      "    \n",
      "    Returns\n",
      "    -------\n",
      "    obj_head : type of caller\n",
      "        The first `n` rows of the caller object.\n",
      "    \n",
      "    See Also\n",
      "    --------\n",
      "    pandas.DataFrame.tail: Returns the last `n` rows.\n",
      "    \n",
      "    Examples\n",
      "    --------\n",
      "    >>> df = pd.DataFrame({'animal':['alligator', 'bee', 'falcon', 'lion',\n",
      "    ...                    'monkey', 'parrot', 'shark', 'whale', 'zebra']})\n",
      "    >>> df\n",
      "          animal\n",
      "    0  alligator\n",
      "    1        bee\n",
      "    2     falcon\n",
      "    3       lion\n",
      "    4     monkey\n",
      "    5     parrot\n",
      "    6      shark\n",
      "    7      whale\n",
      "    8      zebra\n",
      "    \n",
      "    Viewing the first 5 lines\n",
      "    \n",
      "    >>> df.head()\n",
      "          animal\n",
      "    0  alligator\n",
      "    1        bee\n",
      "    2     falcon\n",
      "    3       lion\n",
      "    4     monkey\n",
      "    \n",
      "    Viewing the first `n` lines (three in this case)\n",
      "    \n",
      "    >>> df.head(3)\n",
      "          animal\n",
      "    0  alligator\n",
      "    1        bee\n",
      "    2     falcon\n",
      "\n"
     ]
    }
   ],
   "source": [
    "help(content.head)"
   ]
  },
  {
   "cell_type": "code",
   "execution_count": 10,
   "metadata": {},
   "outputs": [
    {
     "data": {
      "text/html": [
       "<div>\n",
       "<style scoped>\n",
       "    .dataframe tbody tr th:only-of-type {\n",
       "        vertical-align: middle;\n",
       "    }\n",
       "\n",
       "    .dataframe tbody tr th {\n",
       "        vertical-align: top;\n",
       "    }\n",
       "\n",
       "    .dataframe thead th {\n",
       "        text-align: right;\n",
       "    }\n",
       "</style>\n",
       "<table border=\"1\" class=\"dataframe\">\n",
       "  <thead>\n",
       "    <tr style=\"text-align: right;\">\n",
       "      <th></th>\n",
       "      <th>id</th>\n",
       "      <th>author</th>\n",
       "      <th>source</th>\n",
       "      <th>content</th>\n",
       "      <th>feature</th>\n",
       "      <th>title</th>\n",
       "      <th>url</th>\n",
       "    </tr>\n",
       "  </thead>\n",
       "  <tbody>\n",
       "    <tr>\n",
       "      <th>0</th>\n",
       "      <td>89617</td>\n",
       "      <td>NaN</td>\n",
       "      <td>快科技@http://www.kkj.cn/</td>\n",
       "      <td>此外，自本周（6月12日）起，除小米手机6等15款机型外，其余机型已暂停更新发布（含开发版/...</td>\n",
       "      <td>{\"type\":\"科技\",\"site\":\"cnbeta\",\"commentNum\":\"37\"...</td>\n",
       "      <td>小米MIUI 9首批机型曝光：共计15款</td>\n",
       "      <td>http://www.cnbeta.com/articles/tech/623597.htm</td>\n",
       "    </tr>\n",
       "    <tr>\n",
       "      <th>1</th>\n",
       "      <td>89616</td>\n",
       "      <td>NaN</td>\n",
       "      <td>快科技@http://www.kkj.cn/</td>\n",
       "      <td>骁龙835作为唯一通过Windows 10桌面平台认证的ARM处理器，高通强调，不会因为只考...</td>\n",
       "      <td>{\"type\":\"科技\",\"site\":\"cnbeta\",\"commentNum\":\"15\"...</td>\n",
       "      <td>骁龙835在Windows 10上的性能表现有望改善</td>\n",
       "      <td>http://www.cnbeta.com/articles/tech/623599.htm</td>\n",
       "    </tr>\n",
       "    <tr>\n",
       "      <th>2</th>\n",
       "      <td>89615</td>\n",
       "      <td>NaN</td>\n",
       "      <td>快科技@http://www.kkj.cn/</td>\n",
       "      <td>此前的一加3T搭载的是3400mAh电池，DashCharge快充规格为5V/4A。\\r\\n...</td>\n",
       "      <td>{\"type\":\"科技\",\"site\":\"cnbeta\",\"commentNum\":\"18\"...</td>\n",
       "      <td>一加手机5细节曝光：3300mAh、充半小时用1天</td>\n",
       "      <td>http://www.cnbeta.com/articles/tech/623601.htm</td>\n",
       "    </tr>\n",
       "  </tbody>\n",
       "</table>\n",
       "</div>"
      ],
      "text/plain": [
       "      id author                  source  \\\n",
       "0  89617    NaN  快科技@http://www.kkj.cn/   \n",
       "1  89616    NaN  快科技@http://www.kkj.cn/   \n",
       "2  89615    NaN  快科技@http://www.kkj.cn/   \n",
       "\n",
       "                                             content  \\\n",
       "0  此外，自本周（6月12日）起，除小米手机6等15款机型外，其余机型已暂停更新发布（含开发版/...   \n",
       "1  骁龙835作为唯一通过Windows 10桌面平台认证的ARM处理器，高通强调，不会因为只考...   \n",
       "2  此前的一加3T搭载的是3400mAh电池，DashCharge快充规格为5V/4A。\\r\\n...   \n",
       "\n",
       "                                             feature  \\\n",
       "0  {\"type\":\"科技\",\"site\":\"cnbeta\",\"commentNum\":\"37\"...   \n",
       "1  {\"type\":\"科技\",\"site\":\"cnbeta\",\"commentNum\":\"15\"...   \n",
       "2  {\"type\":\"科技\",\"site\":\"cnbeta\",\"commentNum\":\"18\"...   \n",
       "\n",
       "                        title                                             url  \n",
       "0        小米MIUI 9首批机型曝光：共计15款  http://www.cnbeta.com/articles/tech/623597.htm  \n",
       "1  骁龙835在Windows 10上的性能表现有望改善  http://www.cnbeta.com/articles/tech/623599.htm  \n",
       "2   一加手机5细节曝光：3300mAh、充半小时用1天  http://www.cnbeta.com/articles/tech/623601.htm  "
      ]
     },
     "execution_count": 10,
     "metadata": {},
     "output_type": "execute_result"
    }
   ],
   "source": [
    "content.head(3)"
   ]
  },
  {
   "cell_type": "code",
   "execution_count": 11,
   "metadata": {},
   "outputs": [
    {
     "data": {
      "text/plain": [
       "id                                                     89615\n",
       "author                                                   NaN\n",
       "source                                快科技@http://www.kkj.cn/\n",
       "content    此前的一加3T搭载的是3400mAh电池，DashCharge快充规格为5V/4A。\\r\\n...\n",
       "feature    {\"type\":\"科技\",\"site\":\"cnbeta\",\"commentNum\":\"18\"...\n",
       "title                              一加手机5细节曝光：3300mAh、充半小时用1天\n",
       "url           http://www.cnbeta.com/articles/tech/623601.htm\n",
       "Name: 2, dtype: object"
      ]
     },
     "execution_count": 11,
     "metadata": {},
     "output_type": "execute_result"
    }
   ],
   "source": [
    "content.iloc[2]"
   ]
  },
  {
   "cell_type": "markdown",
   "metadata": {},
   "source": [
    "# Term Frequence\n",
    "TF-Term Frequence"
   ]
  },
  {
   "cell_type": "code",
   "execution_count": 12,
   "metadata": {},
   "outputs": [
    {
     "data": {
      "text/plain": [
       "89615"
      ]
     },
     "execution_count": 12,
     "metadata": {},
     "output_type": "execute_result"
    }
   ],
   "source": [
    "content.iloc[2]['id']"
   ]
  },
  {
   "cell_type": "code",
   "execution_count": 13,
   "metadata": {},
   "outputs": [
    {
     "data": {
      "text/plain": [
       "'此前的一加3T搭载的是3400mAh电池，DashCharge快充规格为5V/4A。\\r\\n至于电池缩水，可能与刘作虎所说，一加手机5要做市面最轻薄大屏旗舰的设定有关。\\r\\n按照目前掌握的资料，一加手机5拥有5.5寸1080P三星AMOLED显示屏、6G/8GB RAM，64GB/128GB ROM，双1600万摄像头，备货量“惊喜”。\\r\\n根据京东泄露的信息，一加5起售价是xx99元，应该是在2799/2899/2999中的某个。\\r\\n'"
      ]
     },
     "execution_count": 13,
     "metadata": {},
     "output_type": "execute_result"
    }
   ],
   "source": [
    "content.iloc[2]['content']"
   ]
  },
  {
   "cell_type": "code",
   "execution_count": 14,
   "metadata": {},
   "outputs": [],
   "source": [
    "import jieba\n",
    "def cut(string): return list(jieba.cut(string))"
   ]
  },
  {
   "cell_type": "code",
   "execution_count": 15,
   "metadata": {},
   "outputs": [
    {
     "name": "stderr",
     "output_type": "stream",
     "text": [
      "Building prefix dict from the default dictionary ...\n",
      "Loading model from cache /var/folders/f1/s02h7_c152xbsy1b3cq00pr80000gn/T/jieba.cache\n",
      "Loading model cost 0.581 seconds.\n",
      "Prefix dict has been built succesfully.\n"
     ]
    }
   ],
   "source": [
    "content_of_xiaomi=cut(content.iloc[0]['content'])"
   ]
  },
  {
   "cell_type": "code",
   "execution_count": 16,
   "metadata": {},
   "outputs": [
    {
     "data": {
      "text/plain": [
       "104"
      ]
     },
     "execution_count": 16,
     "metadata": {},
     "output_type": "execute_result"
    }
   ],
   "source": [
    "len(content_of_xiaomi)"
   ]
  },
  {
   "cell_type": "code",
   "execution_count": 17,
   "metadata": {},
   "outputs": [
    {
     "data": {
      "text/plain": [
       "[('，', 9),\n",
       " ('。', 4),\n",
       " ('MIUI', 3),\n",
       " (' ', 3),\n",
       " ('\\r\\n', 3),\n",
       " ('（', 2),\n",
       " ('6', 2),\n",
       " ('月', 2),\n",
       " ('）', 2),\n",
       " ('机型', 2)]"
      ]
     },
     "execution_count": 17,
     "metadata": {},
     "output_type": "execute_result"
    }
   ],
   "source": [
    "from collections import Counter\n",
    "Counter(content_of_xiaomi).most_common()[:10]"
   ]
  },
  {
   "cell_type": "markdown",
   "metadata": {},
   "source": [
    "# Document Frequency"
   ]
  },
  {
   "cell_type": "code",
   "execution_count": 18,
   "metadata": {},
   "outputs": [
    {
     "data": {
      "text/plain": [
       "89611"
      ]
     },
     "execution_count": 18,
     "metadata": {},
     "output_type": "execute_result"
    }
   ],
   "source": [
    "len(content)"
   ]
  },
  {
   "cell_type": "code",
   "execution_count": 19,
   "metadata": {},
   "outputs": [
    {
     "data": {
      "text/plain": [
       "id                                                     89617\n",
       "author                                                   NaN\n",
       "source                                快科技@http://www.kkj.cn/\n",
       "content    此外，自本周（6月12日）起，除小米手机6等15款机型外，其余机型已暂停更新发布（含开发版/...\n",
       "feature    {\"type\":\"科技\",\"site\":\"cnbeta\",\"commentNum\":\"37\"...\n",
       "title                                   小米MIUI 9首批机型曝光：共计15款\n",
       "url           http://www.cnbeta.com/articles/tech/623597.htm\n",
       "Name: 0, dtype: object"
      ]
     },
     "execution_count": 19,
     "metadata": {},
     "output_type": "execute_result"
    }
   ],
   "source": [
    "content.iloc[0]"
   ]
  },
  {
   "cell_type": "code",
   "execution_count": 20,
   "metadata": {},
   "outputs": [],
   "source": [
    "content=content.fillna('liang')"
   ]
  },
  {
   "cell_type": "code",
   "execution_count": 21,
   "metadata": {},
   "outputs": [
    {
     "data": {
      "text/plain": [
       "89611"
      ]
     },
     "execution_count": 21,
     "metadata": {},
     "output_type": "execute_result"
    }
   ],
   "source": [
    "len(content)"
   ]
  },
  {
   "cell_type": "code",
   "execution_count": 22,
   "metadata": {},
   "outputs": [
    {
     "data": {
      "text/plain": [
       "id                                                     89617\n",
       "author                                                 liang\n",
       "source                                快科技@http://www.kkj.cn/\n",
       "content    此外，自本周（6月12日）起，除小米手机6等15款机型外，其余机型已暂停更新发布（含开发版/...\n",
       "feature    {\"type\":\"科技\",\"site\":\"cnbeta\",\"commentNum\":\"37\"...\n",
       "title                                   小米MIUI 9首批机型曝光：共计15款\n",
       "url           http://www.cnbeta.com/articles/tech/623597.htm\n",
       "Name: 0, dtype: object"
      ]
     },
     "execution_count": 22,
     "metadata": {},
     "output_type": "execute_result"
    }
   ],
   "source": [
    "content.iloc[0]"
   ]
  },
  {
   "cell_type": "code",
   "execution_count": 23,
   "metadata": {},
   "outputs": [],
   "source": [
    "all_news_content=content['content']"
   ]
  },
  {
   "cell_type": "code",
   "execution_count": 24,
   "metadata": {},
   "outputs": [
    {
     "data": {
      "text/plain": [
       "pandas.core.series.Series"
      ]
     },
     "execution_count": 24,
     "metadata": {},
     "output_type": "execute_result"
    }
   ],
   "source": [
    "type(all_news_content)"
   ]
  },
  {
   "cell_type": "code",
   "execution_count": 25,
   "metadata": {},
   "outputs": [
    {
     "data": {
      "text/plain": [
       "0        此外，自本周（6月12日）起，除小米手机6等15款机型外，其余机型已暂停更新发布（含开发版/...\n",
       "1        骁龙835作为唯一通过Windows 10桌面平台认证的ARM处理器，高通强调，不会因为只考...\n",
       "2        此前的一加3T搭载的是3400mAh电池，DashCharge快充规格为5V/4A。\\r\\n...\n",
       "3          这是6月18日在葡萄牙中部大佩德罗冈地区拍摄的被森林大火烧毁的汽车。新华社记者张立云摄\\r\\n\n",
       "4        （原标题：44岁女子跑深圳约会网友被拒，暴雨中裸身奔走……）\\r\\n@深圳交警微博称：昨日清...\n",
       "5        　　受到A股被纳入MSCI指数的利好消息刺激，A股市场从周三开始再度上演龙马行情，周四上午金...\n",
       "6        虽然至今夏普智能手机在市场上无法排得上号，已经完全没落，并于 2013 年退出中国市场，但是...\n",
       "7        　　沙漠雄鹰：震荡有利消化套牢筹码\\r\\n　　周四开盘上证50在银行券商大蓝筹带动下一度涨近...\n",
       "8        （原标题：武汉警方一下子抓了808人，还都是俊男靓女！原来他们每天偷偷摸摸干这事！）\\r\\n...\n",
       "9        　　6月21日，A股纳入MSCI指数尘埃落定，但当天被寄予厚望的券商股并未扛起反弹大旗。22...\n",
       "10       　　证券时报网（www.stcn.com）06月23日讯\\r\\n　　据上证报道，6月初以来，...\n",
       "11       ?\\r\\n　　巨丰早评：市场将再次探底\\r\\n　　【巨丰观点】\\r\\n　　周四大盘冲高回落，...\n",
       "12       中新网6月19日电 据外媒报道，美国底特律一名男子1976年因为一根头发被定谋杀罪，监禁41...\n",
       "13       　　曹先生：风格转换前的阵痛\\r\\n　　今日早盘两地低开，之后一度震荡走高，领涨的仍然是上证...\n",
       "14       6月21日，MSCI在官网发布公告称，从明年6月起将中国A股纳入MSCI新兴市场指数和MSC...\n",
       "15       　　中国证券网讯（记者 费天元）沪深两市周五临近午盘出现快速跳水，沪指连续跌穿5日、10日及...\n",
       "16       九成以上的源包用逐位对应的方式构建，未来版本的 Debian 还将提供验证包的工具和元数据；...\n",
       "17       国歌法草案首次提请最高立法机关审议\\r\\n点击图片进入下一页\\r\\n新闻：十二届全国人大常委...\n",
       "18       　　中证网讯 （本报记者 张怡）今日，三板做市指数继续低开下行，盘中最低触及1057.91点...\n",
       "19       　　提示声明：\\r\\n　　本文涉及的行业及个股分析来源于券商研究报告，仅为分析人士对该行业及...\n",
       "20       　　原标题：叙利亚被“袭机”事件惹怒俄罗斯 警告将瞄准美战机\\r\\n　　海外网6月19日电 ...\n",
       "21       　　提示声明：\\r\\n　　本文涉及的行业及个股分析来源于券商研究报告，仅为分析人士对该行业及...\n",
       "22       就在这几天，一位微博名为“摩卡 RQ ”的手机、芯片、移动互联网三界知名独立评论人爆料称，O...\n",
       "23       　　中证网讯 （本报记者 张怡）与此前两日蓝筹股强势格局不同，周五，A股市场主要指数低开之后...\n",
       "24       北京时间6月20日，江苏苏宁足球俱乐部发布了足协杯第四轮江苏苏宁易购队主场对阵河南建业队的官...\n",
       "25       当地时间2017年6月17日，土耳其马尼萨省，在土耳其第1步兵训练大队司令部军营，590名土...\n",
       "26       今年3月份，王劲从百度自动驾驶事业部任上离职，随后创办景驰科技。在随后的日子里，景驰很快组建...\n",
       "27       英国与欧盟的“脱欧”谈判于19日正式开始。然而此时，英国首相特雷莎·梅正面临着空前的政治压力...\n",
       "28       中超联赛第13轮比赛已经全部结束，这轮比赛中最让人觉得结果有些出乎意料的，莫过于卡佩罗执教江...\n",
       "29       　　文章导读： 供应商围堵追债、20多位高管离职、上千人被裁员、孤注一掷史上最大规模的降价…...\n",
       "                               ...                        \n",
       "89581    新华社照片，外代，2017年6月7日\\n（外代二线）足球——世预赛：葡萄牙备战\\n6月6日，...\n",
       "89582    新华社照片，外代，2017年6月7日\\n（外代二线）足球——世预赛：葡萄牙备战\\n6月6日，...\n",
       "89583    新华社照片，外代，2017年6月7日\\n（外代二线）足球——世预赛：葡萄牙备战\\n6月6日，...\n",
       "89584    新华社照片，外代，2017年6月7日\\n（外代二线）足球——世预赛：葡萄牙备战\\n6月6日，...\n",
       "89585    新华社照片，外代，2017年6月7日\\n（外代二线）足球——世预赛：葡萄牙备战\\n6月6日，...\n",
       "89586    新华社照片，外代，2017年6月7日\\n（外代二线）足球——世预赛：葡萄牙备战\\n6月6日，...\n",
       "89587    新华社照片，外代，2017年6月7日\\n（外代二线）蚕丝生产\\n6月6日，在印度特里普拉邦特...\n",
       "89588    新华社照片，外代，2017年6月7日\\n（外代二线）蚕丝生产\\n6月6日，在印度特里普拉邦特...\n",
       "89589    新华社照片，外代，2017年6月7日\\n（外代二线）蚕丝生产\\n5月30日，在印度特里普拉邦...\n",
       "89590    新华社照片，外代，2017年6月7日\\n（外代二线）蚕丝生产\\n6月6日，在印度特里普拉邦特...\n",
       "89591    新华社照片，外代，2017年6月7日\\n（外代二线）蚕丝生产\\n5月30日，在印度特里普拉邦...\n",
       "89592    \\n\\n2017年4月27日，在首尔光化门广场，民众在集会上手举反“萨德”标语。（新华社记者...\n",
       "89593    \\n新华社巴格达6月6日电（记者魏玉栋　程帅朋）伊拉克西部安巴尔省一处市场6日晚发生自杀式爆...\n",
       "89594    新华社照片，外代，2017年6月7日\\n（外代二线）足球——国际友谊赛：德国平丹麦\\n6月6...\n",
       "89595    新华社照片，外代，2017年6月7日\\n（外代二线）足球——国际友谊赛：德国平丹麦\\n6月6...\n",
       "89596    新华社照片，外代，2017年6月7日\\n（外代二线）足球——国际友谊赛：德国平丹麦\\n6月6...\n",
       "89597    新华社照片，外代，2017年6月7日\\n（外代二线）足球——国际友谊赛：德国平丹麦\\n6月6...\n",
       "89598    新华社照片，外代，2017年6月7日\\n（外代二线）足球——国际友谊赛：德国平丹麦\\n6月6...\n",
       "89599    新华社照片，外代，2017年6月7日\\n（外代二线）足球——国际友谊赛：德国平丹麦\\n6月6...\n",
       "89600    新华社照片，外代，2017年6月7日\\n（外代二线）足球——国际友谊赛：德国平丹麦\\n6月6...\n",
       "89601    新华社照片，外代，2017年6月7日\\n（外代二线）足球——国际友谊赛：德国平丹麦\\n6月6...\n",
       "89602    新华社照片，外代，2017年6月7日\\n（外代二线）足球——国际友谊赛：德国平丹麦\\n6月6...\n",
       "89603    新华社照片，北京，2017年6月7日\\n电影《血战湘江》举行清华大学巡映活动\\n6月6日，电...\n",
       "89604    新华社照片，北京，2017年6月7日\\n电影《血战湘江》举行清华大学巡映活动\\n6月6日，清...\n",
       "89605    新华社照片，北京，2017年6月7日\\n电影《血战湘江》举行清华大学巡映活动\\n6月6日，电...\n",
       "89606    新华社照片，多伦多，2017年6月7日\\n（体育）（2）冰球——国家女子冰球队海外选秀在多伦...\n",
       "89607    新华社兰州6月3日电（王衡、徐丹）记者从甘肃省交通运输厅获悉，甘肃近日集中开建高速公路、普通...\n",
       "89608    \\n\\n2017年5月29日，在法国巴黎郊外的凡尔赛宫，法国总统马克龙出席新闻发布会。（新华...\n",
       "89609    \\n\\n2017年5月25日，在美国马萨诸塞州剑桥市，哈佛大学毕业生在毕业典礼上欢呼。（新华...\n",
       "89610    　　新华社德国杜塞尔多夫６月６日电题：乒乓女球迷　\\n　　新华社记者王子江、张寒\\n　　熊老...\n",
       "Name: content, Length: 89611, dtype: object"
      ]
     },
     "execution_count": 25,
     "metadata": {},
     "output_type": "execute_result"
    }
   ],
   "source": [
    "all_news_content"
   ]
  },
  {
   "cell_type": "code",
   "execution_count": 26,
   "metadata": {},
   "outputs": [
    {
     "data": {
      "text/plain": [
       "89611"
      ]
     },
     "execution_count": 26,
     "metadata": {},
     "output_type": "execute_result"
    }
   ],
   "source": [
    "len(all_news_content)"
   ]
  },
  {
   "cell_type": "code",
   "execution_count": 27,
   "metadata": {},
   "outputs": [],
   "source": [
    "from tqdm import tqdm_notebook"
   ]
  },
  {
   "cell_type": "code",
   "execution_count": 28,
   "metadata": {},
   "outputs": [
    {
     "data": {
      "application/vnd.jupyter.widget-view+json": {
       "model_id": "ce619691dc4a4805987fa3b1c562e24b",
       "version_major": 2,
       "version_minor": 0
      },
      "text/plain": [
       "HBox(children=(IntProgress(value=0, max=89611), HTML(value='')))"
      ]
     },
     "metadata": {},
     "output_type": "display_data"
    },
    {
     "name": "stdout",
     "output_type": "stream",
     "text": [
      "\n"
     ]
    }
   ],
   "source": [
    "all_occurences=[]\n",
    "for c in tqdm_notebook(all_news_content,total=len(all_news_content)):\n",
    "    all_occurences.append(set(cut(c)))"
   ]
  },
  {
   "cell_type": "markdown",
   "metadata": {},
   "source": [
    "# HBox show, follow below link install ipywidget for jupyter lab\n",
    "https://ipywidgets.readthedocs.io/en/stable/user_install.html"
   ]
  },
  {
   "cell_type": "markdown",
   "metadata": {},
   "source": [
    "Installing the JupyterLab Extension\n",
    "To install the JupyterLab extension you also need to run the command below in a terminal which requires that you have nodejs installed.\n",
    "\n",
    "`jupyter labextension install @jupyter-widgets/jupyterlab-manager`"
   ]
  },
  {
   "cell_type": "code",
   "execution_count": 29,
   "metadata": {},
   "outputs": [
    {
     "data": {
      "application/vnd.jupyter.widget-view+json": {
       "model_id": "7e1acc2cd65640a5888ee29130b6a06f",
       "version_major": 2,
       "version_minor": 0
      },
      "text/plain": [
       "IntProgress(value=5, description='Loading:', max=10)"
      ]
     },
     "metadata": {},
     "output_type": "display_data"
    }
   ],
   "source": [
    "import ipywidgets as widgets\n",
    "widgets.IntProgress(\n",
    "    value=5,\n",
    "    min=0,\n",
    "    max=10,\n",
    "    step=1,\n",
    "    description='Loading:',\n",
    "    bar_style='',# 'success', 'info', 'warning','danger' or ''\n",
    "    orientation='horizontal'\n",
    ")"
   ]
  },
  {
   "cell_type": "code",
   "execution_count": 30,
   "metadata": {},
   "outputs": [
    {
     "data": {
      "application/vnd.jupyter.widget-view+json": {
       "model_id": "80b666a547184a8aa400621cd4491511",
       "version_major": 2,
       "version_minor": 0
      },
      "text/plain": [
       "IntProgress(value=7, bar_style='success', description='Loading:', max=10)"
      ]
     },
     "metadata": {},
     "output_type": "display_data"
    }
   ],
   "source": [
    "import ipywidgets as widgets\n",
    "widgets.IntProgress(\n",
    "    value=7,\n",
    "    min=0,\n",
    "    max=10,\n",
    "    step=1,\n",
    "    description='Loading:',\n",
    "    bar_style='success',# 'success', 'info', 'warning','danger' or ''\n",
    "    orientation='horizontal'\n",
    ")"
   ]
  },
  {
   "cell_type": "code",
   "execution_count": 31,
   "metadata": {},
   "outputs": [
    {
     "data": {
      "text/plain": [
       "89611"
      ]
     },
     "execution_count": 31,
     "metadata": {},
     "output_type": "execute_result"
    }
   ],
   "source": [
    "len(all_occurences)"
   ]
  },
  {
   "cell_type": "code",
   "execution_count": 32,
   "metadata": {},
   "outputs": [
    {
     "data": {
      "text/plain": [
       "89611"
      ]
     },
     "execution_count": 32,
     "metadata": {},
     "output_type": "execute_result"
    }
   ],
   "source": [
    "len(all_news_content)"
   ]
  },
  {
   "cell_type": "code",
   "execution_count": 33,
   "metadata": {},
   "outputs": [
    {
     "data": {
      "text/plain": [
       "pandas.core.series.Series"
      ]
     },
     "execution_count": 33,
     "metadata": {},
     "output_type": "execute_result"
    }
   ],
   "source": [
    "type(all_news_content)"
   ]
  },
  {
   "cell_type": "code",
   "execution_count": 34,
   "metadata": {},
   "outputs": [
    {
     "data": {
      "text/plain": [
       "list"
      ]
     },
     "execution_count": 34,
     "metadata": {},
     "output_type": "execute_result"
    }
   ],
   "source": [
    "type(all_occurences)"
   ]
  },
  {
   "cell_type": "code",
   "execution_count": 35,
   "metadata": {},
   "outputs": [
    {
     "data": {
      "text/plain": [
       "0    此外，自本周（6月12日）起，除小米手机6等15款机型外，其余机型已暂停更新发布（含开发版/...\n",
       "1    骁龙835作为唯一通过Windows 10桌面平台认证的ARM处理器，高通强调，不会因为只考...\n",
       "Name: content, dtype: object"
      ]
     },
     "execution_count": 35,
     "metadata": {},
     "output_type": "execute_result"
    }
   ],
   "source": [
    "all_news_content[:2]"
   ]
  },
  {
   "cell_type": "code",
   "execution_count": 36,
   "metadata": {},
   "outputs": [],
   "source": [
    "def document_frequency(word):\n",
    "    return sum(1 for w in all_occurences if word in w)/len(all_occurences)"
   ]
  },
  {
   "cell_type": "code",
   "execution_count": 37,
   "metadata": {},
   "outputs": [
    {
     "data": {
      "text/plain": [
       "0.784524221356753"
      ]
     },
     "execution_count": 37,
     "metadata": {},
     "output_type": "execute_result"
    }
   ],
   "source": [
    "document_frequency('的')"
   ]
  },
  {
   "cell_type": "code",
   "execution_count": 38,
   "metadata": {},
   "outputs": [
    {
     "data": {
      "text/plain": [
       "0.9483322359978128"
      ]
     },
     "execution_count": 38,
     "metadata": {},
     "output_type": "execute_result"
    }
   ],
   "source": [
    "document_frequency('，')"
   ]
  },
  {
   "cell_type": "code",
   "execution_count": 39,
   "metadata": {},
   "outputs": [
    {
     "data": {
      "text/plain": [
       "1269"
      ]
     },
     "execution_count": 39,
     "metadata": {},
     "output_type": "execute_result"
    }
   ],
   "source": [
    "sum(1 for w in all_occurences if ',' in w)"
   ]
  },
  {
   "cell_type": "code",
   "execution_count": 40,
   "metadata": {},
   "outputs": [
    {
     "data": {
      "text/plain": [
       "2538"
      ]
     },
     "execution_count": 40,
     "metadata": {},
     "output_type": "execute_result"
    }
   ],
   "source": [
    "sum(2 for w in all_occurences if ',' in w)"
   ]
  },
  {
   "cell_type": "code",
   "execution_count": 41,
   "metadata": {},
   "outputs": [
    {
     "data": {
      "text/plain": [
       "0.08820345716485699"
      ]
     },
     "execution_count": 41,
     "metadata": {},
     "output_type": "execute_result"
    }
   ],
   "source": [
    "document_frequency('我们')"
   ]
  },
  {
   "cell_type": "code",
   "execution_count": 42,
   "metadata": {},
   "outputs": [],
   "source": [
    "import math\n",
    "def inverse_document_frequency(word):\n",
    "    # define a very small var epsilon, avoid case word not in all_occurences lead to divide zero exception\n",
    "    eps=1e-6\n",
    "    return math.log10(len(all_occurences)/(sum(1 for w in all_occurences if word in w)+eps))"
   ]
  },
  {
   "cell_type": "markdown",
   "metadata": {},
   "source": [
    "# LaTex of epsilon Example\n",
    "$\n",
    "\\epsilon,\\varepsilon\n",
    "$\n",
    "\n",
    "$$\n",
    "\\epsilon,\\varepsilon\n",
    "$$"
   ]
  },
  {
   "cell_type": "code",
   "execution_count": 43,
   "metadata": {},
   "outputs": [
    {
     "data": {
      "text/plain": [
       "1.7369881707445605"
      ]
     },
     "execution_count": 43,
     "metadata": {},
     "output_type": "execute_result"
    }
   ],
   "source": [
    "inverse_document_frequency('.')"
   ]
  },
  {
   "cell_type": "code",
   "execution_count": 44,
   "metadata": {},
   "outputs": [
    {
     "data": {
      "text/plain": [
       "1.0545143921579558"
      ]
     },
     "execution_count": 44,
     "metadata": {},
     "output_type": "execute_result"
    }
   ],
   "source": [
    "inverse_document_frequency('我们')"
   ]
  },
  {
   "cell_type": "code",
   "execution_count": 45,
   "metadata": {},
   "outputs": [],
   "source": [
    "def tf(word,cut_words_counter):\n",
    "    return cut_words_counter[word]/sum(cut_words_counter.values())"
   ]
  },
  {
   "cell_type": "code",
   "execution_count": 46,
   "metadata": {},
   "outputs": [
    {
     "data": {
      "text/plain": [
       "0.009615384615384616"
      ]
     },
     "execution_count": 46,
     "metadata": {},
     "output_type": "execute_result"
    }
   ],
   "source": [
    "tf('小米',Counter(content_of_xiaomi))"
   ]
  },
  {
   "cell_type": "code",
   "execution_count": 47,
   "metadata": {},
   "outputs": [],
   "source": [
    "def tfidf(word,cut_words_counter):\n",
    "    w_tf =tf(word,cut_words_counter)\n",
    "    w_idf=inverse_document_frequency(word)\n",
    "    \n",
    "    return w_tf*w_idf"
   ]
  },
  {
   "cell_type": "code",
   "execution_count": 48,
   "metadata": {},
   "outputs": [
    {
     "data": {
      "text/plain": [
       "0.02847245426604233"
      ]
     },
     "execution_count": 48,
     "metadata": {},
     "output_type": "execute_result"
    }
   ],
   "source": [
    "tfidf('小米',Counter(content_of_xiaomi))"
   ]
  },
  {
   "cell_type": "code",
   "execution_count": 49,
   "metadata": {},
   "outputs": [
    {
     "data": {
      "text/plain": [
       "0.0020268008361621656"
      ]
     },
     "execution_count": 49,
     "metadata": {},
     "output_type": "execute_result"
    }
   ],
   "source": [
    "tfidf('的',Counter(content_of_xiaomi))"
   ]
  },
  {
   "cell_type": "code",
   "execution_count": 50,
   "metadata": {},
   "outputs": [],
   "source": [
    "def get_words_importance(cut_words):\n",
    "    importance={\n",
    "        w: tfidf(w,Counter(cut_words)) for w in set(cut_words)\n",
    "    }\n",
    "    return sorted(importance.items(),key=lambda x:x[1],reverse=True)"
   ]
  },
  {
   "cell_type": "code",
   "execution_count": 51,
   "metadata": {},
   "outputs": [
    {
     "data": {
      "text/plain": [
       "[('MIUI', 0.13417301281676844),\n",
       " ('机型', 0.05694490853208466),\n",
       " ('精力', 0.04978364119269744),\n",
       " ('稳定版', 0.04761885470671355),\n",
       " ('系统优化', 0.04761885470671355),\n",
       " ('体验版', 0.04761885470671355),\n",
       " ('暂不受', 0.04761885470671355),\n",
       " ('内测', 0.04013663462525406),\n",
       " ('官方消息', 0.0380034738496445),\n",
       " (' ', 0.03620573021958313),\n",
       " ('距今已有', 0.03490521161901794),\n",
       " ('有余', 0.03341576975573393),\n",
       " ('更新换代', 0.03301776318032834),\n",
       " ('用到', 0.032320160631059795),\n",
       " ('确切', 0.0301869996198862),\n",
       " ('\\r\\n', 0.02954337622218688),\n",
       " ('小米', 0.02847245426604233),\n",
       " ('猜测', 0.025819130702326176),\n",
       " ('发布', 0.02353236455500854),\n",
       " ('本周', 0.0227586595495763),\n",
       " ('工程师', 0.022662164431390665),\n",
       " ('其余', 0.022191564743652314),\n",
       " ('更新', 0.022061056982508348),\n",
       " ('款', 0.021925610239737745),\n",
       " ('含', 0.02134584195351208),\n",
       " ('暂停', 0.021120062186135213),\n",
       " ('9', 0.021090789285418736),\n",
       " ('之中', 0.021011590932383747),\n",
       " ('版', 0.020954871439383103),\n",
       " ('当然', 0.019837111737747916),\n",
       " ('等待', 0.019746501362063736),\n",
       " ('除', 0.017854262318468962),\n",
       " ('有人', 0.017699642294001908),\n",
       " ('手机', 0.017049008261211793),\n",
       " ('研发', 0.01670435329302623),\n",
       " ('时候', 0.015892827162250732),\n",
       " ('集中', 0.01555293878821448),\n",
       " ('确保', 0.015533668294958778),\n",
       " ('开发', 0.015272822056309025),\n",
       " ('一年', 0.015174644862306847),\n",
       " ('外', 0.014543799156167214),\n",
       " ('全部', 0.014039998771731822),\n",
       " ('关于', 0.013691912362598218),\n",
       " ('此外', 0.013376352353262028),\n",
       " ('还是', 0.013323924866043908),\n",
       " ('6', 0.01325245741017876),\n",
       " ('也', 0.013232891184266734),\n",
       " ('信息', 0.013144359736394707),\n",
       " ('自', 0.012831947845872793),\n",
       " ('起', 0.012801854692733037),\n",
       " ('去年', 0.01275020150302655),\n",
       " ('影响', 0.011884044133293085),\n",
       " ('15', 0.011456602746778507),\n",
       " ('12', 0.010718970052825367),\n",
       " ('主要', 0.01068812908541077),\n",
       " ('可以', 0.01044984246455154),\n",
       " ('8', 0.010391073635082704),\n",
       " ('我们', 0.010139561463057268),\n",
       " ('工作', 0.009510510309797847),\n",
       " ('是', 0.009377565042712073),\n",
       " ('已', 0.008390050601768978),\n",
       " ('这', 0.00823887770610065),\n",
       " ('进行', 0.0070028332637671305),\n",
       " ('等', 0.005508234467521295),\n",
       " ('将', 0.005306823882867848),\n",
       " ('/', 0.005151001703086447),\n",
       " ('以', 0.005150681734617999),\n",
       " ('了', 0.00471839188186555),\n",
       " ('5', 0.0037309123588310407),\n",
       " ('的', 0.0020268008361621656),\n",
       " ('，', 0.001993801717610336),\n",
       " ('（', 0.0015016979988186057),\n",
       " ('）', 0.0014992440425657544),\n",
       " ('。', 0.001116508130501763),\n",
       " ('月', 0.0007236957913959445),\n",
       " ('日', 0.0006164847645947693)]"
      ]
     },
     "execution_count": 51,
     "metadata": {},
     "output_type": "execute_result"
    }
   ],
   "source": [
    "get_words_importance(content_of_xiaomi)"
   ]
  },
  {
   "cell_type": "code",
   "execution_count": 52,
   "metadata": {},
   "outputs": [],
   "source": [
    "test_news = \"\"\"12月8日2时23分，西昌卫星发射中心，嫦娥四号探测器由长征三号乙运载火箭成功发射。新华社发\n",
    "\n",
    "昨日凌晨2时23分，我国嫦娥四号月球探测器在西昌卫星发射中心成功发射，我国第二个月球着陆器和月球车踏上登月征程。发射任务由长征三号乙运载火箭实施。\n",
    "\n",
    "火箭将嫦娥四号送入地月转移轨道后，探测器将经过数十天在轨飞行、轨道修正、近月制动、环月飞行等，预计明年1月初着陆月面，择机释放巡视器。\n",
    "\n",
    "嫦娥四号的目的地是月球背面南极-艾特肯盆地，新月球车将与“玉兔”号在月球两面遥遥相对。这将是人类探测器首次在月球背面着陆，在人类从未直接看见的“月之暗面”实施月球探测和天文观测。\n",
    "\n",
    "据国防科工局、国家航天局介绍，嫦娥四号任务的工程目标包括两方面：研制发射月球中继通信卫星，实现国际首次地月拉格朗日L2点的测控及中继通信；研制发射月球着陆器和巡视器，实现国际首次月球背面软着陆和巡视探测。\n",
    "\n",
    "嫦娥四号的科学任务，一是开展月球背面低频射电天文观测与研究，二是进行月球背面巡视区形貌、矿物组分及月表浅层结构探测与研究，三是试验性开展月球背面中子辐射剂量、中性原子等月球环境探测研究。\n",
    "\n",
    "航天专家庞之浩介绍，在月球背面着陆探测，对研究月球和地球的早期历史也具有重要价值。\n",
    "\n",
    "嫦娥四号还承担了国际合作项目。嫦娥四号任务中，我国与荷兰、德国、瑞典、沙特开展了4项科学载荷方面的国际合作，搭载了3项由哈尔滨工业大学、中山大学、重庆大学等国内高校研制的科学技术试验项目。\n",
    "\n",
    "焦点1\n",
    "\n",
    "嫦娥四号如何着陆？\n",
    "\n",
    "5年前，嫦娥三号着陆在月球正面的虹湾。那里布满月海玄武岩，地势较为开阔、平坦，位于大型撞击坑、月海、高地(山脉)交汇地区，有利于科学勘察目标的选择。\n",
    "\n",
    "而嫦娥四号的主着陆区为月球背面南极-艾特肯盆地，着陆区面积比虹湾地区小了许多。而且月球背面山峰林立，遍布撞击坑，很难找出更大、更平坦的地方，嫦娥三号着陆区地形起伏仅800米，而嫦娥四号着陆区起伏达到了6000米。因此，嫦娥四号着陆器，需要具有比嫦娥三号更准确的着陆精度。\n",
    "\n",
    "由于落月过程地球方向不直接可见，所有信息传输都需要在中继星“鹊桥”的中转下完成。整个落月过程由GNC（制导、导航与控制）系统自主操控，加之回传画面的延迟，对地面人员来说，这个过程近乎是“盲降”。\n",
    "\n",
    "焦点2\n",
    "\n",
    "为何要去月球背面？\n",
    "\n",
    "航天科技集团五院专家介绍，月球背面的探测，可以推动月基科学研究的不断深入。\n",
    "\n",
    "月球背面没有来自地球的无线电波的干扰，是进行射电天文观测的最佳场所，如果能利用这一自然地形架设无线电望远镜，就好比把“天文台”搬到了月球背面。嫦娥四号着陆器在月球背面软着陆后，将开展月基低频射电天文观测研究，预期可以获得一批原创性的科学成果。\n",
    "\n",
    "月球背面探测，也有助于推动月球资源的研究和开发利用。月球蕴藏着丰富的矿产和能源资源，开发和利用月球资源是人类探测月球的原动力之一。近年来，美国等国家相继制定了包括月球背面资源调查研究计划。通过嫦娥四号对着陆区地形地貌、矿物组分、巡视区浅层结构、地幔物质等进行科学探测与研究，将为月球资源的开发利用提供极有价值的第一手资料。\n",
    "\n",
    "由于月球背面探测的难度，嫦娥四号任务也将助推我国航天和相关学科技术的突破。\n",
    "\n",
    "据嫦娥四号研制人员介绍，要完成前无古人的月球背面之旅，嫦娥四号面临几大技术难点：地月拉格朗日L2平动点轨道精确设计与控制，地月拉格朗日L2点远距离数据中继，复杂地形环境下的安全着陆等。\n",
    "\n",
    "为了突破这些技术难点，我国航天界将实现三个国际首次，即首次月球背面软着陆和巡视探测、首次月球拉格朗日L2点中继与探测、首次月基低频射电天文观测，以及国内首次实测月夜期间浅层月壤温度。这一重大科学创新工程的实施，将推动航天技术和其他科学领域相关技术的持续发展。\n",
    "\n",
    "焦点3\n",
    "\n",
    "新月球车与“玉兔”有何不同？\n",
    "\n",
    "今年8月15日，嫦娥四号月球车外观在北京首次亮相，与“玉兔”恰似孪生姐妹。嫦娥四号月球车总重量约140公斤，是全球迄今重量最小的月球车。\n",
    "\n",
    "探月工程副总指挥、国家国防科工局探月与航天工程中心主任刘继忠介绍，嫦娥四号月球车基本继承了“玉兔”的状态，但针对月球背面复杂的地形条件、中继通信新的需求和科学目标实际需要，做了适应性更改和有效载荷配置调整。\n",
    "\n",
    "工作在月球表面，月球车将面临多种极端条件的考验。\n",
    "\n",
    "2013年12月15日，嫦娥三号着陆器与巡视器分离，“玉兔”抵达月球表面。据中国工程院院士、中国探月工程总设计师吴伟仁介绍，月球环境曾对“玉兔”造成影响，例如月夜极低气温导致“玉兔”裸露在外的电缆发生故障。\n",
    "\n",
    "基于“玉兔号”的任务经验，嫦娥四号针对其遇到的问题进行了针对性改进。吴伟仁说，嫦娥四号的月球车仅在电缆钩挂、摩擦方面就做了上千次试验，同时也尽量减少电缆裸露在外的面积，减少电缆的故障风险。\n",
    "\n",
    "吴伟仁透露，嫦娥三号着陆器和月球车设计寿命分别为1年和3个月，但最终月球车工作了2年9个月，着陆器目前仍在运行，工作5年状态依然很好。嫦娥四号月球车设计寿命也是3个月，但预计工作时间将比“玉兔号”更长。\n",
    "\n",
    "焦点4\n",
    "\n",
    "“鹊桥”“嫦四”有何关联？\n",
    "\n",
    "今年5月21日，“鹊桥”中继卫星发射升空，也被称为嫦娥四号任务的先声。\n",
    "\n",
    "嫦娥四号探测器包括着陆器和巡视器(即月球车，此前探月工程办公室曾面向全社会为月球车征名，目前名称尚未发布），但嫦娥四号系统里还有一个“信使”——“鹊桥”中继卫星。\n",
    "\n",
    "由于嫦娥四号降落在月球背面，始终与地球“背对背”，无法直接与地球通信。为解决通信问题，科学家找到一个能同时“看到”地球和月球的位置——地月拉格朗日L2点（位于地月球心连线上靠近月球的一侧，距月球约6.5万公里），并在这里部署一颗通信卫星。\n",
    "\n",
    "“鹊桥”已经于今年5月21日发射升空，目前运行在地月拉格朗日L2点Halo轨道上，是人类历史上第一颗地球轨道外专用中继通信卫星。任务中，地球地面和嫦娥四号都先发射信号给“鹊桥号”，再由其转发给另一方。\n",
    "\n",
    "■ 揭秘\n",
    "\n",
    "“月之暗面”：更白更厚更崎岖\n",
    "\n",
    "过去60年，人类共发射了132个左右的月球探测器，包括65个月球着陆器，但仅有不载人的环绕月球轨道器和载人的阿波罗号飞船“看”到过月球背面。主要是由于从地球向月球背面发射通讯信号，会受到月球整体阻挡，地面通信和测控的难题，阻挡了月球背面着陆计划。\n",
    "\n",
    "月球总是一面朝向地球\n",
    "\n",
    "由于月球自转周期和公转周期相等，加上被地球潮汐锁定，地球强大的引力让月球总是一面朝向地球。\n",
    "\n",
    "美国航空航天学会会员、“小火箭”联合会创始人邢强博士告诉记者，约41%月面无法被地球直接观测到。因为当飞行器飞到月球背面，就难以和地球建立通信，这也是长期以来，人类探测器从未在月球背面着陆的主要原因。\n",
    "\n",
    "可以说，月球背面对于人类来说，是“秘境中的秘境”。\n",
    "\n",
    "随着由中国航天科技集团五院研制的嫦娥四号从西昌出发，人类首次月球背面软着陆巡视探测的大幕正式拉开。嫦娥四号将第一次触及月球背面，这也是中国探测器目前到达的最远的土地。\n",
    "\n",
    "并非完全看不到月背\n",
    "\n",
    "据五院科研人员介绍，月球存在着“天秤动”，像钟摆一样来回摆动，因此，至少有10%至20%的月球背面的边缘地带可以从地球上看到，比如一个跨越1000千米的撞击盆地——东海。\n",
    "\n",
    "1959年10月7日，苏联“月球三号”探测器传回月球背面的第一张照片后，月球背面的“真容”就第一次被揭开了。依照这些珍贵的照片资料，苏联在1960年11月6出版了第一份月球背面地图，一年之后，又制作了第一个月球仪，更加清晰地呈现出月球背面的初步特征。\n",
    "\n",
    "1965年7月20日，苏联“探测器三号”传送回了25张画质更好的月球背面照片，可以看到月球背面有一条长数百千米的链状陨石坑。1967年，苏联根据这批照片出版了包含4000个新发现的月球背面地形目录的地图，同年发布了第一份比例为1:5000000完整的月面图和修订后完整的比例为1:10000000月球仪，月球95%的表面都在上面呈现了出来。\n",
    "\n",
    "人类首次与月背面对面\n",
    "\n",
    "人类首次与月背面对面是在1968年，美国“阿波罗八号”在进行载人登月任务试验的时候，宇航员威廉·安德斯首次看到月球背面。他描述说：“月球背面看起来像我在孩提时玩过一段时间的沙堆，它们全都被翻起来，没有边界，到处是一些碰撞痕和坑洞”。\n",
    "\n",
    "从那时开始直到“阿波罗十七号”，宇航员都曾看到过月球的背面。\n",
    "\n",
    "2010年12月21日，美国国家航空航天局（NASA）的“月球勘测轨道器”拍摄了一组高清月球背面照片，解析度是以往所拍月球背面照片的106倍，所呈现的细节精细程度也创下了历史纪录。根据这些最新照片数据，美国宇航局绘制了月球背面数字海拔地形图，直观地揭示了月球背面的地形。\n",
    "\n",
    "如今，人类观察月背的视角将从太空中变为身临其境。嫦娥四号将首次实现月球背面软着陆和巡视勘察，迎接它的将是怎样的环境呢？\n",
    "\n",
    "布满巨坑的崎岖陆地\n",
    "\n",
    "据航天科技集团五院专家介绍，乍一看上去，月球背面“面孔”并不漂亮，像是一张“麻子脸”，陨石坑的数量比月球正面要多很多。\n",
    "\n",
    "月背的“皱纹”也很多，布满沟壑、峡谷和悬崖，而月球正面则更平坦。月背还有几处巨大的暗斑，暗斑中的物质与月面普通物质相比有很大不同，这种现象似乎能够说明，月球背面由于毫无遮拦地暴露在太空里，因而遭遇了大量天体直接撞击。经年累月，月球就像一个盾牌，为地球挡住陨石，守护着地球的安全。\n",
    "\n",
    "月球背面月壳整体比正面更厚，究竟是什么原因导致月壳厚度不一样，众说纷纭。照片显示，月球背面巨大的陨石坑都呈现出白色，好像从来没有暗色的熔岩从上面流过。科学家们研究认为，由于月球背面的月壳很厚，熔岩无法溢出，而正面月壳很薄，熔岩很容易破缝流淌在表面，所以颜色比正面要白得多。\n",
    "\n",
    "此外，月球正面月海很多，而月球背面却只有3个，分别叫东海、莫斯科海和智海。月球正面有许多巨大绵延起伏的山峦，而背面却不像正面那么多。\n",
    "\n",
    "关键一步已经迈出\n",
    "\n",
    "我们只能看到月球的一边，但这并不是说另外一面永远是黑暗的。事实上，当我们看到整个月球正面的时候，即满月时，它的另一面是黑暗的；而月初月末时，月球背面则是阳光普照。\n",
    "\n",
    "由于目前还没有宇航员或月球车登上月球的背面，因此，人们对月球背面详细情况除了借助照片判断，其他的知之甚少。而嫦娥四号探测器，为人类逐步揭开月球背面的奥秘迈出了关键的一步。\"\"\""
   ]
  },
  {
   "cell_type": "code",
   "execution_count": 53,
   "metadata": {},
   "outputs": [],
   "source": [
    "import re\n",
    "toke_test_news=''.join(re.findall('[\\d\\w]+',test_news))"
   ]
  },
  {
   "cell_type": "code",
   "execution_count": 54,
   "metadata": {},
   "outputs": [],
   "source": [
    "cut_test_news=cut(toke_test_news)"
   ]
  },
  {
   "cell_type": "code",
   "execution_count": 55,
   "metadata": {},
   "outputs": [],
   "source": [
    "lunar_important=get_words_importance(cut_test_news)"
   ]
  },
  {
   "cell_type": "code",
   "execution_count": 56,
   "metadata": {},
   "outputs": [],
   "source": [
    "import wordcloud\n",
    "%matplotlib inline\n",
    "import matplotlib.pyplot as plt\n",
    "import numpy as np\n",
    "from PIL import Image"
   ]
  },
  {
   "cell_type": "code",
   "execution_count": 57,
   "metadata": {},
   "outputs": [],
   "source": [
    "word_cloud=wordcloud.WordCloud(font_path='/Users/liang/Library/Fonts/DejaVuSans.ttf')"
   ]
  },
  {
   "cell_type": "code",
   "execution_count": 58,
   "metadata": {},
   "outputs": [],
   "source": [
    "moon_mask=np.array(Image.open('../word_cloud/examples/alice_mask.png'))"
   ]
  },
  {
   "cell_type": "code",
   "execution_count": 59,
   "metadata": {},
   "outputs": [],
   "source": [
    "word_cloud_with_mask=wordcloud.WordCloud(font_path='/Users/liang/Library/Fonts/DejaVuSans.ttf',mask=moon_mask)"
   ]
  },
  {
   "cell_type": "code",
   "execution_count": 60,
   "metadata": {},
   "outputs": [
    {
     "data": {
      "text/plain": [
       "<wordcloud.wordcloud.WordCloud at 0x113a382e8>"
      ]
     },
     "execution_count": 60,
     "metadata": {},
     "output_type": "execute_result"
    }
   ],
   "source": [
    "word_cloud_with_mask.generate_from_frequencies({w: fre for w, fre in lunar_important}).to_file('mask_test.png')"
   ]
  },
  {
   "cell_type": "code",
   "execution_count": 61,
   "metadata": {},
   "outputs": [],
   "source": [
    "!open mask_test.png"
   ]
  },
  {
   "cell_type": "code",
   "execution_count": 62,
   "metadata": {},
   "outputs": [],
   "source": [
    "def plot_word_cloud_by_importance(importance):\n",
    "    plt.imshow(word_cloud_with_mask.generate_from_frequencies({w: fre for w, fre in importance}))"
   ]
  },
  {
   "cell_type": "code",
   "execution_count": 63,
   "metadata": {},
   "outputs": [
    {
     "data": {
      "image/png": "[encoded data removed]",
      "text/plain": [
       "<Figure size 432x288 with 1 Axes>"
      ]
     },
     "metadata": {
      "needs_background": "light"
     },
     "output_type": "display_data"
    }
   ],
   "source": [
    "plot_word_cloud_by_importance(lunar_important)"
   ]
  },
  {
   "cell_type": "code",
   "execution_count": 64,
   "metadata": {},
   "outputs": [],
   "source": [
    "xiaomi_important=get_words_importance(content_of_xiaomi)"
   ]
  },
  {
   "cell_type": "code",
   "execution_count": 65,
   "metadata": {},
   "outputs": [
    {
     "data": {
      "image/png": "[encoded data removed]",
      "text/plain": [
       "<Figure size 432x288 with 1 Axes>"
      ]
     },
     "metadata": {
      "needs_background": "light"
     },
     "output_type": "display_data"
    }
   ],
   "source": [
    "plot_word_cloud_by_importance(xiaomi_important)"
   ]
  },
  {
   "cell_type": "markdown",
   "metadata": {},
   "source": [
    "# Get the related keywords"
   ]
  },
  {
   "cell_type": "code",
   "execution_count": 66,
   "metadata": {},
   "outputs": [],
   "source": [
    "content=content.fillna('liang')"
   ]
  },
  {
   "cell_type": "code",
   "execution_count": 67,
   "metadata": {},
   "outputs": [
    {
     "data": {
      "text/plain": [
       "pandas.core.frame.DataFrame"
      ]
     },
     "execution_count": 67,
     "metadata": {},
     "output_type": "execute_result"
    }
   ],
   "source": [
    "type(content)"
   ]
  },
  {
   "cell_type": "code",
   "execution_count": 68,
   "metadata": {},
   "outputs": [],
   "source": [
    "import re\n",
    "def token(string):\n",
    "    return re.findall('[\\w\\d]+',string)"
   ]
  },
  {
   "cell_type": "code",
   "execution_count": 69,
   "metadata": {},
   "outputs": [],
   "source": [
    "all_content=''.join(content['content'].tolist())"
   ]
  },
  {
   "cell_type": "code",
   "execution_count": 70,
   "metadata": {},
   "outputs": [
    {
     "data": {
      "text/plain": [
       "'此外，自本周（6月12日）起，除小米手机6等15款机型外，其余机型已暂停更新发布（含开发版/体验版内测，稳定版暂不受影响），以确保工程师可以集中全部精力进行系统优化工作。有人猜测这也是将精力主要用到MIUI 9的研发之中。\\r\\nMIUI 8去年5月发布，距今已有一年有余，也是时候更新换代了。\\r\\n当然，关于MIUI 9的确切信息，我们还是等待官方消息。\\r\\n骁龙835作为唯一通过Windows 10桌面平台认证的ARM处理器，高通强调，不会因为只考虑性能而去屏蔽掉小核心。相反，他们正联手微软，找到一种适合桌面平台的、兼顾性能和功耗的完美方案。\\r\\n报道称，微软已经拿到了一些新的源码，以便Windows 10更好地理解big.little架构。\\r\\n资料显示，骁龙835作为一款集成了CPU、GPU、基带、蓝牙/Wi-Fi的SoC，比传统的Wintel方案可以节省至少30%的PCB空间。\\r\\n按计划，今年Q4，华硕、惠普、联想将首发骁龙835 Win10电脑，预计均是二合一形态的产品。\\r\\n当然，高通骁龙只是个开始，未来也许还能见到三星Exynos、联发科、华为麒麟、小米澎湃等进入Windows 10桌'"
      ]
     },
     "execution_count": 70,
     "metadata": {},
     "output_type": "execute_result"
    }
   ],
   "source": [
    "all_content[:500]"
   ]
  },
  {
   "cell_type": "code",
   "execution_count": 71,
   "metadata": {},
   "outputs": [],
   "source": [
    "all_content=''.join(token(all_content))"
   ]
  },
  {
   "cell_type": "code",
   "execution_count": 72,
   "metadata": {},
   "outputs": [
    {
     "data": {
      "text/plain": [
       "'此外自本周6月12日起除小米手机6等15款机型外其余机型已暂停更新发布含开发版体验版内测稳定版暂不受影响以确保工程师可以集中全部精力进行系统优化工作有人猜测这也是将精力主要用到MIUI9的研发之中MIUI8去年5月发布距今已有一年有余也是时候更新换代了当然关于MIUI9的确切信息我们还是等待官方消息骁龙835作为唯一通过Windows10桌面平台认证的ARM处理器高通强调不会因为只考虑性能而去屏蔽掉小核心相反他们正联手微软找到一种适合桌面平台的兼顾性能和功耗的完美方案报道称微软已经拿到了一些新的源码以便Windows10更好地理解biglittle架构资料显示骁龙835作为一款集成了CPUGPU基带蓝牙WiFi的SoC比传统的Wintel方案可以节省至少30的PCB空间按计划今年Q4华硕惠普联想将首发骁龙835Win10电脑预计均是二合一形态的产品当然高通骁龙只是个开始未来也许还能见到三星Exynos联发科华为麒麟小米澎湃等进入Windows10桌面平台此前的一加3T搭载的是3400mAh电池DashCharge快充规格为5V4A至于电池缩水可能与刘作虎所说一加手机5要做市面最轻薄大屏'"
      ]
     },
     "execution_count": 72,
     "metadata": {},
     "output_type": "execute_result"
    }
   ],
   "source": [
    "all_content[:500]"
   ]
  },
  {
   "cell_type": "code",
   "execution_count": 73,
   "metadata": {},
   "outputs": [
    {
     "data": {
      "text/plain": [
       "33341329"
      ]
     },
     "execution_count": 73,
     "metadata": {},
     "output_type": "execute_result"
    }
   ],
   "source": [
    "len(all_content)"
   ]
  },
  {
   "cell_type": "code",
   "execution_count": 74,
   "metadata": {},
   "outputs": [],
   "source": [
    "all_cut_words=cut(all_content)"
   ]
  },
  {
   "cell_type": "code",
   "execution_count": 75,
   "metadata": {},
   "outputs": [
    {
     "data": {
      "text/plain": [
       "17522839"
      ]
     },
     "execution_count": 75,
     "metadata": {},
     "output_type": "execute_result"
    }
   ],
   "source": [
    "len(all_cut_words)"
   ]
  },
  {
   "cell_type": "code",
   "execution_count": 76,
   "metadata": {},
   "outputs": [],
   "source": [
    "from gensim.models import Word2Vec\n",
    "from gensim.models.word2vec import LineSentence"
   ]
  },
  {
   "cell_type": "code",
   "execution_count": 77,
   "metadata": {},
   "outputs": [],
   "source": [
    "with open('all_cut_words.txt','w',encoding='utf-8') as f:\n",
    "    f.write(' '.join(all_cut_words))"
   ]
  },
  {
   "cell_type": "code",
   "execution_count": 78,
   "metadata": {},
   "outputs": [],
   "source": [
    "news_word2vec=Word2Vec(LineSentence('all_cut_words.txt'),size=35,workers=8)"
   ]
  },
  {
   "cell_type": "code",
   "execution_count": 79,
   "metadata": {},
   "outputs": [
    {
     "data": {
      "text/plain": [
       "[('意大利', 0.8662052154541016),\n",
       " ('比利时', 0.851517915725708),\n",
       " ('奥地利', 0.8426735401153564),\n",
       " ('乌拉圭', 0.8330563902854919),\n",
       " ('巴拉圭', 0.8246066570281982),\n",
       " ('捷克', 0.8240934610366821),\n",
       " ('科特迪瓦', 0.8223443031311035),\n",
       " ('克罗地亚', 0.8209899067878723),\n",
       " ('拉脱维亚', 0.8115059733390808),\n",
       " ('瑞典', 0.8093013167381287),\n",
       " ('巴林', 0.8047271966934204),\n",
       " ('丹麦', 0.8029623031616211),\n",
       " ('西班牙', 0.7982384562492371),\n",
       " ('秘鲁', 0.7970547080039978),\n",
       " ('索', 0.7945058345794678),\n",
       " ('多哈', 0.7891279458999634),\n",
       " ('罗马尼亚', 0.7879856824874878),\n",
       " ('苏格兰', 0.7868607044219971),\n",
       " ('摩洛哥', 0.7858594655990601),\n",
       " ('斯洛文尼亚', 0.7788753509521484)]"
      ]
     },
     "execution_count": 79,
     "metadata": {},
     "output_type": "execute_result"
    }
   ],
   "source": [
    "news_word2vec.wv.most_similar('葡萄牙',topn=20)"
   ]
  },
  {
   "cell_type": "code",
   "execution_count": 80,
   "metadata": {},
   "outputs": [
    {
     "data": {
      "text/plain": [
       "[('葡萄牙', 0.866205096244812),\n",
       " ('德国', 0.8444589376449585),\n",
       " ('比利时', 0.8376694917678833),\n",
       " ('西班牙', 0.8356388807296753),\n",
       " ('捷克', 0.8297826647758484),\n",
       " ('瑞典', 0.8195632696151733),\n",
       " ('基辅', 0.8001537919044495),\n",
       " ('奥地利', 0.7892880439758301),\n",
       " ('瑞士', 0.787250816822052),\n",
       " ('南非', 0.7805617451667786),\n",
       " ('加拿大', 0.7793366312980652),\n",
       " ('墨西哥', 0.7769722938537598),\n",
       " ('拉脱维亚', 0.7674064636230469),\n",
       " ('乌克兰', 0.7666211128234863),\n",
       " ('丹麦', 0.7665907144546509),\n",
       " ('马德里', 0.7655001878738403),\n",
       " ('澳大利亚', 0.7613329887390137),\n",
       " ('俄罗斯', 0.7566612958908081),\n",
       " ('保加利亚', 0.7550305724143982),\n",
       " ('摩洛哥', 0.7537322640419006)]"
      ]
     },
     "execution_count": 80,
     "metadata": {},
     "output_type": "execute_result"
    }
   ],
   "source": [
    "news_word2vec.wv.most_similar('意大利',topn=20)"
   ]
  },
  {
   "cell_type": "code",
   "execution_count": 81,
   "metadata": {},
   "outputs": [
    {
     "data": {
      "text/plain": [
       "[('匈牙利', 0.8936625719070435),\n",
       " ('波兰', 0.8901077508926392),\n",
       " ('保加利亚', 0.8842040300369263),\n",
       " ('奥地利', 0.8553457856178284),\n",
       " ('葡萄牙', 0.8515178561210632),\n",
       " ('白俄罗斯', 0.8506275415420532),\n",
       " ('马耳他', 0.8428901433944702),\n",
       " ('秘鲁', 0.8426257371902466),\n",
       " ('意大利', 0.8376694917678833),\n",
       " ('墨西哥', 0.8336458206176758),\n",
       " ('阿联酋', 0.8311008810997009),\n",
       " ('巴林', 0.8294261693954468),\n",
       " ('格鲁吉亚', 0.8240881562232971),\n",
       " ('丹麦', 0.8236008882522583),\n",
       " ('南非', 0.8202261328697205),\n",
       " ('黎巴嫩', 0.8200123310089111),\n",
       " ('拉脱维亚', 0.8193767070770264),\n",
       " ('约旦', 0.8180937767028809),\n",
       " ('捷克', 0.8177003860473633),\n",
       " ('罗马尼亚', 0.8160632848739624)]"
      ]
     },
     "execution_count": 81,
     "metadata": {},
     "output_type": "execute_result"
    }
   ],
   "source": [
    "news_word2vec.wv.most_similar('比利时',topn=20)"
   ]
  },
  {
   "cell_type": "markdown",
   "metadata": {},
   "source": [
    "# 1. More Data, Better Result\n",
    "> we need merge the general dataset like `wikipedia` with specific domain dataset like `new data`"
   ]
  },
  {
   "cell_type": "markdown",
   "metadata": {},
   "source": [
    "# 2. Fine-tune"
   ]
  },
  {
   "cell_type": "code",
   "execution_count": 82,
   "metadata": {},
   "outputs": [],
   "source": [
    "from collections import defaultdict"
   ]
  },
  {
   "cell_type": "code",
   "execution_count": 83,
   "metadata": {},
   "outputs": [],
   "source": [
    "def get_relate_words(inital, model):\n",
    "    max_size=500\n",
    "    seen=defaultdict(int)\n",
    "    unsee=[inital]\n",
    "    while unsee and len(seen)<max_size:\n",
    "        if len(seen)%100==0:\n",
    "            print('seen length:{}'.format(len(seen)))\n",
    "        node =unsee.pop(0)\n",
    "        expanding=[w for w, s in model.wv.most_similar(node,topn=20)]\n",
    "        unsee+=expanding\n",
    "        seen[node]+=1\n",
    "    return seen"
   ]
  },
  {
   "cell_type": "code",
   "execution_count": 84,
   "metadata": {},
   "outputs": [
    {
     "name": "stdout",
     "output_type": "stream",
     "text": [
      "seen length:0\n",
      "seen length:100\n",
      "seen length:100\n",
      "seen length:100\n",
      "seen length:100\n",
      "seen length:100\n",
      "seen length:100\n",
      "seen length:100\n",
      "seen length:100\n",
      "seen length:200\n",
      "seen length:300\n",
      "seen length:400\n"
     ]
    }
   ],
   "source": [
    "related_words=get_relate_words('俄罗斯',news_word2vec)"
   ]
  },
  {
   "cell_type": "code",
   "execution_count": 85,
   "metadata": {},
   "outputs": [
    {
     "data": {
      "text/plain": [
       "[('土耳其', 122),\n",
       " ('俄罗斯', 110),\n",
       " ('新加坡', 103),\n",
       " ('比利时', 102),\n",
       " ('伊朗', 101),\n",
       " ('南非', 101),\n",
       " ('墨西哥', 100),\n",
       " ('德国', 93),\n",
       " ('卡塔尔', 92),\n",
       " ('波兰', 84),\n",
       " ('沙特', 84),\n",
       " ('澳大利亚', 83),\n",
       " ('以色列', 83),\n",
       " ('乌克兰', 80),\n",
       " ('意大利', 77),\n",
       " ('美国', 71),\n",
       " ('加拿大', 67),\n",
       " ('瑞典', 66),\n",
       " ('该国', 66),\n",
       " ('印度', 65)]"
      ]
     },
     "execution_count": 85,
     "metadata": {},
     "output_type": "execute_result"
    }
   ],
   "source": [
    "sorted(related_words.items(),key=lambda item:item[1],reverse=True)[:20]"
   ]
  },
  {
   "cell_type": "code",
   "execution_count": 86,
   "metadata": {},
   "outputs": [
    {
     "data": {
      "text/plain": [
       "[('乌克兰', 0.830732524394989),\n",
       " ('美国', 0.82887864112854),\n",
       " ('新加坡', 0.8112935423851013),\n",
       " ('土耳其', 0.806170642375946),\n",
       " ('伊朗', 0.7975916862487793),\n",
       " ('南非', 0.790999710559845),\n",
       " ('澳大利亚', 0.7866919040679932),\n",
       " ('巴林', 0.7863041162490845),\n",
       " ('德国', 0.7832198143005371),\n",
       " ('英国', 0.7708660364151001),\n",
       " ('以色列', 0.762061595916748),\n",
       " ('卡塔尔', 0.7616592645645142),\n",
       " ('欧洲', 0.7602044343948364),\n",
       " ('印度', 0.7589734792709351),\n",
       " ('芬兰', 0.7587743401527405),\n",
       " ('意大利', 0.7566613554954529),\n",
       " ('巴基斯坦', 0.754872739315033),\n",
       " ('阿联酋', 0.7499347925186157),\n",
       " ('加拿大', 0.7484608888626099),\n",
       " ('瑞典', 0.7482858300209045)]"
      ]
     },
     "execution_count": 86,
     "metadata": {},
     "output_type": "execute_result"
    }
   ],
   "source": [
    "news_word2vec.wv.most_similar('俄罗斯',topn=20)"
   ]
  },
  {
   "cell_type": "code",
   "execution_count": 87,
   "metadata": {},
   "outputs": [
    {
     "data": {
      "text/plain": [
       "[('海外', 0.7736738324165344),\n",
       " ('国内', 0.7530523538589478),\n",
       " ('全世界', 0.7478072643280029),\n",
       " ('我国', 0.7407888174057007),\n",
       " ('全球', 0.7404458522796631),\n",
       " ('香港', 0.724696159362793),\n",
       " ('世界', 0.7191476821899414),\n",
       " ('亚洲', 0.7124020457267761),\n",
       " ('大陆', 0.7017027139663696),\n",
       " ('芬兰', 0.6807516813278198),\n",
       " ('非洲', 0.6651233434677124),\n",
       " ('业界', 0.6620278358459473),\n",
       " ('南南合作', 0.6539421081542969),\n",
       " ('欧美', 0.6497272253036499),\n",
       " ('欧洲', 0.6483986377716064),\n",
       " ('内地', 0.647267758846283),\n",
       " ('陈名杰', 0.6382582187652588),\n",
       " ('国内外', 0.6353743076324463),\n",
       " ('台湾', 0.6298825740814209),\n",
       " ('马来西亚', 0.6267440319061279)]"
      ]
     },
     "execution_count": 87,
     "metadata": {},
     "output_type": "execute_result"
    }
   ],
   "source": [
    "news_word2vec.wv.most_similar('中国', topn=20)"
   ]
  },
  {
   "cell_type": "code",
   "execution_count": 88,
   "metadata": {},
   "outputs": [
    {
     "name": "stdout",
     "output_type": "stream",
     "text": [
      "seen length:0\n",
      "seen length:100\n",
      "seen length:100\n",
      "seen length:100\n",
      "seen length:200\n",
      "seen length:200\n",
      "seen length:200\n",
      "seen length:200\n",
      "seen length:200\n",
      "seen length:200\n",
      "seen length:300\n",
      "seen length:400\n"
     ]
    }
   ],
   "source": [
    "related_china=get_relate_words('中国',news_word2vec)"
   ]
  },
  {
   "cell_type": "code",
   "execution_count": 89,
   "metadata": {},
   "outputs": [
    {
     "data": {
      "text/plain": [
       "[('中国', 36),\n",
       " ('国内', 36),\n",
       " ('海外', 34),\n",
       " ('全球', 28),\n",
       " ('业界', 28),\n",
       " ('欧洲', 27),\n",
       " ('全世界', 25),\n",
       " ('亚洲', 22),\n",
       " ('世界', 18),\n",
       " ('大陆', 18),\n",
       " ('非洲', 18),\n",
       " ('国内外', 18),\n",
       " ('美国', 16),\n",
       " ('欧美', 14),\n",
       " ('内地', 14),\n",
       " ('台湾', 14),\n",
       " ('我国', 13),\n",
       " ('外国', 13),\n",
       " ('芬兰', 11),\n",
       " ('欧美国家', 11)]"
      ]
     },
     "execution_count": 89,
     "metadata": {},
     "output_type": "execute_result"
    }
   ],
   "source": [
    "sorted(related_china.items(),key=lambda x:x[1],reverse=True)[:20]"
   ]
  },
  {
   "cell_type": "markdown",
   "metadata": {},
   "source": [
    "# Part of Speech\n",
    "'noun','verb','...'"
   ]
  },
  {
   "cell_type": "markdown",
   "metadata": {},
   "source": [
    "## References\n",
    "## https://blog.csdn.net/huludan/article/details/52727298\n",
    "## https://pyltp.readthedocs.io/zh_CN/latest/"
   ]
  },
  {
   "cell_type": "code",
   "execution_count": 90,
   "metadata": {},
   "outputs": [],
   "source": [
    "from jieba import posseg"
   ]
  },
  {
   "cell_type": "code",
   "execution_count": 91,
   "metadata": {},
   "outputs": [],
   "source": [
    "test_news_2 = \"\"\"今年是“一带一路”倡议提出五周年。五年来，中国已经同140多个国家和国际组织签署共建“一带一路”合作协议，一大批重大合作项目已经落地生根。在今年的外访和参加国际会议期间，习近平主席几乎每到一个国家都会提到“一带一路”，亲自推动“一带一路”倡议走深走实。\n",
    "\n",
    "在阿联酋，习近平强调中阿是共建“一带一路”的天然合作伙伴，中方视阿联酋为“一带一路”建设重要支点国家。在塞内加尔，习近平见证了中塞共建“一带一路”等多项双边合作文件的签署，塞内加尔也成为西非首个签署“一带一路”合作文件的国家。在卢旺达，习近平表示，中方欢迎卢方积极参与共建“一带一路”国际合作，鼓励中国企业赴卢旺达投资兴业，助力卢旺达工业化和现代化进程。在南非，习近平强调，中南双方要加强在“一带一路”和中非合作论坛框架内合作。在毛里求斯，习近平提议，发挥毛里求斯参与共建“一带一路”的独特区位优势，加强沟通对接，深化广泛领域合作。\n",
    "\n",
    "习近平今年外访收官，向国际社会传达了什么讯息？（来源：CCTV-新闻）\n",
    "△独家V观丨盛装歌舞！习近平出席巴新独立大道移交启用仪式\n",
    "巴布亚新几内亚是太平洋岛国地区首个同中方签署共建“一带一路”合作协议的国家。在巴新，习近平表示，双方要在“一带一路”框架内加强发展战略对接，争取尽早就启动双边自由贸易协定谈判达成一致。在文莱，习近平强调，中方视文莱为建设21世纪海上丝绸之路重要合作伙伴，愿将“一带一路”倡议同文莱经济多元化战略“2035宏愿”相对接。在菲律宾，习近平见证了《中华人民共和国政府与菲律宾共和国政府关于共同推进“一带一路”建设的谅解备忘录》等多项双边合作文件的签署。\n",
    "\n",
    "在西班牙，习近平表示，中西开展“一带一路”合作具有历史、地理等多重优势，要加强“一带一路”倡议同西班牙亚洲战略、地中海走廊建设等对接。在阿根廷，习近平强调，双方要在共建“一带一路”框架内加强沟通和合作，对接两国发展规划。在巴拿马，习近平指出，巴方“2030年国家物流战略”同中方共建“一带一路”倡议高度契合，双方要加强战略对接。在葡萄牙，习近平强调，双方要以签署中葡政府间共建“一带一路”合作谅解备忘录为契机，全面加强“一带一路”框架内合作，促进互联互通。\n",
    "\n",
    "习近平今年外访收官，向国际社会传达了什么讯息？△习近平在APEC工商领导人峰会上发表主旨演讲\n",
    "\n",
    "在今年的APEC工商领导人峰会上，习近平发表主旨演讲时还郑重表示，共建“一带一路”是开放的合作平台，秉持的是共商共建共享的基本原则，没有地缘政治目的，不针对谁也不排除谁，不会关起门来搞小圈子，不是有人说的这样那样的所谓“陷阱”，而是中国同世界共享机遇、共谋发展的阳光大道。中国将于明年4月在北京举办第二届“一带一路”国际合作高峰论坛。\n",
    "\n",
    "四次踏出国门，每到一地，习近平都在积极扩大“一带一路”朋友圈，寻找“一带一路”倡议和各国发展战略之间的契合点，并亲自发声排除外界对“一带一路”倡议的各种杂音。可以说，共建“一带一路”是习近平2018年外访行程的一大中心主题。\"\"\""
   ]
  },
  {
   "cell_type": "code",
   "execution_count": 92,
   "metadata": {},
   "outputs": [
    {
     "name": "stdout",
     "output_type": "stream",
     "text": [
      "今年/t\n",
      "是/v\n",
      "“/x\n",
      "一带/n\n",
      "一路/m\n",
      "”/x\n",
      "倡议/n\n",
      "提出/v\n",
      "五周年/m\n",
      "。/x\n",
      "五年/t\n",
      "来/v\n",
      "，/x\n",
      "中国/ns\n",
      "已经/d\n",
      "同/c\n",
      "140/m\n",
      "多个/m\n",
      "国家/n\n",
      "和/c\n",
      "国际/n\n",
      "组织/v\n",
      "签署/v\n",
      "共建/v\n",
      "“/x\n",
      "一带/n\n",
      "一路/m\n",
      "”/x\n",
      "合作/vn\n",
      "协议/n\n",
      "，/x\n",
      "一大批/m\n",
      "重大/a\n",
      "合作项目/n\n",
      "已经/d\n",
      "落地生根/i\n",
      "。/x\n",
      "在/p\n",
      "今年/t\n",
      "的/uj\n",
      "外访/v\n",
      "和/c\n",
      "参加/v\n",
      "国际/n\n",
      "会议/n\n",
      "期间/f\n",
      "，/x\n",
      "习近平/nrfg\n",
      "主席/n\n",
      "几乎/d\n",
      "每/r\n",
      "到/v\n",
      "一个/m\n",
      "国家/n\n",
      "都/d\n",
      "会/v\n",
      "提到/v\n",
      "“/x\n",
      "一带/n\n",
      "一路/m\n",
      "”/x\n",
      "，/x\n",
      "亲自/d\n",
      "推动/v\n",
      "“/x\n",
      "一带/n\n",
      "一路/m\n",
      "”/x\n",
      "倡议/n\n",
      "走/v\n",
      "深/a\n",
      "走/v\n",
      "实/v\n",
      "。/x\n",
      "\n",
      "/x\n",
      "\n",
      "/x\n",
      "在/p\n",
      "阿联酋/ns\n",
      "，/x\n",
      "习近平/nrfg\n",
      "强调/v\n",
      "中阿/ns\n",
      "是/v\n",
      "共建/v\n",
      "“/x\n",
      "一带/n\n",
      "一路/m\n",
      "”/x\n",
      "的/uj\n",
      "天然/b\n",
      "合作伙伴/n\n",
      "，/x\n",
      "中方/f\n",
      "视/vg\n",
      "阿联酋/ns\n",
      "为/p\n",
      "“/x\n",
      "一带/n\n",
      "一路/m\n",
      "”/x\n",
      "建设/vn\n",
      "重要/a\n",
      "支点/n\n",
      "国家/n\n",
      "。/x\n",
      "在/p\n",
      "塞内加尔/ns\n",
      "，/x\n",
      "习近平/nrfg\n",
      "见证/v\n",
      "了/ul\n",
      "中塞/ns\n",
      "共建/v\n",
      "“/x\n",
      "一带/n\n",
      "一路/m\n",
      "”/x\n",
      "等/u\n",
      "多项/m\n",
      "双边合作/n\n",
      "文件/n\n",
      "的/uj\n",
      "签署/v\n",
      "，/x\n",
      "塞内加尔/ns\n",
      "也/d\n",
      "成为/v\n",
      "西非/ns\n",
      "首个/m\n",
      "签署/v\n",
      "“/x\n",
      "一带/n\n",
      "一路/m\n",
      "”/x\n",
      "合作/vn\n",
      "文件/n\n",
      "的/uj\n",
      "国家/n\n",
      "。/x\n",
      "在/p\n",
      "卢旺达/nr\n",
      "，/x\n",
      "习近平/nrfg\n",
      "表示/v\n",
      "，/x\n",
      "中方/f\n",
      "欢迎/v\n",
      "卢方/nr\n",
      "积极参与/i\n",
      "共建/v\n",
      "“/x\n",
      "一带/n\n",
      "一路/m\n",
      "”/x\n",
      "国际/n\n",
      "合作/vn\n",
      "，/x\n",
      "鼓励/v\n",
      "中国/ns\n",
      "企业/n\n",
      "赴/v\n",
      "卢旺达/nr\n",
      "投资/vn\n",
      "兴业/n\n",
      "，/x\n",
      "助力/n\n",
      "卢旺达/nr\n",
      "工业化/vn\n",
      "和/c\n",
      "现代化/vn\n",
      "进程/n\n",
      "。/x\n",
      "在/p\n",
      "南非/ns\n",
      "，/x\n",
      "习近平/nrfg\n",
      "强调/v\n",
      "，/x\n",
      "中南/ns\n",
      "双方/n\n",
      "要/v\n",
      "加强/v\n",
      "在/p\n",
      "“/x\n",
      "一带/n\n",
      "一路/m\n",
      "”/x\n",
      "和/c\n",
      "中非/ns\n",
      "合作/vn\n",
      "论坛/n\n",
      "框架/n\n",
      "内/n\n",
      "合作/vn\n",
      "。/x\n",
      "在/p\n",
      "毛里求斯/ns\n",
      "，/x\n",
      "习近平/nrfg\n",
      "提议/v\n",
      "，/x\n",
      "发挥/v\n",
      "毛里求斯/ns\n",
      "参与/v\n",
      "共建/v\n",
      "“/x\n",
      "一带/n\n",
      "一路/m\n",
      "”/x\n",
      "的/uj\n",
      "独特/a\n",
      "区位/n\n",
      "优势/n\n",
      "，/x\n",
      "加强/v\n",
      "沟通/v\n",
      "对接/v\n",
      "，/x\n",
      "深化/j\n",
      "广泛/a\n",
      "领域/n\n",
      "合作/vn\n",
      "。/x\n",
      "\n",
      "/x\n",
      "\n",
      "/x\n",
      "习近平/nrfg\n",
      "今年/t\n",
      "外访/v\n",
      "收官/n\n",
      "，/x\n",
      "向/p\n",
      "国际/n\n",
      "社会/n\n",
      "传达/v\n",
      "了/ul\n",
      "什么/r\n",
      "讯息/n\n",
      "？/x\n",
      "（/x\n",
      "来源/n\n",
      "：/x\n",
      "CCTV/eng\n",
      "-/x\n",
      "新闻/n\n",
      "）/x\n",
      "\n",
      "/x\n",
      "△/x\n",
      "独家/n\n",
      "V/eng\n",
      "观/vg\n",
      "丨/zg\n",
      "盛装/v\n",
      "歌舞/n\n",
      "！/x\n",
      "习近平/nrfg\n",
      "出席/v\n",
      "巴新/ns\n",
      "独立/v\n",
      "大道/n\n",
      "移交/v\n",
      "启用/v\n",
      "仪式/n\n",
      "\n",
      "/x\n",
      "巴布亚新几内亚/ns\n",
      "是/v\n",
      "太平洋/ns\n",
      "岛国/n\n",
      "地区/n\n",
      "首个/m\n",
      "同/p\n",
      "中方/f\n",
      "签署/v\n",
      "共建/v\n",
      "“/x\n",
      "一带/n\n",
      "一路/m\n",
      "”/x\n",
      "合作/vn\n",
      "协议/n\n",
      "的/uj\n",
      "国家/n\n",
      "。/x\n",
      "在/p\n",
      "巴新/ns\n",
      "，/x\n",
      "习近平/nrfg\n",
      "表示/v\n",
      "，/x\n",
      "双方/n\n",
      "要/v\n",
      "在/p\n",
      "“/x\n",
      "一带/n\n",
      "一路/m\n",
      "”/x\n",
      "框架/n\n",
      "内/n\n",
      "加强/v\n",
      "发展/vn\n",
      "战略/n\n",
      "对接/v\n",
      "，/x\n",
      "争取/v\n",
      "尽早/d\n",
      "就/d\n",
      "启动/vn\n",
      "双边/n\n",
      "自由/a\n",
      "贸易协定/nz\n",
      "谈判/vn\n",
      "达成/v\n",
      "一致/d\n",
      "。/x\n",
      "在/p\n",
      "文莱/nr\n",
      "，/x\n",
      "习近平/nrfg\n",
      "强调/v\n",
      "，/x\n",
      "中方/f\n",
      "视/vg\n",
      "文莱/nr\n",
      "为/p\n",
      "建设/vn\n",
      "21/m\n",
      "世纪/n\n",
      "海上/s\n",
      "丝绸之路/l\n",
      "重要/a\n",
      "合作伙伴/n\n",
      "，/x\n",
      "愿/v\n",
      "将/d\n",
      "“/x\n",
      "一带/n\n",
      "一路/m\n",
      "”/x\n",
      "倡议/n\n",
      "同/p\n",
      "文莱/nr\n",
      "经济/n\n",
      "多元化/vn\n",
      "战略/n\n",
      "“/x\n",
      "2035/m\n",
      "宏愿/n\n",
      "”/x\n",
      "相对/d\n",
      "接/v\n",
      "。/x\n",
      "在/p\n",
      "菲律宾/ns\n",
      "，/x\n",
      "习近平/nrfg\n",
      "见证/v\n",
      "了/ul\n",
      "《/x\n",
      "中华人民共和国政府/nt\n",
      "与/p\n",
      "菲律宾共和国/ns\n",
      "政府/n\n",
      "关于/p\n",
      "共同/d\n",
      "推进/v\n",
      "“/x\n",
      "一带/n\n",
      "一路/m\n",
      "”/x\n",
      "建设/vn\n",
      "的/uj\n",
      "谅解/v\n",
      "备忘录/n\n",
      "》/x\n",
      "等/u\n",
      "多项/m\n",
      "双边合作/n\n",
      "文件/n\n",
      "的/uj\n",
      "签署/v\n",
      "。/x\n",
      "\n",
      "/x\n",
      "\n",
      "/x\n",
      "在/p\n",
      "西班牙/ns\n",
      "，/x\n",
      "习近平/nrfg\n",
      "表示/v\n",
      "，/x\n",
      "中西/ns\n",
      "开展/v\n",
      "“/x\n",
      "一带/n\n",
      "一路/m\n",
      "”/x\n",
      "合作/vn\n",
      "具有/v\n",
      "历史/n\n",
      "、/x\n",
      "地理/n\n",
      "等/u\n",
      "多重/m\n",
      "优势/n\n",
      "，/x\n",
      "要/v\n",
      "加强/v\n",
      "“/x\n",
      "一带/n\n",
      "一路/m\n",
      "”/x\n",
      "倡议/n\n",
      "同/p\n",
      "西班牙/ns\n",
      "亚洲/ns\n",
      "战略/n\n",
      "、/x\n",
      "地中海/ns\n",
      "走廊/n\n",
      "建设/vn\n",
      "等/u\n",
      "对接/v\n",
      "。/x\n",
      "在/p\n",
      "阿根廷/nr\n",
      "，/x\n",
      "习近平/nrfg\n",
      "强调/v\n",
      "，/x\n",
      "双方/n\n",
      "要/v\n",
      "在/p\n",
      "共建/v\n",
      "“/x\n",
      "一带/n\n",
      "一路/m\n",
      "”/x\n",
      "框架/n\n",
      "内/n\n",
      "加强/v\n",
      "沟通/v\n",
      "和/c\n",
      "合作/vn\n",
      "，/x\n",
      "对接/v\n",
      "两/m\n",
      "国/n\n",
      "发展/vn\n",
      "规划/n\n",
      "。/x\n",
      "在/p\n",
      "巴拿马/ns\n",
      "，/x\n",
      "习近平/nrfg\n",
      "指出/v\n",
      "，/x\n",
      "巴方/nr\n",
      "“/x\n",
      "2030/m\n",
      "年/m\n",
      "国家/n\n",
      "物流/n\n",
      "战略/n\n",
      "”/x\n",
      "同/p\n",
      "中方/f\n",
      "共建/v\n",
      "“/x\n",
      "一带/n\n",
      "一路/m\n",
      "”/x\n",
      "倡议/n\n",
      "高度/n\n",
      "契合/v\n",
      "，/x\n",
      "双方/n\n",
      "要/v\n",
      "加强/v\n",
      "战略/n\n",
      "对接/v\n",
      "。/x\n",
      "在/p\n",
      "葡萄牙/ns\n",
      "，/x\n",
      "习近平/nrfg\n",
      "强调/v\n",
      "，/x\n",
      "双方/n\n",
      "要/v\n",
      "以/p\n",
      "签署/v\n",
      "中葡/n\n",
      "政府/n\n",
      "间/f\n",
      "共建/v\n",
      "“/x\n",
      "一带/n\n",
      "一路/m\n",
      "”/x\n",
      "合作/vn\n",
      "谅解/v\n",
      "备忘录/n\n",
      "为/p\n",
      "契机/n\n",
      "，/x\n",
      "全面/n\n",
      "加强/v\n",
      "“/x\n",
      "一带/n\n",
      "一路/m\n",
      "”/x\n",
      "框架/n\n",
      "内/n\n",
      "合作/vn\n",
      "，/x\n",
      "促进/v\n",
      "互联互通/l\n",
      "。/x\n",
      "\n",
      "/x\n",
      "\n",
      "/x\n",
      "习近平/nrfg\n",
      "今年/t\n",
      "外访/v\n",
      "收官/n\n",
      "，/x\n",
      "向/p\n",
      "国际/n\n",
      "社会/n\n",
      "传达/v\n",
      "了/ul\n",
      "什么/r\n",
      "讯息/n\n",
      "？/x\n",
      "△/x\n",
      "习近平/nrfg\n",
      "在/p\n",
      "APEC/eng\n",
      "工商/n\n",
      "领导人/n\n",
      "峰会/n\n",
      "上/f\n",
      "发表/v\n",
      "主旨/n\n",
      "演讲/v\n",
      "\n",
      "/x\n",
      "\n",
      "/x\n",
      "在/p\n",
      "今年/t\n",
      "的/uj\n",
      "APEC/eng\n",
      "工商/n\n",
      "领导人/n\n",
      "峰会/n\n",
      "上/f\n",
      "，/x\n",
      "习近平/nrfg\n",
      "发表/v\n",
      "主旨/n\n",
      "演讲时/n\n",
      "还/d\n",
      "郑重/a\n",
      "表示/v\n",
      "，/x\n",
      "共建/v\n",
      "“/x\n",
      "一带/n\n",
      "一路/m\n",
      "”/x\n",
      "是/v\n",
      "开放/v\n",
      "的/uj\n",
      "合作/vn\n",
      "平台/n\n",
      "，/x\n",
      "秉持/v\n",
      "的/uj\n",
      "是/v\n",
      "共商/n\n",
      "共建/v\n",
      "共享/v\n",
      "的/uj\n",
      "基本/n\n",
      "原则/n\n",
      "，/x\n",
      "没有/v\n",
      "地缘/n\n",
      "政治/n\n",
      "目的/n\n",
      "，/x\n",
      "不/d\n",
      "针对/p\n",
      "谁/r\n",
      "也/d\n",
      "不/d\n",
      "排除/v\n",
      "谁/r\n",
      "，/x\n",
      "不会/v\n",
      "关起门来/l\n",
      "搞/v\n",
      "小圈子/nr\n",
      "，/x\n",
      "不是/c\n",
      "有人/r\n",
      "说/v\n",
      "的/uj\n",
      "这样/r\n",
      "那样/r\n",
      "的/uj\n",
      "所谓/b\n",
      "“/x\n",
      "陷阱/n\n",
      "”/x\n",
      "，/x\n",
      "而是/c\n",
      "中国/ns\n",
      "同/p\n",
      "世界/n\n",
      "共享/v\n",
      "机遇/n\n",
      "、/x\n",
      "共谋/n\n",
      "发展/vn\n",
      "的/uj\n",
      "阳光/nr\n",
      "大道/n\n",
      "。/x\n",
      "中国/ns\n",
      "将/d\n",
      "于/p\n",
      "明年/t\n",
      "4/m\n",
      "月/m\n",
      "在/p\n",
      "北京/ns\n",
      "举办/v\n",
      "第二届/m\n",
      "“/x\n",
      "一带/n\n",
      "一路/m\n",
      "”/x\n",
      "国际/n\n",
      "合作/vn\n",
      "高峰论坛/n\n",
      "。/x\n",
      "\n",
      "/x\n",
      "\n",
      "/x\n",
      "四次/m\n",
      "踏出/v\n",
      "国门/n\n",
      "，/x\n",
      "每到一地/l\n",
      "，/x\n",
      "习近平/nrfg\n",
      "都/d\n",
      "在/p\n",
      "积极/ad\n",
      "扩大/v\n",
      "“/x\n",
      "一带/n\n",
      "一路/m\n",
      "”/x\n",
      "朋友圈/n\n",
      "，/x\n",
      "寻找/v\n",
      "“/x\n",
      "一带/n\n",
      "一路/m\n",
      "”/x\n",
      "倡议/n\n",
      "和/c\n",
      "各国/r\n",
      "发展/vn\n",
      "战略/n\n",
      "之间/f\n",
      "的/uj\n",
      "契合点/n\n",
      "，/x\n",
      "并/c\n",
      "亲自/d\n",
      "发声/v\n",
      "排除/v\n",
      "外界/n\n",
      "对/p\n",
      "“/x\n",
      "一带/n\n",
      "一路/m\n",
      "”/x\n",
      "倡议/n\n",
      "的/uj\n",
      "各种/r\n",
      "杂音/n\n",
      "。/x\n",
      "可以/c\n",
      "说/v\n",
      "，/x\n",
      "共建/v\n",
      "“/x\n",
      "一带/n\n",
      "一路/m\n",
      "”/x\n",
      "是/v\n",
      "习近平/nrfg\n",
      "2018/m\n",
      "年/m\n",
      "外访/v\n",
      "行程/n\n",
      "的/uj\n",
      "一大/a\n",
      "中心/n\n",
      "主题/n\n",
      "。/x\n"
     ]
    }
   ],
   "source": [
    "for p in posseg.cut(test_news_2):\n",
    "    print('{}'.format(p))"
   ]
  },
  {
   "cell_type": "code",
   "execution_count": null,
   "metadata": {},
   "outputs": [],
   "source": []
  }
 ],
 "metadata": {
  "kernelspec": {
   "display_name": "Python 3",
   "language": "python",
   "name": "python3"
  },
  "language_info": {
   "codemirror_mode": {
    "name": "ipython",
    "version": 3
   },
   "file_extension": ".py",
   "mimetype": "text/x-python",
   "name": "python",
   "nbconvert_exporter": "python",
   "pygments_lexer": "ipython3",
   "version": "3.7.1"
  }
 },
 "nbformat": 4,
 "nbformat_minor": 2
}
