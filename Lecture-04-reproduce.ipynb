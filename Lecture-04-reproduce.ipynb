{
 "cells": [
  {
   "cell_type": "markdown",
   "metadata": {},
   "source": [
    "# Rod cutting problem"
   ]
  },
  {
   "cell_type": "code",
   "execution_count": 1,
   "metadata": {},
   "outputs": [],
   "source": [
    "from collections import defaultdict"
   ]
  },
  {
   "cell_type": "code",
   "execution_count": 31,
   "metadata": {},
   "outputs": [],
   "source": [
    "from functools import lru_cache"
   ]
  },
  {
   "cell_type": "code",
   "execution_count": 32,
   "metadata": {},
   "outputs": [],
   "source": [
    "prices=defaultdict(lambda: -float('inf'))"
   ]
  },
  {
   "cell_type": "code",
   "execution_count": 33,
   "metadata": {},
   "outputs": [
    {
     "data": {
      "text/plain": [
       "-inf"
      ]
     },
     "execution_count": 33,
     "metadata": {},
     "output_type": "execute_result"
    }
   ],
   "source": [
    "prices[0]"
   ]
  },
  {
   "cell_type": "code",
   "execution_count": 34,
   "metadata": {},
   "outputs": [
    {
     "data": {
      "text/plain": [
       "1"
      ]
     },
     "execution_count": 34,
     "metadata": {},
     "output_type": "execute_result"
    }
   ],
   "source": [
    "len(prices)"
   ]
  },
  {
   "cell_type": "markdown",
   "metadata": {},
   "source": [
    "<center>\n",
    "<img src=\"RodCut.png\" width=\"50%\" height=\"50%\"></img>\n",
    "</center>"
   ]
  },
  {
   "cell_type": "code",
   "execution_count": 35,
   "metadata": {},
   "outputs": [],
   "source": [
    "for i, v in enumerate([1,5,8,9,10,17,17,20,24,30]):\n",
    "    prices[i+1]=v"
   ]
  },
  {
   "cell_type": "code",
   "execution_count": 100,
   "metadata": {},
   "outputs": [],
   "source": [
    "@memo\n",
    "def reve(r):\n",
    "    return max([prices[r]]+[(prices[i]+reve(r-i)) for i in range(1,r)])"
   ]
  },
  {
   "cell_type": "code",
   "execution_count": 92,
   "metadata": {},
   "outputs": [],
   "source": [
    "@memo\n",
    "def cut_rod(p,n):\n",
    "    if n==0:return 0\n",
    "    q=-float('inf')\n",
    "    for i in range(1,(n+1)):\n",
    "        q=max(q,p[i]+cut_rod(p,n-i))\n",
    "    return q"
   ]
  },
  {
   "cell_type": "code",
   "execution_count": 94,
   "metadata": {},
   "outputs": [
    {
     "data": {
      "text/plain": [
       "60"
      ]
     },
     "execution_count": 94,
     "metadata": {},
     "output_type": "execute_result"
    }
   ],
   "source": [
    "cut_rod(prices,20)"
   ]
  },
  {
   "cell_type": "code",
   "execution_count": 62,
   "metadata": {},
   "outputs": [],
   "source": [
    "@lru_cache()\n",
    "def test(r):\n",
    "    return max([prices[r]]+[(test(i)+test(r-i)) for i in range(1,r//2+1)])"
   ]
  },
  {
   "cell_type": "code",
   "execution_count": 99,
   "metadata": {},
   "outputs": [
    {
     "data": {
      "text/plain": [
       "325"
      ]
     },
     "execution_count": 99,
     "metadata": {},
     "output_type": "execute_result"
    }
   ],
   "source": [
    "test(109)"
   ]
  },
  {
   "cell_type": "code",
   "execution_count": 102,
   "metadata": {},
   "outputs": [
    {
     "data": {
      "text/plain": [
       "325"
      ]
     },
     "execution_count": 102,
     "metadata": {},
     "output_type": "execute_result"
    }
   ],
   "source": [
    "reve(109)"
   ]
  },
  {
   "cell_type": "code",
   "execution_count": 65,
   "metadata": {},
   "outputs": [],
   "source": [
    "import time\n",
    "def runtime(func,times=1):\n",
    "    start=time.time()\n",
    "    for _ in range(times):\n",
    "        func\n",
    "    print(\"{} cost for running {}\".format(time.time()-start,times))"
   ]
  },
  {
   "cell_type": "code",
   "execution_count": 66,
   "metadata": {},
   "outputs": [
    {
     "name": "stdout",
     "output_type": "stream",
     "text": [
      "2.1457672119140625e-06 cost for running 100\n"
     ]
    }
   ],
   "source": [
    "runtime(cut_rod(prices,20),100)"
   ]
  },
  {
   "cell_type": "code",
   "execution_count": 72,
   "metadata": {},
   "outputs": [
    {
     "name": "stdout",
     "output_type": "stream",
     "text": [
      "4.291534423828125e-06 cost for running 100\n"
     ]
    }
   ],
   "source": [
    "runtime(test(20),100)"
   ]
  },
  {
   "cell_type": "code",
   "execution_count": 111,
   "metadata": {},
   "outputs": [
    {
     "name": "stdout",
     "output_type": "stream",
     "text": [
      "4.0531158447265625e-06 cost for running 50\n"
     ]
    }
   ],
   "source": [
    "runtime(reve(20),50)"
   ]
  },
  {
   "cell_type": "markdown",
   "metadata": {},
   "source": [
    "<img src='Rod1.png' width='40%' height='40%'></img>\n",
    "<img src=\"Rod2.png\" width='50%' height='50%'></img>\n",
    "\n"
   ]
  },
  {
   "cell_type": "code",
   "execution_count": 109,
   "metadata": {},
   "outputs": [],
   "source": [
    "import numpy as np\n",
    "def M_cut_Rod(p,n):\n",
    "    r=np.zeros(n+1)\n",
    "    for i in range(n+1):\n",
    "        r[i]=-float('inf')\n",
    "    return M_cut_Rod_Aux(p,n,r)\n",
    "    \n",
    "def M_cut_Rod_Aux(p,n,r):\n",
    "    if r[n]>=0:return r[n]\n",
    "    if n==0: \n",
    "        q=0\n",
    "    else:\n",
    "        q=-float('inf')\n",
    "        for i in range(1,n+1):\n",
    "            q=max(q,p[i]+M_cut_Rod_Aux(p,n-i,r))\n",
    "    r[n]=q\n",
    "    return q\n",
    "        "
   ]
  },
  {
   "cell_type": "code",
   "execution_count": 110,
   "metadata": {},
   "outputs": [
    {
     "data": {
      "text/plain": [
       "325.0"
      ]
     },
     "execution_count": 110,
     "metadata": {},
     "output_type": "execute_result"
    }
   ],
   "source": [
    "M_cut_Rod(prices,109)"
   ]
  },
  {
   "cell_type": "markdown",
   "metadata": {},
   "source": [
    "<img src=Rod3.png height=350% width=35%></img>"
   ]
  },
  {
   "cell_type": "code",
   "execution_count": 113,
   "metadata": {},
   "outputs": [],
   "source": [
    "def Bu_Cut_Rod(p, n):\n",
    "    r=np.zeros(n+1)\n",
    "    for j in range(1,n+1):\n",
    "        q=-float('inf')\n",
    "        for i in range(1,j+1):\n",
    "            q=max(q,p[i]+r[j-i])\n",
    "        r[j]=q\n",
    "    return r[n]"
   ]
  },
  {
   "cell_type": "code",
   "execution_count": 116,
   "metadata": {},
   "outputs": [
    {
     "data": {
      "text/plain": [
       "325.0"
      ]
     },
     "execution_count": 116,
     "metadata": {},
     "output_type": "execute_result"
    }
   ],
   "source": [
    "Bu_Cut_Rod(prices,109)"
   ]
  },
  {
   "cell_type": "code",
   "execution_count": 9,
   "metadata": {},
   "outputs": [
    {
     "name": "stdout",
     "output_type": "stream",
     "text": [
      "time cost of this function is:0.3502330780029297\n"
     ]
    }
   ],
   "source": [
    "import time\n",
    "start=time.time()\n",
    "reve(20)\n",
    "print(\"time cost of this function is:{0}\".format(time.time()-start))"
   ]
  },
  {
   "cell_type": "code",
   "execution_count": 10,
   "metadata": {},
   "outputs": [],
   "source": [
    "@lru_cache()\n",
    "def reve(r):\n",
    "    return max([prices[r]]+[(prices[i]+reve(r-i)) for i in range(1,r)])"
   ]
  },
  {
   "cell_type": "code",
   "execution_count": 11,
   "metadata": {},
   "outputs": [
    {
     "name": "stdout",
     "output_type": "stream",
     "text": [
      "time cost of this function after cache added is:9.608268737792969e-05\n"
     ]
    }
   ],
   "source": [
    "start=time.time()\n",
    "reve(20)\n",
    "print(\"time cost of this function after cache added is:{}\".format(time.time()-start))"
   ]
  },
  {
   "cell_type": "code",
   "execution_count": 12,
   "metadata": {},
   "outputs": [
    {
     "name": "stdout",
     "output_type": "stream",
     "text": [
      "Help on function lru_cache in module functools:\n",
      "\n",
      "lru_cache(maxsize=128, typed=False)\n",
      "    Least-recently-used cache decorator.\n",
      "    \n",
      "    If *maxsize* is set to None, the LRU features are disabled and the cache\n",
      "    can grow without bound.\n",
      "    \n",
      "    If *typed* is True, arguments of different types will be cached separately.\n",
      "    For example, f(3.0) and f(3) will be treated as distinct calls with\n",
      "    distinct results.\n",
      "    \n",
      "    Arguments to the cached function must be hashable.\n",
      "    \n",
      "    View the cache statistics named tuple (hits, misses, maxsize, currsize)\n",
      "    with f.cache_info().  Clear the cache and statistics with f.cache_clear().\n",
      "    Access the underlying function with f.__wrapped__.\n",
      "    \n",
      "    See:  http://en.wikipedia.org/wiki/Cache_algorithms#Least_Recently_Used\n",
      "\n"
     ]
    }
   ],
   "source": [
    "help(lru_cache)"
   ]
  },
  {
   "cell_type": "code",
   "execution_count": 13,
   "metadata": {},
   "outputs": [],
   "source": [
    "cached={}\n",
    "\n",
    "def revenu(r):\n",
    "    if r in cached:\n",
    "        #print(\"I am in cached {}\".format(r))\n",
    "        return cached[r]\n",
    "    opt=max([prices[r]]+[(prices[i]+revenu(r-i)) for i in range(1,r)])\n",
    "    if opt not in cached:\n",
    "        cached[r]=opt\n",
    "    return opt"
   ]
  },
  {
   "cell_type": "code",
   "execution_count": 14,
   "metadata": {},
   "outputs": [],
   "source": [
    "Cached={}\n",
    "\n",
    "def Revenu(r):\n",
    "    if r in Cached:\n",
    "        #print(\"I am in cached {}\".format(r))\n",
    "        return Cached[r]\n",
    "    opt=max([prices[r]]+[(prices[i]+Revenu(r-i)) for i in range(1,r)])\n",
    "    Cached[r]=opt\n",
    "    return opt"
   ]
  },
  {
   "cell_type": "code",
   "execution_count": 15,
   "metadata": {},
   "outputs": [],
   "source": [
    "def print_hi(func):\n",
    "    def _wrap(*args, **kwargs):\n",
    "        print(\"I am in function {}\".format(func.__name__))\n",
    "        return func(*args, **kwargs)\n",
    "    return _wrap"
   ]
  },
  {
   "cell_type": "code",
   "execution_count": 16,
   "metadata": {},
   "outputs": [],
   "source": [
    "def add(a,b):return a+b"
   ]
  },
  {
   "cell_type": "code",
   "execution_count": 17,
   "metadata": {},
   "outputs": [
    {
     "data": {
      "text/plain": [
       "20"
      ]
     },
     "execution_count": 17,
     "metadata": {},
     "output_type": "execute_result"
    }
   ],
   "source": [
    "add(19,1)"
   ]
  },
  {
   "cell_type": "code",
   "execution_count": 18,
   "metadata": {},
   "outputs": [],
   "source": [
    "@print_hi\n",
    "def add(a,b):return a+b"
   ]
  },
  {
   "cell_type": "code",
   "execution_count": 19,
   "metadata": {},
   "outputs": [
    {
     "name": "stdout",
     "output_type": "stream",
     "text": [
      "I am in function add\n"
     ]
    },
    {
     "data": {
      "text/plain": [
       "20"
      ]
     },
     "execution_count": 19,
     "metadata": {},
     "output_type": "execute_result"
    }
   ],
   "source": [
    "add(19,1)"
   ]
  },
  {
   "cell_type": "code",
   "execution_count": 20,
   "metadata": {},
   "outputs": [],
   "source": [
    "p_add=print_hi(add)"
   ]
  },
  {
   "cell_type": "code",
   "execution_count": 21,
   "metadata": {},
   "outputs": [
    {
     "name": "stdout",
     "output_type": "stream",
     "text": [
      "I am in function _wrap\n",
      "I am in function add\n"
     ]
    },
    {
     "data": {
      "text/plain": [
       "7"
      ]
     },
     "execution_count": 21,
     "metadata": {},
     "output_type": "execute_result"
    }
   ],
   "source": [
    "p_add(3,4)"
   ]
  },
  {
   "cell_type": "code",
   "execution_count": 22,
   "metadata": {},
   "outputs": [
    {
     "name": "stdout",
     "output_type": "stream",
     "text": [
      "I am in function revenu\n"
     ]
    },
    {
     "data": {
      "text/plain": [
       "130"
      ]
     },
     "execution_count": 22,
     "metadata": {},
     "output_type": "execute_result"
    }
   ],
   "source": [
    "print_hi(revenu)(44)"
   ]
  },
  {
   "cell_type": "markdown",
   "metadata": {},
   "source": [
    "<center> \n",
    "    <img src=\"test_home.JPG\" width=\"100\" height=\"50\"></img> \n",
    "</center>"
   ]
  },
  {
   "cell_type": "code",
   "execution_count": 23,
   "metadata": {},
   "outputs": [],
   "source": [
    "import time\n",
    "\n",
    "def funcRunTime(func, times):\n",
    "    start=time.time()\n",
    "    for _ in range(times):\n",
    "        func\n",
    "    end=time.time()\n",
    "    return end-start"
   ]
  },
  {
   "cell_type": "code",
   "execution_count": 24,
   "metadata": {},
   "outputs": [
    {
     "data": {
      "text/plain": [
       "0.005015850067138672"
      ]
     },
     "execution_count": 24,
     "metadata": {},
     "output_type": "execute_result"
    }
   ],
   "source": [
    "funcRunTime(Revenu(105),200000)"
   ]
  },
  {
   "cell_type": "code",
   "execution_count": 25,
   "metadata": {},
   "outputs": [
    {
     "data": {
      "text/plain": [
       "0.004675149917602539"
      ]
     },
     "execution_count": 25,
     "metadata": {},
     "output_type": "execute_result"
    }
   ],
   "source": [
    "funcRunTime(revenu(105),200000)"
   ]
  },
  {
   "cell_type": "code",
   "execution_count": 26,
   "metadata": {},
   "outputs": [],
   "source": [
    "import random\n",
    "random_numbers=[(i,random.randint(-10,20)) for i in range(10)]"
   ]
  },
  {
   "cell_type": "code",
   "execution_count": 27,
   "metadata": {},
   "outputs": [
    {
     "data": {
      "text/plain": [
       "[(0, 13),\n",
       " (1, 13),\n",
       " (2, 5),\n",
       " (3, 0),\n",
       " (4, 5),\n",
       " (5, 14),\n",
       " (6, -5),\n",
       " (7, -2),\n",
       " (8, 0),\n",
       " (9, -10)]"
      ]
     },
     "execution_count": 27,
     "metadata": {},
     "output_type": "execute_result"
    }
   ],
   "source": [
    "random_numbers"
   ]
  },
  {
   "cell_type": "code",
   "execution_count": 28,
   "metadata": {},
   "outputs": [
    {
     "data": {
      "text/plain": [
       "(5, 14)"
      ]
     },
     "execution_count": 28,
     "metadata": {},
     "output_type": "execute_result"
    }
   ],
   "source": [
    "max(random_numbers,key=lambda x:x[1])"
   ]
  },
  {
   "cell_type": "code",
   "execution_count": 29,
   "metadata": {},
   "outputs": [
    {
     "data": {
      "text/plain": [
       "300"
      ]
     },
     "execution_count": 29,
     "metadata": {},
     "output_type": "execute_result"
    }
   ],
   "source": [
    "revenu(100)"
   ]
  },
  {
   "cell_type": "code",
   "execution_count": 30,
   "metadata": {},
   "outputs": [],
   "source": [
    "@lru_cache()\n",
    "def addsome(somelist):\n",
    "    return sum(somelist)"
   ]
  },
  {
   "cell_type": "code",
   "execution_count": 31,
   "metadata": {},
   "outputs": [
    {
     "ename": "TypeError",
     "evalue": "unhashable type: 'list'",
     "output_type": "error",
     "traceback": [
      "\u001b[0;31m---------------------------------------------------------------------------\u001b[0m",
      "\u001b[0;31mTypeError\u001b[0m                                 Traceback (most recent call last)",
      "\u001b[0;32m<ipython-input-31-cd9e34559904>\u001b[0m in \u001b[0;36m<module>\u001b[0;34m()\u001b[0m\n\u001b[0;32m----> 1\u001b[0;31m \u001b[0maddsome\u001b[0m\u001b[0;34m(\u001b[0m\u001b[0;34m[\u001b[0m\u001b[0;36m1\u001b[0m\u001b[0;34m,\u001b[0m\u001b[0;36m2\u001b[0m\u001b[0;34m,\u001b[0m\u001b[0;36m3\u001b[0m\u001b[0;34m,\u001b[0m\u001b[0;36m4\u001b[0m\u001b[0;34m]\u001b[0m\u001b[0;34m)\u001b[0m\u001b[0;34m\u001b[0m\u001b[0m\n\u001b[0m",
      "\u001b[0;31mTypeError\u001b[0m: unhashable type: 'list'"
     ]
    }
   ],
   "source": [
    "addsome([1,2,3,4])"
   ]
  },
  {
   "cell_type": "code",
   "execution_count": 78,
   "metadata": {},
   "outputs": [],
   "source": [
    "from functools import wraps"
   ]
  },
  {
   "cell_type": "code",
   "execution_count": 79,
   "metadata": {},
   "outputs": [],
   "source": [
    "def memo(func):\n",
    "    cached={}\n",
    "    @wraps(func)\n",
    "    def _wrap(*args,**kwargs):\n",
    "        str_key=str(args)+str(**kwargs)\n",
    "        if str_key not in cached:\n",
    "            result=func(*args,**kwargs)\n",
    "            cached[str_key]=result\n",
    "        return cached[str_key]\n",
    "    return _wrap"
   ]
  },
  {
   "cell_type": "code",
   "execution_count": 80,
   "metadata": {},
   "outputs": [],
   "source": [
    "@memo\n",
    "def addsome(somelist):\n",
    "    return sum(somelist)"
   ]
  },
  {
   "cell_type": "code",
   "execution_count": 35,
   "metadata": {},
   "outputs": [
    {
     "data": {
      "text/plain": [
       "27"
      ]
     },
     "execution_count": 35,
     "metadata": {},
     "output_type": "execute_result"
    }
   ],
   "source": [
    "addsome([1,2,3,4,5,6,6])"
   ]
  },
  {
   "cell_type": "code",
   "execution_count": 36,
   "metadata": {},
   "outputs": [],
   "source": [
    "solution={}\n",
    "@memo\n",
    "def revenue(r):\n",
    "    split, r_opt=max([(0,prices[r])]+[(i,prices[i]+revenue(r-i)) for i in range(1,r)], key=lambda x:x[1])\n",
    "    solution[r]=(split,r-split)\n",
    "    return r_opt"
   ]
  },
  {
   "cell_type": "code",
   "execution_count": 37,
   "metadata": {},
   "outputs": [
    {
     "data": {
      "text/plain": [
       "300"
      ]
     },
     "execution_count": 37,
     "metadata": {},
     "output_type": "execute_result"
    }
   ],
   "source": [
    "revenue(100)"
   ]
  },
  {
   "cell_type": "code",
   "execution_count": 38,
   "metadata": {},
   "outputs": [
    {
     "data": {
      "text/plain": [
       "{1: (0, 1),\n",
       " 2: (0, 2),\n",
       " 3: (0, 3),\n",
       " 4: (2, 2),\n",
       " 5: (2, 3),\n",
       " 6: (0, 6),\n",
       " 7: (1, 6),\n",
       " 8: (2, 6),\n",
       " 9: (3, 6),\n",
       " 10: (0, 10),\n",
       " 11: (1, 10),\n",
       " 12: (2, 10),\n",
       " 13: (3, 10),\n",
       " 14: (2, 12),\n",
       " 15: (2, 13),\n",
       " 16: (6, 10),\n",
       " 17: (1, 16),\n",
       " 18: (2, 16),\n",
       " 19: (3, 16),\n",
       " 20: (10, 10),\n",
       " 21: (1, 20),\n",
       " 22: (2, 20),\n",
       " 23: (3, 20),\n",
       " 24: (2, 22),\n",
       " 25: (2, 23),\n",
       " 26: (6, 20),\n",
       " 27: (1, 26),\n",
       " 28: (2, 26),\n",
       " 29: (3, 26),\n",
       " 30: (10, 20),\n",
       " 31: (1, 30),\n",
       " 32: (2, 30),\n",
       " 33: (3, 30),\n",
       " 34: (2, 32),\n",
       " 35: (2, 33),\n",
       " 36: (6, 30),\n",
       " 37: (1, 36),\n",
       " 38: (2, 36),\n",
       " 39: (3, 36),\n",
       " 40: (10, 30),\n",
       " 41: (1, 40),\n",
       " 42: (2, 40),\n",
       " 43: (3, 40),\n",
       " 44: (2, 42),\n",
       " 45: (2, 43),\n",
       " 46: (6, 40),\n",
       " 47: (1, 46),\n",
       " 48: (2, 46),\n",
       " 49: (3, 46),\n",
       " 50: (10, 40),\n",
       " 51: (1, 50),\n",
       " 52: (2, 50),\n",
       " 53: (3, 50),\n",
       " 54: (2, 52),\n",
       " 55: (2, 53),\n",
       " 56: (6, 50),\n",
       " 57: (1, 56),\n",
       " 58: (2, 56),\n",
       " 59: (3, 56),\n",
       " 60: (10, 50),\n",
       " 61: (1, 60),\n",
       " 62: (2, 60),\n",
       " 63: (3, 60),\n",
       " 64: (2, 62),\n",
       " 65: (2, 63),\n",
       " 66: (6, 60),\n",
       " 67: (1, 66),\n",
       " 68: (2, 66),\n",
       " 69: (3, 66),\n",
       " 70: (10, 60),\n",
       " 71: (1, 70),\n",
       " 72: (2, 70),\n",
       " 73: (3, 70),\n",
       " 74: (2, 72),\n",
       " 75: (2, 73),\n",
       " 76: (6, 70),\n",
       " 77: (1, 76),\n",
       " 78: (2, 76),\n",
       " 79: (3, 76),\n",
       " 80: (10, 70),\n",
       " 81: (1, 80),\n",
       " 82: (2, 80),\n",
       " 83: (3, 80),\n",
       " 84: (2, 82),\n",
       " 85: (2, 83),\n",
       " 86: (6, 80),\n",
       " 87: (1, 86),\n",
       " 88: (2, 86),\n",
       " 89: (3, 86),\n",
       " 90: (10, 80),\n",
       " 91: (1, 90),\n",
       " 92: (2, 90),\n",
       " 93: (3, 90),\n",
       " 94: (2, 92),\n",
       " 95: (2, 93),\n",
       " 96: (6, 90),\n",
       " 97: (1, 96),\n",
       " 98: (2, 96),\n",
       " 99: (3, 96),\n",
       " 100: (10, 90)}"
      ]
     },
     "execution_count": 38,
     "metadata": {},
     "output_type": "execute_result"
    }
   ],
   "source": [
    "solution"
   ]
  },
  {
   "cell_type": "code",
   "execution_count": 39,
   "metadata": {},
   "outputs": [],
   "source": [
    "def parse_solution(r,revenue_solution):\n",
    "    left,right=revenue_solution[r]\n",
    "    if left==0:return [right]\n",
    "    return [left]+parse_solution(right,revenue_solution)"
   ]
  },
  {
   "cell_type": "code",
   "execution_count": 40,
   "metadata": {},
   "outputs": [],
   "source": [
    "def pretty_solution(splits):\n",
    "    return ' -->'.join(map(str,splits))"
   ]
  },
  {
   "cell_type": "code",
   "execution_count": 41,
   "metadata": {},
   "outputs": [
    {
     "data": {
      "text/plain": [
       "'2 -->6 -->10'"
      ]
     },
     "execution_count": 41,
     "metadata": {},
     "output_type": "execute_result"
    }
   ],
   "source": [
    "pretty_solution(parse_solution(18,solution))"
   ]
  },
  {
   "cell_type": "code",
   "execution_count": 42,
   "metadata": {},
   "outputs": [
    {
     "data": {
      "text/plain": [
       "'1 -->6 -->10 -->10 -->10 -->10 -->10'"
      ]
     },
     "execution_count": 42,
     "metadata": {},
     "output_type": "execute_result"
    }
   ],
   "source": [
    "pretty_solution(parse_solution(57,solution))"
   ]
  },
  {
   "cell_type": "code",
   "execution_count": 43,
   "metadata": {},
   "outputs": [
    {
     "name": "stdout",
     "output_type": "stream",
     "text": [
      "Help on function revenue in module __main__:\n",
      "\n",
      "revenue(r)\n",
      "\n"
     ]
    }
   ],
   "source": [
    "help(revenue)"
   ]
  },
  {
   "cell_type": "code",
   "execution_count": 44,
   "metadata": {},
   "outputs": [
    {
     "name": "stdout",
     "output_type": "stream",
     "text": [
      "Help on function _wrap in module __main__:\n",
      "\n",
      "_wrap(*args, **kwargs)\n",
      "\n"
     ]
    }
   ],
   "source": [
    "help(add)"
   ]
  },
  {
   "cell_type": "code",
   "execution_count": 45,
   "metadata": {},
   "outputs": [
    {
     "name": "stdout",
     "output_type": "stream",
     "text": [
      "used time:0.03411602973937988\n"
     ]
    }
   ],
   "source": [
    "start=time.time()\n",
    "revenue(300)\n",
    "print('used time:{}'.format(time.time()-start))"
   ]
  },
  {
   "cell_type": "markdown",
   "metadata": {},
   "source": [
    "# Edit Distance"
   ]
  },
  {
   "cell_type": "code",
   "execution_count": 46,
   "metadata": {},
   "outputs": [],
   "source": [
    "@memo\n",
    "def get_ed_dist(string1,string2):\n",
    "    if len(string1)==0:return len(string2)\n",
    "    if len(string2)==0:return len(string1)\n",
    "    \n",
    "    return min(\n",
    "        [get_ed_dist(string1[:-1],string2)+1,\n",
    "         get_ed_dist(string1,string2[:-1])+1,\n",
    "         get_ed_dist(string1[:-1],string2[:-1])+(0 if string1[-1] == string2[-1] else 2)\n",
    "        ]\n",
    "    )"
   ]
  },
  {
   "cell_type": "code",
   "execution_count": 47,
   "metadata": {},
   "outputs": [
    {
     "data": {
      "text/plain": [
       "2"
      ]
     },
     "execution_count": 47,
     "metadata": {},
     "output_type": "execute_result"
    }
   ],
   "source": [
    "get_ed_dist('biejing','beijing')"
   ]
  },
  {
   "cell_type": "code",
   "execution_count": 48,
   "metadata": {},
   "outputs": [
    {
     "data": {
      "text/plain": [
       "5"
      ]
     },
     "execution_count": 48,
     "metadata": {},
     "output_type": "execute_result"
    }
   ],
   "source": [
    "get_ed_dist('biejing','beijie')"
   ]
  },
  {
   "cell_type": "code",
   "execution_count": 49,
   "metadata": {},
   "outputs": [
    {
     "data": {
      "text/plain": [
       "3"
      ]
     },
     "execution_count": 49,
     "metadata": {},
     "output_type": "execute_result"
    }
   ],
   "source": [
    "get_ed_dist('biejing','beijin')"
   ]
  },
  {
   "cell_type": "markdown",
   "metadata": {},
   "source": [
    "# More about Dynamic Programming\n",
    "if you want to know more about Dynamic Programming, you may refer the `Introduction to Algorithms` by CLRS\n",
    "# Optional, Try VRP Problem"
   ]
  },
  {
   "cell_type": "code",
   "execution_count": 50,
   "metadata": {},
   "outputs": [],
   "source": [
    "import random\n",
    "import matplotlib.pylab as plt\n",
    "\n",
    "latitudes=[random.randint(-100,100) for _ in range(20)]\n",
    "longitude=[random.randint(-100,100) for _ in range(20)]"
   ]
  },
  {
   "cell_type": "code",
   "execution_count": 51,
   "metadata": {},
   "outputs": [
    {
     "data": {
      "text/plain": [
       "<matplotlib.collections.PathCollection at 0x114ddd6a0>"
      ]
     },
     "execution_count": 51,
     "metadata": {},
     "output_type": "execute_result"
    },
    {
     "data": {
      "image/png": "[encoded data removed]",
      "text/plain": [
       "<Figure size 432x288 with 1 Axes>"
      ]
     },
     "metadata": {
      "needs_background": "light"
     },
     "output_type": "display_data"
    }
   ],
   "source": [
    "plt.scatter(latitudes,longitude)"
   ]
  },
  {
   "cell_type": "markdown",
   "metadata": {},
   "source": [
    "# input: the latitudes and longitude of some points, and the number `k` of cars will travel for this. give it pls"
   ]
  },
  {
   "cell_type": "markdown",
   "metadata": {},
   "source": [
    "# The Knapsack Problem\n",
    "## 0-1背包问题"
   ]
  },
  {
   "cell_type": "code",
   "execution_count": 52,
   "metadata": {},
   "outputs": [],
   "source": [
    "import numpy as np"
   ]
  },
  {
   "cell_type": "code",
   "execution_count": 53,
   "metadata": {},
   "outputs": [],
   "source": [
    "####\n",
    "'''\n",
    "1. there are n kinds of items\n",
    "2. v is a vector of length equal to n+1, v[0]=0, v[i] represent the ith item value(from 1-n)\n",
    "3. w is a vector of len equal to n+1, w[0]=0, w[i] represent the ith item weight\n",
    "4. n the number of items\n",
    "5. W is up limit weight which the bag could handle\n",
    "'''\n",
    "####\n",
    "def KnapSack(v,w,n,W):\n",
    "    '''\n",
    "    \\t initial a (n+1)*(W+1) matrix\n",
    "    '''\n",
    "    V=np.zeros((n+1)*(W+1)).reshape(n+1,W+1)\n",
    "    for i in range(1,n+1):\n",
    "        for j in range(W+1):\n",
    "            ###put the ith item into bag of capacity j\n",
    "            if j>=w[i]:\n",
    "                V[i][j]=max(V[i-1][j],v[i]+V[i-1][j-w[i]])\n",
    "                #print(V)\n",
    "            ### the ith item is too big to be put in \n",
    "            else:\n",
    "                V[i][j]=V[i-1][j]\n",
    "                #print(V)\n",
    "    return V[n][W]\n",
    "    "
   ]
  },
  {
   "cell_type": "code",
   "execution_count": 54,
   "metadata": {},
   "outputs": [],
   "source": [
    "import random\n",
    "# produce n item to test\n",
    "def produceItem(n):\n",
    "    v=[0]\n",
    "    w=[0]\n",
    "    for _ in range(n):\n",
    "        v.append(random.randint(10,100))\n",
    "        w.append(random.randint(1,10))\n",
    "    return v,w\n"
   ]
  },
  {
   "cell_type": "code",
   "execution_count": 55,
   "metadata": {},
   "outputs": [],
   "source": [
    "v,w=produceItem(10)"
   ]
  },
  {
   "cell_type": "code",
   "execution_count": 56,
   "metadata": {},
   "outputs": [
    {
     "data": {
      "text/plain": [
       "[0, 22, 14, 53, 22, 32, 11, 91, 35, 73, 30]"
      ]
     },
     "execution_count": 56,
     "metadata": {},
     "output_type": "execute_result"
    }
   ],
   "source": [
    "v"
   ]
  },
  {
   "cell_type": "code",
   "execution_count": 57,
   "metadata": {},
   "outputs": [
    {
     "data": {
      "text/plain": [
       "[0, 8, 1, 3, 1, 5, 6, 3, 4, 7, 7]"
      ]
     },
     "execution_count": 57,
     "metadata": {},
     "output_type": "execute_result"
    }
   ],
   "source": [
    "w"
   ]
  },
  {
   "cell_type": "code",
   "execution_count": 58,
   "metadata": {},
   "outputs": [
    {
     "data": {
      "text/plain": [
       "127.0"
      ]
     },
     "execution_count": 58,
     "metadata": {},
     "output_type": "execute_result"
    }
   ],
   "source": [
    "KnapSack(v,w,10,5)"
   ]
  },
  {
   "cell_type": "code",
   "execution_count": 59,
   "metadata": {},
   "outputs": [],
   "source": [
    "v=[0,10,40,30,50]\n",
    "w=[0,5,4,6,3]"
   ]
  },
  {
   "cell_type": "code",
   "execution_count": 60,
   "metadata": {},
   "outputs": [
    {
     "data": {
      "text/plain": [
       "90.0"
      ]
     },
     "execution_count": 60,
     "metadata": {},
     "output_type": "execute_result"
    }
   ],
   "source": [
    "KnapSack(v,w,4,10)"
   ]
  },
  {
   "cell_type": "code",
   "execution_count": 61,
   "metadata": {},
   "outputs": [],
   "source": [
    "\n",
    "####\n",
    "def KNapSack(v,w,n,W):\n",
    "    '''完整的0-1背包问题\n",
    "    输入参数：\n",
    "        v 各种商品的价格\n",
    "        w 各种商品的体积（重量）\n",
    "        n 商店里总共有多少种商品\n",
    "        W 背包的大小（与w单位致）\n",
    "\n",
    "    v[0]=w[0]=0 用作初始化表\n",
    "    '''    \n",
    "    V=np.zeros((n+1)*(W+1)).reshape(n+1,W+1)\n",
    "    keep=np.zeros((n+1)*(W+1)).reshape(n+1,W+1)\n",
    "    \n",
    "    for i in range(1,n+1):\n",
    "        for j in range(W+1):\n",
    "            if j>=w[i] and v[i]+V[i-1][j-w[i]]>V[i-1][j]:\n",
    "                V[i][j]=v[i]+V[i-1][j-w[i]]\n",
    "                keep[i][j]=1\n",
    "            else:\n",
    "                V[i][j]=V[i-1][j]\n",
    "                keep[i][j]=0\n",
    "    K=W\n",
    "    for i in range(n,0,-1):\n",
    "        if keep[i][K]==1:\n",
    "            print(\"{}th item selected, value is:{} weight is:{}\".format(i,v[i],w[i]))\n",
    "            K=K-w[i]\n",
    "    #print(keep)\n",
    "    return V[n][W]"
   ]
  },
  {
   "cell_type": "code",
   "execution_count": 62,
   "metadata": {},
   "outputs": [
    {
     "name": "stdout",
     "output_type": "stream",
     "text": [
      "Help on function KNapSack in module __main__:\n",
      "\n",
      "KNapSack(v, w, n, W)\n",
      "    完整的0-1背包问题\n",
      "    输入参数：\n",
      "        v 各种商品的价格\n",
      "        w 各种商品的体积（重量）\n",
      "        n 商店里总共有多少种商品\n",
      "        W 背包的大小（与w单位致）\n",
      "    \n",
      "    v[0]=w[0]=0 用作初始化表\n",
      "\n"
     ]
    }
   ],
   "source": [
    "help(KNapSack)"
   ]
  },
  {
   "cell_type": "code",
   "execution_count": 63,
   "metadata": {},
   "outputs": [],
   "source": [
    "v,w=produceItem(10)"
   ]
  },
  {
   "cell_type": "code",
   "execution_count": 64,
   "metadata": {},
   "outputs": [
    {
     "data": {
      "text/plain": [
       "[0, 90, 21, 80, 67, 16, 46, 72, 36, 30, 69]"
      ]
     },
     "execution_count": 64,
     "metadata": {},
     "output_type": "execute_result"
    }
   ],
   "source": [
    "v"
   ]
  },
  {
   "cell_type": "code",
   "execution_count": 65,
   "metadata": {},
   "outputs": [
    {
     "data": {
      "text/plain": [
       "[0, 8, 3, 4, 10, 4, 1, 3, 10, 5, 2]"
      ]
     },
     "execution_count": 65,
     "metadata": {},
     "output_type": "execute_result"
    }
   ],
   "source": [
    "w"
   ]
  },
  {
   "cell_type": "code",
   "execution_count": 66,
   "metadata": {},
   "outputs": [
    {
     "name": "stdout",
     "output_type": "stream",
     "text": [
      "10th item selected, value is:69 weight is:2\n",
      "7th item selected, value is:72 weight is:3\n",
      "6th item selected, value is:46 weight is:1\n",
      "3th item selected, value is:80 weight is:4\n"
     ]
    },
    {
     "data": {
      "text/plain": [
       "267.0"
      ]
     },
     "execution_count": 66,
     "metadata": {},
     "output_type": "execute_result"
    }
   ],
   "source": [
    "KNapSack(v,w,10,10)"
   ]
  },
  {
   "cell_type": "code",
   "execution_count": 67,
   "metadata": {},
   "outputs": [
    {
     "name": "stdout",
     "output_type": "stream",
     "text": [
      "10th item selected, value is:69 weight is:2\n",
      "9th item selected, value is:30 weight is:5\n",
      "8th item selected, value is:36 weight is:10\n",
      "7th item selected, value is:72 weight is:3\n",
      "6th item selected, value is:46 weight is:1\n",
      "5th item selected, value is:16 weight is:4\n",
      "4th item selected, value is:67 weight is:10\n",
      "3th item selected, value is:80 weight is:4\n",
      "2th item selected, value is:21 weight is:3\n",
      "1th item selected, value is:90 weight is:8\n"
     ]
    },
    {
     "data": {
      "text/plain": [
       "527.0"
      ]
     },
     "execution_count": 67,
     "metadata": {},
     "output_type": "execute_result"
    }
   ],
   "source": [
    "KNapSack(v,w,10,200)"
   ]
  },
  {
   "cell_type": "code",
   "execution_count": null,
   "metadata": {},
   "outputs": [],
   "source": []
  }
 ],
 "metadata": {
  "kernelspec": {
   "display_name": "Python 3",
   "language": "python",
   "name": "python3"
  },
  "language_info": {
   "codemirror_mode": {
    "name": "ipython",
    "version": 3
   },
   "file_extension": ".py",
   "mimetype": "text/x-python",
   "name": "python",
   "nbconvert_exporter": "python",
   "pygments_lexer": "ipython3",
   "version": "3.7.0"
  }
 },
 "nbformat": 4,
 "nbformat_minor": 2
}
