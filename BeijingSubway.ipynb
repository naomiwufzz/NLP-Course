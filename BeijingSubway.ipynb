{
 "cells": [
  {
   "cell_type": "code",
   "execution_count": 1,
   "metadata": {},
   "outputs": [],
   "source": [
    "import networkx as nx\n",
    "import random\n",
    "import matplotlib.pyplot as plt\n",
    "%matplotlib inline"
   ]
  },
  {
   "cell_type": "code",
   "execution_count": 2,
   "metadata": {},
   "outputs": [
    {
     "name": "stdout",
     "output_type": "stream",
     "text": [
      "['C:\\\\ML\\\\Anaconda\\\\lib\\\\site-packages\\\\matplotlib']\n"
     ]
    }
   ],
   "source": [
    "print(plt.matplotlib.__path__)"
   ]
  },
  {
   "cell_type": "code",
   "execution_count": 3,
   "metadata": {},
   "outputs": [],
   "source": [
    "plt.rcParams['font.sans-serif']=['SimHei']\n",
    "plt.rcParams['axes.unicode_minus']=False"
   ]
  },
  {
   "cell_type": "code",
   "execution_count": 4,
   "metadata": {},
   "outputs": [],
   "source": [
    "def createNodeList(n):\n",
    "    Lis=[]\n",
    "    for k in range(n):\n",
    "        itemLi=[]\n",
    "        for i in range(n):\n",
    "            if i==k:continue\n",
    "            itemLi.append(chr(i+ord('A')))\n",
    "        Lis.append(itemLi)\n",
    "    return Lis"
   ]
  },
  {
   "cell_type": "code",
   "execution_count": 5,
   "metadata": {},
   "outputs": [],
   "source": [
    "def produceCompleteGraph(n):\n",
    "    List=createNodeList(n)\n",
    "    graph={}\n",
    "    i=0\n",
    "    for item in List:\n",
    "        graph[chr(i+ord('A'))]=item\n",
    "        i+=1\n",
    "    return graph"
   ]
  },
  {
   "cell_type": "code",
   "execution_count": 6,
   "metadata": {},
   "outputs": [
    {
     "data": {
      "text/plain": [
       "{'A': ['B', 'C', 'D', 'E'],\n",
       " 'B': ['A', 'C', 'D', 'E'],\n",
       " 'C': ['A', 'B', 'D', 'E'],\n",
       " 'D': ['A', 'B', 'C', 'E'],\n",
       " 'E': ['A', 'B', 'C', 'D']}"
      ]
     },
     "execution_count": 6,
     "metadata": {},
     "output_type": "execute_result"
    }
   ],
   "source": [
    "produceCompleteGraph(5)"
   ]
  },
  {
   "cell_type": "markdown",
   "metadata": {},
   "source": [
    "### customize for cuting some nodes design"
   ]
  },
  {
   "cell_type": "code",
   "execution_count": 7,
   "metadata": {},
   "outputs": [],
   "source": [
    "def get_node_sucess(graph, node, cutsomenodes=0):\n",
    "    Len=len(graph[node])\n",
    "    return graph[node][:Len-cutsomenodes]"
   ]
  },
  {
   "cell_type": "code",
   "execution_count": 8,
   "metadata": {},
   "outputs": [
    {
     "data": {
      "text/plain": [
       "['B', 'C', 'D', 'E']"
      ]
     },
     "execution_count": 8,
     "metadata": {},
     "output_type": "execute_result"
    }
   ],
   "source": [
    "get_node_sucess(produceCompleteGraph(5),'A',0)"
   ]
  },
  {
   "cell_type": "code",
   "execution_count": 9,
   "metadata": {},
   "outputs": [
    {
     "data": {
      "text/plain": [
       "['B', 'C']"
      ]
     },
     "execution_count": 9,
     "metadata": {},
     "output_type": "execute_result"
    }
   ],
   "source": [
    "get_node_sucess(produceCompleteGraph(5),'A',2)"
   ]
  },
  {
   "cell_type": "code",
   "execution_count": 10,
   "metadata": {},
   "outputs": [],
   "source": [
    "def goal_reached(checkPoint,dest):\n",
    "    return checkPoint==dest\n",
    "    ### return distance(checkPoint,dest)<eps"
   ]
  },
  {
   "cell_type": "code",
   "execution_count": 11,
   "metadata": {},
   "outputs": [],
   "source": [
    "def get_node_sucessors(graph,frontnode,cutsomenodes=0):\n",
    "    return graph.neighbors(frontnode)\n",
    "\n",
    "def get_dist(path,graphBJ):\n",
    "    dist=0\n",
    "    for i in range(len(path)-1):\n",
    "        dist+=graphBJ.get_edge_data(path[i],path[i+1])['distance']\n",
    "    return dist\n",
    "\n",
    "def get_lines(path,graphBJ):\n",
    "    lines=set()\n",
    "    for i in range(len(path)-1):\n",
    "        if graphBJ.get_edge_data(path[i],path[i+1])['line'] not in lines:\n",
    "            lines.add(graphBJ.get_edge_data(path[i],path[i+1])['line'])\n",
    "    return len(lines)"
   ]
  },
  {
   "cell_type": "markdown",
   "metadata": {},
   "source": [
    "#### pathes 是一些形如下式的list\n",
    "--- pathes=*[['A', 'F'],\n",
    " ['A', 'B', 'F'],\n",
    " ['A', 'C', 'F'],\n",
    " ['A', 'D', 'F'],\n",
    " ['A', 'E', 'F']]* \n",
    "---按一定策略对该list进行排序，在搜索中我们使用的是pop(0)类似广度优先，排在前面的优先查找，所有的策略都围绕着该list排序进行，加一beam设置，有值时，即表示取前面部份，后面省掉(剪枝)，默认值-1不剪"
   ]
  },
  {
   "cell_type": "code",
   "execution_count": 12,
   "metadata": {},
   "outputs": [],
   "source": [
    "def sort_pathes(pathes,func,beam=-1):\n",
    "    return sorted(pathes,key=func)[:beam]"
   ]
  },
  {
   "cell_type": "code",
   "execution_count": 13,
   "metadata": {},
   "outputs": [],
   "source": [
    "def doNothing(pathes):\n",
    "    return pathes"
   ]
  },
  {
   "cell_type": "code",
   "execution_count": 14,
   "metadata": {},
   "outputs": [],
   "source": [
    "def min_stations_first(pathes):\n",
    "    return sort_pathes(pathes,lambda path:(len(path)),beam=100)"
   ]
  },
  {
   "cell_type": "code",
   "execution_count": 15,
   "metadata": {},
   "outputs": [],
   "source": [
    "def max_stations_first(pathes):\n",
    "    return sort_pathes(pathes,lambda path:(-len(path)),beam=100)"
   ]
  },
  {
   "cell_type": "markdown",
   "metadata": {},
   "source": [
    "```\n",
    "def get_distance(site1,site2,graph):\n",
    "    pass\n",
    "```"
   ]
  },
  {
   "cell_type": "markdown",
   "metadata": {},
   "source": [
    "```\n",
    "def get_path_dist(path):\n",
    "    if len(path)<2:return 0\n",
    "    dist=0\n",
    "    for i in range(len(path)):\n",
    "        dist+=get_distance(path[i],path[i+1],BjSub)\n",
    "    return dist\n",
    "```"
   ]
  },
  {
   "cell_type": "markdown",
   "metadata": {},
   "source": [
    "```\n",
    "def min_transfer_first(pathes):\n",
    "    pass\n",
    "```"
   ]
  },
  {
   "cell_type": "markdown",
   "metadata": {},
   "source": [
    "```\n",
    "def min_distance_first(pathes):\n",
    "    return sort_pathes(pathes,get_path_dist,beam=10)\n",
    "```"
   ]
  },
  {
   "cell_type": "code",
   "execution_count": 16,
   "metadata": {},
   "outputs": [],
   "source": [
    "def search(graph, start, dest, get_successors=get_node_sucessors, is_goal_satisfy=goal_reached,search_strategy=min_stations_first):\n",
    "    pathes=[[start]]\n",
    "    seen=set()\n",
    "    found_pathes=[]\n",
    "    \n",
    "    while pathes:\n",
    "        path=pathes.pop(0)\n",
    "        frontnode=path[-1]\n",
    "        if frontnode in seen: continue\n",
    "        \n",
    "        for nextnode in get_successors(graph,frontnode,cutsomenodes=0):\n",
    "            if nextnode in path: continue\n",
    "            new_path=path+[nextnode]\n",
    "            pathes.append(new_path)\n",
    "            if is_goal_satisfy(nextnode, dest):\n",
    "                found_pathes.append(new_path)\n",
    "                return found_pathes\n",
    "        pathes=search_strategy(pathes)\n",
    "        #print(pathes)\n",
    "        seen.add(frontnode)\n",
    "    return found_pathes"
   ]
  },
  {
   "cell_type": "code",
   "execution_count": 17,
   "metadata": {},
   "outputs": [],
   "source": [
    "GraphB=produceCompleteGraph(6)"
   ]
  },
  {
   "cell_type": "code",
   "execution_count": 18,
   "metadata": {},
   "outputs": [
    {
     "data": {
      "text/plain": [
       "[['A', 'F']]"
      ]
     },
     "execution_count": 18,
     "metadata": {},
     "output_type": "execute_result"
    }
   ],
   "source": [
    "search(GraphB,'A','F',get_node_sucess, goal_reached)"
   ]
  },
  {
   "cell_type": "code",
   "execution_count": 19,
   "metadata": {},
   "outputs": [
    {
     "data": {
      "text/plain": [
       "[['A', 'F']]"
      ]
     },
     "execution_count": 19,
     "metadata": {},
     "output_type": "execute_result"
    }
   ],
   "source": [
    "search(GraphB,'A','F',get_node_sucess, goal_reached,max_stations_first)"
   ]
  },
  {
   "cell_type": "code",
   "execution_count": 20,
   "metadata": {},
   "outputs": [
    {
     "data": {
      "text/plain": [
       "[['D', 'F']]"
      ]
     },
     "execution_count": 20,
     "metadata": {},
     "output_type": "execute_result"
    }
   ],
   "source": [
    "search(GraphB,'D','F',get_node_sucess,search_strategy=doNothing)"
   ]
  },
  {
   "cell_type": "markdown",
   "metadata": {},
   "source": [
    "# 方法一 获取地铁图信息有些不完整，且有一些燥声"
   ]
  },
  {
   "cell_type": "code",
   "execution_count": 21,
   "metadata": {},
   "outputs": [],
   "source": [
    "import re\n",
    "import requests\n",
    "headers = {\"User-Agent\" : \"User-Agent:Mozilla/5.0 (compatible; MSIE 9.0; Windows NT 6.1; Trident/5.0;\"}\n",
    "\n",
    "url = 'https://baike.baidu.com/item/%E5%8C%97%E4%BA%AC%E5%9C%B0%E9%93%81/408485'\n",
    "r = requests.get(url, headers=headers).content.decode('utf8')\n",
    "\n",
    "text = re.findall(\"(table log-set-param=\\\"table_view\\\" width=\\\"658\\\".*)\",r)[0]\n",
    "\n",
    "link = re.findall(\"href=\\\"([^\\\"]*)\\\">北京地铁\",text)"
   ]
  },
  {
   "cell_type": "code",
   "execution_count": 22,
   "metadata": {},
   "outputs": [
    {
     "data": {
      "text/plain": [
       "['/item/%E5%8C%97%E4%BA%AC%E5%9C%B0%E9%93%811%E5%8F%B7%E7%BA%BF',\n",
       " '/item/%E5%8C%97%E4%BA%AC%E5%9C%B0%E9%93%812%E5%8F%B7%E7%BA%BF',\n",
       " '/item/%E5%8C%97%E4%BA%AC%E5%9C%B0%E9%93%814%E5%8F%B7%E7%BA%BF',\n",
       " '/item/%E5%8C%97%E4%BA%AC%E5%9C%B0%E9%93%815%E5%8F%B7%E7%BA%BF',\n",
       " '/item/%E5%8C%97%E4%BA%AC%E5%9C%B0%E9%93%816%E5%8F%B7%E7%BA%BF',\n",
       " '/item/%E5%8C%97%E4%BA%AC%E5%9C%B0%E9%93%817%E5%8F%B7%E7%BA%BF',\n",
       " '/item/%E5%8C%97%E4%BA%AC%E5%9C%B0%E9%93%818%E5%8F%B7%E7%BA%BF',\n",
       " '/item/%E5%8C%97%E4%BA%AC%E5%9C%B0%E9%93%819%E5%8F%B7%E7%BA%BF',\n",
       " '/item/%E5%8C%97%E4%BA%AC%E5%9C%B0%E9%93%8110%E5%8F%B7%E7%BA%BF',\n",
       " '/item/%E5%8C%97%E4%BA%AC%E5%9C%B0%E9%93%8113%E5%8F%B7%E7%BA%BF',\n",
       " '/item/%E5%8C%97%E4%BA%AC%E5%9C%B0%E9%93%8114%E5%8F%B7%E7%BA%BF',\n",
       " '/item/%E5%8C%97%E4%BA%AC%E5%9C%B0%E9%93%8114%E5%8F%B7%E7%BA%BF',\n",
       " '/item/%E5%8C%97%E4%BA%AC%E5%9C%B0%E9%93%8115%E5%8F%B7%E7%BA%BF',\n",
       " '/item/%E5%8C%97%E4%BA%AC%E5%9C%B0%E9%93%8116%E5%8F%B7%E7%BA%BF',\n",
       " '/item/%E5%8C%97%E4%BA%AC%E5%9C%B0%E9%93%81%E5%85%AB%E9%80%9A%E7%BA%BF',\n",
       " '/item/%E5%8C%97%E4%BA%AC%E5%9C%B0%E9%93%81%E6%98%8C%E5%B9%B3%E7%BA%BF',\n",
       " '/item/%E5%8C%97%E4%BA%AC%E5%9C%B0%E9%93%81%E4%BA%A6%E5%BA%84%E7%BA%BF',\n",
       " '/item/%E5%8C%97%E4%BA%AC%E5%9C%B0%E9%93%81%E6%88%BF%E5%B1%B1%E7%BA%BF']"
      ]
     },
     "execution_count": 22,
     "metadata": {},
     "output_type": "execute_result"
    }
   ],
   "source": [
    "link"
   ]
  },
  {
   "cell_type": "code",
   "execution_count": 23,
   "metadata": {},
   "outputs": [],
   "source": [
    "def city_graph():\n",
    "\n",
    "    import re\n",
    "    import requests\n",
    "    headers = {\"User-Agent\" : \"User-Agent:Mozilla/5.0 (compatible; MSIE 9.0; Windows NT 6.1; Trident/5.0;\"}\n",
    "    url = 'https://baike.baidu.com/item/%E5%8C%97%E4%BA%AC%E5%9C%B0%E9%93%81/408485'\n",
    "    r = requests.get(url, headers=headers).content.decode('utf8')\n",
    "    type(r)\n",
    "    text = re.findall(\"(table log-set-param=\\\"table_view\\\" width=\\\"658\\\".*)\",r)[0]\n",
    "    links = re.findall(\"href=\\\"([^\\\"]*)\\\">北京地铁\",text)\n",
    "    from collections import defaultdict\n",
    "    cities_connection = defaultdict(list)\n",
    "    for eachlink in links:\n",
    "        url ='https://baike.baidu.com'+eachlink\n",
    "        #print(url)\n",
    "        text = requests.get(url, headers=headers).content.decode('utf8')\n",
    "        #path  = re.findall(\">(\\w+[^时刻表突破开通]——\\w+[^时刻表创新通线])<\",text)\n",
    "        path  = re.findall(\">(\\w+——\\w+)<\",text)\n",
    "        #print(path)\n",
    "        for adj in path:\n",
    "            node1,node2 = adj.split(\"——\")\n",
    "            cities_connection[node1].append(node2)\n",
    "            cities_connection[node2].append(node1)\n",
    "    return cities_connection\n"
   ]
  },
  {
   "cell_type": "code",
   "execution_count": 24,
   "metadata": {},
   "outputs": [],
   "source": [
    "BjSub=city_graph()"
   ]
  },
  {
   "cell_type": "markdown",
   "metadata": {},
   "source": [
    "### 由下图可见明显有异常孤立点"
   ]
  },
  {
   "cell_type": "code",
   "execution_count": 25,
   "metadata": {},
   "outputs": [
    {
     "data": {
      "image/png": "[encoded data removed]",
      "text/plain": [
       "<Figure size 432x288 with 1 Axes>"
      ]
     },
     "metadata": {},
     "output_type": "display_data"
    }
   ],
   "source": [
    "nx.draw(nx.Graph(BjSub),with_labels=True,node_size=10)"
   ]
  },
  {
   "cell_type": "code",
   "execution_count": 30,
   "metadata": {},
   "outputs": [
    {
     "data": {
      "text/plain": [
       "[['天安门东', '王府井']]"
      ]
     },
     "execution_count": 30,
     "metadata": {},
     "output_type": "execute_result"
    }
   ],
   "source": [
    "search(BjSub,\"天安门东\",\"王府井\",get_node_sucess,search_strategy=max_stations_first)"
   ]
  },
  {
   "cell_type": "code",
   "execution_count": 31,
   "metadata": {},
   "outputs": [
    {
     "data": {
      "text/plain": [
       "['荣昌东街', '经海路']"
      ]
     },
     "execution_count": 31,
     "metadata": {},
     "output_type": "execute_result"
    }
   ],
   "source": [
    "get_node_sucess(BjSub,'同济南路')"
   ]
  },
  {
   "cell_type": "code",
   "execution_count": 32,
   "metadata": {},
   "outputs": [
    {
     "data": {
      "text/plain": [
       "[['天安门东',\n",
       "  '天安门西',\n",
       "  '西单',\n",
       "  '复兴门',\n",
       "  '南礼士路',\n",
       "  '木樨地',\n",
       "  '军事博物馆',\n",
       "  '公主坟',\n",
       "  '莲花桥',\n",
       "  '六里桥',\n",
       "  '七里庄',\n",
       "  '丰台东大街',\n",
       "  '丰台南路',\n",
       "  '科怡路',\n",
       "  '丰台科技园',\n",
       "  '郭公庄',\n",
       "  '大葆台',\n",
       "  '稻田']]"
      ]
     },
     "execution_count": 32,
     "metadata": {},
     "output_type": "execute_result"
    }
   ],
   "source": [
    "search(BjSub,\"天安门东\",\"稻田\",get_node_sucess,goal_reached,min_stations_first)"
   ]
  },
  {
   "cell_type": "code",
   "execution_count": 33,
   "metadata": {},
   "outputs": [
    {
     "data": {
      "text/plain": [
       "[['天安门东',\n",
       "  '天安门西',\n",
       "  '西单',\n",
       "  '复兴门',\n",
       "  '南礼士路',\n",
       "  '木樨地',\n",
       "  '军事博物馆',\n",
       "  '公主坟',\n",
       "  '莲花桥',\n",
       "  '六里桥',\n",
       "  '六里桥东',\n",
       "  '北京西站',\n",
       "  '湾子',\n",
       "  '达官营',\n",
       "  '广安门内',\n",
       "  '菜市口',\n",
       "  '宣武门',\n",
       "  '和平门',\n",
       "  '前门',\n",
       "  '崇文门',\n",
       "  '北京站',\n",
       "  '建国门',\n",
       "  '东单',\n",
       "  '灯市口',\n",
       "  '东四',\n",
       "  '张自忠路',\n",
       "  '北新桥',\n",
       "  '雍和宫',\n",
       "  '东直门',\n",
       "  '东四十条',\n",
       "  '朝阳门',\n",
       "  '东大桥',\n",
       "  '呼家楼',\n",
       "  '金台路',\n",
       "  '红庙',\n",
       "  '大望路',\n",
       "  '国贸',\n",
       "  '双井',\n",
       "  '广渠门外',\n",
       "  '广渠门内',\n",
       "  '磁器口',\n",
       "  '天坛东门',\n",
       "  '蒲黄榆',\n",
       "  '刘家窑',\n",
       "  '宋家庄',\n",
       "  '石榴庄',\n",
       "  '大红门',\n",
       "  '角门东',\n",
       "  '角门西',\n",
       "  '草桥',\n",
       "  '纪家庙',\n",
       "  '首经贸',\n",
       "  '丰台站',\n",
       "  '泥洼',\n",
       "  '西局',\n",
       "  '七里庄',\n",
       "  '丰台东大街',\n",
       "  '丰台南路',\n",
       "  '科怡路',\n",
       "  '丰台科技园',\n",
       "  '郭公庄',\n",
       "  '大葆台',\n",
       "  '稻田']]"
      ]
     },
     "execution_count": 33,
     "metadata": {},
     "output_type": "execute_result"
    }
   ],
   "source": [
    "search(BjSub,\"天安门东\",\"稻田\",get_node_sucess,goal_reached,max_stations_first)"
   ]
  },
  {
   "cell_type": "markdown",
   "metadata": {},
   "source": [
    "# 方法二，基本涵盖了所有数据\n",
    "## 参考刘亚南同学的方法，补全了大兴线与16号线数据"
   ]
  },
  {
   "cell_type": "code",
   "execution_count": 34,
   "metadata": {},
   "outputs": [],
   "source": [
    "lines=[\"北京地铁1号线\",\"北京地铁2号线\",\"北京地铁4号线\",\"北京地铁5号线\",\"北京地铁6号线\",\"北京地铁7号线\",\"北京地铁8号线\",\n",
    "       \"北京地铁9号线\",\"北京地铁10号线\",\"北京地铁13号线\",\"北京地铁14号线\",\"北京地铁15号线\",\"北京地铁16号线\",\"北京地铁大兴线\",\n",
    "       \"北京地铁八通线\",\"北京地铁昌平线\",\"北京地铁房山线\",\"北京地铁亦庄线\"]"
   ]
  },
  {
   "cell_type": "code",
   "execution_count": 35,
   "metadata": {},
   "outputs": [],
   "source": [
    "headers = {\"User-Agent\" : \"User-Agent:Mozilla/5.0 (compatible; MSIE 9.0; Windows NT 6.1; Trident/5.0;\"}\n",
    "web_text=''\n",
    "for line in lines:\n",
    "    web_text+=requests.get(\"https://baike.baidu.com/item/\"+line,headers=headers).content.decode('utf-8')"
   ]
  },
  {
   "cell_type": "code",
   "execution_count": 36,
   "metadata": {},
   "outputs": [],
   "source": [
    "pattern='<.*?>'\n",
    "text=re.sub(pattern,'',web_text)\n",
    "t=re.sub(\"\\r\\n\",\"\",text)"
   ]
  },
  {
   "cell_type": "code",
   "execution_count": 37,
   "metadata": {},
   "outputs": [],
   "source": [
    "dist1=re.findall(\"[\\u4e00-\\u9fa5\\d]+线相邻.*上行\",t)"
   ]
  },
  {
   "cell_type": "code",
   "execution_count": 38,
   "metadata": {},
   "outputs": [],
   "source": [
    "dist14=re.findall(\"14号线.*上行\",t)\n",
    "# line14"
   ]
  },
  {
   "cell_type": "code",
   "execution_count": 39,
   "metadata": {},
   "outputs": [
    {
     "data": {
      "text/plain": [
       "['14号线（西段）相邻站间距信息统计表起始/终到车站区间距离（米）方向张郭庄——园博园1345上行/下行园博园——大瓦窑4073上行/下行大瓦窑——郭庄子1236上行/下行郭庄子——大井2044上行/下行大井——七里庄1579上行/下行七里庄——西局845上行/下行14号线（东段）相邻站间距信息统计表起始/终到车站区间距离（米）方向北京南站——陶然桥887上行/下行陶然桥——永定门外1063上行/下行永定门外——景泰1119上行/下行景泰——蒲黄榆1025上行/下行蒲黄榆——方庄1486上行/下行方庄——十里河1618上行/下行十里河——南八里庄1147上行/下行南八里庄——北工大西门1276上行/下行北工大西门——平乐园1128上行/下行平乐园——九龙山897上行/下行九龙山——大望路1780上行/下行大望路——红庙708上行/下行红庙——金台路894上行/下行金台路——朝阳公园1085上行/下行朝阳公园——枣营1221上行/下行枣营——东风北桥2173上行/下行东风北桥——将台1600上行/下行将台——高家园1171上行/下行高家园——望京南676上行/下行望京南——阜通1168上行/下行阜通——望京903上行/下行望京——东湖渠1283上行/下行东湖渠——来广营1100上行/下行来广营——善各庄1364上行',\n",
       " '14号线（西段）首末车时刻表车站名称开往西局（上行']"
      ]
     },
     "execution_count": 39,
     "metadata": {},
     "output_type": "execute_result"
    }
   ],
   "source": [
    "dist14"
   ]
  },
  {
   "cell_type": "code",
   "execution_count": 40,
   "metadata": {},
   "outputs": [],
   "source": [
    "dist14=[re.sub(\"14号线（东段）相邻站间距信息统计表起始/终到车站区间距离（米）方向\",\"\",dist14[0])]"
   ]
  },
  {
   "cell_type": "code",
   "execution_count": 41,
   "metadata": {},
   "outputs": [
    {
     "data": {
      "text/plain": [
       "['14号线（西段）相邻站间距信息统计表起始/终到车站区间距离（米）方向张郭庄——园博园1345上行/下行园博园——大瓦窑4073上行/下行大瓦窑——郭庄子1236上行/下行郭庄子——大井2044上行/下行大井——七里庄1579上行/下行七里庄——西局845上行/下行北京南站——陶然桥887上行/下行陶然桥——永定门外1063上行/下行永定门外——景泰1119上行/下行景泰——蒲黄榆1025上行/下行蒲黄榆——方庄1486上行/下行方庄——十里河1618上行/下行十里河——南八里庄1147上行/下行南八里庄——北工大西门1276上行/下行北工大西门——平乐园1128上行/下行平乐园——九龙山897上行/下行九龙山——大望路1780上行/下行大望路——红庙708上行/下行红庙——金台路894上行/下行金台路——朝阳公园1085上行/下行朝阳公园——枣营1221上行/下行枣营——东风北桥2173上行/下行东风北桥——将台1600上行/下行将台——高家园1171上行/下行高家园——望京南676上行/下行望京南——阜通1168上行/下行阜通——望京903上行/下行望京——东湖渠1283上行/下行东湖渠——来广营1100上行/下行来广营——善各庄1364上行']"
      ]
     },
     "execution_count": 41,
     "metadata": {},
     "output_type": "execute_result"
    }
   ],
   "source": [
    "dist14"
   ]
  },
  {
   "cell_type": "code",
   "execution_count": 42,
   "metadata": {},
   "outputs": [],
   "source": [
    "dist1.extend(dist14)"
   ]
  },
  {
   "cell_type": "code",
   "execution_count": 43,
   "metadata": {},
   "outputs": [],
   "source": [
    "dist1[6]=re.sub(\".*8号线\",'8号线',dist1[6])"
   ]
  },
  {
   "cell_type": "code",
   "execution_count": 44,
   "metadata": {},
   "outputs": [
    {
     "data": {
      "text/plain": [
       "'8号线相邻站间距信息统计表起始/终到车站区间距离方向朱辛庄——育知路2318米上行/下行育知路——平西府1985米上行/下行平西府——回龙观东大街2056米上行/下行回龙观东大街——霍营1114米上行/下行霍营——育新1894米上行/下行育新——西小口1543米上行/下行西小口——永泰庄1041米上行/下行永泰庄——林萃桥2553米上行/下行林萃桥——森林公园南门2555米上行/下行森林公园南门——奥林匹克公园1016米上行/下行奥林匹克公园——奥体中心1667米上行/下行奥体中心——北土城900米上行/下行北土城——安华桥1018米上行/下行安华桥——安德里北街1274米上行/下行安德里北街——鼓楼大街1083米上行/下行鼓楼大街——什刹海1188米上行/下行什刹海——南锣鼓巷902米上行'"
      ]
     },
     "execution_count": 44,
     "metadata": {},
     "output_type": "execute_result"
    }
   ],
   "source": [
    "dist1[6]"
   ]
  },
  {
   "cell_type": "code",
   "execution_count": 45,
   "metadata": {},
   "outputs": [],
   "source": [
    "dist16=re.findall(\"站区间距离（km）.+\",t)\n",
    "# line16,ignore"
   ]
  },
  {
   "cell_type": "code",
   "execution_count": 46,
   "metadata": {},
   "outputs": [
    {
     "data": {
      "text/plain": [
       "['站区间距离（km）西苑～农大南路3农大南路~马连洼1.6马连洼～西北旺2.1西北旺～永丰南2永丰南～永丰1.3永丰～屯佃2屯佃～稻香湖路2.5稻香湖路～温阳路2温阳路～北安河2.6']"
      ]
     },
     "execution_count": 46,
     "metadata": {},
     "output_type": "execute_result"
    }
   ],
   "source": [
    "dist16"
   ]
  },
  {
   "cell_type": "code",
   "execution_count": 47,
   "metadata": {},
   "outputs": [],
   "source": [
    "dist16=[re.sub(\"站区间距离（km）\",\"16号线相邻站间距信息统计表起始/终到车站区间距离方向\",dist16[0])]\n",
    "dist16=[re.sub(\"～\",\"——\",dist16[0])]\n",
    "dist16=[re.sub(\"~\",\"——\",dist16[0])]"
   ]
  },
  {
   "cell_type": "code",
   "execution_count": 48,
   "metadata": {},
   "outputs": [
    {
     "data": {
      "text/plain": [
       "['16号线相邻站间距信息统计表起始/终到车站区间距离方向西苑——农大南路3农大南路——马连洼1.6马连洼——西北旺2.1西北旺——永丰南2永丰南——永丰1.3永丰——屯佃2屯佃——稻香湖路2.5稻香湖路——温阳路2温阳路——北安河2.6']"
      ]
     },
     "execution_count": 48,
     "metadata": {},
     "output_type": "execute_result"
    }
   ],
   "source": [
    "dist16"
   ]
  },
  {
   "cell_type": "code",
   "execution_count": 49,
   "metadata": {},
   "outputs": [],
   "source": [
    "dist1.extend(dist16)"
   ]
  },
  {
   "cell_type": "code",
   "execution_count": 50,
   "metadata": {},
   "outputs": [
    {
     "data": {
      "text/plain": [
       "['1号线相邻站间距信息统计表起始/终到车站区间距离方向苹果园——古城2606米上行/下行古城——八角游乐园1921米上行/下行八角游乐园——八宝山1953米上行/下行八宝山——玉泉路1479米上行/下行玉泉路——五棵松1810米上行/下行五棵松——万寿路1778米上行/下行万寿路——公主坟1313米上行/下行公主坟——军事博物馆1172米上行/下行军事博物馆——木樨地1166米上行/下行木樨地——南礼士路1291米上行/下行南礼士路——复兴门424米上行/下行复兴门——西单1590米上行/下行西单——天安门西1217米上行/下行天安门西——天安门东925米上行/下行天安门东——王府井852米上行/下行王府井——东单774米上行/下行东单——建国门1230米上行/下行建国门——永安里1377米上行/下行永安里——国贸790米上行/下行国贸——大望路1385米上行/下行大望路——四惠1673米上行/下行四惠——四惠东1714米上行',\n",
       " '2号线相邻站间距信息统计表起始/终到车站区间距离方向西直门——车公庄909米上行/下行车公庄——阜成门960米上行/下行阜成门——复兴门1832米上行/下行复兴门——长椿街1234米上行/下行长椿街——宣武门929米上行/下行宣武门——和平门851米上行/下行和平门——前门1171米上行/下行前门——崇文门1634米上行/下行崇文门——北京站1023米上行/下行北京站——建国门945米上行/下行建国门——朝阳门1763米上行/下行朝阳门——东四十条1027米上行/下行东四十条——东直门824米上行/下行东直门——雍和宫2228米上行/下行雍和宫——安定门794米上行/下行安定门——鼓楼大街1237米上行/下行鼓楼大街——积水潭1766米上行/下行积水潭——西直门1899米上行',\n",
       " '4号线相邻站间距信息统计表起始/终到车站区间距离（米）方向安河桥北——北宫门1363上行/下行北宫门——西苑1251上行/下行西苑——圆明园1672上行/下行圆明园——北京大学东门1295上行/下行北京大学东门——中关村887上行/下行中关村——海淀黄庄900上行/下行海淀黄庄——人民大学1063上行/下行人民大学——魏公村1051上行/下行魏公村——国家图书馆1658上行/下行国家图书馆——动物园1517上行/下行动物园——西直门1441上行/下行西直门——新街口1025上行/下行新街口——平安里1100上行/下行平安里——西四1100上行/下行西四——灵境胡同869上行/下行灵境胡同——西单1011上行/下行西单——宣武门815上行/下行宣武门——菜市口1152上行/下行菜市口——陶然亭1200上行/下行陶然亭——北京南站1643上行/下行北京南站——马家堡1480上行/下行马家堡——角门西827上行/下行角门西——公益西桥989上行',\n",
       " '5号线相邻站间距信息统计表起始/终到车站区间距离方向天通苑北——天通苑939米上行/下行天通苑——天通苑南965米上行/下行天通苑南——立水桥1544米上行/下行立水桥——立水桥南1305米上行/下行立水桥南——北苑路北1286米上行/下行北苑路北——大屯路东3千米上行/下行大屯路东——惠新西街北口1838米上行/下行惠新西街北口——惠新西街南口1122米上行/下行惠新西街南口——和平西桥1025米上行/下行和平西桥——和平里北街1059米上行/下行和平里北街——雍和宫1151米上行/下行雍和宫——北新桥866米上行/下行北新桥——张自忠路791米上行/下行张自忠路——东四1016米上行/下行东四——灯市口848米上行/下行灯市口——东单945米上行/下行东单——崇文门821米上行/下行崇文门——磁器口876米上行/下行磁器口——天坛东门1183米上行/下行天坛东门——蒲黄榆1.9千米上行/下行蒲黄榆——刘家窑905米上行/下行刘家窑——宋家庄1670米上行',\n",
       " '6号线相邻站间距信息统计表起始/终到车站区间距离（米）方向海淀五路居——慈寿寺1508上行/下行慈寿寺——花园桥1431上行/下行花园桥——白石桥南1166上行/下行白石桥南——车公庄西1664上行/下行车公庄西——车公庄887上行/下行车公庄——平安里1443上行/下行平安里——北海北1321上行/下行北海北——南锣鼓巷1349上行/下行南锣鼓巷——东四1937上行/下行东四——朝阳门1399上行/下行朝阳门——东大桥1668上行/下行东大桥——呼家楼845上行/下行呼家楼——金台路1450上行/下行金台路——十里堡2036上行/下行十里堡——青年路1282上行/下行青年路——褡裢坡3999上行/下行褡裢坡——黄渠1238上行/下行黄渠——常营1854上行/下行常营——草房1405上行/下行草房——物资学院路2115上行/下行物资学院路——通州北关2557上行/下行通州北关——通运门1468上行/下行通运门——北运河西1543上行/下行北运河西——北运河东1599上行/下行北运河东——郝家府929上行/下行郝家府——东夏园1346上行/下行东夏园——潞城1194上行',\n",
       " '7号线相邻站间距信息统计表起始/终到车站区间距离（米）方向北京西站——湾子935上行/下行湾子——达官营734上行/下行达官营——广安门内1874上行/下行广安门内——菜市口1374上行/下行菜市口——虎坊桥885上行/下行虎坊桥——珠市口1205上行/下行珠市口——桥湾869上行/下行桥湾——磁器口1016上行/下行磁器口——广渠门内1138上行/下行广渠门内——广渠门外1332上行/下行广渠门外——双井1241上行/下行双井——九龙山1311上行/下行九龙山——大郊亭781上行/下行大郊亭——百子湾865上行/下行百子湾——化工903上行/下行化工——南楼梓庄1464上行/下行南楼梓庄——欢乐谷景区906上行/下行欢乐谷景区——垡头1679上行/下行垡头——双合1304上行/下行双合——焦化厂1021上行',\n",
       " '8号线相邻站间距信息统计表起始/终到车站区间距离方向朱辛庄——育知路2318米上行/下行育知路——平西府1985米上行/下行平西府——回龙观东大街2056米上行/下行回龙观东大街——霍营1114米上行/下行霍营——育新1894米上行/下行育新——西小口1543米上行/下行西小口——永泰庄1041米上行/下行永泰庄——林萃桥2553米上行/下行林萃桥——森林公园南门2555米上行/下行森林公园南门——奥林匹克公园1016米上行/下行奥林匹克公园——奥体中心1667米上行/下行奥体中心——北土城900米上行/下行北土城——安华桥1018米上行/下行安华桥——安德里北街1274米上行/下行安德里北街——鼓楼大街1083米上行/下行鼓楼大街——什刹海1188米上行/下行什刹海——南锣鼓巷902米上行',\n",
       " '9号线相邻站间距信息统计表起始/终到车站区间距离（米）方向国家图书馆——白石桥南1096上行/下行白石桥南——白堆子943上行/下行白堆子——军事博物馆1912上行/下行军事博物馆——北京西站1398上行/下行北京西站——六里桥东1170上行/下行六里桥东——六里桥1309上行/下行六里桥——七里庄1778上行/下行七里庄——丰台东大街1325上行/下行丰台东大街——丰台南路1585上行/下行丰台南路——科怡路980上行/下行科怡路——丰台科技园788上行/下行丰台科技园——郭公庄1347上行',\n",
       " '10号线相邻站间距信息统计表起始/终到车站区间距离方向巴沟——苏州街1110米上行/下行苏州街——海淀黄庄950米上行/下行海淀黄庄——知春里975米上行/下行知春里——知春路1058米上行/下行知春路——西土城1101米上行/下行西土城——牡丹园1330米上行/下行牡丹园——健德门973米上行/下行健德门——北土城1.1千米上行/下行北土城——安贞门1020米上行/下行安贞门——惠新西街南口982米上行/下行惠新西街南口——芍药居1712米上行/下行芍药居——太阳宫1003米上行/下行太阳宫——三元桥1759米上行/下行三元桥——亮马桥1506米上行/下行亮马桥——农业展览馆914米上行/下行农业展览馆——团结湖853米上行/下行团结湖——呼家楼1149米上行/下行呼家楼——金台夕照734米上行/下行金台夕照——国贸835米上行/下行国贸——双井1759米上行/下行双井——劲松1006米上行/下行劲松——潘家园1021米上行/下行潘家园——十里河1097米上行/下行十里河——分钟寺1804米上行/下行分钟寺——成寿寺1058米上行/下行成寿寺——宋家庄1677米上行/下行宋家庄——石榴庄1269米上行/下行石榴庄——大红门1244米上行/下行大红门——角门东1130米上行/下行角门东——角门西1254米上行/下行角门西——草桥1688米上行/下行草桥——纪家庙1547米上行/下行纪家庙——首经贸1143米上行/下行首经贸——丰台站1717米上行/下行丰台站——泥洼954米上行/下行泥洼——西局749米上行/下行西局——六里桥1584米上行/下行六里桥——莲花桥2392米上行/下行莲花桥——公主坟1016米上行/下行公主坟——西钓鱼台2386米上行/下行西钓鱼台——慈寿寺1214米上行/下行慈寿寺——车道沟1590米上行/下行车道沟——长春桥1205米上行/下行长春桥——火器营961米上行/下行火器营——巴沟1495米上行',\n",
       " '13号线相邻站间距信息统计表起始/终到车站区间距离方向西直门——大钟寺2839米上行/下行大钟寺——知春路1206米上行/下行知春路——五道口1829米上行/下行五道口——上地4866米上行/下行上地——西二旗2538米上行/下行西二旗——龙泽3623米上行/下行龙泽——回龙观1423米上行/下行回龙观——霍营2110米上行/下行霍营——立水桥4785米上行/下行立水桥——北苑2272米上行/下行北苑——望京西6722米上行/下行望京西——芍药居2152米上行/下行芍药居——光熙门1110米上行/下行光熙门——柳芳1135米上行/下行柳芳——东直门1769米上行',\n",
       " '15号线相邻站间距信息统计表起始/终到车站区间距离（米）方向清华东路西口——六道口1144上行/下行六道口——北沙滩1337上行/下行北沙滩——奥林匹克公园1999上行/下行奥林匹克公园——安立路1368上行/下行安立路——大屯路东938上行/下行大屯路东——关庄1087上行/下行关庄——望京西2071上行/下行望京西——望京1758上行/下行望京——望京东1652上行/下行望京东——崔各庄2295上行/下行崔各庄——马泉营2008上行/下行马泉营——孙河3309上行/下行孙河——国展3386上行/下行国展——花梨坎1615上行/下行花梨坎——后沙峪3354上行/下行后沙峪——南法信4576上行/下行南法信——石门2712上行/下行石门——顺义1331上行/下行顺义——俸伯2441上行',\n",
       " '大兴线相邻站间距信息统计表起始/终到车站区间距离方向公益西桥——新宫2798米上行/下行新宫——西红门5102米上行/下行西红门——高米店北1810米上行/下行高米店北——高米店南1128米上行/下行高米店南——枣园1096米上行/下行枣园——清源路1189米上行/下行清源路——黄村西大街1214米上行/下行黄村西大街——黄村火车站987米上行/下行黄村火车站——义和庄2035米上行/下行义和庄——生物医药基地2918米上行/下行生物医药基地——天宫院1811米上行',\n",
       " '八通线相邻站间距信息统计表起始/终到车站区间距离方向四惠——四惠东1715米上行/下行四惠东——高碑店1375米上行/下行高碑店——传媒大学2002米上行/下行传媒大学——双桥1894米上行/下行双桥——管庄1912米上行/下行管庄——八里桥1763米上行/下行八里桥——通州北苑1700米上行/下行通州北苑——果园1465米上行/下行果园——九棵树990米上行/下行九棵树——梨园1225米上行/下行梨园——临河里1257米上行/下行临河里——土桥776米上行',\n",
       " '昌平线相邻站间距信息统计表起始/终到车站区间距离方向昌平西山口——十三陵景区1213米上行/下行十三陵景区——昌平3508米上行/下行昌平——昌平东关2433米上行/下行昌平东关——北邵洼1683米上行/下行北邵洼——南邵1958米上行/下行南邵——沙河高教园5357米上行/下行沙河高教园——沙河1964米上行/下行沙河——巩华城2025米上行/下行巩华城——朱辛庄3799米上行/下行朱辛庄——生命科学园2367米上行/下行生命科学园——西二旗5440米上行',\n",
       " '房山线相邻站间距信息统计表起始/终到车站区间距离（米）方向郭公庄——大葆台1405上行/下行大葆台——稻田6466上行/下行稻田——长阳4041上行/下行长阳——篱笆房2150上行/下行篱笆房——广阳城1474上行/下行广阳城——良乡大学城北2003上行/下行良乡大学城北——良乡大学城1188上行/下行良乡大学城——良乡大学城西1738上行/下行良乡大学城西——良乡南关1332上行/下行良乡南关——苏庄1330上行/下行苏庄——阎村东约2300上行',\n",
       " '亦庄线相邻站间距信息统计表起始/终到车站区间距离（米）方向宋家庄——肖村2631上行/下行肖村——小红门1275上行/下行小红门——旧宫2366上行/下行旧宫——亦庄桥1982上行/下行亦庄桥——亦庄文化园993上行/下行亦庄文化园——万源街1728上行/下行万源街——荣京东街1090上行/下行荣京东街——荣昌东街1355上行/下行荣昌东街——同济南路2337上行/下行同济南路——经海路2301上行/下行经海路——次渠南2055上行/下行次渠南——次渠1281上行',\n",
       " '14号线（西段）相邻站间距信息统计表起始/终到车站区间距离（米）方向张郭庄——园博园1345上行/下行园博园——大瓦窑4073上行/下行大瓦窑——郭庄子1236上行/下行郭庄子——大井2044上行/下行大井——七里庄1579上行/下行七里庄——西局845上行/下行北京南站——陶然桥887上行/下行陶然桥——永定门外1063上行/下行永定门外——景泰1119上行/下行景泰——蒲黄榆1025上行/下行蒲黄榆——方庄1486上行/下行方庄——十里河1618上行/下行十里河——南八里庄1147上行/下行南八里庄——北工大西门1276上行/下行北工大西门——平乐园1128上行/下行平乐园——九龙山897上行/下行九龙山——大望路1780上行/下行大望路——红庙708上行/下行红庙——金台路894上行/下行金台路——朝阳公园1085上行/下行朝阳公园——枣营1221上行/下行枣营——东风北桥2173上行/下行东风北桥——将台1600上行/下行将台——高家园1171上行/下行高家园——望京南676上行/下行望京南——阜通1168上行/下行阜通——望京903上行/下行望京——东湖渠1283上行/下行东湖渠——来广营1100上行/下行来广营——善各庄1364上行',\n",
       " '16号线相邻站间距信息统计表起始/终到车站区间距离方向西苑——农大南路3农大南路——马连洼1.6马连洼——西北旺2.1西北旺——永丰南2永丰南——永丰1.3永丰——屯佃2屯佃——稻香湖路2.5稻香湖路——温阳路2温阳路——北安河2.6']"
      ]
     },
     "execution_count": 50,
     "metadata": {},
     "output_type": "execute_result"
    }
   ],
   "source": [
    "dist1"
   ]
  },
  {
   "cell_type": "code",
   "execution_count": 51,
   "metadata": {},
   "outputs": [],
   "source": [
    "tmp=[]\n",
    "for d in dist1:\n",
    "    tmp.append(re.sub(\"上行/下行\",'to',d))"
   ]
  },
  {
   "cell_type": "code",
   "execution_count": 52,
   "metadata": {},
   "outputs": [],
   "source": [
    "dist_list=[]\n",
    "for t in tmp:\n",
    "    ti=re.sub(\"to|方向\",\"\\n\",t)\n",
    "    tj=re.sub(\"上行\",\"\",ti)\n",
    "    tk=re.sub(\"千米\",\"\",tj)\n",
    "    tf=re.sub(\"（米）|米\",\"\",tk)\n",
    "    dist_list.append(re.findall(\".*\",tf))"
   ]
  },
  {
   "cell_type": "code",
   "execution_count": 53,
   "metadata": {},
   "outputs": [],
   "source": [
    "for item in dist_list:\n",
    "    for it in item:\n",
    "        if it=='':item.remove(it)\n",
    "        "
   ]
  },
  {
   "cell_type": "code",
   "execution_count": 54,
   "metadata": {},
   "outputs": [
    {
     "data": {
      "text/plain": [
       "['16号线相邻站间距信息统计表起始/终到车站区间距离',\n",
       " '西苑——农大南路3农大南路——马连洼1.6马连洼——西北旺2.1西北旺——永丰南2永丰南——永丰1.3永丰——屯佃2屯佃——稻香湖路2.5稻香湖路——温阳路2温阳路——北安河2.6']"
      ]
     },
     "execution_count": 54,
     "metadata": {},
     "output_type": "execute_result"
    }
   ],
   "source": [
    "dist_list[17]"
   ]
  },
  {
   "cell_type": "code",
   "execution_count": 55,
   "metadata": {},
   "outputs": [],
   "source": [
    "test=re.split('([\\d.]+)',dist_list[17][1])"
   ]
  },
  {
   "cell_type": "code",
   "execution_count": 56,
   "metadata": {},
   "outputs": [
    {
     "data": {
      "text/plain": [
       "['西苑——农大南路',\n",
       " '3',\n",
       " '农大南路——马连洼',\n",
       " '1.6',\n",
       " '马连洼——西北旺',\n",
       " '2.1',\n",
       " '西北旺——永丰南',\n",
       " '2',\n",
       " '永丰南——永丰',\n",
       " '1.3',\n",
       " '永丰——屯佃',\n",
       " '2',\n",
       " '屯佃——稻香湖路',\n",
       " '2.5',\n",
       " '稻香湖路——温阳路',\n",
       " '2',\n",
       " '温阳路——北安河',\n",
       " '2.6',\n",
       " '']"
      ]
     },
     "execution_count": 56,
     "metadata": {},
     "output_type": "execute_result"
    }
   ],
   "source": [
    "test"
   ]
  },
  {
   "cell_type": "code",
   "execution_count": 57,
   "metadata": {},
   "outputs": [],
   "source": [
    "for i in range(len(test)-1):\n",
    "    if i%2!=0:continue\n",
    "    test[i]=test[i]+test[i+1]"
   ]
  },
  {
   "cell_type": "code",
   "execution_count": 58,
   "metadata": {},
   "outputs": [],
   "source": [
    "line16=[]\n",
    "for i in range(len(test)):\n",
    "    if i%2==0:\n",
    "        line16.append(test[i])"
   ]
  },
  {
   "cell_type": "code",
   "execution_count": 59,
   "metadata": {},
   "outputs": [],
   "source": [
    "line16.remove('')"
   ]
  },
  {
   "cell_type": "code",
   "execution_count": 60,
   "metadata": {},
   "outputs": [
    {
     "data": {
      "text/plain": [
       "['西苑——农大南路3',\n",
       " '农大南路——马连洼1.6',\n",
       " '马连洼——西北旺2.1',\n",
       " '西北旺——永丰南2',\n",
       " '永丰南——永丰1.3',\n",
       " '永丰——屯佃2',\n",
       " '屯佃——稻香湖路2.5',\n",
       " '稻香湖路——温阳路2',\n",
       " '温阳路——北安河2.6']"
      ]
     },
     "execution_count": 60,
     "metadata": {},
     "output_type": "execute_result"
    }
   ],
   "source": [
    "line16"
   ]
  },
  {
   "cell_type": "code",
   "execution_count": 61,
   "metadata": {},
   "outputs": [
    {
     "data": {
      "text/plain": [
       "'西苑——农大南路3农大南路——马连洼1.6马连洼——西北旺2.1西北旺——永丰南2永丰南——永丰1.3永丰——屯佃2屯佃——稻香湖路2.5稻香湖路——温阳路2温阳路——北安河2.6'"
      ]
     },
     "execution_count": 61,
     "metadata": {},
     "output_type": "execute_result"
    }
   ],
   "source": [
    "dist_list[17].pop(-1)"
   ]
  },
  {
   "cell_type": "code",
   "execution_count": 62,
   "metadata": {},
   "outputs": [
    {
     "data": {
      "text/plain": [
       "['16号线相邻站间距信息统计表起始/终到车站区间距离']"
      ]
     },
     "execution_count": 62,
     "metadata": {},
     "output_type": "execute_result"
    }
   ],
   "source": [
    "dist_list[17]"
   ]
  },
  {
   "cell_type": "code",
   "execution_count": 63,
   "metadata": {},
   "outputs": [],
   "source": [
    "for item in line16:\n",
    "    dist_list[17].append(item)"
   ]
  },
  {
   "cell_type": "code",
   "execution_count": 64,
   "metadata": {},
   "outputs": [
    {
     "data": {
      "text/plain": [
       "[['1号线相邻站间距信息统计表起始/终到车站区间距离',\n",
       "  '苹果园——古城2606',\n",
       "  '古城——八角游乐园1921',\n",
       "  '八角游乐园——八宝山1953',\n",
       "  '八宝山——玉泉路1479',\n",
       "  '玉泉路——五棵松1810',\n",
       "  '五棵松——万寿路1778',\n",
       "  '万寿路——公主坟1313',\n",
       "  '公主坟——军事博物馆1172',\n",
       "  '军事博物馆——木樨地1166',\n",
       "  '木樨地——南礼士路1291',\n",
       "  '南礼士路——复兴门424',\n",
       "  '复兴门——西单1590',\n",
       "  '西单——天安门西1217',\n",
       "  '天安门西——天安门东925',\n",
       "  '天安门东——王府井852',\n",
       "  '王府井——东单774',\n",
       "  '东单——建国门1230',\n",
       "  '建国门——永安里1377',\n",
       "  '永安里——国贸790',\n",
       "  '国贸——大望路1385',\n",
       "  '大望路——四惠1673',\n",
       "  '四惠——四惠东1714'],\n",
       " ['2号线相邻站间距信息统计表起始/终到车站区间距离',\n",
       "  '西直门——车公庄909',\n",
       "  '车公庄——阜成门960',\n",
       "  '阜成门——复兴门1832',\n",
       "  '复兴门——长椿街1234',\n",
       "  '长椿街——宣武门929',\n",
       "  '宣武门——和平门851',\n",
       "  '和平门——前门1171',\n",
       "  '前门——崇文门1634',\n",
       "  '崇文门——北京站1023',\n",
       "  '北京站——建国门945',\n",
       "  '建国门——朝阳门1763',\n",
       "  '朝阳门——东四十条1027',\n",
       "  '东四十条——东直门824',\n",
       "  '东直门——雍和宫2228',\n",
       "  '雍和宫——安定门794',\n",
       "  '安定门——鼓楼大街1237',\n",
       "  '鼓楼大街——积水潭1766',\n",
       "  '积水潭——西直门1899'],\n",
       " ['4号线相邻站间距信息统计表起始/终到车站区间距离',\n",
       "  '安河桥北——北宫门1363',\n",
       "  '北宫门——西苑1251',\n",
       "  '西苑——圆明园1672',\n",
       "  '圆明园——北京大学东门1295',\n",
       "  '北京大学东门——中关村887',\n",
       "  '中关村——海淀黄庄900',\n",
       "  '海淀黄庄——人民大学1063',\n",
       "  '人民大学——魏公村1051',\n",
       "  '魏公村——国家图书馆1658',\n",
       "  '国家图书馆——动物园1517',\n",
       "  '动物园——西直门1441',\n",
       "  '西直门——新街口1025',\n",
       "  '新街口——平安里1100',\n",
       "  '平安里——西四1100',\n",
       "  '西四——灵境胡同869',\n",
       "  '灵境胡同——西单1011',\n",
       "  '西单——宣武门815',\n",
       "  '宣武门——菜市口1152',\n",
       "  '菜市口——陶然亭1200',\n",
       "  '陶然亭——北京南站1643',\n",
       "  '北京南站——马家堡1480',\n",
       "  '马家堡——角门西827',\n",
       "  '角门西——公益西桥989'],\n",
       " ['5号线相邻站间距信息统计表起始/终到车站区间距离',\n",
       "  '天通苑北——天通苑939',\n",
       "  '天通苑——天通苑南965',\n",
       "  '天通苑南——立水桥1544',\n",
       "  '立水桥——立水桥南1305',\n",
       "  '立水桥南——北苑路北1286',\n",
       "  '北苑路北——大屯路东3',\n",
       "  '大屯路东——惠新西街北口1838',\n",
       "  '惠新西街北口——惠新西街南口1122',\n",
       "  '惠新西街南口——和平西桥1025',\n",
       "  '和平西桥——和平里北街1059',\n",
       "  '和平里北街——雍和宫1151',\n",
       "  '雍和宫——北新桥866',\n",
       "  '北新桥——张自忠路791',\n",
       "  '张自忠路——东四1016',\n",
       "  '东四——灯市口848',\n",
       "  '灯市口——东单945',\n",
       "  '东单——崇文门821',\n",
       "  '崇文门——磁器口876',\n",
       "  '磁器口——天坛东门1183',\n",
       "  '天坛东门——蒲黄榆1.9',\n",
       "  '蒲黄榆——刘家窑905',\n",
       "  '刘家窑——宋家庄1670'],\n",
       " ['6号线相邻站间距信息统计表起始/终到车站区间距离',\n",
       "  '海淀五路居——慈寿寺1508',\n",
       "  '慈寿寺——花园桥1431',\n",
       "  '花园桥——白石桥南1166',\n",
       "  '白石桥南——车公庄西1664',\n",
       "  '车公庄西——车公庄887',\n",
       "  '车公庄——平安里1443',\n",
       "  '平安里——北海北1321',\n",
       "  '北海北——南锣鼓巷1349',\n",
       "  '南锣鼓巷——东四1937',\n",
       "  '东四——朝阳门1399',\n",
       "  '朝阳门——东大桥1668',\n",
       "  '东大桥——呼家楼845',\n",
       "  '呼家楼——金台路1450',\n",
       "  '金台路——十里堡2036',\n",
       "  '十里堡——青年路1282',\n",
       "  '青年路——褡裢坡3999',\n",
       "  '褡裢坡——黄渠1238',\n",
       "  '黄渠——常营1854',\n",
       "  '常营——草房1405',\n",
       "  '草房——物资学院路2115',\n",
       "  '物资学院路——通州北关2557',\n",
       "  '通州北关——通运门1468',\n",
       "  '通运门——北运河西1543',\n",
       "  '北运河西——北运河东1599',\n",
       "  '北运河东——郝家府929',\n",
       "  '郝家府——东夏园1346',\n",
       "  '东夏园——潞城1194'],\n",
       " ['7号线相邻站间距信息统计表起始/终到车站区间距离',\n",
       "  '北京西站——湾子935',\n",
       "  '湾子——达官营734',\n",
       "  '达官营——广安门内1874',\n",
       "  '广安门内——菜市口1374',\n",
       "  '菜市口——虎坊桥885',\n",
       "  '虎坊桥——珠市口1205',\n",
       "  '珠市口——桥湾869',\n",
       "  '桥湾——磁器口1016',\n",
       "  '磁器口——广渠门内1138',\n",
       "  '广渠门内——广渠门外1332',\n",
       "  '广渠门外——双井1241',\n",
       "  '双井——九龙山1311',\n",
       "  '九龙山——大郊亭781',\n",
       "  '大郊亭——百子湾865',\n",
       "  '百子湾——化工903',\n",
       "  '化工——南楼梓庄1464',\n",
       "  '南楼梓庄——欢乐谷景区906',\n",
       "  '欢乐谷景区——垡头1679',\n",
       "  '垡头——双合1304',\n",
       "  '双合——焦化厂1021'],\n",
       " ['8号线相邻站间距信息统计表起始/终到车站区间距离',\n",
       "  '朱辛庄——育知路2318',\n",
       "  '育知路——平西府1985',\n",
       "  '平西府——回龙观东大街2056',\n",
       "  '回龙观东大街——霍营1114',\n",
       "  '霍营——育新1894',\n",
       "  '育新——西小口1543',\n",
       "  '西小口——永泰庄1041',\n",
       "  '永泰庄——林萃桥2553',\n",
       "  '林萃桥——森林公园南门2555',\n",
       "  '森林公园南门——奥林匹克公园1016',\n",
       "  '奥林匹克公园——奥体中心1667',\n",
       "  '奥体中心——北土城900',\n",
       "  '北土城——安华桥1018',\n",
       "  '安华桥——安德里北街1274',\n",
       "  '安德里北街——鼓楼大街1083',\n",
       "  '鼓楼大街——什刹海1188',\n",
       "  '什刹海——南锣鼓巷902'],\n",
       " ['9号线相邻站间距信息统计表起始/终到车站区间距离',\n",
       "  '国家图书馆——白石桥南1096',\n",
       "  '白石桥南——白堆子943',\n",
       "  '白堆子——军事博物馆1912',\n",
       "  '军事博物馆——北京西站1398',\n",
       "  '北京西站——六里桥东1170',\n",
       "  '六里桥东——六里桥1309',\n",
       "  '六里桥——七里庄1778',\n",
       "  '七里庄——丰台东大街1325',\n",
       "  '丰台东大街——丰台南路1585',\n",
       "  '丰台南路——科怡路980',\n",
       "  '科怡路——丰台科技园788',\n",
       "  '丰台科技园——郭公庄1347'],\n",
       " ['10号线相邻站间距信息统计表起始/终到车站区间距离',\n",
       "  '巴沟——苏州街1110',\n",
       "  '苏州街——海淀黄庄950',\n",
       "  '海淀黄庄——知春里975',\n",
       "  '知春里——知春路1058',\n",
       "  '知春路——西土城1101',\n",
       "  '西土城——牡丹园1330',\n",
       "  '牡丹园——健德门973',\n",
       "  '健德门——北土城1.1',\n",
       "  '北土城——安贞门1020',\n",
       "  '安贞门——惠新西街南口982',\n",
       "  '惠新西街南口——芍药居1712',\n",
       "  '芍药居——太阳宫1003',\n",
       "  '太阳宫——三元桥1759',\n",
       "  '三元桥——亮马桥1506',\n",
       "  '亮马桥——农业展览馆914',\n",
       "  '农业展览馆——团结湖853',\n",
       "  '团结湖——呼家楼1149',\n",
       "  '呼家楼——金台夕照734',\n",
       "  '金台夕照——国贸835',\n",
       "  '国贸——双井1759',\n",
       "  '双井——劲松1006',\n",
       "  '劲松——潘家园1021',\n",
       "  '潘家园——十里河1097',\n",
       "  '十里河——分钟寺1804',\n",
       "  '分钟寺——成寿寺1058',\n",
       "  '成寿寺——宋家庄1677',\n",
       "  '宋家庄——石榴庄1269',\n",
       "  '石榴庄——大红门1244',\n",
       "  '大红门——角门东1130',\n",
       "  '角门东——角门西1254',\n",
       "  '角门西——草桥1688',\n",
       "  '草桥——纪家庙1547',\n",
       "  '纪家庙——首经贸1143',\n",
       "  '首经贸——丰台站1717',\n",
       "  '丰台站——泥洼954',\n",
       "  '泥洼——西局749',\n",
       "  '西局——六里桥1584',\n",
       "  '六里桥——莲花桥2392',\n",
       "  '莲花桥——公主坟1016',\n",
       "  '公主坟——西钓鱼台2386',\n",
       "  '西钓鱼台——慈寿寺1214',\n",
       "  '慈寿寺——车道沟1590',\n",
       "  '车道沟——长春桥1205',\n",
       "  '长春桥——火器营961',\n",
       "  '火器营——巴沟1495'],\n",
       " ['13号线相邻站间距信息统计表起始/终到车站区间距离',\n",
       "  '西直门——大钟寺2839',\n",
       "  '大钟寺——知春路1206',\n",
       "  '知春路——五道口1829',\n",
       "  '五道口——上地4866',\n",
       "  '上地——西二旗2538',\n",
       "  '西二旗——龙泽3623',\n",
       "  '龙泽——回龙观1423',\n",
       "  '回龙观——霍营2110',\n",
       "  '霍营——立水桥4785',\n",
       "  '立水桥——北苑2272',\n",
       "  '北苑——望京西6722',\n",
       "  '望京西——芍药居2152',\n",
       "  '芍药居——光熙门1110',\n",
       "  '光熙门——柳芳1135',\n",
       "  '柳芳——东直门1769'],\n",
       " ['15号线相邻站间距信息统计表起始/终到车站区间距离',\n",
       "  '清华东路西口——六道口1144',\n",
       "  '六道口——北沙滩1337',\n",
       "  '北沙滩——奥林匹克公园1999',\n",
       "  '奥林匹克公园——安立路1368',\n",
       "  '安立路——大屯路东938',\n",
       "  '大屯路东——关庄1087',\n",
       "  '关庄——望京西2071',\n",
       "  '望京西——望京1758',\n",
       "  '望京——望京东1652',\n",
       "  '望京东——崔各庄2295',\n",
       "  '崔各庄——马泉营2008',\n",
       "  '马泉营——孙河3309',\n",
       "  '孙河——国展3386',\n",
       "  '国展——花梨坎1615',\n",
       "  '花梨坎——后沙峪3354',\n",
       "  '后沙峪——南法信4576',\n",
       "  '南法信——石门2712',\n",
       "  '石门——顺义1331',\n",
       "  '顺义——俸伯2441'],\n",
       " ['大兴线相邻站间距信息统计表起始/终到车站区间距离',\n",
       "  '公益西桥——新宫2798',\n",
       "  '新宫——西红门5102',\n",
       "  '西红门——高店北1810',\n",
       "  '高店北——高店南1128',\n",
       "  '高店南——枣园1096',\n",
       "  '枣园——清源路1189',\n",
       "  '清源路——黄村西大街1214',\n",
       "  '黄村西大街——黄村火车站987',\n",
       "  '黄村火车站——义和庄2035',\n",
       "  '义和庄——生物医药基地2918',\n",
       "  '生物医药基地——天宫院1811'],\n",
       " ['八通线相邻站间距信息统计表起始/终到车站区间距离',\n",
       "  '四惠——四惠东1715',\n",
       "  '四惠东——高碑店1375',\n",
       "  '高碑店——传媒大学2002',\n",
       "  '传媒大学——双桥1894',\n",
       "  '双桥——管庄1912',\n",
       "  '管庄——八里桥1763',\n",
       "  '八里桥——通州北苑1700',\n",
       "  '通州北苑——果园1465',\n",
       "  '果园——九棵树990',\n",
       "  '九棵树——梨园1225',\n",
       "  '梨园——临河里1257',\n",
       "  '临河里——土桥776'],\n",
       " ['昌平线相邻站间距信息统计表起始/终到车站区间距离',\n",
       "  '昌平西山口——十三陵景区1213',\n",
       "  '十三陵景区——昌平3508',\n",
       "  '昌平——昌平东关2433',\n",
       "  '昌平东关——北邵洼1683',\n",
       "  '北邵洼——南邵1958',\n",
       "  '南邵——沙河高教园5357',\n",
       "  '沙河高教园——沙河1964',\n",
       "  '沙河——巩华城2025',\n",
       "  '巩华城——朱辛庄3799',\n",
       "  '朱辛庄——生命科学园2367',\n",
       "  '生命科学园——西二旗5440'],\n",
       " ['房山线相邻站间距信息统计表起始/终到车站区间距离',\n",
       "  '郭公庄——大葆台1405',\n",
       "  '大葆台——稻田6466',\n",
       "  '稻田——长阳4041',\n",
       "  '长阳——篱笆房2150',\n",
       "  '篱笆房——广阳城1474',\n",
       "  '广阳城——良乡大学城北2003',\n",
       "  '良乡大学城北——良乡大学城1188',\n",
       "  '良乡大学城——良乡大学城西1738',\n",
       "  '良乡大学城西——良乡南关1332',\n",
       "  '良乡南关——苏庄1330',\n",
       "  '苏庄——阎村东约2300'],\n",
       " ['亦庄线相邻站间距信息统计表起始/终到车站区间距离',\n",
       "  '宋家庄——肖村2631',\n",
       "  '肖村——小红门1275',\n",
       "  '小红门——旧宫2366',\n",
       "  '旧宫——亦庄桥1982',\n",
       "  '亦庄桥——亦庄文化园993',\n",
       "  '亦庄文化园——万源街1728',\n",
       "  '万源街——荣京东街1090',\n",
       "  '荣京东街——荣昌东街1355',\n",
       "  '荣昌东街——同济南路2337',\n",
       "  '同济南路——经海路2301',\n",
       "  '经海路——次渠南2055',\n",
       "  '次渠南——次渠1281'],\n",
       " ['14号线（西段）相邻站间距信息统计表起始/终到车站区间距离',\n",
       "  '张郭庄——园博园1345',\n",
       "  '园博园——大瓦窑4073',\n",
       "  '大瓦窑——郭庄子1236',\n",
       "  '郭庄子——大井2044',\n",
       "  '大井——七里庄1579',\n",
       "  '七里庄——西局845',\n",
       "  '北京南站——陶然桥887',\n",
       "  '陶然桥——永定门外1063',\n",
       "  '永定门外——景泰1119',\n",
       "  '景泰——蒲黄榆1025',\n",
       "  '蒲黄榆——方庄1486',\n",
       "  '方庄——十里河1618',\n",
       "  '十里河——南八里庄1147',\n",
       "  '南八里庄——北工大西门1276',\n",
       "  '北工大西门——平乐园1128',\n",
       "  '平乐园——九龙山897',\n",
       "  '九龙山——大望路1780',\n",
       "  '大望路——红庙708',\n",
       "  '红庙——金台路894',\n",
       "  '金台路——朝阳公园1085',\n",
       "  '朝阳公园——枣营1221',\n",
       "  '枣营——东风北桥2173',\n",
       "  '东风北桥——将台1600',\n",
       "  '将台——高家园1171',\n",
       "  '高家园——望京南676',\n",
       "  '望京南——阜通1168',\n",
       "  '阜通——望京903',\n",
       "  '望京——东湖渠1283',\n",
       "  '东湖渠——来广营1100',\n",
       "  '来广营——善各庄1364'],\n",
       " ['16号线相邻站间距信息统计表起始/终到车站区间距离',\n",
       "  '西苑——农大南路3',\n",
       "  '农大南路——马连洼1.6',\n",
       "  '马连洼——西北旺2.1',\n",
       "  '西北旺——永丰南2',\n",
       "  '永丰南——永丰1.3',\n",
       "  '永丰——屯佃2',\n",
       "  '屯佃——稻香湖路2.5',\n",
       "  '稻香湖路——温阳路2',\n",
       "  '温阳路——北安河2.6']]"
      ]
     },
     "execution_count": 64,
     "metadata": {},
     "output_type": "execute_result"
    }
   ],
   "source": [
    "dist_list"
   ]
  },
  {
   "cell_type": "code",
   "execution_count": 65,
   "metadata": {},
   "outputs": [],
   "source": [
    "distance=[]\n",
    "for str_list in dist_list:\n",
    "    for s in str_list[1:]:\n",
    "        seperated=[]\n",
    "        seperated.append(re.split(\"——\",s)[0])\n",
    "        seperated.extend(re.findall(\"[\\u4e00-\\u9fa5]+\",re.split(\"——\",s)[1]))\n",
    "        nostr=re.findall(\"\\d+\",re.split(\"——\",s)[1])[0]\n",
    "        if float(nostr)<10:\n",
    "            nostr=float(nostr)*1000\n",
    "#         if \"-\" in nostr:\n",
    "#             nostr=float(re.split(\"-\",nostr)[0])*float(re.split(\"-\",nostr)[1])\n",
    "        dic=dict()\n",
    "        dic[\"distance\"]=int(nostr)\n",
    "        dic[\"line\"]=str_list[0][:2]\n",
    "        seperated.append(dic)\n",
    "        distance.append(tuple(seperated))"
   ]
  },
  {
   "cell_type": "code",
   "execution_count": 66,
   "metadata": {},
   "outputs": [
    {
     "data": {
      "text/plain": [
       "[('苹果园', '古城', {'distance': 2606, 'line': '1号'}),\n",
       " ('古城', '八角游乐园', {'distance': 1921, 'line': '1号'}),\n",
       " ('八角游乐园', '八宝山', {'distance': 1953, 'line': '1号'}),\n",
       " ('八宝山', '玉泉路', {'distance': 1479, 'line': '1号'}),\n",
       " ('玉泉路', '五棵松', {'distance': 1810, 'line': '1号'}),\n",
       " ('五棵松', '万寿路', {'distance': 1778, 'line': '1号'}),\n",
       " ('万寿路', '公主坟', {'distance': 1313, 'line': '1号'}),\n",
       " ('公主坟', '军事博物馆', {'distance': 1172, 'line': '1号'}),\n",
       " ('军事博物馆', '木樨地', {'distance': 1166, 'line': '1号'}),\n",
       " ('木樨地', '南礼士路', {'distance': 1291, 'line': '1号'}),\n",
       " ('南礼士路', '复兴门', {'distance': 424, 'line': '1号'}),\n",
       " ('复兴门', '西单', {'distance': 1590, 'line': '1号'}),\n",
       " ('西单', '天安门西', {'distance': 1217, 'line': '1号'}),\n",
       " ('天安门西', '天安门东', {'distance': 925, 'line': '1号'}),\n",
       " ('天安门东', '王府井', {'distance': 852, 'line': '1号'}),\n",
       " ('王府井', '东单', {'distance': 774, 'line': '1号'}),\n",
       " ('东单', '建国门', {'distance': 1230, 'line': '1号'}),\n",
       " ('建国门', '永安里', {'distance': 1377, 'line': '1号'}),\n",
       " ('永安里', '国贸', {'distance': 790, 'line': '1号'}),\n",
       " ('国贸', '大望路', {'distance': 1385, 'line': '1号'}),\n",
       " ('大望路', '四惠', {'distance': 1673, 'line': '1号'}),\n",
       " ('四惠', '四惠东', {'distance': 1714, 'line': '1号'}),\n",
       " ('西直门', '车公庄', {'distance': 909, 'line': '2号'}),\n",
       " ('车公庄', '阜成门', {'distance': 960, 'line': '2号'}),\n",
       " ('阜成门', '复兴门', {'distance': 1832, 'line': '2号'}),\n",
       " ('复兴门', '长椿街', {'distance': 1234, 'line': '2号'}),\n",
       " ('长椿街', '宣武门', {'distance': 929, 'line': '2号'}),\n",
       " ('宣武门', '和平门', {'distance': 851, 'line': '2号'}),\n",
       " ('和平门', '前门', {'distance': 1171, 'line': '2号'}),\n",
       " ('前门', '崇文门', {'distance': 1634, 'line': '2号'}),\n",
       " ('崇文门', '北京站', {'distance': 1023, 'line': '2号'}),\n",
       " ('北京站', '建国门', {'distance': 945, 'line': '2号'}),\n",
       " ('建国门', '朝阳门', {'distance': 1763, 'line': '2号'}),\n",
       " ('朝阳门', '东四十条', {'distance': 1027, 'line': '2号'}),\n",
       " ('东四十条', '东直门', {'distance': 824, 'line': '2号'}),\n",
       " ('东直门', '雍和宫', {'distance': 2228, 'line': '2号'}),\n",
       " ('雍和宫', '安定门', {'distance': 794, 'line': '2号'}),\n",
       " ('安定门', '鼓楼大街', {'distance': 1237, 'line': '2号'}),\n",
       " ('鼓楼大街', '积水潭', {'distance': 1766, 'line': '2号'}),\n",
       " ('积水潭', '西直门', {'distance': 1899, 'line': '2号'}),\n",
       " ('安河桥北', '北宫门', {'distance': 1363, 'line': '4号'}),\n",
       " ('北宫门', '西苑', {'distance': 1251, 'line': '4号'}),\n",
       " ('西苑', '圆明园', {'distance': 1672, 'line': '4号'}),\n",
       " ('圆明园', '北京大学东门', {'distance': 1295, 'line': '4号'}),\n",
       " ('北京大学东门', '中关村', {'distance': 887, 'line': '4号'}),\n",
       " ('中关村', '海淀黄庄', {'distance': 900, 'line': '4号'}),\n",
       " ('海淀黄庄', '人民大学', {'distance': 1063, 'line': '4号'}),\n",
       " ('人民大学', '魏公村', {'distance': 1051, 'line': '4号'}),\n",
       " ('魏公村', '国家图书馆', {'distance': 1658, 'line': '4号'}),\n",
       " ('国家图书馆', '动物园', {'distance': 1517, 'line': '4号'}),\n",
       " ('动物园', '西直门', {'distance': 1441, 'line': '4号'}),\n",
       " ('西直门', '新街口', {'distance': 1025, 'line': '4号'}),\n",
       " ('新街口', '平安里', {'distance': 1100, 'line': '4号'}),\n",
       " ('平安里', '西四', {'distance': 1100, 'line': '4号'}),\n",
       " ('西四', '灵境胡同', {'distance': 869, 'line': '4号'}),\n",
       " ('灵境胡同', '西单', {'distance': 1011, 'line': '4号'}),\n",
       " ('西单', '宣武门', {'distance': 815, 'line': '4号'}),\n",
       " ('宣武门', '菜市口', {'distance': 1152, 'line': '4号'}),\n",
       " ('菜市口', '陶然亭', {'distance': 1200, 'line': '4号'}),\n",
       " ('陶然亭', '北京南站', {'distance': 1643, 'line': '4号'}),\n",
       " ('北京南站', '马家堡', {'distance': 1480, 'line': '4号'}),\n",
       " ('马家堡', '角门西', {'distance': 827, 'line': '4号'}),\n",
       " ('角门西', '公益西桥', {'distance': 989, 'line': '4号'}),\n",
       " ('天通苑北', '天通苑', {'distance': 939, 'line': '5号'}),\n",
       " ('天通苑', '天通苑南', {'distance': 965, 'line': '5号'}),\n",
       " ('天通苑南', '立水桥', {'distance': 1544, 'line': '5号'}),\n",
       " ('立水桥', '立水桥南', {'distance': 1305, 'line': '5号'}),\n",
       " ('立水桥南', '北苑路北', {'distance': 1286, 'line': '5号'}),\n",
       " ('北苑路北', '大屯路东', {'distance': 3000, 'line': '5号'}),\n",
       " ('大屯路东', '惠新西街北口', {'distance': 1838, 'line': '5号'}),\n",
       " ('惠新西街北口', '惠新西街南口', {'distance': 1122, 'line': '5号'}),\n",
       " ('惠新西街南口', '和平西桥', {'distance': 1025, 'line': '5号'}),\n",
       " ('和平西桥', '和平里北街', {'distance': 1059, 'line': '5号'}),\n",
       " ('和平里北街', '雍和宫', {'distance': 1151, 'line': '5号'}),\n",
       " ('雍和宫', '北新桥', {'distance': 866, 'line': '5号'}),\n",
       " ('北新桥', '张自忠路', {'distance': 791, 'line': '5号'}),\n",
       " ('张自忠路', '东四', {'distance': 1016, 'line': '5号'}),\n",
       " ('东四', '灯市口', {'distance': 848, 'line': '5号'}),\n",
       " ('灯市口', '东单', {'distance': 945, 'line': '5号'}),\n",
       " ('东单', '崇文门', {'distance': 821, 'line': '5号'}),\n",
       " ('崇文门', '磁器口', {'distance': 876, 'line': '5号'}),\n",
       " ('磁器口', '天坛东门', {'distance': 1183, 'line': '5号'}),\n",
       " ('天坛东门', '蒲黄榆', {'distance': 1000, 'line': '5号'}),\n",
       " ('蒲黄榆', '刘家窑', {'distance': 905, 'line': '5号'}),\n",
       " ('刘家窑', '宋家庄', {'distance': 1670, 'line': '5号'}),\n",
       " ('海淀五路居', '慈寿寺', {'distance': 1508, 'line': '6号'}),\n",
       " ('慈寿寺', '花园桥', {'distance': 1431, 'line': '6号'}),\n",
       " ('花园桥', '白石桥南', {'distance': 1166, 'line': '6号'}),\n",
       " ('白石桥南', '车公庄西', {'distance': 1664, 'line': '6号'}),\n",
       " ('车公庄西', '车公庄', {'distance': 887, 'line': '6号'}),\n",
       " ('车公庄', '平安里', {'distance': 1443, 'line': '6号'}),\n",
       " ('平安里', '北海北', {'distance': 1321, 'line': '6号'}),\n",
       " ('北海北', '南锣鼓巷', {'distance': 1349, 'line': '6号'}),\n",
       " ('南锣鼓巷', '东四', {'distance': 1937, 'line': '6号'}),\n",
       " ('东四', '朝阳门', {'distance': 1399, 'line': '6号'}),\n",
       " ('朝阳门', '东大桥', {'distance': 1668, 'line': '6号'}),\n",
       " ('东大桥', '呼家楼', {'distance': 845, 'line': '6号'}),\n",
       " ('呼家楼', '金台路', {'distance': 1450, 'line': '6号'}),\n",
       " ('金台路', '十里堡', {'distance': 2036, 'line': '6号'}),\n",
       " ('十里堡', '青年路', {'distance': 1282, 'line': '6号'}),\n",
       " ('青年路', '褡裢坡', {'distance': 3999, 'line': '6号'}),\n",
       " ('褡裢坡', '黄渠', {'distance': 1238, 'line': '6号'}),\n",
       " ('黄渠', '常营', {'distance': 1854, 'line': '6号'}),\n",
       " ('常营', '草房', {'distance': 1405, 'line': '6号'}),\n",
       " ('草房', '物资学院路', {'distance': 2115, 'line': '6号'}),\n",
       " ('物资学院路', '通州北关', {'distance': 2557, 'line': '6号'}),\n",
       " ('通州北关', '通运门', {'distance': 1468, 'line': '6号'}),\n",
       " ('通运门', '北运河西', {'distance': 1543, 'line': '6号'}),\n",
       " ('北运河西', '北运河东', {'distance': 1599, 'line': '6号'}),\n",
       " ('北运河东', '郝家府', {'distance': 929, 'line': '6号'}),\n",
       " ('郝家府', '东夏园', {'distance': 1346, 'line': '6号'}),\n",
       " ('东夏园', '潞城', {'distance': 1194, 'line': '6号'}),\n",
       " ('北京西站', '湾子', {'distance': 935, 'line': '7号'}),\n",
       " ('湾子', '达官营', {'distance': 734, 'line': '7号'}),\n",
       " ('达官营', '广安门内', {'distance': 1874, 'line': '7号'}),\n",
       " ('广安门内', '菜市口', {'distance': 1374, 'line': '7号'}),\n",
       " ('菜市口', '虎坊桥', {'distance': 885, 'line': '7号'}),\n",
       " ('虎坊桥', '珠市口', {'distance': 1205, 'line': '7号'}),\n",
       " ('珠市口', '桥湾', {'distance': 869, 'line': '7号'}),\n",
       " ('桥湾', '磁器口', {'distance': 1016, 'line': '7号'}),\n",
       " ('磁器口', '广渠门内', {'distance': 1138, 'line': '7号'}),\n",
       " ('广渠门内', '广渠门外', {'distance': 1332, 'line': '7号'}),\n",
       " ('广渠门外', '双井', {'distance': 1241, 'line': '7号'}),\n",
       " ('双井', '九龙山', {'distance': 1311, 'line': '7号'}),\n",
       " ('九龙山', '大郊亭', {'distance': 781, 'line': '7号'}),\n",
       " ('大郊亭', '百子湾', {'distance': 865, 'line': '7号'}),\n",
       " ('百子湾', '化工', {'distance': 903, 'line': '7号'}),\n",
       " ('化工', '南楼梓庄', {'distance': 1464, 'line': '7号'}),\n",
       " ('南楼梓庄', '欢乐谷景区', {'distance': 906, 'line': '7号'}),\n",
       " ('欢乐谷景区', '垡头', {'distance': 1679, 'line': '7号'}),\n",
       " ('垡头', '双合', {'distance': 1304, 'line': '7号'}),\n",
       " ('双合', '焦化厂', {'distance': 1021, 'line': '7号'}),\n",
       " ('朱辛庄', '育知路', {'distance': 2318, 'line': '8号'}),\n",
       " ('育知路', '平西府', {'distance': 1985, 'line': '8号'}),\n",
       " ('平西府', '回龙观东大街', {'distance': 2056, 'line': '8号'}),\n",
       " ('回龙观东大街', '霍营', {'distance': 1114, 'line': '8号'}),\n",
       " ('霍营', '育新', {'distance': 1894, 'line': '8号'}),\n",
       " ('育新', '西小口', {'distance': 1543, 'line': '8号'}),\n",
       " ('西小口', '永泰庄', {'distance': 1041, 'line': '8号'}),\n",
       " ('永泰庄', '林萃桥', {'distance': 2553, 'line': '8号'}),\n",
       " ('林萃桥', '森林公园南门', {'distance': 2555, 'line': '8号'}),\n",
       " ('森林公园南门', '奥林匹克公园', {'distance': 1016, 'line': '8号'}),\n",
       " ('奥林匹克公园', '奥体中心', {'distance': 1667, 'line': '8号'}),\n",
       " ('奥体中心', '北土城', {'distance': 900, 'line': '8号'}),\n",
       " ('北土城', '安华桥', {'distance': 1018, 'line': '8号'}),\n",
       " ('安华桥', '安德里北街', {'distance': 1274, 'line': '8号'}),\n",
       " ('安德里北街', '鼓楼大街', {'distance': 1083, 'line': '8号'}),\n",
       " ('鼓楼大街', '什刹海', {'distance': 1188, 'line': '8号'}),\n",
       " ('什刹海', '南锣鼓巷', {'distance': 902, 'line': '8号'}),\n",
       " ('国家图书馆', '白石桥南', {'distance': 1096, 'line': '9号'}),\n",
       " ('白石桥南', '白堆子', {'distance': 943, 'line': '9号'}),\n",
       " ('白堆子', '军事博物馆', {'distance': 1912, 'line': '9号'}),\n",
       " ('军事博物馆', '北京西站', {'distance': 1398, 'line': '9号'}),\n",
       " ('北京西站', '六里桥东', {'distance': 1170, 'line': '9号'}),\n",
       " ('六里桥东', '六里桥', {'distance': 1309, 'line': '9号'}),\n",
       " ('六里桥', '七里庄', {'distance': 1778, 'line': '9号'}),\n",
       " ('七里庄', '丰台东大街', {'distance': 1325, 'line': '9号'}),\n",
       " ('丰台东大街', '丰台南路', {'distance': 1585, 'line': '9号'}),\n",
       " ('丰台南路', '科怡路', {'distance': 980, 'line': '9号'}),\n",
       " ('科怡路', '丰台科技园', {'distance': 788, 'line': '9号'}),\n",
       " ('丰台科技园', '郭公庄', {'distance': 1347, 'line': '9号'}),\n",
       " ('巴沟', '苏州街', {'distance': 1110, 'line': '10'}),\n",
       " ('苏州街', '海淀黄庄', {'distance': 950, 'line': '10'}),\n",
       " ('海淀黄庄', '知春里', {'distance': 975, 'line': '10'}),\n",
       " ('知春里', '知春路', {'distance': 1058, 'line': '10'}),\n",
       " ('知春路', '西土城', {'distance': 1101, 'line': '10'}),\n",
       " ('西土城', '牡丹园', {'distance': 1330, 'line': '10'}),\n",
       " ('牡丹园', '健德门', {'distance': 973, 'line': '10'}),\n",
       " ('健德门', '北土城', {'distance': 1000, 'line': '10'}),\n",
       " ('北土城', '安贞门', {'distance': 1020, 'line': '10'}),\n",
       " ('安贞门', '惠新西街南口', {'distance': 982, 'line': '10'}),\n",
       " ('惠新西街南口', '芍药居', {'distance': 1712, 'line': '10'}),\n",
       " ('芍药居', '太阳宫', {'distance': 1003, 'line': '10'}),\n",
       " ('太阳宫', '三元桥', {'distance': 1759, 'line': '10'}),\n",
       " ('三元桥', '亮马桥', {'distance': 1506, 'line': '10'}),\n",
       " ('亮马桥', '农业展览馆', {'distance': 914, 'line': '10'}),\n",
       " ('农业展览馆', '团结湖', {'distance': 853, 'line': '10'}),\n",
       " ('团结湖', '呼家楼', {'distance': 1149, 'line': '10'}),\n",
       " ('呼家楼', '金台夕照', {'distance': 734, 'line': '10'}),\n",
       " ('金台夕照', '国贸', {'distance': 835, 'line': '10'}),\n",
       " ('国贸', '双井', {'distance': 1759, 'line': '10'}),\n",
       " ('双井', '劲松', {'distance': 1006, 'line': '10'}),\n",
       " ('劲松', '潘家园', {'distance': 1021, 'line': '10'}),\n",
       " ('潘家园', '十里河', {'distance': 1097, 'line': '10'}),\n",
       " ('十里河', '分钟寺', {'distance': 1804, 'line': '10'}),\n",
       " ('分钟寺', '成寿寺', {'distance': 1058, 'line': '10'}),\n",
       " ('成寿寺', '宋家庄', {'distance': 1677, 'line': '10'}),\n",
       " ('宋家庄', '石榴庄', {'distance': 1269, 'line': '10'}),\n",
       " ('石榴庄', '大红门', {'distance': 1244, 'line': '10'}),\n",
       " ('大红门', '角门东', {'distance': 1130, 'line': '10'}),\n",
       " ('角门东', '角门西', {'distance': 1254, 'line': '10'}),\n",
       " ('角门西', '草桥', {'distance': 1688, 'line': '10'}),\n",
       " ('草桥', '纪家庙', {'distance': 1547, 'line': '10'}),\n",
       " ('纪家庙', '首经贸', {'distance': 1143, 'line': '10'}),\n",
       " ('首经贸', '丰台站', {'distance': 1717, 'line': '10'}),\n",
       " ('丰台站', '泥洼', {'distance': 954, 'line': '10'}),\n",
       " ('泥洼', '西局', {'distance': 749, 'line': '10'}),\n",
       " ('西局', '六里桥', {'distance': 1584, 'line': '10'}),\n",
       " ('六里桥', '莲花桥', {'distance': 2392, 'line': '10'}),\n",
       " ('莲花桥', '公主坟', {'distance': 1016, 'line': '10'}),\n",
       " ('公主坟', '西钓鱼台', {'distance': 2386, 'line': '10'}),\n",
       " ('西钓鱼台', '慈寿寺', {'distance': 1214, 'line': '10'}),\n",
       " ('慈寿寺', '车道沟', {'distance': 1590, 'line': '10'}),\n",
       " ('车道沟', '长春桥', {'distance': 1205, 'line': '10'}),\n",
       " ('长春桥', '火器营', {'distance': 961, 'line': '10'}),\n",
       " ('火器营', '巴沟', {'distance': 1495, 'line': '10'}),\n",
       " ('西直门', '大钟寺', {'distance': 2839, 'line': '13'}),\n",
       " ('大钟寺', '知春路', {'distance': 1206, 'line': '13'}),\n",
       " ('知春路', '五道口', {'distance': 1829, 'line': '13'}),\n",
       " ('五道口', '上地', {'distance': 4866, 'line': '13'}),\n",
       " ('上地', '西二旗', {'distance': 2538, 'line': '13'}),\n",
       " ('西二旗', '龙泽', {'distance': 3623, 'line': '13'}),\n",
       " ('龙泽', '回龙观', {'distance': 1423, 'line': '13'}),\n",
       " ('回龙观', '霍营', {'distance': 2110, 'line': '13'}),\n",
       " ('霍营', '立水桥', {'distance': 4785, 'line': '13'}),\n",
       " ('立水桥', '北苑', {'distance': 2272, 'line': '13'}),\n",
       " ('北苑', '望京西', {'distance': 6722, 'line': '13'}),\n",
       " ('望京西', '芍药居', {'distance': 2152, 'line': '13'}),\n",
       " ('芍药居', '光熙门', {'distance': 1110, 'line': '13'}),\n",
       " ('光熙门', '柳芳', {'distance': 1135, 'line': '13'}),\n",
       " ('柳芳', '东直门', {'distance': 1769, 'line': '13'}),\n",
       " ('清华东路西口', '六道口', {'distance': 1144, 'line': '15'}),\n",
       " ('六道口', '北沙滩', {'distance': 1337, 'line': '15'}),\n",
       " ('北沙滩', '奥林匹克公园', {'distance': 1999, 'line': '15'}),\n",
       " ('奥林匹克公园', '安立路', {'distance': 1368, 'line': '15'}),\n",
       " ('安立路', '大屯路东', {'distance': 938, 'line': '15'}),\n",
       " ('大屯路东', '关庄', {'distance': 1087, 'line': '15'}),\n",
       " ('关庄', '望京西', {'distance': 2071, 'line': '15'}),\n",
       " ('望京西', '望京', {'distance': 1758, 'line': '15'}),\n",
       " ('望京', '望京东', {'distance': 1652, 'line': '15'}),\n",
       " ('望京东', '崔各庄', {'distance': 2295, 'line': '15'}),\n",
       " ('崔各庄', '马泉营', {'distance': 2008, 'line': '15'}),\n",
       " ('马泉营', '孙河', {'distance': 3309, 'line': '15'}),\n",
       " ('孙河', '国展', {'distance': 3386, 'line': '15'}),\n",
       " ('国展', '花梨坎', {'distance': 1615, 'line': '15'}),\n",
       " ('花梨坎', '后沙峪', {'distance': 3354, 'line': '15'}),\n",
       " ('后沙峪', '南法信', {'distance': 4576, 'line': '15'}),\n",
       " ('南法信', '石门', {'distance': 2712, 'line': '15'}),\n",
       " ('石门', '顺义', {'distance': 1331, 'line': '15'}),\n",
       " ('顺义', '俸伯', {'distance': 2441, 'line': '15'}),\n",
       " ('公益西桥', '新宫', {'distance': 2798, 'line': '大兴'}),\n",
       " ('新宫', '西红门', {'distance': 5102, 'line': '大兴'}),\n",
       " ('西红门', '高店北', {'distance': 1810, 'line': '大兴'}),\n",
       " ('高店北', '高店南', {'distance': 1128, 'line': '大兴'}),\n",
       " ('高店南', '枣园', {'distance': 1096, 'line': '大兴'}),\n",
       " ('枣园', '清源路', {'distance': 1189, 'line': '大兴'}),\n",
       " ('清源路', '黄村西大街', {'distance': 1214, 'line': '大兴'}),\n",
       " ('黄村西大街', '黄村火车站', {'distance': 987, 'line': '大兴'}),\n",
       " ('黄村火车站', '义和庄', {'distance': 2035, 'line': '大兴'}),\n",
       " ('义和庄', '生物医药基地', {'distance': 2918, 'line': '大兴'}),\n",
       " ('生物医药基地', '天宫院', {'distance': 1811, 'line': '大兴'}),\n",
       " ('四惠', '四惠东', {'distance': 1715, 'line': '八通'}),\n",
       " ('四惠东', '高碑店', {'distance': 1375, 'line': '八通'}),\n",
       " ('高碑店', '传媒大学', {'distance': 2002, 'line': '八通'}),\n",
       " ('传媒大学', '双桥', {'distance': 1894, 'line': '八通'}),\n",
       " ('双桥', '管庄', {'distance': 1912, 'line': '八通'}),\n",
       " ('管庄', '八里桥', {'distance': 1763, 'line': '八通'}),\n",
       " ('八里桥', '通州北苑', {'distance': 1700, 'line': '八通'}),\n",
       " ('通州北苑', '果园', {'distance': 1465, 'line': '八通'}),\n",
       " ('果园', '九棵树', {'distance': 990, 'line': '八通'}),\n",
       " ('九棵树', '梨园', {'distance': 1225, 'line': '八通'}),\n",
       " ('梨园', '临河里', {'distance': 1257, 'line': '八通'}),\n",
       " ('临河里', '土桥', {'distance': 776, 'line': '八通'}),\n",
       " ('昌平西山口', '十三陵景区', {'distance': 1213, 'line': '昌平'}),\n",
       " ('十三陵景区', '昌平', {'distance': 3508, 'line': '昌平'}),\n",
       " ('昌平', '昌平东关', {'distance': 2433, 'line': '昌平'}),\n",
       " ('昌平东关', '北邵洼', {'distance': 1683, 'line': '昌平'}),\n",
       " ('北邵洼', '南邵', {'distance': 1958, 'line': '昌平'}),\n",
       " ('南邵', '沙河高教园', {'distance': 5357, 'line': '昌平'}),\n",
       " ('沙河高教园', '沙河', {'distance': 1964, 'line': '昌平'}),\n",
       " ('沙河', '巩华城', {'distance': 2025, 'line': '昌平'}),\n",
       " ('巩华城', '朱辛庄', {'distance': 3799, 'line': '昌平'}),\n",
       " ('朱辛庄', '生命科学园', {'distance': 2367, 'line': '昌平'}),\n",
       " ('生命科学园', '西二旗', {'distance': 5440, 'line': '昌平'}),\n",
       " ('郭公庄', '大葆台', {'distance': 1405, 'line': '房山'}),\n",
       " ('大葆台', '稻田', {'distance': 6466, 'line': '房山'}),\n",
       " ('稻田', '长阳', {'distance': 4041, 'line': '房山'}),\n",
       " ('长阳', '篱笆房', {'distance': 2150, 'line': '房山'}),\n",
       " ('篱笆房', '广阳城', {'distance': 1474, 'line': '房山'}),\n",
       " ('广阳城', '良乡大学城北', {'distance': 2003, 'line': '房山'}),\n",
       " ('良乡大学城北', '良乡大学城', {'distance': 1188, 'line': '房山'}),\n",
       " ('良乡大学城', '良乡大学城西', {'distance': 1738, 'line': '房山'}),\n",
       " ('良乡大学城西', '良乡南关', {'distance': 1332, 'line': '房山'}),\n",
       " ('良乡南关', '苏庄', {'distance': 1330, 'line': '房山'}),\n",
       " ('苏庄', '阎村东约', {'distance': 2300, 'line': '房山'}),\n",
       " ('宋家庄', '肖村', {'distance': 2631, 'line': '亦庄'}),\n",
       " ('肖村', '小红门', {'distance': 1275, 'line': '亦庄'}),\n",
       " ('小红门', '旧宫', {'distance': 2366, 'line': '亦庄'}),\n",
       " ('旧宫', '亦庄桥', {'distance': 1982, 'line': '亦庄'}),\n",
       " ('亦庄桥', '亦庄文化园', {'distance': 993, 'line': '亦庄'}),\n",
       " ('亦庄文化园', '万源街', {'distance': 1728, 'line': '亦庄'}),\n",
       " ('万源街', '荣京东街', {'distance': 1090, 'line': '亦庄'}),\n",
       " ('荣京东街', '荣昌东街', {'distance': 1355, 'line': '亦庄'}),\n",
       " ('荣昌东街', '同济南路', {'distance': 2337, 'line': '亦庄'}),\n",
       " ('同济南路', '经海路', {'distance': 2301, 'line': '亦庄'}),\n",
       " ('经海路', '次渠南', {'distance': 2055, 'line': '亦庄'}),\n",
       " ('次渠南', '次渠', {'distance': 1281, 'line': '亦庄'}),\n",
       " ('张郭庄', '园博园', {'distance': 1345, 'line': '14'}),\n",
       " ('园博园', '大瓦窑', {'distance': 4073, 'line': '14'}),\n",
       " ('大瓦窑', '郭庄子', {'distance': 1236, 'line': '14'}),\n",
       " ('郭庄子', '大井', {'distance': 2044, 'line': '14'}),\n",
       " ('大井', '七里庄', {'distance': 1579, 'line': '14'}),\n",
       " ('七里庄', '西局', {'distance': 845, 'line': '14'}),\n",
       " ('北京南站', '陶然桥', {'distance': 887, 'line': '14'}),\n",
       " ('陶然桥', '永定门外', {'distance': 1063, 'line': '14'}),\n",
       " ('永定门外', '景泰', {'distance': 1119, 'line': '14'}),\n",
       " ('景泰', '蒲黄榆', {'distance': 1025, 'line': '14'}),\n",
       " ('蒲黄榆', '方庄', {'distance': 1486, 'line': '14'}),\n",
       " ('方庄', '十里河', {'distance': 1618, 'line': '14'}),\n",
       " ('十里河', '南八里庄', {'distance': 1147, 'line': '14'}),\n",
       " ('南八里庄', '北工大西门', {'distance': 1276, 'line': '14'}),\n",
       " ('北工大西门', '平乐园', {'distance': 1128, 'line': '14'}),\n",
       " ('平乐园', '九龙山', {'distance': 897, 'line': '14'}),\n",
       " ('九龙山', '大望路', {'distance': 1780, 'line': '14'}),\n",
       " ('大望路', '红庙', {'distance': 708, 'line': '14'}),\n",
       " ('红庙', '金台路', {'distance': 894, 'line': '14'}),\n",
       " ('金台路', '朝阳公园', {'distance': 1085, 'line': '14'}),\n",
       " ('朝阳公园', '枣营', {'distance': 1221, 'line': '14'}),\n",
       " ('枣营', '东风北桥', {'distance': 2173, 'line': '14'}),\n",
       " ('东风北桥', '将台', {'distance': 1600, 'line': '14'}),\n",
       " ('将台', '高家园', {'distance': 1171, 'line': '14'}),\n",
       " ('高家园', '望京南', {'distance': 676, 'line': '14'}),\n",
       " ('望京南', '阜通', {'distance': 1168, 'line': '14'}),\n",
       " ('阜通', '望京', {'distance': 903, 'line': '14'}),\n",
       " ('望京', '东湖渠', {'distance': 1283, 'line': '14'}),\n",
       " ('东湖渠', '来广营', {'distance': 1100, 'line': '14'}),\n",
       " ('来广营', '善各庄', {'distance': 1364, 'line': '14'}),\n",
       " ('西苑', '农大南路', {'distance': 3000, 'line': '16'}),\n",
       " ('农大南路', '马连洼', {'distance': 1000, 'line': '16'}),\n",
       " ('马连洼', '西北旺', {'distance': 2000, 'line': '16'}),\n",
       " ('西北旺', '永丰南', {'distance': 2000, 'line': '16'}),\n",
       " ('永丰南', '永丰', {'distance': 1000, 'line': '16'}),\n",
       " ('永丰', '屯佃', {'distance': 2000, 'line': '16'}),\n",
       " ('屯佃', '稻香湖路', {'distance': 2000, 'line': '16'}),\n",
       " ('稻香湖路', '温阳路', {'distance': 2000, 'line': '16'}),\n",
       " ('温阳路', '北安河', {'distance': 2000, 'line': '16'})]"
      ]
     },
     "execution_count": 66,
     "metadata": {},
     "output_type": "execute_result"
    }
   ],
   "source": [
    "distance"
   ]
  },
  {
   "cell_type": "code",
   "execution_count": 67,
   "metadata": {},
   "outputs": [],
   "source": [
    "graphBJ=nx.Graph()\n",
    "graphBJ.add_edges_from(distance)"
   ]
  },
  {
   "cell_type": "code",
   "execution_count": 68,
   "metadata": {},
   "outputs": [
    {
     "data": {
      "image/png": "[encoded data removed]",
      "text/plain": [
       "<Figure size 432x288 with 1 Axes>"
      ]
     },
     "metadata": {
      "needs_background": "light"
     },
     "output_type": "display_data"
    }
   ],
   "source": [
    "nx.draw_networkx(graphBJ,with_Labels=True,node_size=10)"
   ]
  },
  {
   "cell_type": "code",
   "execution_count": 69,
   "metadata": {},
   "outputs": [
    {
     "data": {
      "text/plain": [
       "AtlasView({'后沙峪': {'distance': 4576, 'line': '15'}, '石门': {'distance': 2712, 'line': '15'}})"
      ]
     },
     "execution_count": 69,
     "metadata": {},
     "output_type": "execute_result"
    }
   ],
   "source": [
    "graphBJ[\"南法信\"]"
   ]
  },
  {
   "cell_type": "code",
   "execution_count": 70,
   "metadata": {},
   "outputs": [
    {
     "data": {
      "text/plain": [
       "{'distance': 4576, 'line': '15'}"
      ]
     },
     "execution_count": 70,
     "metadata": {},
     "output_type": "execute_result"
    }
   ],
   "source": [
    "graphBJ.get_edge_data(\"南法信\",\"后沙峪\")"
   ]
  },
  {
   "cell_type": "code",
   "execution_count": 71,
   "metadata": {},
   "outputs": [
    {
     "data": {
      "text/plain": [
       "<dict_keyiterator at 0x1f54960f098>"
      ]
     },
     "execution_count": 71,
     "metadata": {},
     "output_type": "execute_result"
    }
   ],
   "source": [
    "graphBJ.neighbors('后沙峪')"
   ]
  },
  {
   "cell_type": "code",
   "execution_count": 72,
   "metadata": {},
   "outputs": [
    {
     "data": {
      "text/plain": [
       "296"
      ]
     },
     "execution_count": 72,
     "metadata": {},
     "output_type": "execute_result"
    }
   ],
   "source": [
    "graphBJ.order()"
   ]
  },
  {
   "cell_type": "code",
   "execution_count": 73,
   "metadata": {},
   "outputs": [
    {
     "data": {
      "text/plain": [
       "335"
      ]
     },
     "execution_count": 73,
     "metadata": {},
     "output_type": "execute_result"
    }
   ],
   "source": [
    "graphBJ.size()"
   ]
  },
  {
   "cell_type": "code",
   "execution_count": 74,
   "metadata": {},
   "outputs": [],
   "source": [
    "del(get_node_sucessors)"
   ]
  },
  {
   "cell_type": "code",
   "execution_count": 75,
   "metadata": {},
   "outputs": [],
   "source": [
    "def get_node_sucessors(graph,frontnode,cutsomenodes=0):\n",
    "    return graph.neighbors(frontnode)\n",
    "\n",
    "def get_dist(path,graphBJ):\n",
    "    dist=0\n",
    "    for i in range(len(path)-1):\n",
    "        dist+=graphBJ.get_edge_data(path[i],path[i+1])['distance']\n",
    "    return dist\n",
    "\n",
    "def get_lines(path,graphBJ):\n",
    "    lines=set()\n",
    "    for i in range(len(path)-1):\n",
    "        if graphBJ.get_edge_data(path[i],path[i+1])['line'] not in lines:\n",
    "            lines.add(graphBJ.get_edge_data(path[i],path[i+1])['line'])\n",
    "    return len(lines)"
   ]
  },
  {
   "cell_type": "code",
   "execution_count": 76,
   "metadata": {},
   "outputs": [
    {
     "data": {
      "text/plain": [
       "5793"
      ]
     },
     "execution_count": 76,
     "metadata": {},
     "output_type": "execute_result"
    }
   ],
   "source": [
    "get_dist(['荣京东街',\n",
    "  '万源街',\n",
    "  '亦庄文化园',\n",
    "  '亦庄桥',\n",
    "  '旧宫'],graphBJ)"
   ]
  },
  {
   "cell_type": "code",
   "execution_count": 77,
   "metadata": {},
   "outputs": [
    {
     "data": {
      "text/plain": [
       "1"
      ]
     },
     "execution_count": 77,
     "metadata": {},
     "output_type": "execute_result"
    }
   ],
   "source": [
    "get_lines(['荣京东街',\n",
    "  '万源街',\n",
    "  '亦庄文化园',\n",
    "  '亦庄桥',\n",
    "  '旧宫'],graphBJ)"
   ]
  },
  {
   "cell_type": "code",
   "execution_count": 78,
   "metadata": {},
   "outputs": [],
   "source": [
    "def min_transfer(pathes):\n",
    "    return sort_pathes(pathes,lambda path:(get_lines(path,graphBJ)),beam=100)"
   ]
  },
  {
   "cell_type": "code",
   "execution_count": 79,
   "metadata": {},
   "outputs": [],
   "source": [
    "def min_distance(pathes):\n",
    "    return sort_pathes(pathes,lambda path:(get_dist(path,graphBJ)),beam=100)"
   ]
  },
  {
   "cell_type": "markdown",
   "metadata": {},
   "source": [
    "`def search(graph, start, dest, get_successors=get_node_sucessors, is_goal_satisfy=goal_reached,search_strategy=min_stations_first):`\n",
    "\n",
    "# Default is Min stations first"
   ]
  },
  {
   "cell_type": "code",
   "execution_count": 80,
   "metadata": {},
   "outputs": [
    {
     "data": {
      "text/plain": [
       "[['天安门东',\n",
       "  '天安门西',\n",
       "  '西单',\n",
       "  '宣武门',\n",
       "  '菜市口',\n",
       "  '陶然亭',\n",
       "  '北京南站',\n",
       "  '马家堡',\n",
       "  '角门西',\n",
       "  '公益西桥',\n",
       "  '新宫',\n",
       "  '西红门',\n",
       "  '高店北',\n",
       "  '高店南',\n",
       "  '枣园',\n",
       "  '清源路']]"
      ]
     },
     "execution_count": 80,
     "metadata": {},
     "output_type": "execute_result"
    }
   ],
   "source": [
    "search(graphBJ,\"天安门东\",\"清源路\")"
   ]
  },
  {
   "cell_type": "markdown",
   "metadata": {},
   "source": [
    "# 最短距离"
   ]
  },
  {
   "cell_type": "code",
   "execution_count": 81,
   "metadata": {},
   "outputs": [
    {
     "data": {
      "text/plain": [
       "[['清源路',\n",
       "  '枣园',\n",
       "  '高店南',\n",
       "  '高店北',\n",
       "  '西红门',\n",
       "  '新宫',\n",
       "  '公益西桥',\n",
       "  '角门西',\n",
       "  '马家堡',\n",
       "  '北京南站',\n",
       "  '陶然亭',\n",
       "  '菜市口',\n",
       "  '宣武门',\n",
       "  '西单',\n",
       "  '天安门西',\n",
       "  '天安门东']]"
      ]
     },
     "execution_count": 81,
     "metadata": {},
     "output_type": "execute_result"
    }
   ],
   "source": [
    "search(graphBJ,\"清源路\",\"天安门东\",search_strategy=min_distance)"
   ]
  },
  {
   "cell_type": "markdown",
   "metadata": {},
   "source": [
    "# 最少换乘"
   ]
  },
  {
   "cell_type": "code",
   "execution_count": 82,
   "metadata": {},
   "outputs": [
    {
     "data": {
      "text/plain": [
       "[['清源路',\n",
       "  '枣园',\n",
       "  '高店南',\n",
       "  '高店北',\n",
       "  '西红门',\n",
       "  '新宫',\n",
       "  '公益西桥',\n",
       "  '角门西',\n",
       "  '马家堡',\n",
       "  '北京南站',\n",
       "  '陶然亭',\n",
       "  '菜市口',\n",
       "  '宣武门',\n",
       "  '西单',\n",
       "  '天安门西',\n",
       "  '天安门东']]"
      ]
     },
     "execution_count": 82,
     "metadata": {},
     "output_type": "execute_result"
    }
   ],
   "source": [
    "search(graphBJ,\"清源路\",\"天安门东\",search_strategy=min_transfer)"
   ]
  },
  {
   "cell_type": "markdown",
   "metadata": {},
   "source": [
    "# 最多站点（旅游磨时专属)"
   ]
  },
  {
   "cell_type": "code",
   "execution_count": 83,
   "metadata": {},
   "outputs": [
    {
     "data": {
      "text/plain": [
       "[['天安门东',\n",
       "  '天安门西',\n",
       "  '西单',\n",
       "  '复兴门',\n",
       "  '南礼士路',\n",
       "  '木樨地',\n",
       "  '军事博物馆',\n",
       "  '公主坟',\n",
       "  '莲花桥',\n",
       "  '六里桥',\n",
       "  '六里桥东',\n",
       "  '北京西站',\n",
       "  '湾子',\n",
       "  '达官营',\n",
       "  '广安门内',\n",
       "  '菜市口',\n",
       "  '宣武门',\n",
       "  '和平门',\n",
       "  '前门',\n",
       "  '崇文门',\n",
       "  '北京站',\n",
       "  '建国门',\n",
       "  '东单',\n",
       "  '灯市口',\n",
       "  '东四',\n",
       "  '张自忠路',\n",
       "  '北新桥',\n",
       "  '雍和宫',\n",
       "  '东直门',\n",
       "  '东四十条',\n",
       "  '朝阳门',\n",
       "  '东大桥',\n",
       "  '呼家楼',\n",
       "  '金台路',\n",
       "  '红庙',\n",
       "  '大望路',\n",
       "  '国贸',\n",
       "  '双井',\n",
       "  '广渠门外',\n",
       "  '广渠门内',\n",
       "  '磁器口',\n",
       "  '天坛东门',\n",
       "  '蒲黄榆',\n",
       "  '刘家窑',\n",
       "  '宋家庄',\n",
       "  '石榴庄',\n",
       "  '大红门',\n",
       "  '角门东',\n",
       "  '角门西',\n",
       "  '公益西桥',\n",
       "  '新宫',\n",
       "  '西红门',\n",
       "  '高店北',\n",
       "  '高店南',\n",
       "  '枣园',\n",
       "  '清源路']]"
      ]
     },
     "execution_count": 83,
     "metadata": {},
     "output_type": "execute_result"
    }
   ],
   "source": [
    "search(graphBJ,\"天安门东\",\"清源路\",search_strategy=max_stations_first)"
   ]
  },
  {
   "cell_type": "markdown",
   "metadata": {},
   "source": [
    "# Mark\n",
    "## `sort_pathes(pathes,lambda path:(get_dist(path,graphBJ)),`**beam=** <font color=#00ffff size=3>100</font>)\n",
    "\n",
    "beam =-1, 有可能搜索不到路径，设为100基本能找到，有待进一步研究\n"
   ]
  },
  {
   "cell_type": "code",
   "execution_count": null,
   "metadata": {},
   "outputs": [],
   "source": []
  }
 ],
 "metadata": {
  "kernelspec": {
   "display_name": "Python 3",
   "language": "python",
   "name": "python3"
  },
  "language_info": {
   "codemirror_mode": {
    "name": "ipython",
    "version": 3
   },
   "file_extension": ".py",
   "mimetype": "text/x-python",
   "name": "python",
   "nbconvert_exporter": "python",
   "pygments_lexer": "ipython3",
   "version": "3.7.0"
  }
 },
 "nbformat": 4,
 "nbformat_minor": 2
}
